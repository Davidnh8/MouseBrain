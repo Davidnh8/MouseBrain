{
 "cells": [
  {
   "cell_type": "code",
   "execution_count": 1,
   "metadata": {},
   "outputs": [],
   "source": [
    "import sys\n",
    "import numpy as np\n",
    "import time\n",
    "import pickle\n",
    "import pandas as pd\n",
    "import copy\n",
    "import matplotlib.pyplot as plt\n",
    "\n",
    "import allensdk\n",
    "import pandas as pd"
   ]
  },
  {
   "cell_type": "code",
   "execution_count": 2,
   "metadata": {},
   "outputs": [],
   "source": [
    "from allensdk.core.mouse_connectivity_cache import MouseConnectivityCache"
   ]
  },
  {
   "cell_type": "markdown",
   "metadata": {},
   "source": [
    "# Mouse Connectivity\n",
    "\n",
    "This notebook analyzes the mouse connectivity data for the purpose of calculating the information flow in the brain. We reply on Allen brain Atlas API  (allensdk package) with some custom codes.\n",
    "\n",
    "As a brief summary, Allen brain Atlas: Mouse Brain Connectivity contains data on  experiments on the mouse brain. Each experiment has an associated (unique) injection site where green fluroescent protein virus is injected. This injection infects the cell-bodies of the neurons in the injection site, and they propagates along the axons (carrier of the action potential of neurons) where they reach its terminal and emit green lights. These signals then are imaged through green-flurescent imaging and mapped accordingly. More information can be found on0 http://connectivity.brain-map.org/. Some defintions relevant to the throughout the notbook are defined as follows."
   ]
  },
  {
   "cell_type": "markdown",
   "metadata": {},
   "source": [
    "projection density = sum of detected pixels / sum of all pixels in division  \n",
    "projection energy = sum of detected pixel intensity / sum of all pixels in division  \n",
    "injection_fraction = fraction of pixels belonging to manually annotated injection site  \n",
    "injection_density = density of detected pixels within the manually annotated injection site  \n",
    "injection_energy = energy of detected pixels within the manually annotated injection site  \n",
    "data_mask = binary mask indicating if a voxel contains valid data (0=invalid, 1=valid). Only valid voxels should be used for analysis  \n"
   ]
  },
  {
   "cell_type": "markdown",
   "metadata": {},
   "source": [
    "This notebook carefully combines multiple experiments to create a connectome data. This data is then traslated into the information flow data, namely we determine how much information flows at a regional level."
   ]
  },
  {
   "cell_type": "markdown",
   "metadata": {},
   "source": [
    "## Fetch all the Experiment list\n"
   ]
  },
  {
   "cell_type": "markdown",
   "metadata": {},
   "source": [
    "First we create MouseConnectivityCache instance.\n",
    "\n",
    "Fome this we may fetch the experiment list. One in dataFrame and one in dictionary format."
   ]
  },
  {
   "cell_type": "code",
   "execution_count": 3,
   "metadata": {},
   "outputs": [],
   "source": [
    "# MouseConnectivityCache allows access to data stored within\n",
    "mcc=MouseConnectivityCache(manifest_file='connectivity/mouse_connectivity_manifest.json')\n",
    "\n",
    "#get the id of all experiments.\n",
    "#Create one for Pandas dataframe and the other in terms of dictionary\n",
    "experiment_list = mcc.get_experiments(dataframe=True)\n",
    "experiment_list_dict=mcc.get_experiments(dataframe=False)"
   ]
  },
  {
   "cell_type": "markdown",
   "metadata": {},
   "source": [
    "Sample of some of the entries of the experiment_list looks like:"
   ]
  },
  {
   "cell_type": "code",
   "execution_count": 4,
   "metadata": {},
   "outputs": [
    {
     "data": {
      "text/html": [
       "<div>\n",
       "<style scoped>\n",
       "    .dataframe tbody tr th:only-of-type {\n",
       "        vertical-align: middle;\n",
       "    }\n",
       "\n",
       "    .dataframe tbody tr th {\n",
       "        vertical-align: top;\n",
       "    }\n",
       "\n",
       "    .dataframe thead th {\n",
       "        text-align: right;\n",
       "    }\n",
       "</style>\n",
       "<table border=\"1\" class=\"dataframe\">\n",
       "  <thead>\n",
       "    <tr style=\"text-align: right;\">\n",
       "      <th></th>\n",
       "      <th>gender</th>\n",
       "      <th>id</th>\n",
       "      <th>injection_structures</th>\n",
       "      <th>injection_volume</th>\n",
       "      <th>injection_x</th>\n",
       "      <th>injection_y</th>\n",
       "      <th>injection_z</th>\n",
       "      <th>primary_injection_structure</th>\n",
       "      <th>product_id</th>\n",
       "      <th>specimen_name</th>\n",
       "      <th>strain</th>\n",
       "      <th>structure_abbrev</th>\n",
       "      <th>structure_id</th>\n",
       "      <th>structure_name</th>\n",
       "      <th>transgenic_line</th>\n",
       "      <th>transgenic_line_id</th>\n",
       "    </tr>\n",
       "    <tr>\n",
       "      <th>id</th>\n",
       "      <th></th>\n",
       "      <th></th>\n",
       "      <th></th>\n",
       "      <th></th>\n",
       "      <th></th>\n",
       "      <th></th>\n",
       "      <th></th>\n",
       "      <th></th>\n",
       "      <th></th>\n",
       "      <th></th>\n",
       "      <th></th>\n",
       "      <th></th>\n",
       "      <th></th>\n",
       "      <th></th>\n",
       "      <th></th>\n",
       "      <th></th>\n",
       "    </tr>\n",
       "  </thead>\n",
       "  <tbody>\n",
       "    <tr>\n",
       "      <th>527712447</th>\n",
       "      <td>F</td>\n",
       "      <td>527712447</td>\n",
       "      <td>[502, 926, 1084, 484682470]</td>\n",
       "      <td>0.006655</td>\n",
       "      <td>9240</td>\n",
       "      <td>3070</td>\n",
       "      <td>8990</td>\n",
       "      <td>502</td>\n",
       "      <td>5</td>\n",
       "      <td>Penk-IRES2-Cre-neo-249961</td>\n",
       "      <td>C57BL/6J</td>\n",
       "      <td>SUB</td>\n",
       "      <td>502</td>\n",
       "      <td>Subiculum</td>\n",
       "      <td>Penk-IRES2-Cre-neo</td>\n",
       "      <td>298725927.0</td>\n",
       "    </tr>\n",
       "    <tr>\n",
       "      <th>301875966</th>\n",
       "      <td>M</td>\n",
       "      <td>301875966</td>\n",
       "      <td>[574, 931]</td>\n",
       "      <td>0.105746</td>\n",
       "      <td>9170</td>\n",
       "      <td>6850</td>\n",
       "      <td>6200</td>\n",
       "      <td>574</td>\n",
       "      <td>5</td>\n",
       "      <td>Gabrr3-Cre_KC112-3467</td>\n",
       "      <td>C57BL/6J</td>\n",
       "      <td>PG</td>\n",
       "      <td>931</td>\n",
       "      <td>Pontine gray</td>\n",
       "      <td>Gabrr3-Cre_KC112</td>\n",
       "      <td>177838877.0</td>\n",
       "    </tr>\n",
       "    <tr>\n",
       "      <th>520336173</th>\n",
       "      <td>M</td>\n",
       "      <td>520336173</td>\n",
       "      <td>[1, 210, 491, 525, 1004]</td>\n",
       "      <td>0.025762</td>\n",
       "      <td>7810</td>\n",
       "      <td>6550</td>\n",
       "      <td>6450</td>\n",
       "      <td>1</td>\n",
       "      <td>5</td>\n",
       "      <td>Hdc-Cre_IM1-204103</td>\n",
       "      <td>None</td>\n",
       "      <td>TMv</td>\n",
       "      <td>1</td>\n",
       "      <td>Tuberomammillary nucleus, ventral part</td>\n",
       "      <td>Hdc-Cre_IM1</td>\n",
       "      <td>177839494.0</td>\n",
       "    </tr>\n",
       "  </tbody>\n",
       "</table>\n",
       "</div>"
      ],
      "text/plain": [
       "          gender         id         injection_structures  injection_volume  \\\n",
       "id                                                                           \n",
       "527712447      F  527712447  [502, 926, 1084, 484682470]          0.006655   \n",
       "301875966      M  301875966                   [574, 931]          0.105746   \n",
       "520336173      M  520336173     [1, 210, 491, 525, 1004]          0.025762   \n",
       "\n",
       "           injection_x  injection_y  injection_z  primary_injection_structure  \\\n",
       "id                                                                              \n",
       "527712447         9240         3070         8990                          502   \n",
       "301875966         9170         6850         6200                          574   \n",
       "520336173         7810         6550         6450                            1   \n",
       "\n",
       "           product_id              specimen_name    strain structure_abbrev  \\\n",
       "id                                                                            \n",
       "527712447           5  Penk-IRES2-Cre-neo-249961  C57BL/6J              SUB   \n",
       "301875966           5      Gabrr3-Cre_KC112-3467  C57BL/6J               PG   \n",
       "520336173           5         Hdc-Cre_IM1-204103      None              TMv   \n",
       "\n",
       "           structure_id                          structure_name  \\\n",
       "id                                                                \n",
       "527712447           502                               Subiculum   \n",
       "301875966           931                            Pontine gray   \n",
       "520336173             1  Tuberomammillary nucleus, ventral part   \n",
       "\n",
       "              transgenic_line  transgenic_line_id  \n",
       "id                                                 \n",
       "527712447  Penk-IRES2-Cre-neo         298725927.0  \n",
       "301875966    Gabrr3-Cre_KC112         177838877.0  \n",
       "520336173         Hdc-Cre_IM1         177839494.0  "
      ]
     },
     "execution_count": 4,
     "metadata": {},
     "output_type": "execute_result"
    }
   ],
   "source": [
    "experiment_list[:3]"
   ]
  },
  {
   "cell_type": "markdown",
   "metadata": {},
   "source": [
    "where the columns are:"
   ]
  },
  {
   "cell_type": "markdown",
   "metadata": {},
   "source": [
    "Each experiment entry contains the following columns:"
   ]
  },
  {
   "cell_type": "code",
   "execution_count": 5,
   "metadata": {},
   "outputs": [
    {
     "name": "stdout",
     "output_type": "stream",
     "text": [
      "injection_y\n",
      "injection_x\n",
      "injection_z\n",
      "product_id\n",
      "structure_name\n",
      "gender\n",
      "transgenic_line\n",
      "injection_volume\n",
      "structure_abbrev\n",
      "transgenic_line_id\n",
      "primary_injection_structure\n",
      "strain\n",
      "id\n",
      "specimen_name\n",
      "injection_structures\n",
      "structure_id\n"
     ]
    }
   ],
   "source": [
    "for i in experiment_list_dict[0].keys():\n",
    "    print(i)"
   ]
  },
  {
   "cell_type": "markdown",
   "metadata": {},
   "source": [
    "with the number of separate experiments being:"
   ]
  },
  {
   "cell_type": "code",
   "execution_count": 6,
   "metadata": {},
   "outputs": [
    {
     "data": {
      "text/plain": [
       "2995"
      ]
     },
     "execution_count": 6,
     "metadata": {},
     "output_type": "execute_result"
    }
   ],
   "source": [
    "len(experiment_list_dict)"
   ]
  },
  {
   "cell_type": "markdown",
   "metadata": {},
   "source": [
    "This is for allensdk 0.14.5. Number of experiments may vary depending on the version of the package. Note that each injection sites has a unique experiemnt, that is, no more than one injection sites were allowed in a single mouse brain."
   ]
  },
  {
   "cell_type": "markdown",
   "metadata": {},
   "source": [
    "## Annotation Volume\n",
    "\n",
    "We then download annotation volume for future uses. This comes in the form of an array where structures are denoted by the values of the elements. Spatial coordinates on the other hand, are represented by the indices of the array. First create an instance using the MouseConnectivityCache (mcc)\n"
   ]
  },
  {
   "cell_type": "code",
   "execution_count": 7,
   "metadata": {},
   "outputs": [],
   "source": [
    "annt=mcc.get_annotation_volume()[0]"
   ]
  },
  {
   "cell_type": "markdown",
   "metadata": {},
   "source": [
    "the annotation volume has the shape"
   ]
  },
  {
   "cell_type": "code",
   "execution_count": 8,
   "metadata": {},
   "outputs": [
    {
     "data": {
      "text/plain": [
       "(528L, 320L, 456L)"
      ]
     },
     "execution_count": 8,
     "metadata": {},
     "output_type": "execute_result"
    }
   ],
   "source": [
    "annt.shape"
   ]
  },
  {
   "cell_type": "markdown",
   "metadata": {},
   "source": [
    "for future, we collect the id of all the structures present in the annt volume"
   ]
  },
  {
   "cell_type": "code",
   "execution_count": 10,
   "metadata": {},
   "outputs": [],
   "source": [
    "annt_structures=[]\n",
    "for i in range(annt.shape[0]):\n",
    "    for j in range(annt.shape[1]):\n",
    "        for k in range(annt.shape[2]):\n",
    "            if annt[i,j,k] not in annt_structures:\n",
    "                annt_structures.append(annt[i,j,k])\n"
   ]
  },
  {
   "cell_type": "markdown",
   "metadata": {},
   "source": [
    "## Structure_tree\n",
    "\n",
    "Allenmouse structure ontology is organized as a tree where each edge indicates the physical containment. Structuretree can be used to fetch properties of a given structure, including its id, name, acronym, etc.."
   ]
  },
  {
   "cell_type": "code",
   "execution_count": 9,
   "metadata": {},
   "outputs": [],
   "source": [
    "structure_tree=mcc.get_structure_tree()"
   ]
  },
  {
   "cell_type": "markdown",
   "metadata": {},
   "source": [
    "sample of each structure is shown:"
   ]
  },
  {
   "cell_type": "code",
   "execution_count": 10,
   "metadata": {},
   "outputs": [
    {
     "data": {
      "text/html": [
       "<div>\n",
       "<style scoped>\n",
       "    .dataframe tbody tr th:only-of-type {\n",
       "        vertical-align: middle;\n",
       "    }\n",
       "\n",
       "    .dataframe tbody tr th {\n",
       "        vertical-align: top;\n",
       "    }\n",
       "\n",
       "    .dataframe thead th {\n",
       "        text-align: right;\n",
       "    }\n",
       "</style>\n",
       "<table border=\"1\" class=\"dataframe\">\n",
       "  <thead>\n",
       "    <tr style=\"text-align: right;\">\n",
       "      <th></th>\n",
       "      <th>acronym</th>\n",
       "      <th>graph_id</th>\n",
       "      <th>graph_order</th>\n",
       "      <th>id</th>\n",
       "      <th>name</th>\n",
       "      <th>rgb_triplet</th>\n",
       "      <th>structure_id_path</th>\n",
       "      <th>structure_set_ids</th>\n",
       "    </tr>\n",
       "  </thead>\n",
       "  <tbody>\n",
       "    <tr>\n",
       "      <th>0</th>\n",
       "      <td>TH</td>\n",
       "      <td>1</td>\n",
       "      <td>641</td>\n",
       "      <td>549</td>\n",
       "      <td>Thalamus</td>\n",
       "      <td>[255, 112, 128]</td>\n",
       "      <td>[997, 8, 343, 1129, 549]</td>\n",
       "      <td>[2, 112905828, 691663206, 12, 184527634, 11290...</td>\n",
       "    </tr>\n",
       "    <tr>\n",
       "      <th>1</th>\n",
       "      <td>HY</td>\n",
       "      <td>1</td>\n",
       "      <td>715</td>\n",
       "      <td>1097</td>\n",
       "      <td>Hypothalamus</td>\n",
       "      <td>[230, 68, 56]</td>\n",
       "      <td>[997, 8, 343, 1129, 1097]</td>\n",
       "      <td>[2, 112905828, 691663206, 12, 184527634, 11290...</td>\n",
       "    </tr>\n",
       "  </tbody>\n",
       "</table>\n",
       "</div>"
      ],
      "text/plain": [
       "  acronym  graph_id  graph_order    id          name      rgb_triplet  \\\n",
       "0      TH         1          641   549      Thalamus  [255, 112, 128]   \n",
       "1      HY         1          715  1097  Hypothalamus    [230, 68, 56]   \n",
       "\n",
       "           structure_id_path  \\\n",
       "0   [997, 8, 343, 1129, 549]   \n",
       "1  [997, 8, 343, 1129, 1097]   \n",
       "\n",
       "                                   structure_set_ids  \n",
       "0  [2, 112905828, 691663206, 12, 184527634, 11290...  \n",
       "1  [2, 112905828, 691663206, 12, 184527634, 11290...  "
      ]
     },
     "execution_count": 10,
     "metadata": {},
     "output_type": "execute_result"
    }
   ],
   "source": [
    "pd.DataFrame(structure_tree.get_structures_by_name(['Thalamus','Hypothalamus']))"
   ]
  },
  {
   "cell_type": "markdown",
   "metadata": {},
   "source": [
    "where the columns are:"
   ]
  },
  {
   "cell_type": "code",
   "execution_count": 11,
   "metadata": {},
   "outputs": [
    {
     "name": "stdout",
     "output_type": "stream",
     "text": [
      "rgb_triplet\n",
      "graph_id\n",
      "name\n",
      "acronym\n",
      "graph_order\n",
      "structure_id_path\n",
      "structure_set_ids\n",
      "id\n"
     ]
    }
   ],
   "source": [
    "for i in structure_tree.get_structures_by_name(['Thalamus'])[0]:\n",
    "    print(i)"
   ]
  },
  {
   "cell_type": "markdown",
   "metadata": {},
   "source": [
    "## structure set\n",
    "\n",
    "On top of strucure tree, AllenmouseSDK provides a convenient way to group structures together through the structure sets.\n",
    "For example, if i wish to fetch structures trees beonging to Midbrain, I can easily do so."
   ]
  },
  {
   "cell_type": "code",
   "execution_count": 12,
   "metadata": {},
   "outputs": [],
   "source": [
    "from allensdk.api.queries.ontologies_api import OntologiesApi\n",
    "\n",
    "#initialize oapi_inst instance\n",
    "oapi_inst=OntologiesApi()"
   ]
  },
  {
   "cell_type": "code",
   "execution_count": 13,
   "metadata": {
    "scrolled": true
   },
   "outputs": [
    {
     "data": {
      "text/html": [
       "<div>\n",
       "<style scoped>\n",
       "    .dataframe tbody tr th:only-of-type {\n",
       "        vertical-align: middle;\n",
       "    }\n",
       "\n",
       "    .dataframe tbody tr th {\n",
       "        vertical-align: top;\n",
       "    }\n",
       "\n",
       "    .dataframe thead th {\n",
       "        text-align: right;\n",
       "    }\n",
       "</style>\n",
       "<table border=\"1\" class=\"dataframe\">\n",
       "  <thead>\n",
       "    <tr style=\"text-align: right;\">\n",
       "      <th></th>\n",
       "      <th>description</th>\n",
       "      <th>id</th>\n",
       "      <th>name</th>\n",
       "    </tr>\n",
       "  </thead>\n",
       "  <tbody>\n",
       "    <tr>\n",
       "      <th>0</th>\n",
       "      <td>List of structures in Isocortex layer 5</td>\n",
       "      <td>667481446</td>\n",
       "      <td>Isocortex layer 5</td>\n",
       "    </tr>\n",
       "    <tr>\n",
       "      <th>1</th>\n",
       "      <td>List of structures in Isocortex layer 6b</td>\n",
       "      <td>667481450</td>\n",
       "      <td>Isocortex layer 6b</td>\n",
       "    </tr>\n",
       "    <tr>\n",
       "      <th>2</th>\n",
       "      <td>Summary structures of the cerebellum</td>\n",
       "      <td>688152368</td>\n",
       "      <td>Cerebellum</td>\n",
       "    </tr>\n",
       "    <tr>\n",
       "      <th>3</th>\n",
       "      <td>List of structures for ABA Differential Search</td>\n",
       "      <td>12</td>\n",
       "      <td>ABA - Differential Search</td>\n",
       "    </tr>\n",
       "    <tr>\n",
       "      <th>4</th>\n",
       "      <td>List of valid structures for projection target...</td>\n",
       "      <td>184527634</td>\n",
       "      <td>Mouse Connectivity - Target Search</td>\n",
       "    </tr>\n",
       "    <tr>\n",
       "      <th>5</th>\n",
       "      <td>Structures whose surfaces are represented by a...</td>\n",
       "      <td>691663206</td>\n",
       "      <td>Mouse Brain - Has Surface Mesh</td>\n",
       "    </tr>\n",
       "    <tr>\n",
       "      <th>6</th>\n",
       "      <td>Summary structures of the midbrain</td>\n",
       "      <td>688152365</td>\n",
       "      <td>Midbrain</td>\n",
       "    </tr>\n",
       "    <tr>\n",
       "      <th>7</th>\n",
       "      <td>Summary structures of the medulla</td>\n",
       "      <td>688152367</td>\n",
       "      <td>Medulla</td>\n",
       "    </tr>\n",
       "    <tr>\n",
       "      <th>8</th>\n",
       "      <td>Summary structures of the striatum</td>\n",
       "      <td>688152361</td>\n",
       "      <td>Striatum</td>\n",
       "    </tr>\n",
       "    <tr>\n",
       "      <th>9</th>\n",
       "      <td>Structures representing subdivisions of the mo...</td>\n",
       "      <td>687527945</td>\n",
       "      <td>Mouse Connectivity - Summary</td>\n",
       "    </tr>\n",
       "    <tr>\n",
       "      <th>10</th>\n",
       "      <td>Summary structures of the hippocampal formation</td>\n",
       "      <td>688152359</td>\n",
       "      <td>Hippocampal Formation</td>\n",
       "    </tr>\n",
       "    <tr>\n",
       "      <th>11</th>\n",
       "      <td>List of visual cortex structures targeted for ...</td>\n",
       "      <td>514166994</td>\n",
       "      <td>Allen Brain Observatory targeted structure set</td>\n",
       "    </tr>\n",
       "    <tr>\n",
       "      <th>12</th>\n",
       "      <td>Summary structures of the olfactory areas</td>\n",
       "      <td>688152358</td>\n",
       "      <td>Olfactory Areas</td>\n",
       "    </tr>\n",
       "    <tr>\n",
       "      <th>13</th>\n",
       "      <td>Curated list of non-overlapping substructures ...</td>\n",
       "      <td>167587189</td>\n",
       "      <td>Brain – Summary Structures</td>\n",
       "    </tr>\n",
       "    <tr>\n",
       "      <th>14</th>\n",
       "      <td>List of structures in Isocortex layer 4</td>\n",
       "      <td>667481445</td>\n",
       "      <td>Isocortex layer 4</td>\n",
       "    </tr>\n",
       "    <tr>\n",
       "      <th>15</th>\n",
       "      <td>Structures representing the major divisions of...</td>\n",
       "      <td>687527670</td>\n",
       "      <td>Brain - Major Divisions</td>\n",
       "    </tr>\n",
       "    <tr>\n",
       "      <th>16</th>\n",
       "      <td>Summary structures of the pallidum</td>\n",
       "      <td>688152362</td>\n",
       "      <td>Pallidum</td>\n",
       "    </tr>\n",
       "    <tr>\n",
       "      <th>17</th>\n",
       "      <td>List of Primary injection structures for BDA/A...</td>\n",
       "      <td>114512892</td>\n",
       "      <td>Mouse Connectivity - BDA/AAV Primary Injection...</td>\n",
       "    </tr>\n",
       "    <tr>\n",
       "      <th>18</th>\n",
       "      <td>List of primary AND secondary injection struct...</td>\n",
       "      <td>112905813</td>\n",
       "      <td>Mouse Connectivity - BDA/AAV All Injection Str...</td>\n",
       "    </tr>\n",
       "    <tr>\n",
       "      <th>19</th>\n",
       "      <td>List of structures for ABA Fine Structure Search</td>\n",
       "      <td>10</td>\n",
       "      <td>ABA - Fine Structure Search</td>\n",
       "    </tr>\n",
       "    <tr>\n",
       "      <th>20</th>\n",
       "      <td>List of primary AND secondary injection struct...</td>\n",
       "      <td>112905828</td>\n",
       "      <td>Mouse Connectivity - Projection All Injection ...</td>\n",
       "    </tr>\n",
       "    <tr>\n",
       "      <th>21</th>\n",
       "      <td>List of structures in Isocortex layer 6a</td>\n",
       "      <td>667481449</td>\n",
       "      <td>Isocortex layer 6a</td>\n",
       "    </tr>\n",
       "    <tr>\n",
       "      <th>22</th>\n",
       "      <td>List of structures representing a areal level ...</td>\n",
       "      <td>3</td>\n",
       "      <td>Mouse - Areas</td>\n",
       "    </tr>\n",
       "    <tr>\n",
       "      <th>23</th>\n",
       "      <td>List of structures in Isocortex layer 1</td>\n",
       "      <td>667481440</td>\n",
       "      <td>Isocortex layer 1</td>\n",
       "    </tr>\n",
       "    <tr>\n",
       "      <th>24</th>\n",
       "      <td>Summary structures of the hypothalamus</td>\n",
       "      <td>688152364</td>\n",
       "      <td>Hypothalamus</td>\n",
       "    </tr>\n",
       "    <tr>\n",
       "      <th>25</th>\n",
       "      <td>List of structures in Isocortex layer 2/3</td>\n",
       "      <td>667481441</td>\n",
       "      <td>Isocortex layer 2/3</td>\n",
       "    </tr>\n",
       "    <tr>\n",
       "      <th>26</th>\n",
       "      <td>All mouse visual areas with layers</td>\n",
       "      <td>396673091</td>\n",
       "      <td>Mouse Cell Types - Structures</td>\n",
       "    </tr>\n",
       "    <tr>\n",
       "      <th>27</th>\n",
       "      <td>Summary structures of the cortical subplate</td>\n",
       "      <td>688152360</td>\n",
       "      <td>Cortical Subplate</td>\n",
       "    </tr>\n",
       "    <tr>\n",
       "      <th>28</th>\n",
       "      <td>Summary structures of the thalamus</td>\n",
       "      <td>688152363</td>\n",
       "      <td>Thalamus</td>\n",
       "    </tr>\n",
       "    <tr>\n",
       "      <th>29</th>\n",
       "      <td>List of structures representing a coarse level...</td>\n",
       "      <td>2</td>\n",
       "      <td>Mouse - Coarse</td>\n",
       "    </tr>\n",
       "    <tr>\n",
       "      <th>30</th>\n",
       "      <td>Summary structures of the isocortex</td>\n",
       "      <td>688152357</td>\n",
       "      <td>Isocortex</td>\n",
       "    </tr>\n",
       "    <tr>\n",
       "      <th>31</th>\n",
       "      <td>List of Primary injection structures for Proje...</td>\n",
       "      <td>114512891</td>\n",
       "      <td>Mouse Connectivity - Projection Primary Inject...</td>\n",
       "    </tr>\n",
       "    <tr>\n",
       "      <th>32</th>\n",
       "      <td>Summary structures of the pons</td>\n",
       "      <td>688152366</td>\n",
       "      <td>Pons</td>\n",
       "    </tr>\n",
       "  </tbody>\n",
       "</table>\n",
       "</div>"
      ],
      "text/plain": [
       "                                          description         id  \\\n",
       "0             List of structures in Isocortex layer 5  667481446   \n",
       "1            List of structures in Isocortex layer 6b  667481450   \n",
       "2                Summary structures of the cerebellum  688152368   \n",
       "3      List of structures for ABA Differential Search         12   \n",
       "4   List of valid structures for projection target...  184527634   \n",
       "5   Structures whose surfaces are represented by a...  691663206   \n",
       "6                  Summary structures of the midbrain  688152365   \n",
       "7                   Summary structures of the medulla  688152367   \n",
       "8                  Summary structures of the striatum  688152361   \n",
       "9   Structures representing subdivisions of the mo...  687527945   \n",
       "10    Summary structures of the hippocampal formation  688152359   \n",
       "11  List of visual cortex structures targeted for ...  514166994   \n",
       "12          Summary structures of the olfactory areas  688152358   \n",
       "13  Curated list of non-overlapping substructures ...  167587189   \n",
       "14            List of structures in Isocortex layer 4  667481445   \n",
       "15  Structures representing the major divisions of...  687527670   \n",
       "16                 Summary structures of the pallidum  688152362   \n",
       "17  List of Primary injection structures for BDA/A...  114512892   \n",
       "18  List of primary AND secondary injection struct...  112905813   \n",
       "19   List of structures for ABA Fine Structure Search         10   \n",
       "20  List of primary AND secondary injection struct...  112905828   \n",
       "21           List of structures in Isocortex layer 6a  667481449   \n",
       "22  List of structures representing a areal level ...          3   \n",
       "23            List of structures in Isocortex layer 1  667481440   \n",
       "24             Summary structures of the hypothalamus  688152364   \n",
       "25          List of structures in Isocortex layer 2/3  667481441   \n",
       "26                 All mouse visual areas with layers  396673091   \n",
       "27        Summary structures of the cortical subplate  688152360   \n",
       "28                 Summary structures of the thalamus  688152363   \n",
       "29  List of structures representing a coarse level...          2   \n",
       "30                Summary structures of the isocortex  688152357   \n",
       "31  List of Primary injection structures for Proje...  114512891   \n",
       "32                     Summary structures of the pons  688152366   \n",
       "\n",
       "                                                 name  \n",
       "0                                   Isocortex layer 5  \n",
       "1                                  Isocortex layer 6b  \n",
       "2                                          Cerebellum  \n",
       "3                           ABA - Differential Search  \n",
       "4                  Mouse Connectivity - Target Search  \n",
       "5                      Mouse Brain - Has Surface Mesh  \n",
       "6                                            Midbrain  \n",
       "7                                             Medulla  \n",
       "8                                            Striatum  \n",
       "9                        Mouse Connectivity - Summary  \n",
       "10                              Hippocampal Formation  \n",
       "11     Allen Brain Observatory targeted structure set  \n",
       "12                                    Olfactory Areas  \n",
       "13                         Brain – Summary Structures  \n",
       "14                                  Isocortex layer 4  \n",
       "15                            Brain - Major Divisions  \n",
       "16                                           Pallidum  \n",
       "17  Mouse Connectivity - BDA/AAV Primary Injection...  \n",
       "18  Mouse Connectivity - BDA/AAV All Injection Str...  \n",
       "19                        ABA - Fine Structure Search  \n",
       "20  Mouse Connectivity - Projection All Injection ...  \n",
       "21                                 Isocortex layer 6a  \n",
       "22                                      Mouse - Areas  \n",
       "23                                  Isocortex layer 1  \n",
       "24                                       Hypothalamus  \n",
       "25                                Isocortex layer 2/3  \n",
       "26                      Mouse Cell Types - Structures  \n",
       "27                                  Cortical Subplate  \n",
       "28                                           Thalamus  \n",
       "29                                     Mouse - Coarse  \n",
       "30                                          Isocortex  \n",
       "31  Mouse Connectivity - Projection Primary Inject...  \n",
       "32                                               Pons  "
      ]
     },
     "execution_count": 13,
     "metadata": {},
     "output_type": "execute_result"
    }
   ],
   "source": [
    "structure_set_ids=structure_tree.get_structure_sets()\n",
    "structure_set=pd.DataFrame(oapi_inst.get_structure_sets(structure_set_ids))\n",
    "structure_set"
   ]
  },
  {
   "cell_type": "markdown",
   "metadata": {},
   "source": [
    "As shown above, we can select the structure set based on its description and fetch the desired collection of structures>"
   ]
  },
  {
   "cell_type": "markdown",
   "metadata": {},
   "source": [
    "Here our interest is in the projection research, therefore we fetch the summary structures from 184527634 (Mouse Connectivity - Target Search)"
   ]
  },
  {
   "cell_type": "code",
   "execution_count": 14,
   "metadata": {},
   "outputs": [],
   "source": [
    "projection_structures_target=pd.DataFrame(structure_tree.get_structures_by_set_id([184527634]))"
   ]
  },
  {
   "cell_type": "markdown",
   "metadata": {},
   "source": [
    "### how many structures in each?\n",
    "\n",
    "Out of curiosity, we explore how many structures are contained in each structure set:"
   ]
  },
  {
   "cell_type": "code",
   "execution_count": 15,
   "metadata": {
    "scrolled": true
   },
   "outputs": [
    {
     "name": "stdout",
     "output_type": "stream",
     "text": [
      "    experiment id  number of structures\n",
      "0       667481446                    43\n",
      "1       667481450                    43\n",
      "2       688152368                    18\n",
      "3              12                   843\n",
      "4       184527634                   840\n",
      "5       691663206                   840\n",
      "6       688152365                    39\n",
      "7       688152367                    45\n",
      "8       688152361                    14\n",
      "9       687527945                   293\n",
      "10      688152359                    15\n",
      "11      514166994                     7\n",
      "12      688152358                    11\n",
      "13      167587189                   316\n",
      "14      667481445                    26\n",
      "15      687527670                    12\n",
      "16      688152362                     9\n",
      "17      114512892                    79\n",
      "18      112905813                   111\n",
      "19             10                    74\n",
      "20      112905828                   397\n",
      "21      667481449                    43\n",
      "22              3                    51\n",
      "23      667481440                    43\n",
      "24      688152364                    44\n",
      "25      667481441                    43\n",
      "26      396673091                    70\n",
      "27      688152360                     7\n",
      "28      688152363                    44\n",
      "29              2                    12\n",
      "30      688152357                    43\n",
      "31      114512891                   303\n",
      "32      688152366                    26\n"
     ]
    }
   ],
   "source": [
    "#very clever name for a variable indicating exactly what it is used for.\n",
    "printme={'experiment id':[],'number of structures':[]}\n",
    "\n",
    "for i in structure_set[structure_set.columns[1]]:  #column 1 is id\n",
    "    printme['experiment id'].append(i)\n",
    "    printme['number of structures'].append(len(structure_tree.get_structures_by_set_id([i])))\n",
    "print pd.DataFrame(printme)"
   ]
  },
  {
   "cell_type": "markdown",
   "metadata": {},
   "source": [
    "# Maps\n",
    "\n",
    "Each structure can be denoted by all kinds of variables such as its id, acronym, or its full name. Therefore it is convenient to define maps that will take care of this. We want the map to function as a converter between variables.\n"
   ]
  },
  {
   "cell_type": "code",
   "execution_count": 16,
   "metadata": {},
   "outputs": [],
   "source": [
    "projection_structures_inj=pd.DataFrame(projection_structures_target)\n",
    "\n",
    "acronym=projection_structures_inj['acronym'].values.tolist()\n",
    "acronym_to_id={}\n",
    "acronym_to_name={}\n",
    "acronym_to_volume={}\n",
    "id_to_idpath={}\n",
    "id_to_name={}\n",
    "\n",
    "for i in range(len(acronym)):\n",
    "    a=projection_structures_inj['acronym'][i] #structure acronym\n",
    "    b=projection_structures_inj['structure_id_path'][i][-1] #sturcture id\n",
    "    c=projection_structures_inj['name'][i] #structure name\n",
    "    d=projection_structures_inj['structure_id_path'][i] #structure id path\n",
    "    acronym_to_id[a]=b\n",
    "    acronym_to_name[a]=c\n",
    "    id_to_name[b]=c\n",
    "    id_to_idpath[b]=d\n"
   ]
  },
  {
   "cell_type": "markdown",
   "metadata": {},
   "source": [
    "### structure volumes\n",
    "\n",
    "as far as I am aware, getting the structure volume is not straight forward"
   ]
  },
  {
   "cell_type": "markdown",
   "metadata": {},
   "source": [
    "define inverse map for the dictionary"
   ]
  },
  {
   "cell_type": "code",
   "execution_count": 17,
   "metadata": {},
   "outputs": [],
   "source": [
    "def invert_me(arg):\n",
    "    \"\"\"inverts a map\n",
    "        args:\n",
    "            arg(dictionary): input dictionary\n",
    "        returns:\n",
    "            inverted input dictionary\"\"\"\n",
    "    return {v: k for k,v in arg.iteritems()}"
   ]
  },
  {
   "cell_type": "code",
   "execution_count": 18,
   "metadata": {},
   "outputs": [],
   "source": [
    "id_to_acronym=invert_me(acronym_to_id)\n",
    "name_to_acronym=invert_me(acronym_to_name)\n",
    "name_to_id=invert_me(id_to_name)"
   ]
  },
  {
   "cell_type": "markdown",
   "metadata": {},
   "source": [
    "Since the structures organized as trees, it would be nice to have a dictionary that can return all its daughter structures (or all structures beneath it). Hence here we define a dictionary that contains its direct substructures (only one level below): Substr"
   ]
  },
  {
   "cell_type": "code",
   "execution_count": 19,
   "metadata": {},
   "outputs": [
    {
     "data": {
      "text/plain": [
       "'structure_id_path'"
      ]
     },
     "execution_count": 19,
     "metadata": {},
     "output_type": "execute_result"
    }
   ],
   "source": [
    "projection_structures_inj.columns[-2]"
   ]
  },
  {
   "cell_type": "code",
   "execution_count": 20,
   "metadata": {},
   "outputs": [],
   "source": [
    "Substr={}\n",
    "Substr[997]=[]\n",
    "for acr in acronym:\n",
    "    Substr[acronym_to_id[acr]]=[]\n",
    "\n",
    "    \n",
    "unknown_structures=[]\n",
    "\n",
    "\n",
    "for i in projection_structures_inj['structure_id_path']:\n",
    "    try:\n",
    "        Substr[i[-2]].append(i[-1])\n",
    "    except:\n",
    "        unknown_structures.append(i[-2])"
   ]
  },
  {
   "cell_type": "code",
   "execution_count": 21,
   "metadata": {},
   "outputs": [
    {
     "data": {
      "text/plain": [
       "[81, 81]"
      ]
     },
     "execution_count": 21,
     "metadata": {},
     "output_type": "execute_result"
    }
   ],
   "source": [
    "unknown_structures"
   ]
  },
  {
   "cell_type": "markdown",
   "metadata": {},
   "source": [
    "Unknown structure with id 81"
   ]
  },
  {
   "cell_type": "markdown",
   "metadata": {},
   "source": [
    "Now we define functions that unpacks a list of all structures below a particular structure using Substr"
   ]
  },
  {
   "cell_type": "code",
   "execution_count": 22,
   "metadata": {},
   "outputs": [],
   "source": [
    "def Unpack(structure_id,MST,include_self=False):\n",
    "    \"\"\"returns a list of substructures of a given structure\n",
    "        args:\n",
    "            structures_id(int): id of the structure\n",
    "            MST(dictionary): My Structure Tree\n",
    "            include_self(bool): decide whether to include the initial structure, default=False\n",
    "        \n",
    "        returns:\n",
    "            king(list) \"\"\"\n",
    "    #Check for Error\n",
    "    #if int(structure_id)!=structure_id:\n",
    "    #    raise ValueError(\"not a valid structure_id. structure_id must be an integer\")\n",
    "    \n",
    "    \n",
    "    unpacked=[]\n",
    "    \n",
    "    \n",
    "    \n",
    "    def Unpack_(structure_id,MST):\n",
    "        \"\"\"Primarily used for 'recursion' of the unpack\"\"\"\n",
    "        \n",
    "        #check error\n",
    "        #if structure_id  in structure_id_list_exception:\n",
    "        #    raise ValueError(\"structure id not recognized\")\n",
    "         \n",
    "        leng=len(MST[structure_id])\n",
    "\n",
    "        if leng>=1:\n",
    "            unpacked.append(structure_id)\n",
    "            for i in MST[structure_id]:\n",
    "                Unpack_(i,MST)\n",
    "\n",
    "        elif leng==0:\n",
    "            unpacked.append(structure_id)\n",
    "        \n",
    "\n",
    "    Unpack_(structure_id,MST)\n",
    "    \n",
    "    if include_self:\n",
    "        pass\n",
    "    elif not include_self:\n",
    "        unpacked.remove(structure_id)\n",
    "    \n",
    "    return unpacked"
   ]
  },
  {
   "cell_type": "code",
   "execution_count": 23,
   "metadata": {},
   "outputs": [
    {
     "data": {
      "text/plain": [
       "549"
      ]
     },
     "execution_count": 23,
     "metadata": {},
     "output_type": "execute_result"
    }
   ],
   "source": [
    "name_to_id['Thalamus']"
   ]
  },
  {
   "cell_type": "code",
   "execution_count": 24,
   "metadata": {},
   "outputs": [
    {
     "data": {
      "text/plain": [
       "838"
      ]
     },
     "execution_count": 24,
     "metadata": {},
     "output_type": "execute_result"
    }
   ],
   "source": [
    "len(Unpack(997,Substr,include_self=False))"
   ]
  },
  {
   "cell_type": "markdown",
   "metadata": {},
   "source": [
    "## Injection Fraction \n",
    "\n",
    "We wish to find how many fractions of the total injection volume of an experiment belong to the structure of interest."
   ]
  },
  {
   "cell_type": "markdown",
   "metadata": {},
   "source": [
    "id_to_idpath defined earlier is not complete without structure id 997 and 0"
   ]
  },
  {
   "cell_type": "code",
   "execution_count": 386,
   "metadata": {},
   "outputs": [],
   "source": [
    "#id_to_idpath[0]=[]\n",
    "#id_to_idpath[997]=[997]\n",
    "\n",
    "structure_id_list_exception=[81]"
   ]
  },
  {
   "cell_type": "code",
   "execution_count": 387,
   "metadata": {},
   "outputs": [],
   "source": [
    "def create_structure_dictionary(annt_values,inj_density_values,include_density=True):\n",
    "    \"\"\"args:\n",
    "        annt_values: (array, int 32): array of structure ids obtained from annotation volume[injection_mask]\n",
    "        inj_density_values (array): \n",
    "        \n",
    "        returns:\n",
    "            structuer_dict(dictionary): a map from a structure id to its fraction in the injection volume\n",
    "            \"\"\"\n",
    "    \n",
    "    #check that annt_values and inj_density are the same size\n",
    "    if len(annt_values)!=len(inj_density_values):\n",
    "        raise ValueError('annt volume and inj density must be the same size')\n",
    "    \n",
    "    structure_dict={}\n",
    "    leng=len(annt_values)\n",
    "    exception_count=0\n",
    "    exception_id_list=[]\n",
    "    \n",
    "    if include_density:\n",
    "        \n",
    "        for i in range(leng):\n",
    "            \n",
    "            if annt_values[i] in structure_id_list_exception:\n",
    "                exception_id_list.append(annt)\n",
    "                pass\n",
    "            elif annt_values[i] not in structure_id_list_exception:\n",
    "                if annt_values[i] not in structure_dict:\n",
    "                    structure_dict[annt_values[i]]=0\n",
    "                elif annt_values[i] in structure_dict:\n",
    "                    structure_dict[annt_values[i]]+=inj_density_values[i]\n",
    "                    \n",
    "                    \n",
    "                    \n",
    "                    \n",
    "                    \n",
    "        #need to add the id of each superstructures of structure_dict\n",
    "        extra=[]\n",
    "        \n",
    "        for i in structure_dict:\n",
    "            try:\n",
    "                sup=id_to_id_path[i]\n",
    "                for j in sup:\n",
    "                    if j not in structure_dict:\n",
    "                        extra.append(j)\n",
    "            except:\n",
    "                exception_count+=1\n",
    "                pass\n",
    "        for i in extra:\n",
    "            structure_dict[i]=0\n",
    "                \n",
    "        return structure_dict,exception_count,exception_id_list\n",
    "    \n",
    "    \n",
    "    elif not include_density:\n",
    "        for i in arg:\n",
    "            try:\n",
    "                if i not in structure_dict:\n",
    "                    structure_dict[i]=0\n",
    "            except:\n",
    "                exception_count+=1\n",
    "                pass\n",
    "\n",
    "            if i in structure_dict:\n",
    "                structure_dict[i]+=1\n",
    "        return structure_dict,exception_count,exception_id_list\n",
    "    \n",
    "def generate_experiment_structure_fractions( experiment_list, annt,MST,include_density=True):\n",
    "    \"\"\"returns a dictionary that contains fraction information about the injection volume of the structure\"\"\"\n",
    "    \n",
    "    \"\"\"args:\n",
    "        experiment_list(list): list of experiment ids\n",
    "        annt (ndarray) annotation volume\n",
    "        include_density (bool): decide whether to calculate using the density of simple volume number.\n",
    "        Default=True\"\"\"\n",
    "    \n",
    "    #returning dictionary\n",
    "    return_dict={}\n",
    "    \n",
    "    #iterate over the given experiment list.\n",
    "    for i in experiment_list:\n",
    "        \n",
    "        #fetch injection density information\n",
    "        inj_density=mcc.get_injection_density(i)[0]\n",
    "        #create booleean array that is True on the injection sites\n",
    "        inj_density_bool=inj_density!=0.0\n",
    "        \n",
    "        #np.where returns a tuple (x,y,z) for 3d, which are to be unpacked immediately\n",
    "        a,b,c=np.where(inj_density_bool)\n",
    "        #using the voxel coordinates a,b,c, find density values at each coordinate. \n",
    "        inj_density_values=inj_density[a,b,c]\n",
    "        #and annotation values that contain id list\n",
    "        annt_values=annt[a,b,c]\n",
    "        \n",
    "        \n",
    "        \n",
    "        #call the function create_structure_dictionary that analyzies the fraction information\n",
    "        sub_dict,exception_count_sub,exception_id_list_sub=create_structure_dictionary(annt_values,inj_density_values,include_density=True)\n",
    "        \n",
    "        \n",
    "        \n",
    "        for p in sub_dict:\n",
    "            if not include_density:\n",
    "                leng=annt_values.shape[0]\n",
    "                sub_dict[p]=float(sub_dict[p])/leng\n",
    "            elif include_density:\n",
    "                #normalize the fraction\n",
    "                sub_dict[p]=float(sub_dict[p])/sum(inj_density_values)\n",
    "        \n",
    "        return_dict[i]=sub_dict\n",
    "    \n",
    "    exception_count=0\n",
    "    exception_id_list=[]\n",
    "    \n",
    "    # now add the fraction of substructures to the superstructure\n",
    "    #normal copy would not really 'copy' the dictionary. Thus use copy.deepcopy\n",
    "    return_dict_modified=copy.deepcopy(return_dict)\n",
    "    for i in return_dict:\n",
    "        for j in return_dict[i]:\n",
    "            #call unpack function to list all the substructures\n",
    "            if j in projection_structures_inj:\n",
    "                unpackedpre=Unpack(j,MST,include_self=True)\n",
    "\n",
    "                for k in unpackedpre:\n",
    "                    if j!=k:\n",
    "                        try:\n",
    "                            aa=return_dict[i][k].copy()\n",
    "                            return_dict_modified[i][j]+=aa\n",
    "                        except:\n",
    "                            exception_count+=1\n",
    "                            pass\n",
    "            else:\n",
    "                exception_count+=1\n",
    "                exception_id_list.append(j)\n",
    "                pass\n",
    "    return return_dict_modified,exception_count,exception_id_list,exception_count_sub,exception_id_list_sub\n",
    "\n",
    "def map_to_acronym(dict_):\n",
    "    return_dict={}\n",
    "    exception_count,exception_id=(0,[])\n",
    "    for i in dict_:\n",
    "        try:\n",
    "            return_dict[id_to_acronym[i]]=dict_[i]\n",
    "        except:\n",
    "            exception_count+1\n",
    "            exception_id.append(i)\n",
    "            pass\n",
    "    return return_dict"
   ]
  },
  {
   "cell_type": "code",
   "execution_count": 39,
   "metadata": {},
   "outputs": [
    {
     "name": "stdout",
     "output_type": "stream",
     "text": [
      "Computationally intensive (roughly 6-8 hours) Run? (y/n)y\n"
     ]
    },
    {
     "name": "stderr",
     "output_type": "stream",
     "text": [
      "2018-08-01 20:21:08,697 allensdk.api.api.retrieve_file_over_http INFO     Downloading URL: http://api.brain-map.org/grid_data/download_file/310035922?image=injection_density&resolution=25\n",
      "2018-08-01 20:23:52,525 allensdk.api.api.retrieve_file_over_http INFO     Downloading URL: http://api.brain-map.org/grid_data/download_file/313397385?image=injection_density&resolution=25\n",
      "2018-08-01 20:29:23,744 allensdk.api.api.retrieve_file_over_http INFO     Downloading URL: http://api.brain-map.org/grid_data/download_file/306561747?image=injection_density&resolution=25\n",
      "2018-08-01 20:31:36,211 allensdk.api.api.retrieve_file_over_http INFO     Downloading URL: http://api.brain-map.org/grid_data/download_file/307135126?image=injection_density&resolution=25\n",
      "2018-08-01 20:32:50,868 allensdk.api.api.retrieve_file_over_http INFO     Downloading URL: http://api.brain-map.org/grid_data/download_file/306804565?image=injection_density&resolution=25\n",
      "2018-08-01 20:35:47,736 allensdk.api.api.retrieve_file_over_http INFO     Downloading URL: http://api.brain-map.org/grid_data/download_file/306594263?image=injection_density&resolution=25\n",
      "2018-08-01 20:36:24,697 allensdk.api.api.retrieve_file_over_http INFO     Downloading URL: http://api.brain-map.org/grid_data/download_file/311432250?image=injection_density&resolution=25\n",
      "2018-08-01 20:39:02,910 allensdk.api.api.retrieve_file_over_http INFO     Downloading URL: http://api.brain-map.org/grid_data/download_file/307536665?image=injection_density&resolution=25\n",
      "2018-08-01 20:41:29,845 allensdk.api.api.retrieve_file_over_http INFO     Downloading URL: http://api.brain-map.org/grid_data/download_file/311431544?image=injection_density&resolution=25\n",
      "2018-08-01 20:46:04,071 allensdk.api.api.retrieve_file_over_http INFO     Downloading URL: http://api.brain-map.org/grid_data/download_file/306442200?image=injection_density&resolution=25\n",
      "2018-08-01 20:47:27,509 allensdk.api.api.retrieve_file_over_http INFO     Downloading URL: http://api.brain-map.org/grid_data/download_file/307535211?image=injection_density&resolution=25\n",
      "2018-08-01 20:48:31,266 allensdk.api.api.retrieve_file_over_http INFO     Downloading URL: http://api.brain-map.org/grid_data/download_file/306591960?image=injection_density&resolution=25\n",
      "2018-08-01 20:49:45,766 allensdk.api.api.retrieve_file_over_http INFO     Downloading URL: http://api.brain-map.org/grid_data/download_file/306442930?image=injection_density&resolution=25\n",
      "2018-08-01 20:50:49,776 allensdk.api.api.retrieve_file_over_http INFO     Downloading URL: http://api.brain-map.org/grid_data/download_file/307135833?image=injection_density&resolution=25\n",
      "2018-08-01 20:52:23,868 allensdk.api.api.retrieve_file_over_http INFO     Downloading URL: http://api.brain-map.org/grid_data/download_file/469786559?image=injection_density&resolution=25\n",
      "2018-08-01 20:52:53,493 allensdk.api.api.retrieve_file_over_http INFO     Downloading URL: http://api.brain-map.org/grid_data/download_file/306593557?image=injection_density&resolution=25\n",
      "2018-08-01 20:59:10,275 allensdk.api.api.retrieve_file_over_http INFO     Downloading URL: http://api.brain-map.org/grid_data/download_file/306358650?image=injection_density&resolution=25\n",
      "2018-08-01 21:00:06,430 allensdk.api.api.retrieve_file_over_http INFO     Downloading URL: http://api.brain-map.org/grid_data/download_file/329620919?image=injection_density&resolution=25\n",
      "2018-08-01 21:01:19,275 allensdk.api.api.retrieve_file_over_http INFO     Downloading URL: http://api.brain-map.org/grid_data/download_file/308120197?image=injection_density&resolution=25\n",
      "2018-08-01 21:01:41,993 allensdk.api.api.retrieve_file_over_http INFO     Downloading URL: http://api.brain-map.org/grid_data/download_file/311984542?image=injection_density&resolution=25\n",
      "2018-08-01 21:08:52,681 allensdk.api.api.retrieve_file_over_http INFO     Downloading URL: http://api.brain-map.org/grid_data/download_file/306928009?image=injection_density&resolution=25\n",
      "2018-08-01 21:09:54,573 allensdk.api.api.retrieve_file_over_http INFO     Downloading URL: http://api.brain-map.org/grid_data/download_file/312657373?image=injection_density&resolution=25\n",
      "2018-08-01 21:28:20,368 allensdk.api.api.retrieve_file_over_http INFO     Downloading URL: http://api.brain-map.org/grid_data/download_file/310154608?image=injection_density&resolution=25\n",
      "2018-08-01 21:30:01,032 allensdk.api.api.retrieve_file_over_http INFO     Downloading URL: http://api.brain-map.org/grid_data/download_file/307162398?image=injection_density&resolution=25\n",
      "2018-08-01 21:30:22,841 allensdk.api.api.retrieve_file_over_http INFO     Downloading URL: http://api.brain-map.org/grid_data/download_file/310589138?image=injection_density&resolution=25\n",
      "2018-08-01 21:34:16,421 allensdk.api.api.retrieve_file_over_http INFO     Downloading URL: http://api.brain-map.org/grid_data/download_file/471128751?image=injection_density&resolution=25\n",
      "2018-08-01 21:34:53,588 allensdk.api.api.retrieve_file_over_http INFO     Downloading URL: http://api.brain-map.org/grid_data/download_file/307023583?image=injection_density&resolution=25\n",
      "2018-08-01 21:39:19,977 allensdk.api.api.retrieve_file_over_http INFO     Downloading URL: http://api.brain-map.org/grid_data/download_file/471128008?image=injection_density&resolution=25\n",
      "2018-08-01 21:43:44,871 allensdk.api.api.retrieve_file_over_http INFO     Downloading URL: http://api.brain-map.org/grid_data/download_file/311330098?image=injection_density&resolution=25\n",
      "2018-08-01 21:43:55,196 allensdk.api.api.retrieve_file_over_http INFO     Downloading URL: http://api.brain-map.org/grid_data/download_file/397336956?image=injection_density&resolution=25\n",
      "2018-08-01 21:44:58,398 allensdk.api.api.retrieve_file_over_http INFO     Downloading URL: http://api.brain-map.org/grid_data/download_file/307027442?image=injection_density&resolution=25\n",
      "2018-08-01 21:45:32,674 allensdk.api.api.retrieve_file_over_http INFO     Downloading URL: http://api.brain-map.org/grid_data/download_file/312658094?image=injection_density&resolution=25\n",
      "2018-08-01 21:47:18,660 allensdk.api.api.retrieve_file_over_http INFO     Downloading URL: http://api.brain-map.org/grid_data/download_file/307024292?image=injection_density&resolution=25\n",
      "2018-08-01 21:49:11,941 allensdk.api.api.retrieve_file_over_http INFO     Downloading URL: http://api.brain-map.org/grid_data/download_file/397336241?image=injection_density&resolution=25\n",
      "2018-08-01 21:52:01,924 allensdk.api.api.retrieve_file_over_http INFO     Downloading URL: http://api.brain-map.org/grid_data/download_file/306097997?image=injection_density&resolution=25\n",
      "2018-08-01 21:56:05,915 allensdk.api.api.retrieve_file_over_http INFO     Downloading URL: http://api.brain-map.org/grid_data/download_file/306879536?image=injection_density&resolution=25\n",
      "2018-08-01 21:57:00,796 allensdk.api.api.retrieve_file_over_http INFO     Downloading URL: http://api.brain-map.org/grid_data/download_file/311547676?image=injection_density&resolution=25\n",
      "2018-08-01 21:59:18,190 allensdk.api.api.retrieve_file_over_http INFO     Downloading URL: http://api.brain-map.org/grid_data/download_file/306958034?image=injection_density&resolution=25\n",
      "2018-08-01 22:00:13,759 allensdk.api.api.retrieve_file_over_http INFO     Downloading URL: http://api.brain-map.org/grid_data/download_file/306881784?image=injection_density&resolution=25\n",
      "2018-08-01 22:01:24,494 allensdk.api.api.retrieve_file_over_http INFO     Downloading URL: http://api.brain-map.org/grid_data/download_file/310153196?image=injection_density&resolution=25\n",
      "2018-08-01 22:03:01,312 allensdk.api.api.retrieve_file_over_http INFO     Downloading URL: http://api.brain-map.org/grid_data/download_file/307161682?image=injection_density&resolution=25\n",
      "2018-08-01 22:03:49,953 allensdk.api.api.retrieve_file_over_http INFO     Downloading URL: http://api.brain-map.org/grid_data/download_file/306798836?image=injection_density&resolution=25\n",
      "2018-08-01 22:03:52,714 allensdk.api.api.retrieve_file_over_http INFO     Downloading URL: http://api.brain-map.org/grid_data/download_file/306051094?image=injection_density&resolution=25\n",
      "2018-08-01 22:05:23,150 allensdk.api.api.retrieve_file_over_http INFO     Downloading URL: http://api.brain-map.org/grid_data/download_file/306100134?image=injection_density&resolution=25\n"
     ]
    },
    {
     "name": "stderr",
     "output_type": "stream",
     "text": [
      "2018-08-01 22:05:44,838 allensdk.api.api.retrieve_file_over_http INFO     Downloading URL: http://api.brain-map.org/grid_data/download_file/307163104?image=injection_density&resolution=25\n",
      "2018-08-01 22:08:11,628 allensdk.api.api.retrieve_file_over_http INFO     Downloading URL: http://api.brain-map.org/grid_data/download_file/307137245?image=injection_density&resolution=25\n",
      "2018-08-01 22:11:08,164 allensdk.api.api.retrieve_file_over_http INFO     Downloading URL: http://api.brain-map.org/grid_data/download_file/306958740?image=injection_density&resolution=25\n",
      "2018-08-01 22:12:12,476 allensdk.api.api.retrieve_file_over_http INFO     Downloading URL: http://api.brain-map.org/grid_data/download_file/313387575?image=injection_density&resolution=25\n",
      "2018-08-01 22:15:37,227 allensdk.api.api.retrieve_file_over_http INFO     Downloading URL: http://api.brain-map.org/grid_data/download_file/310552598?image=injection_density&resolution=25\n",
      "2018-08-01 22:21:03,776 allensdk.api.api.retrieve_file_over_http INFO     Downloading URL: http://api.brain-map.org/grid_data/download_file/469531049?image=injection_density&resolution=25\n",
      "2018-08-01 22:21:30,023 allensdk.api.api.retrieve_file_over_http INFO     Downloading URL: http://api.brain-map.org/grid_data/download_file/306881077?image=injection_density&resolution=25\n",
      "2018-08-01 22:22:30,461 allensdk.api.api.retrieve_file_over_http INFO     Downloading URL: http://api.brain-map.org/grid_data/download_file/306928743?image=injection_density&resolution=25\n",
      "2018-08-01 22:22:40,954 allensdk.api.api.retrieve_file_over_http INFO     Downloading URL: http://api.brain-map.org/grid_data/download_file/308026737?image=injection_density&resolution=25\n",
      "2018-08-01 22:24:35,934 allensdk.api.api.retrieve_file_over_http INFO     Downloading URL: http://api.brain-map.org/grid_data/download_file/307026704?image=injection_density&resolution=25\n",
      "2018-08-01 22:25:01,736 allensdk.api.api.retrieve_file_over_http INFO     Downloading URL: http://api.brain-map.org/grid_data/download_file/306357894?image=injection_density&resolution=25\n",
      "2018-08-01 22:32:24,381 allensdk.api.api.retrieve_file_over_http INFO     Downloading URL: http://api.brain-map.org/grid_data/download_file/310153902?image=injection_density&resolution=25\n",
      "2018-08-01 22:34:19,233 allensdk.api.api.retrieve_file_over_http INFO     Downloading URL: http://api.brain-map.org/grid_data/download_file/306957248?image=injection_density&resolution=25\n",
      "2018-08-01 22:34:44,961 allensdk.api.api.retrieve_file_over_http INFO     Downloading URL: http://api.brain-map.org/grid_data/download_file/311983834?image=injection_density&resolution=25\n",
      "2018-08-01 22:38:26,651 allensdk.api.api.retrieve_file_over_http INFO     Downloading URL: http://api.brain-map.org/grid_data/download_file/306799543?image=injection_density&resolution=25\n",
      "2018-08-01 22:41:17,299 allensdk.api.api.retrieve_file_over_http INFO     Downloading URL: http://api.brain-map.org/grid_data/download_file/306930168?image=injection_density&resolution=25\n",
      "2018-08-01 22:46:39,651 allensdk.api.api.retrieve_file_over_http INFO     Downloading URL: http://api.brain-map.org/grid_data/download_file/311330805?image=injection_density&resolution=25\n",
      "2018-08-01 22:49:31,720 allensdk.api.api.retrieve_file_over_http INFO     Downloading URL: http://api.brain-map.org/grid_data/download_file/469531757?image=injection_density&resolution=25\n",
      "2018-08-01 22:52:27,352 allensdk.api.api.retrieve_file_over_http INFO     Downloading URL: http://api.brain-map.org/grid_data/download_file/306355992?image=injection_density&resolution=25\n",
      "2018-08-01 22:52:44,838 allensdk.api.api.retrieve_file_over_http INFO     Downloading URL: http://api.brain-map.org/grid_data/download_file/311923265?image=injection_density&resolution=25\n",
      "2018-08-01 22:52:59,180 allensdk.api.api.retrieve_file_over_http INFO     Downloading URL: http://api.brain-map.org/grid_data/download_file/313398094?image=injection_density&resolution=25\n",
      "2018-08-01 22:53:25,868 allensdk.api.api.retrieve_file_over_http INFO     Downloading URL: http://api.brain-map.org/grid_data/download_file/310157065?image=injection_density&resolution=25\n",
      "2018-08-01 22:53:36,869 allensdk.api.api.retrieve_file_over_http INFO     Downloading URL: http://api.brain-map.org/grid_data/download_file/306880368?image=injection_density&resolution=25\n",
      "2018-08-01 22:54:28,071 allensdk.api.api.retrieve_file_over_http INFO     Downloading URL: http://api.brain-map.org/grid_data/download_file/310037372?image=injection_density&resolution=25\n",
      "2018-08-01 22:55:46,101 allensdk.api.api.retrieve_file_over_http INFO     Downloading URL: http://api.brain-map.org/grid_data/download_file/311922557?image=injection_density&resolution=25\n",
      "2018-08-01 22:56:42,180 allensdk.api.api.retrieve_file_over_http INFO     Downloading URL: http://api.brain-map.org/grid_data/download_file/308120903?image=injection_density&resolution=25\n",
      "2018-08-01 22:58:42,555 allensdk.api.api.retrieve_file_over_http INFO     Downloading URL: http://api.brain-map.org/grid_data/download_file/310036630?image=injection_density&resolution=25\n"
     ]
    }
   ],
   "source": [
    "run=raw_input(\"Computationally intensive (roughly 6-8 hours) Run? (y/n)\")\n",
    "if run==\"y\":\n",
    "    Master_injection_fraction_dictionary={}\n",
    "    ec=0\n",
    "    ecl=[]\n",
    "\n",
    "    for i in experiment_list['id'].tolist():\n",
    "        ecp,ec,ecl,ecs,ecls=generate_experiment_structure_fractions([i],annt,Substr,include_density=True)\n",
    "        Master_injection_fraction_dictionary[i]=ecp[i]\n",
    "        \n",
    "elif run==\"n\":\n",
    "    print \"operation cancelled\"\n"
   ]
  },
  {
   "cell_type": "markdown",
   "metadata": {},
   "source": [
    "### Save & Load station"
   ]
  },
  {
   "cell_type": "code",
   "execution_count": 40,
   "metadata": {},
   "outputs": [
    {
     "name": "stdout",
     "output_type": "stream",
     "text": [
      "Save? (y/n)y\n"
     ]
    }
   ],
   "source": [
    "\"\"\"SAVE\"\"\"\n",
    "run=raw_input(\"Save? (y/n)\")\n",
    "\n",
    "if run==\"y\":\n",
    "    with open (\"Master_injection_fraction_dictionary\",'wb') as f:\n",
    "        pickle.dump(Master_injection_fraction_dictionary,f)\n",
    "    \n",
    "elif run==\"n\":\n",
    "    print \"operation cancelled\""
   ]
  },
  {
   "cell_type": "code",
   "execution_count": 25,
   "metadata": {},
   "outputs": [
    {
     "name": "stdout",
     "output_type": "stream",
     "text": [
      "Load? (y/n)y\n"
     ]
    }
   ],
   "source": [
    "\"\"\"Load\"\"\"\n",
    "run=raw_input(\"Load? (y/n)\")\n",
    "\n",
    "if run==\"y\":\n",
    "    Master_injection_fraction_dictionary={}\n",
    "    with open(\"Master_injection_fraction_dictionary\",'r') as f:\n",
    "        Master_injection_fraction_dictionary=pickle.load(f)\n",
    "elif run==\"n\":\n",
    "    print \"operation cancelled\""
   ]
  },
  {
   "cell_type": "markdown",
   "metadata": {},
   "source": [
    "## Reality Check\n",
    "\n",
    "make sure the fractions add up to no more than 1"
   ]
  },
  {
   "cell_type": "markdown",
   "metadata": {},
   "source": [
    "#### Filter \n"
   ]
  },
  {
   "cell_type": "code",
   "execution_count": 26,
   "metadata": {},
   "outputs": [
    {
     "data": {
      "text/plain": [
       "2995"
      ]
     },
     "execution_count": 26,
     "metadata": {},
     "output_type": "execute_result"
    }
   ],
   "source": [
    "len(Master_injection_fraction_dictionary)"
   ]
  },
  {
   "cell_type": "code",
   "execution_count": 27,
   "metadata": {},
   "outputs": [],
   "source": [
    "exception_count=0\n",
    "exception_list=[]\n",
    "\n",
    "for i in experiment_list['id'].values.tolist():\n",
    "    for j in Master_injection_fraction_dictionary[i]:\n",
    "        if Master_injection_fraction_dictionary[i][j]>1:\n",
    "            raise ValueError(\"A fraction cannot be larger than 1\")\n"
   ]
  },
  {
   "cell_type": "code",
   "execution_count": 28,
   "metadata": {},
   "outputs": [
    {
     "data": {
      "text/plain": [
       "0"
      ]
     },
     "execution_count": 28,
     "metadata": {},
     "output_type": "execute_result"
    }
   ],
   "source": [
    "len(exception_list)"
   ]
  },
  {
   "cell_type": "markdown",
   "metadata": {},
   "source": [
    "0 experiments are not valid keys for Master_injection_fraction_dictionary. Investigate"
   ]
  },
  {
   "cell_type": "markdown",
   "metadata": {},
   "source": [
    "For good reasons, we wish to remove experiments that are too close to one another. First get a map from experiment id to their injection_coordinates"
   ]
  },
  {
   "cell_type": "markdown",
   "metadata": {},
   "source": [
    "# Get Structure Volume"
   ]
  },
  {
   "cell_type": "code",
   "execution_count": 29,
   "metadata": {},
   "outputs": [],
   "source": [
    "def volume_dictionary_gen(acr_list):\n",
    "    \"\"\"based on input acronym list, return a dictionary that maps ID to its volume.\n",
    "    \n",
    "        This is a poor workaround the fact that I don't know how to import the volume data of the structure from the website.\n",
    "        I can only calculate the volume from the annotation files, but there are discrepencies between that and the unionization\n",
    "        records.\n",
    "    \n",
    "    args:\n",
    "        acr_list (list): input acronym list\n",
    "        \n",
    "    returns:\n",
    "        returndict(dictionary): map from id to its volume\n",
    "        exception_structure_acr (list) a list of structure that do not have the volume data available from this method\"\"\"\n",
    "    \n",
    "    returndict={}\n",
    "    exception_struct_acr=[]\n",
    "    \n",
    "    for i in acr_list:\n",
    "        \n",
    "        '''volume data is acquired through unionization.\n",
    "            From the experiment lists of a structure, I target itself and return its unionization records.\n",
    "            '''\n",
    "        struct=structure_tree.get_structures_by_acronym([i])[0]\n",
    "        struct_experiments=mcc.get_experiments(cre=None,\n",
    "                                              injection_structure_ids=[struct['id']])\n",
    "        \n",
    "        \n",
    "        '''If error, then it must be the case that the structure does not belong to any injection site.\n",
    "            I believe it is still possible for other structures to project to these regions, but for this particular analysis,\n",
    "            I ignore these structures.'''\n",
    "        try:\n",
    "            structure_unionizes=mcc.get_structure_unionizes( [e['id'] for e in struct_experiments],\n",
    "                                                          is_injection=None,\n",
    "                                                          structure_ids=[struct['id']], # all\n",
    "                                                          include_descendants=True,\n",
    "                                                           hemisphere_ids=[2])\n",
    "        except:\n",
    "            exception_struct_acr.append(i)\n",
    "            pass\n",
    "        \n",
    "        for j in range(len(structure_unionizes)):\n",
    "            a=structure_unionizes['structure_id'][j]\n",
    "            b=structure_unionizes['volume'][j]\n",
    "\n",
    "            if a not in returndict:\n",
    "                returndict[a]=b\n",
    "\n",
    "    return returndict,exception_struct_acr"
   ]
  },
  {
   "cell_type": "code",
   "execution_count": 45,
   "metadata": {},
   "outputs": [
    {
     "name": "stderr",
     "output_type": "stream",
     "text": [
      "C:\\Users\\Chris OBrien\\AppData\\Local\\conda\\conda\\envs\\p2\\lib\\site-packages\\allensdk\\api\\cache.py:335: FutureWarning: from_csv is deprecated. Please use read_csv(...) instead. Note that some of the default arguments are different, so please refer to the documentation for from_csv when changing your function calls\n",
      "  data = reader(path)\n"
     ]
    }
   ],
   "source": [
    "structure_unionizes=mcc.get_structure_unionizes( [e for e in list(experiment_list['id'])],\n",
    "                                                          is_injection=None,\n",
    "                                                          structure_ids=None, # all\n",
    "                                                          include_descendants=True,\n",
    "                                                           hemisphere_ids=[2])"
   ]
  },
  {
   "cell_type": "code",
   "execution_count": 30,
   "metadata": {},
   "outputs": [
    {
     "ename": "SyntaxError",
     "evalue": "invalid syntax (<ipython-input-30-09a5d8937d4b>, line 11)",
     "output_type": "error",
     "traceback": [
      "\u001b[1;36m  File \u001b[1;32m\"<ipython-input-30-09a5d8937d4b>\"\u001b[1;36m, line \u001b[1;32m11\u001b[0m\n\u001b[1;33m    elif run ==\"n\"\u001b[0m\n\u001b[1;37m                  ^\u001b[0m\n\u001b[1;31mSyntaxError\u001b[0m\u001b[1;31m:\u001b[0m invalid syntax\n"
     ]
    }
   ],
   "source": [
    "run=raw_input(\"computationally demanding. run? (y/n)\")\n",
    "\n",
    "if run==\"y\":\n",
    "\n",
    "    id_to_volume={}\n",
    "    str_id=structure_unionizes['structure_id']\n",
    "    str_vol=structure_unionizes['volume']\n",
    "    for i in range(len(str_id)):\n",
    "        if i not in id_to_volume.keys():\n",
    "            id_to_volume[str_id[i]]=str_vol[i]\n",
    "elif run ==\"n\"\n",
    "    rpint \"operation cancelled\""
   ]
  },
  {
   "cell_type": "code",
   "execution_count": 31,
   "metadata": {},
   "outputs": [
    {
     "ename": "NameError",
     "evalue": "name 'id_to_volume' is not defined",
     "output_type": "error",
     "traceback": [
      "\u001b[1;31m---------------------------------------------------------------------------\u001b[0m",
      "\u001b[1;31mNameError\u001b[0m                                 Traceback (most recent call last)",
      "\u001b[1;32m<ipython-input-31-d5d82a952fe1>\u001b[0m in \u001b[0;36m<module>\u001b[1;34m()\u001b[0m\n\u001b[1;32m----> 1\u001b[1;33m \u001b[0mlen\u001b[0m\u001b[1;33m(\u001b[0m\u001b[0mid_to_volume\u001b[0m\u001b[1;33m)\u001b[0m\u001b[1;33m\u001b[0m\u001b[0m\n\u001b[0m",
      "\u001b[1;31mNameError\u001b[0m: name 'id_to_volume' is not defined"
     ]
    }
   ],
   "source": [
    "len(id_to_volume)"
   ]
  },
  {
   "cell_type": "code",
   "execution_count": 49,
   "metadata": {},
   "outputs": [
    {
     "name": "stdout",
     "output_type": "stream",
     "text": [
      "Save? (y/n)y\n"
     ]
    }
   ],
   "source": [
    "\"\"\"SAVE\"\"\"\n",
    "run=raw_input(\"Save? (y/n)\")\n",
    "\n",
    "if run==\"y\":\n",
    "    with open (\"id_to_volume\",'wb') as f:\n",
    "        pickle.dump(id_to_volume,f)\n",
    "    \n",
    "elif run==\"n\":\n",
    "    print \"operation cancelled\""
   ]
  },
  {
   "cell_type": "code",
   "execution_count": null,
   "metadata": {},
   "outputs": [],
   "source": [
    "\"\"\"Load\"\"\"\n",
    "run=raw_input(\"Load? (y/n)\")\n",
    "\n",
    "if run==\"y\":\n",
    "    with open(\"id_to_volume\",'r') as f:\n",
    "        id_to_volume=pickle.load(f)\n",
    "elif run==\"n\":\n",
    "    print \"operation cancelled\""
   ]
  },
  {
   "cell_type": "code",
   "execution_count": 50,
   "metadata": {},
   "outputs": [],
   "source": [
    "id_to_inj_coord=structure_tree"
   ]
  },
  {
   "cell_type": "code",
   "execution_count": 51,
   "metadata": {},
   "outputs": [],
   "source": [
    "sinj=structure_tree.get_structures_by_acronym(['SCm'])[0]"
   ]
  },
  {
   "cell_type": "code",
   "execution_count": 52,
   "metadata": {},
   "outputs": [],
   "source": [
    "sinj_experiments=mcc.get_experiments(cre=None,\n",
    "                                         injection_structure_ids=[sinj['id']])"
   ]
  },
  {
   "cell_type": "code",
   "execution_count": 53,
   "metadata": {},
   "outputs": [],
   "source": [
    "unionizes=mcc.get_structure_unionizes([ep['id'] for ep in sinj_experiments],\n",
    "                                         is_injection=False,\n",
    "                                         structure_ids=[acronym_to_id['AP']],\n",
    "                                         include_descendants=False,\n",
    "                                         hemisphere_ids=[2])"
   ]
  },
  {
   "cell_type": "code",
   "execution_count": 54,
   "metadata": {},
   "outputs": [
    {
     "data": {
      "text/html": [
       "<div>\n",
       "<style scoped>\n",
       "    .dataframe tbody tr th:only-of-type {\n",
       "        vertical-align: middle;\n",
       "    }\n",
       "\n",
       "    .dataframe tbody tr th {\n",
       "        vertical-align: top;\n",
       "    }\n",
       "\n",
       "    .dataframe thead th {\n",
       "        text-align: right;\n",
       "    }\n",
       "</style>\n",
       "<table border=\"1\" class=\"dataframe\">\n",
       "  <thead>\n",
       "    <tr style=\"text-align: right;\">\n",
       "      <th></th>\n",
       "      <th>hemisphere_id</th>\n",
       "      <th>id</th>\n",
       "      <th>is_injection</th>\n",
       "      <th>max_voxel_density</th>\n",
       "      <th>max_voxel_x</th>\n",
       "      <th>max_voxel_y</th>\n",
       "      <th>max_voxel_z</th>\n",
       "      <th>normalized_projection_volume</th>\n",
       "      <th>projection_density</th>\n",
       "      <th>projection_energy</th>\n",
       "      <th>projection_intensity</th>\n",
       "      <th>projection_volume</th>\n",
       "      <th>experiment_id</th>\n",
       "      <th>structure_id</th>\n",
       "      <th>sum_pixel_intensity</th>\n",
       "      <th>sum_pixels</th>\n",
       "      <th>sum_projection_pixel_intensity</th>\n",
       "      <th>sum_projection_pixels</th>\n",
       "      <th>volume</th>\n",
       "    </tr>\n",
       "  </thead>\n",
       "  <tbody>\n",
       "    <tr>\n",
       "      <th>0</th>\n",
       "      <td>2</td>\n",
       "      <td>636051208</td>\n",
       "      <td>False</td>\n",
       "      <td>0.000000</td>\n",
       "      <td>0</td>\n",
       "      <td>0</td>\n",
       "      <td>0</td>\n",
       "      <td>0.000000e+00</td>\n",
       "      <td>0.000000</td>\n",
       "      <td>0.000000</td>\n",
       "      <td>0.000000</td>\n",
       "      <td>0.000000e+00</td>\n",
       "      <td>305025440</td>\n",
       "      <td>207</td>\n",
       "      <td>2.229142e+09</td>\n",
       "      <td>23752800.0</td>\n",
       "      <td>0.000000</td>\n",
       "      <td>0.000000</td>\n",
       "      <td>0.029097</td>\n",
       "    </tr>\n",
       "    <tr>\n",
       "      <th>1</th>\n",
       "      <td>2</td>\n",
       "      <td>631773396</td>\n",
       "      <td>False</td>\n",
       "      <td>0.010808</td>\n",
       "      <td>12830</td>\n",
       "      <td>5060</td>\n",
       "      <td>5920</td>\n",
       "      <td>2.933789e-07</td>\n",
       "      <td>0.000006</td>\n",
       "      <td>0.000554</td>\n",
       "      <td>94.313469</td>\n",
       "      <td>1.707713e-07</td>\n",
       "      <td>292533477</td>\n",
       "      <td>207</td>\n",
       "      <td>1.712106e+09</td>\n",
       "      <td>23752800.0</td>\n",
       "      <td>13147.783203</td>\n",
       "      <td>139.405151</td>\n",
       "      <td>0.029097</td>\n",
       "    </tr>\n",
       "    <tr>\n",
       "      <th>2</th>\n",
       "      <td>2</td>\n",
       "      <td>634324454</td>\n",
       "      <td>False</td>\n",
       "      <td>0.000000</td>\n",
       "      <td>0</td>\n",
       "      <td>0</td>\n",
       "      <td>0</td>\n",
       "      <td>0.000000e+00</td>\n",
       "      <td>0.000000</td>\n",
       "      <td>0.000000</td>\n",
       "      <td>0.000000</td>\n",
       "      <td>0.000000e+00</td>\n",
       "      <td>307656580</td>\n",
       "      <td>207</td>\n",
       "      <td>4.448998e+09</td>\n",
       "      <td>23752800.0</td>\n",
       "      <td>0.000000</td>\n",
       "      <td>0.000000</td>\n",
       "      <td>0.029097</td>\n",
       "    </tr>\n",
       "    <tr>\n",
       "      <th>3</th>\n",
       "      <td>2</td>\n",
       "      <td>636038636</td>\n",
       "      <td>False</td>\n",
       "      <td>0.000000</td>\n",
       "      <td>0</td>\n",
       "      <td>0</td>\n",
       "      <td>0</td>\n",
       "      <td>0.000000e+00</td>\n",
       "      <td>0.000000</td>\n",
       "      <td>0.000000</td>\n",
       "      <td>0.000000</td>\n",
       "      <td>0.000000e+00</td>\n",
       "      <td>305446876</td>\n",
       "      <td>207</td>\n",
       "      <td>1.769696e+08</td>\n",
       "      <td>23752800.0</td>\n",
       "      <td>0.000000</td>\n",
       "      <td>0.000000</td>\n",
       "      <td>0.029097</td>\n",
       "    </tr>\n",
       "    <tr>\n",
       "      <th>4</th>\n",
       "      <td>2</td>\n",
       "      <td>631855933</td>\n",
       "      <td>False</td>\n",
       "      <td>0.000000</td>\n",
       "      <td>0</td>\n",
       "      <td>0</td>\n",
       "      <td>0</td>\n",
       "      <td>0.000000e+00</td>\n",
       "      <td>0.000000</td>\n",
       "      <td>0.000000</td>\n",
       "      <td>0.000000</td>\n",
       "      <td>0.000000e+00</td>\n",
       "      <td>294174290</td>\n",
       "      <td>207</td>\n",
       "      <td>1.927530e+08</td>\n",
       "      <td>23752800.0</td>\n",
       "      <td>0.000000</td>\n",
       "      <td>0.000000</td>\n",
       "      <td>0.029097</td>\n",
       "    </tr>\n",
       "    <tr>\n",
       "      <th>5</th>\n",
       "      <td>2</td>\n",
       "      <td>629972063</td>\n",
       "      <td>False</td>\n",
       "      <td>0.051576</td>\n",
       "      <td>12760</td>\n",
       "      <td>4930</td>\n",
       "      <td>5840</td>\n",
       "      <td>1.489958e-05</td>\n",
       "      <td>0.000157</td>\n",
       "      <td>0.014939</td>\n",
       "      <td>95.313133</td>\n",
       "      <td>4.560632e-06</td>\n",
       "      <td>175158132</td>\n",
       "      <td>207</td>\n",
       "      <td>2.521453e+09</td>\n",
       "      <td>23752800.0</td>\n",
       "      <td>354847.437500</td>\n",
       "      <td>3722.964844</td>\n",
       "      <td>0.029097</td>\n",
       "    </tr>\n",
       "    <tr>\n",
       "      <th>6</th>\n",
       "      <td>2</td>\n",
       "      <td>631919895</td>\n",
       "      <td>False</td>\n",
       "      <td>0.021249</td>\n",
       "      <td>12950</td>\n",
       "      <td>5130</td>\n",
       "      <td>5730</td>\n",
       "      <td>3.502646e-06</td>\n",
       "      <td>0.000011</td>\n",
       "      <td>0.000997</td>\n",
       "      <td>94.791611</td>\n",
       "      <td>3.061630e-07</td>\n",
       "      <td>278511717</td>\n",
       "      <td>207</td>\n",
       "      <td>2.268692e+09</td>\n",
       "      <td>23752800.0</td>\n",
       "      <td>23691.171875</td>\n",
       "      <td>249.928986</td>\n",
       "      <td>0.029097</td>\n",
       "    </tr>\n",
       "    <tr>\n",
       "      <th>7</th>\n",
       "      <td>2</td>\n",
       "      <td>630384216</td>\n",
       "      <td>False</td>\n",
       "      <td>0.035377</td>\n",
       "      <td>12400</td>\n",
       "      <td>4850</td>\n",
       "      <td>5820</td>\n",
       "      <td>8.376689e-05</td>\n",
       "      <td>0.000110</td>\n",
       "      <td>0.016814</td>\n",
       "      <td>152.640976</td>\n",
       "      <td>3.205130e-06</td>\n",
       "      <td>182613651</td>\n",
       "      <td>207</td>\n",
       "      <td>8.299907e+08</td>\n",
       "      <td>23752800.0</td>\n",
       "      <td>399374.875000</td>\n",
       "      <td>2616.432861</td>\n",
       "      <td>0.029097</td>\n",
       "    </tr>\n",
       "    <tr>\n",
       "      <th>8</th>\n",
       "      <td>2</td>\n",
       "      <td>633672424</td>\n",
       "      <td>False</td>\n",
       "      <td>0.000000</td>\n",
       "      <td>0</td>\n",
       "      <td>0</td>\n",
       "      <td>0</td>\n",
       "      <td>0.000000e+00</td>\n",
       "      <td>0.000000</td>\n",
       "      <td>0.000000</td>\n",
       "      <td>0.000000</td>\n",
       "      <td>0.000000e+00</td>\n",
       "      <td>126646502</td>\n",
       "      <td>207</td>\n",
       "      <td>1.794206e+09</td>\n",
       "      <td>23752800.0</td>\n",
       "      <td>0.000000</td>\n",
       "      <td>0.000000</td>\n",
       "      <td>0.029097</td>\n",
       "    </tr>\n",
       "    <tr>\n",
       "      <th>9</th>\n",
       "      <td>2</td>\n",
       "      <td>633854016</td>\n",
       "      <td>False</td>\n",
       "      <td>0.047275</td>\n",
       "      <td>12800</td>\n",
       "      <td>4980</td>\n",
       "      <td>5920</td>\n",
       "      <td>1.328558e-05</td>\n",
       "      <td>0.000178</td>\n",
       "      <td>0.009861</td>\n",
       "      <td>55.241928</td>\n",
       "      <td>5.193812e-06</td>\n",
       "      <td>146078721</td>\n",
       "      <td>207</td>\n",
       "      <td>9.165370e+08</td>\n",
       "      <td>23752800.0</td>\n",
       "      <td>234217.312500</td>\n",
       "      <td>4239.846680</td>\n",
       "      <td>0.029097</td>\n",
       "    </tr>\n",
       "    <tr>\n",
       "      <th>10</th>\n",
       "      <td>2</td>\n",
       "      <td>631512351</td>\n",
       "      <td>False</td>\n",
       "      <td>0.008483</td>\n",
       "      <td>12430</td>\n",
       "      <td>4880</td>\n",
       "      <td>5810</td>\n",
       "      <td>2.997590e-05</td>\n",
       "      <td>0.000012</td>\n",
       "      <td>0.000838</td>\n",
       "      <td>70.340828</td>\n",
       "      <td>3.466142e-07</td>\n",
       "      <td>183376269</td>\n",
       "      <td>207</td>\n",
       "      <td>2.432272e+09</td>\n",
       "      <td>23752800.0</td>\n",
       "      <td>19902.960938</td>\n",
       "      <td>282.950348</td>\n",
       "      <td>0.029097</td>\n",
       "    </tr>\n",
       "    <tr>\n",
       "      <th>11</th>\n",
       "      <td>2</td>\n",
       "      <td>633759137</td>\n",
       "      <td>False</td>\n",
       "      <td>0.030428</td>\n",
       "      <td>12650</td>\n",
       "      <td>4900</td>\n",
       "      <td>5940</td>\n",
       "      <td>3.130310e-06</td>\n",
       "      <td>0.000031</td>\n",
       "      <td>0.008034</td>\n",
       "      <td>262.053772</td>\n",
       "      <td>8.920852e-07</td>\n",
       "      <td>128001349</td>\n",
       "      <td>207</td>\n",
       "      <td>3.007958e+09</td>\n",
       "      <td>23752800.0</td>\n",
       "      <td>190836.171875</td>\n",
       "      <td>728.232849</td>\n",
       "      <td>0.029097</td>\n",
       "    </tr>\n",
       "    <tr>\n",
       "      <th>12</th>\n",
       "      <td>2</td>\n",
       "      <td>631067978</td>\n",
       "      <td>False</td>\n",
       "      <td>0.020398</td>\n",
       "      <td>12700</td>\n",
       "      <td>4940</td>\n",
       "      <td>5980</td>\n",
       "      <td>1.261306e-05</td>\n",
       "      <td>0.000014</td>\n",
       "      <td>0.001652</td>\n",
       "      <td>116.008965</td>\n",
       "      <td>4.144484e-07</td>\n",
       "      <td>278513131</td>\n",
       "      <td>207</td>\n",
       "      <td>1.541281e+08</td>\n",
       "      <td>23752800.0</td>\n",
       "      <td>39248.761719</td>\n",
       "      <td>338.325256</td>\n",
       "      <td>0.029097</td>\n",
       "    </tr>\n",
       "    <tr>\n",
       "      <th>13</th>\n",
       "      <td>2</td>\n",
       "      <td>634999555</td>\n",
       "      <td>False</td>\n",
       "      <td>0.049765</td>\n",
       "      <td>12840</td>\n",
       "      <td>5010</td>\n",
       "      <td>5760</td>\n",
       "      <td>4.282867e-05</td>\n",
       "      <td>0.000369</td>\n",
       "      <td>0.034948</td>\n",
       "      <td>94.638802</td>\n",
       "      <td>1.074507e-05</td>\n",
       "      <td>523178542</td>\n",
       "      <td>207</td>\n",
       "      <td>1.435651e+09</td>\n",
       "      <td>23752800.0</td>\n",
       "      <td>830122.875000</td>\n",
       "      <td>8771.485352</td>\n",
       "      <td>0.029097</td>\n",
       "    </tr>\n",
       "    <tr>\n",
       "      <th>14</th>\n",
       "      <td>2</td>\n",
       "      <td>633509036</td>\n",
       "      <td>False</td>\n",
       "      <td>0.016065</td>\n",
       "      <td>12390</td>\n",
       "      <td>4880</td>\n",
       "      <td>5900</td>\n",
       "      <td>1.102314e-07</td>\n",
       "      <td>0.000003</td>\n",
       "      <td>0.000528</td>\n",
       "      <td>202.195251</td>\n",
       "      <td>7.603122e-08</td>\n",
       "      <td>126523066</td>\n",
       "      <td>207</td>\n",
       "      <td>2.095898e+09</td>\n",
       "      <td>23752800.0</td>\n",
       "      <td>12549.511719</td>\n",
       "      <td>62.066303</td>\n",
       "      <td>0.029097</td>\n",
       "    </tr>\n",
       "    <tr>\n",
       "      <th>15</th>\n",
       "      <td>2</td>\n",
       "      <td>628208464</td>\n",
       "      <td>False</td>\n",
       "      <td>0.000000</td>\n",
       "      <td>0</td>\n",
       "      <td>0</td>\n",
       "      <td>0</td>\n",
       "      <td>0.000000e+00</td>\n",
       "      <td>0.000000</td>\n",
       "      <td>0.000000</td>\n",
       "      <td>0.000000</td>\n",
       "      <td>0.000000e+00</td>\n",
       "      <td>167118084</td>\n",
       "      <td>207</td>\n",
       "      <td>1.518772e+09</td>\n",
       "      <td>23752800.0</td>\n",
       "      <td>0.000000</td>\n",
       "      <td>0.000000</td>\n",
       "      <td>0.029097</td>\n",
       "    </tr>\n",
       "    <tr>\n",
       "      <th>16</th>\n",
       "      <td>2</td>\n",
       "      <td>634100835</td>\n",
       "      <td>False</td>\n",
       "      <td>0.036553</td>\n",
       "      <td>12770</td>\n",
       "      <td>4990</td>\n",
       "      <td>5910</td>\n",
       "      <td>1.293777e-05</td>\n",
       "      <td>0.000017</td>\n",
       "      <td>0.006924</td>\n",
       "      <td>395.999969</td>\n",
       "      <td>5.087960e-07</td>\n",
       "      <td>307691605</td>\n",
       "      <td>207</td>\n",
       "      <td>2.424288e+09</td>\n",
       "      <td>23752800.0</td>\n",
       "      <td>164476.093750</td>\n",
       "      <td>415.343689</td>\n",
       "      <td>0.029097</td>\n",
       "    </tr>\n",
       "  </tbody>\n",
       "</table>\n",
       "</div>"
      ],
      "text/plain": [
       "    hemisphere_id         id  is_injection  max_voxel_density  max_voxel_x  \\\n",
       "0               2  636051208         False           0.000000            0   \n",
       "1               2  631773396         False           0.010808        12830   \n",
       "2               2  634324454         False           0.000000            0   \n",
       "3               2  636038636         False           0.000000            0   \n",
       "4               2  631855933         False           0.000000            0   \n",
       "5               2  629972063         False           0.051576        12760   \n",
       "6               2  631919895         False           0.021249        12950   \n",
       "7               2  630384216         False           0.035377        12400   \n",
       "8               2  633672424         False           0.000000            0   \n",
       "9               2  633854016         False           0.047275        12800   \n",
       "10              2  631512351         False           0.008483        12430   \n",
       "11              2  633759137         False           0.030428        12650   \n",
       "12              2  631067978         False           0.020398        12700   \n",
       "13              2  634999555         False           0.049765        12840   \n",
       "14              2  633509036         False           0.016065        12390   \n",
       "15              2  628208464         False           0.000000            0   \n",
       "16              2  634100835         False           0.036553        12770   \n",
       "\n",
       "    max_voxel_y  max_voxel_z  normalized_projection_volume  \\\n",
       "0             0            0                  0.000000e+00   \n",
       "1          5060         5920                  2.933789e-07   \n",
       "2             0            0                  0.000000e+00   \n",
       "3             0            0                  0.000000e+00   \n",
       "4             0            0                  0.000000e+00   \n",
       "5          4930         5840                  1.489958e-05   \n",
       "6          5130         5730                  3.502646e-06   \n",
       "7          4850         5820                  8.376689e-05   \n",
       "8             0            0                  0.000000e+00   \n",
       "9          4980         5920                  1.328558e-05   \n",
       "10         4880         5810                  2.997590e-05   \n",
       "11         4900         5940                  3.130310e-06   \n",
       "12         4940         5980                  1.261306e-05   \n",
       "13         5010         5760                  4.282867e-05   \n",
       "14         4880         5900                  1.102314e-07   \n",
       "15            0            0                  0.000000e+00   \n",
       "16         4990         5910                  1.293777e-05   \n",
       "\n",
       "    projection_density  projection_energy  projection_intensity  \\\n",
       "0             0.000000           0.000000              0.000000   \n",
       "1             0.000006           0.000554             94.313469   \n",
       "2             0.000000           0.000000              0.000000   \n",
       "3             0.000000           0.000000              0.000000   \n",
       "4             0.000000           0.000000              0.000000   \n",
       "5             0.000157           0.014939             95.313133   \n",
       "6             0.000011           0.000997             94.791611   \n",
       "7             0.000110           0.016814            152.640976   \n",
       "8             0.000000           0.000000              0.000000   \n",
       "9             0.000178           0.009861             55.241928   \n",
       "10            0.000012           0.000838             70.340828   \n",
       "11            0.000031           0.008034            262.053772   \n",
       "12            0.000014           0.001652            116.008965   \n",
       "13            0.000369           0.034948             94.638802   \n",
       "14            0.000003           0.000528            202.195251   \n",
       "15            0.000000           0.000000              0.000000   \n",
       "16            0.000017           0.006924            395.999969   \n",
       "\n",
       "    projection_volume  experiment_id  structure_id  sum_pixel_intensity  \\\n",
       "0        0.000000e+00      305025440           207         2.229142e+09   \n",
       "1        1.707713e-07      292533477           207         1.712106e+09   \n",
       "2        0.000000e+00      307656580           207         4.448998e+09   \n",
       "3        0.000000e+00      305446876           207         1.769696e+08   \n",
       "4        0.000000e+00      294174290           207         1.927530e+08   \n",
       "5        4.560632e-06      175158132           207         2.521453e+09   \n",
       "6        3.061630e-07      278511717           207         2.268692e+09   \n",
       "7        3.205130e-06      182613651           207         8.299907e+08   \n",
       "8        0.000000e+00      126646502           207         1.794206e+09   \n",
       "9        5.193812e-06      146078721           207         9.165370e+08   \n",
       "10       3.466142e-07      183376269           207         2.432272e+09   \n",
       "11       8.920852e-07      128001349           207         3.007958e+09   \n",
       "12       4.144484e-07      278513131           207         1.541281e+08   \n",
       "13       1.074507e-05      523178542           207         1.435651e+09   \n",
       "14       7.603122e-08      126523066           207         2.095898e+09   \n",
       "15       0.000000e+00      167118084           207         1.518772e+09   \n",
       "16       5.087960e-07      307691605           207         2.424288e+09   \n",
       "\n",
       "    sum_pixels  sum_projection_pixel_intensity  sum_projection_pixels  \\\n",
       "0   23752800.0                        0.000000               0.000000   \n",
       "1   23752800.0                    13147.783203             139.405151   \n",
       "2   23752800.0                        0.000000               0.000000   \n",
       "3   23752800.0                        0.000000               0.000000   \n",
       "4   23752800.0                        0.000000               0.000000   \n",
       "5   23752800.0                   354847.437500            3722.964844   \n",
       "6   23752800.0                    23691.171875             249.928986   \n",
       "7   23752800.0                   399374.875000            2616.432861   \n",
       "8   23752800.0                        0.000000               0.000000   \n",
       "9   23752800.0                   234217.312500            4239.846680   \n",
       "10  23752800.0                    19902.960938             282.950348   \n",
       "11  23752800.0                   190836.171875             728.232849   \n",
       "12  23752800.0                    39248.761719             338.325256   \n",
       "13  23752800.0                   830122.875000            8771.485352   \n",
       "14  23752800.0                    12549.511719              62.066303   \n",
       "15  23752800.0                        0.000000               0.000000   \n",
       "16  23752800.0                   164476.093750             415.343689   \n",
       "\n",
       "      volume  \n",
       "0   0.029097  \n",
       "1   0.029097  \n",
       "2   0.029097  \n",
       "3   0.029097  \n",
       "4   0.029097  \n",
       "5   0.029097  \n",
       "6   0.029097  \n",
       "7   0.029097  \n",
       "8   0.029097  \n",
       "9   0.029097  \n",
       "10  0.029097  \n",
       "11  0.029097  \n",
       "12  0.029097  \n",
       "13  0.029097  \n",
       "14  0.029097  \n",
       "15  0.029097  \n",
       "16  0.029097  "
      ]
     },
     "execution_count": 54,
     "metadata": {},
     "output_type": "execute_result"
    }
   ],
   "source": [
    "unionizes"
   ]
  },
  {
   "cell_type": "code",
   "execution_count": 55,
   "metadata": {},
   "outputs": [],
   "source": [
    "import csv \n",
    "\n",
    "expid_to_inj_coord={}\n",
    "expid_to_inj_volume={}\n",
    "\n",
    "with open(\"projection_search_results.csv\",'rb') as f:\n",
    "    full_proj_search=csv.reader(f,delimiter=',')\n",
    "    \n",
    "    for row in full_proj_search:\n",
    "        expid_to_inj_coord[row[0]]=row[14]\n",
    "        expid_to_inj_volume[row[0]]=row[7]"
   ]
  },
  {
   "cell_type": "code",
   "execution_count": 56,
   "metadata": {},
   "outputs": [],
   "source": [
    "eic=expid_to_inj_coord"
   ]
  },
  {
   "cell_type": "code",
   "execution_count": 57,
   "metadata": {},
   "outputs": [],
   "source": [
    "expid_to_injcoord_int={}\n",
    "for i in eic:\n",
    "    if eic[i]!='injection-coordinates':\n",
    "        expid_to_injcoord_int[int(i)]=[int(j) for j in eic[i][1:-1].split(',')]"
   ]
  },
  {
   "cell_type": "code",
   "execution_count": 58,
   "metadata": {},
   "outputs": [],
   "source": [
    "expid_to_injcoordsquare={}\n",
    "eic=expid_to_injcoord_int\n",
    "for i in eic.keys():\n",
    "    expid_to_injcoordsquare[i]=eic[i][0]**2+eic[i][1]**2+eic[i][2]**2"
   ]
  },
  {
   "cell_type": "code",
   "execution_count": 59,
   "metadata": {},
   "outputs": [],
   "source": [
    "eics=expid_to_injcoordsquare"
   ]
  },
  {
   "cell_type": "code",
   "execution_count": 61,
   "metadata": {},
   "outputs": [],
   "source": [
    "expid_to_inj_volume_int={}\n",
    "for i in expid_to_inj_volume:\n",
    "    if expid_to_inj_volume[i]!='injection-volume':\n",
    "        expid_to_inj_volume_int[int(i)]=float(expid_to_inj_volume[i])"
   ]
  },
  {
   "cell_type": "markdown",
   "metadata": {},
   "source": [
    "inj volume"
   ]
  },
  {
   "cell_type": "code",
   "execution_count": 182,
   "metadata": {},
   "outputs": [],
   "source": [
    "def sum_proj(inj,target,hemisphere=[2],r1=0.1,r2=1.0):\n",
    "    \"\"\"\n",
    "    args:\n",
    "        inj (str): acronmy of the injection site\n",
    "        target (str): acronym of the target structures\n",
    "    \n",
    "    returns:\n",
    "    \"\"\"\n",
    "    \n",
    "    #if not reciprocal:\n",
    "    #    pass\n",
    "    #elif reciprocal:\n",
    "    #    save=inj\n",
    "    #    inj=target\n",
    "    #    target=save\n",
    "        \n",
    "    #1. get projection search results\n",
    "    sinj=structure_tree.get_structures_by_acronym([inj])[0]\n",
    "    starget=structure_tree.get_structures_by_acronym([target])[0]\n",
    "    \n",
    "    sinj_experiments=mcc.get_experiments(cre=None,\n",
    "                                         injection_structure_ids=[sinj['id']])\n",
    "    \n",
    "    \n",
    "    \n",
    "    if len(sinj_experiments)==0:\n",
    "        raise ValueError( 'No experiments exist for this structure')\n",
    "        \n",
    "    unionizes=mcc.get_structure_unionizes([ep['id'] for ep in sinj_experiments],\n",
    "                                         is_injection=False,\n",
    "                                         structure_ids=[starget['id']],\n",
    "                                         include_descendants=False,\n",
    "                                         hemisphere_ids=hemisphere)\n",
    "    exception_count=0.0\n",
    "    \n",
    "    #2. using unionized records, get experiments id and its associated projection volume\n",
    "    # from sinj to target\n",
    "    a=unionizes['experiment_id']\n",
    "    b=unionizes['projection_volume']\n",
    "    \n",
    "    #3. try fetching the volume data for the injection structure. return error otherwise\n",
    "    try:\n",
    "        sinj_structure_vol=float(id_to_volume[acronym_to_id[inj]])/2\n",
    "    except:\n",
    "        raise ValueError('Volume data does not exist for this structure')\n",
    "    \n",
    "    _error,__error,___error=0.0,0.0,0.0\n",
    "    \n",
    "    proj_sum=0.0\n",
    "    tot_injection_volume_fraction=0.0\n",
    "    \n",
    "    for i in range(len(a)):\n",
    "        p=i\n",
    "        \n",
    "        if float(expid_to_inj_volume_int[a[p]])>=r1 and float(expid_to_inj_volume_int[a[p]])<=r2:\n",
    "            #proj sum = proj volume * fraction of the sinj region\n",
    "            c1=float(b[p])\n",
    "            #c2=float(Master_injection_fraction_dictionary[a[p]][acronym_to_id[inj]])\n",
    "            proj_sum+=c1\n",
    "            \n",
    "            c3=float(expid_to_inj_volume_int[a[p]])\n",
    "            #c4=float(Master_injection_fraction_dictionary[a[p]][acronym_to_id[inj]])\n",
    "            tot_injection_volume_fraction+=c3\n",
    "            \n",
    "    if tot_injection_volume_fraction>=sinj_structure_vol:\n",
    "        #print \"tot inj volume larger\"\n",
    "        #print \"tot injection fraction\",tot_injection_volume_fraction\n",
    "        #print \"structure vol\",sinj_structure_vol\n",
    "        proj_sum=92000*proj_sum*tot_injection_volume_fraction/sinj_structure_vol\n",
    "        ___error=\"NA\"\n",
    "        #___error=(proj_sum*sinj_structure_vol/tot_injection_volume_fraction)*np.sqrt((0.10)**2+(__error/tot_injection_volume_fraction)**2+(_error/proj_sum)**2)\n",
    "        return proj_sum,___error\n",
    "    elif tot_injection_volume_fraction<=sinj_structure_vol:\n",
    "        #print \"tot inj volume smaller\"\n",
    "        #print \"tot inj volume\",tot_injection_volume_fraction\n",
    "        #print \"structure vol\",sinj_structure_vol\n",
    "        proj_sum=92000*proj_sum*tot_injection_volume_fraction/sinj_structure_vol\n",
    "        ___error=\"NA\"\n",
    "        #___error=(proj_sum*sinj_structure_vol/tot_injection_volume_fraction)*np.sqrt((0.10)**2+(__error/tot_injection_volume_fraction)**2+(_error/proj_sum)**2)\n",
    "        return proj_sum,___error\n",
    "        \n",
    "        \n",
    "            \n",
    "\"\"\" \n",
    "            #proj sum = proj volume * fraction of the sinj region\n",
    "            c1=float(b[p])\n",
    "            c2=float(Master_injection_fraction_dictionary[a[p]][acronym_to_id[inj]])\n",
    "            proj_sum+=c1*c2\n",
    "            _error+=c1*c2*np.sqrt( (0.10)**2 + (0.02)**2)\n",
    "            \n",
    "            #tot inj_vol_fraction= injection volume of exp * fraction of the sinj region\n",
    "            \n",
    "            c3=float(expid_to_inj_volume_int[a[p]])\n",
    "            c4=float(Master_injection_fraction_dictionary[a[p]][acronym_to_id[inj]])\n",
    "            tot_injection_volume_fraction+=c3*c4\n",
    "            __error+=c3*c4*np.sqrt((0.05)**2 + (0.02)**2)\n",
    "        else:\n",
    "            pass\n",
    "    if tot_injection_volume_fraction>=sinj_structure_vol:\n",
    "        try:\n",
    "            print \"tot inj volume larger\"\n",
    "            print tot_injection_volume_fraction\n",
    "            print sinj_structure_vol\n",
    "            proj_sum=92000*proj_sum*tot_injection_volume_fraction/sinj_structure_vol\n",
    "            ___error=(proj_sum*sinj_structure_vol/tot_injection_volume_fraction)*np.sqrt((0.10)**2+(__error/tot_injection_volume_fraction)**2+(_error/proj_sum)**2)\n",
    "            return proj_sum,___error\n",
    "        except:\n",
    "            print 'exception occured'\n",
    "    elif tot_injection_volume_fraction<=sinj_structure_vol:\n",
    "        try:\n",
    "            print \"tot inj volume smaller\"\n",
    "            print tot_injection_volume_fraction\n",
    "            print sinj_structure_vol\n",
    "            proj_sum=92000*proj_sum*sinj_structure_vol/tot_injection_volume_fraction\n",
    "            ___error=(proj_sum*sinj_structure_vol/tot_injection_volume_fraction)*np.sqrt((0.10)**2+(__error/tot_injection_volume_fraction)**2+(_error/proj_sum)**2)\n",
    "            return proj_sum,___error\n",
    "        \n",
    "        except ZeroDivisionError:\n",
    "            return 0,0,0,0\n",
    "\"\"\"\n",
    "None"
   ]
  },
  {
   "cell_type": "markdown",
   "metadata": {},
   "source": [
    "### NOTE: avoid using CTX since its volume is ridicously small\n"
   ]
  },
  {
   "cell_type": "code",
   "execution_count": 382,
   "metadata": {},
   "outputs": [],
   "source": [
    "#create list of structures\n",
    "Cortex_list=[id_to_acronym[k] for k in Substr[acronym_to_id['Isocortex']]]\n",
    "BS_nuclei=['SCs','SCm','PB','NTS','PAG']\n",
    "HY_nuclei=[id_to_acronym[k] for k in Substr[acronym_to_id['HY']]]\n",
    "TH_nuclei=[id_to_acronym[k] for k in Substr[acronym_to_id['TH']]]"
   ]
  },
  {
   "cell_type": "markdown",
   "metadata": {},
   "source": [
    "#### BS to CTX"
   ]
  },
  {
   "cell_type": "code",
   "execution_count": 433,
   "metadata": {},
   "outputs": [
    {
     "name": "stdout",
     "output_type": "stream",
     "text": [
      "\n"
     ]
    }
   ],
   "source": [
    "r1=0.1\n",
    "r2=1.0"
   ]
  },
  {
   "cell_type": "code",
   "execution_count": 409,
   "metadata": {},
   "outputs": [],
   "source": [
    "BS_to_CTX={}\n",
    "\n",
    "for i in BS_nuclei:\n",
    "    BS_to_CTX[i]={}\n",
    "    for j in Cortex_list:\n",
    "        try:\n",
    "            BS_to_CTX[i][j]=sum_proj(i,j,r1=r1,r2=r2)[0]\n",
    "        except:\n",
    "            print \"exception\",i,j"
   ]
  },
  {
   "cell_type": "code",
   "execution_count": 410,
   "metadata": {},
   "outputs": [
    {
     "name": "stdout",
     "output_type": "stream",
     "text": [
      "SCm 71614.62\n",
      "PB 2288996.35\n",
      "NTS 332.41\n",
      "SCs 8981.4\n",
      "PAG 302999.47\n"
     ]
    }
   ],
   "source": [
    "for i in BS_to_CTX:\n",
    "    print i,round(sum([BS_to_CTX[i][j] for j in BS_to_CTX[i]]),2)"
   ]
  },
  {
   "cell_type": "markdown",
   "metadata": {},
   "source": [
    "#### CTX to BS"
   ]
  },
  {
   "cell_type": "code",
   "execution_count": 434,
   "metadata": {},
   "outputs": [
    {
     "name": "stdout",
     "output_type": "stream",
     "text": [
      "exception PERI SCs\n",
      "exception PERI SCm\n",
      "exception PERI PB\n",
      "exception PERI NTS\n",
      "exception PERI PAG\n"
     ]
    }
   ],
   "source": [
    "CTX_to_BS={}\n",
    "\n",
    "for i in Cortex_list:\n",
    "    CTX_to_BS[i]={}\n",
    "    for j in BS_nuclei:\n",
    "        try:\n",
    "            CTX_to_BS[i][j]=sum_proj(i,j,r1=r1,r2=r2)[0]\n",
    "        except:\n",
    "            print \"exception\",i,j"
   ]
  },
  {
   "cell_type": "code",
   "execution_count": 435,
   "metadata": {},
   "outputs": [
    {
     "data": {
      "text/plain": [
       "{}"
      ]
     },
     "execution_count": 435,
     "metadata": {},
     "output_type": "execute_result"
    }
   ],
   "source": [
    "CTX_to_BS.pop('PERI',None)"
   ]
  },
  {
   "cell_type": "code",
   "execution_count": 446,
   "metadata": {},
   "outputs": [
    {
     "name": "stdout",
     "output_type": "stream",
     "text": [
      "3885011.58\n",
      "11517818.81\n",
      "261102.33\n",
      "43251.54\n",
      "4578819.02\n"
     ]
    }
   ],
   "source": [
    "for i in BS_nuclei:\n",
    "    print round(sum([CTX_to_BS[j][i] for j in CTX_to_BS.keys()]),2)"
   ]
  },
  {
   "cell_type": "code",
   "execution_count": 398,
   "metadata": {},
   "outputs": [
    {
     "name": "stdout",
     "output_type": "stream",
     "text": [
      "VISC 448146.48\n",
      "SS 1927754.04\n",
      "ACA 3959033.84\n",
      "AUD 414137.81\n",
      "ILA 869132.09\n",
      "AI 77975.13\n",
      "TEa 0.0\n",
      "MO 2649989.21\n",
      "GU 1539.87\n",
      "ECT 137089.71\n",
      "VIS 10282252.17\n",
      "FRP 10576.86\n",
      "PTLp 147662.07\n",
      "ORB 978561.55\n",
      "RSP 471877.36\n",
      "PL 238919.97\n"
     ]
    }
   ],
   "source": [
    "for i in CTX_to_BS:\n",
    "    print i,round(sum([CTX_to_BS[i][j] for j in CTX_to_BS[i]]),2)"
   ]
  },
  {
   "cell_type": "markdown",
   "metadata": {},
   "source": [
    "#### BS to HY"
   ]
  },
  {
   "cell_type": "code",
   "execution_count": 437,
   "metadata": {},
   "outputs": [],
   "source": [
    "BS_to_HY={}\n",
    "\n",
    "for i in BS_nuclei:\n",
    "    BS_to_HY[i]={}\n",
    "    for j in HY_nuclei:\n",
    "        try:\n",
    "            BS_to_HY[i][j]=sum_proj(i,j,r1=r1,r2=r2)[0]\n",
    "        except:\n",
    "            print \"exception\",i,j"
   ]
  },
  {
   "cell_type": "code",
   "execution_count": 447,
   "metadata": {},
   "outputs": [
    {
     "name": "stdout",
     "output_type": "stream",
     "text": [
      "2513.23\n",
      "171857.9\n",
      "1586207.62\n",
      "470.78\n",
      "1283115.73\n"
     ]
    }
   ],
   "source": [
    "for b in BS_nuclei:\n",
    "    print round(sum(BS_to_HY[b][i] for i in HY_nuclei),2)"
   ]
  },
  {
   "cell_type": "markdown",
   "metadata": {},
   "source": [
    "#### HY to BS"
   ]
  },
  {
   "cell_type": "code",
   "execution_count": 439,
   "metadata": {},
   "outputs": [
    {
     "name": "stdout",
     "output_type": "stream",
     "text": [
      "exception ME SCs\n",
      "exception ME SCm\n",
      "exception ME PB\n",
      "exception ME NTS\n",
      "exception ME PAG\n"
     ]
    }
   ],
   "source": [
    "HY_to_BS={}\n",
    "\n",
    "for i in HY_nuclei:\n",
    "    HY_to_BS[i]={}\n",
    "    for j in BS_nuclei:\n",
    "        try:\n",
    "            HY_to_BS[i][j]=sum_proj(i,j,r1=r1,r2=r2)[0]\n",
    "        except:\n",
    "            print \"exception\",i,j"
   ]
  },
  {
   "cell_type": "code",
   "execution_count": 440,
   "metadata": {},
   "outputs": [
    {
     "data": {
      "text/plain": [
       "{}"
      ]
     },
     "execution_count": 440,
     "metadata": {},
     "output_type": "execute_result"
    }
   ],
   "source": [
    "HY_to_BS.pop('ME',None)"
   ]
  },
  {
   "cell_type": "code",
   "execution_count": 448,
   "metadata": {},
   "outputs": [
    {
     "name": "stdout",
     "output_type": "stream",
     "text": [
      "557274.04\n",
      "15722071.37\n",
      "2454173.32\n",
      "928044.52\n",
      "41903554.57\n"
     ]
    }
   ],
   "source": [
    "for b in BS_nuclei:\n",
    "    print round(sum([HY_to_BS[i][b] for i in HY_to_BS]),2)"
   ]
  },
  {
   "cell_type": "markdown",
   "metadata": {},
   "source": [
    "#### BS to TH"
   ]
  },
  {
   "cell_type": "code",
   "execution_count": 442,
   "metadata": {},
   "outputs": [],
   "source": [
    "BS_to_TH={}\n",
    "\n",
    "for i in BS_nuclei:\n",
    "    BS_to_TH[i]={}\n",
    "    for j in TH_nuclei:\n",
    "        try:\n",
    "            BS_to_TH[i][j]=sum_proj(i,j,r1=r1,r2=r2)[0]\n",
    "        except:\n",
    "            print \"exception\",i,j"
   ]
  },
  {
   "cell_type": "code",
   "execution_count": 449,
   "metadata": {},
   "outputs": [
    {
     "name": "stdout",
     "output_type": "stream",
     "text": [
      "64833.11\n",
      "601083.29\n",
      "1132894.97\n",
      "1115.99\n",
      "927354.75\n"
     ]
    }
   ],
   "source": [
    "for b in BS_nuclei:\n",
    "    print round(sum(BS_to_TH[b][i] for i in TH_nuclei),2)"
   ]
  },
  {
   "cell_type": "markdown",
   "metadata": {},
   "source": [
    "#### TH to BS"
   ]
  },
  {
   "cell_type": "code",
   "execution_count": 444,
   "metadata": {},
   "outputs": [],
   "source": [
    "TH_to_BS={}\n",
    "\n",
    "for i in TH_nuclei:\n",
    "    TH_to_BS[i]={}\n",
    "    for j in BS_nuclei:\n",
    "        try:\n",
    "            TH_to_BS[i][j]=sum_proj(i,j,r1=0.1,r2=1.5)[0]\n",
    "        except:\n",
    "            print \"exception\",i,j"
   ]
  },
  {
   "cell_type": "code",
   "execution_count": 450,
   "metadata": {},
   "outputs": [
    {
     "name": "stdout",
     "output_type": "stream",
     "text": [
      "308725.58\n",
      "1712721.05\n",
      "70923.13\n",
      "5445.85\n",
      "2048788.41\n"
     ]
    }
   ],
   "source": [
    "for b in BS_nuclei:\n",
    "    print round(sum([TH_to_BS[i][b] for i in TH_to_BS]),2)"
   ]
  },
  {
   "cell_type": "code",
   "execution_count": null,
   "metadata": {},
   "outputs": [],
   "source": []
  },
  {
   "cell_type": "markdown",
   "metadata": {},
   "source": [
    "## ILM"
   ]
  },
  {
   "cell_type": "code",
   "execution_count": 226,
   "metadata": {},
   "outputs": [
    {
     "data": {
      "text/plain": [
       "(6164244.820564197, 'NA')"
      ]
     },
     "execution_count": 226,
     "metadata": {},
     "output_type": "execute_result"
    }
   ],
   "source": [
    "sum_proj('ILM','Isocortex',r1=r1,r2=r2)"
   ]
  },
  {
   "cell_type": "code",
   "execution_count": 227,
   "metadata": {},
   "outputs": [
    {
     "data": {
      "text/plain": [
       "(2580796.7193952, 'NA')"
      ]
     },
     "execution_count": 227,
     "metadata": {},
     "output_type": "execute_result"
    }
   ],
   "source": [
    "sum_proj('ILM','TH',r1=r1,r2=r2)"
   ]
  },
  {
   "cell_type": "code",
   "execution_count": 228,
   "metadata": {},
   "outputs": [
    {
     "data": {
      "text/plain": [
       "(1427266.2691949375, 'NA')"
      ]
     },
     "execution_count": 228,
     "metadata": {},
     "output_type": "execute_result"
    }
   ],
   "source": [
    "sum_proj('ILM','HY',r1=r1,r2=r2)"
   ]
  },
  {
   "cell_type": "code",
   "execution_count": 229,
   "metadata": {},
   "outputs": [
    {
     "data": {
      "text/plain": [
       "(3383596.3011150034, 'NA')"
      ]
     },
     "execution_count": 229,
     "metadata": {},
     "output_type": "execute_result"
    }
   ],
   "source": [
    "sum_proj('Isocortex','ILM',r1=r1,r2=r2)"
   ]
  },
  {
   "cell_type": "code",
   "execution_count": 230,
   "metadata": {},
   "outputs": [
    {
     "data": {
      "text/plain": [
       "(1843627.9539560545, 'NA')"
      ]
     },
     "execution_count": 230,
     "metadata": {},
     "output_type": "execute_result"
    }
   ],
   "source": [
    "sum_proj('TH','ILM',r1=r1,r2=r2)"
   ]
  },
  {
   "cell_type": "code",
   "execution_count": 231,
   "metadata": {},
   "outputs": [
    {
     "data": {
      "text/plain": [
       "(4044288.531278573, 'NA')"
      ]
     },
     "execution_count": 231,
     "metadata": {},
     "output_type": "execute_result"
    }
   ],
   "source": [
    "sum_proj('HY','ILM',r1=r1,r2=r2)"
   ]
  },
  {
   "cell_type": "code",
   "execution_count": null,
   "metadata": {},
   "outputs": [],
   "source": []
  },
  {
   "cell_type": "code",
   "execution_count": null,
   "metadata": {},
   "outputs": [],
   "source": []
  },
  {
   "cell_type": "code",
   "execution_count": null,
   "metadata": {},
   "outputs": [],
   "source": []
  },
  {
   "cell_type": "code",
   "execution_count": 106,
   "metadata": {},
   "outputs": [
    {
     "name": "stdout",
     "output_type": "stream",
     "text": [
      "SCs to PTLp 61134.6139182\n"
     ]
    },
    {
     "ename": "KeyboardInterrupt",
     "evalue": "",
     "output_type": "error",
     "traceback": [
      "\u001b[1;31m---------------------------------------------------------------------------\u001b[0m",
      "\u001b[1;31mKeyboardInterrupt\u001b[0m                         Traceback (most recent call last)",
      "\u001b[1;32m<ipython-input-106-1b803f5a9a0b>\u001b[0m in \u001b[0;36m<module>\u001b[1;34m()\u001b[0m\n\u001b[0;32m      6\u001b[0m     \u001b[0msumme\u001b[0m\u001b[1;33m=\u001b[0m\u001b[1;36m0.0\u001b[0m\u001b[1;33m\u001b[0m\u001b[0m\n\u001b[0;32m      7\u001b[0m     \u001b[1;32mfor\u001b[0m \u001b[0mj\u001b[0m \u001b[1;32min\u001b[0m \u001b[0m_regions\u001b[0m\u001b[1;33m:\u001b[0m\u001b[1;33m\u001b[0m\u001b[0m\n\u001b[1;32m----> 8\u001b[1;33m         \u001b[0msumme\u001b[0m\u001b[1;33m+=\u001b[0m\u001b[0msum_proj\u001b[0m\u001b[1;33m(\u001b[0m\u001b[0mj\u001b[0m\u001b[1;33m,\u001b[0m\u001b[0mi\u001b[0m\u001b[1;33m,\u001b[0m\u001b[0mr1\u001b[0m\u001b[1;33m=\u001b[0m\u001b[1;36m0.1\u001b[0m\u001b[1;33m,\u001b[0m\u001b[0mr2\u001b[0m\u001b[1;33m=\u001b[0m\u001b[1;36m1.5\u001b[0m\u001b[1;33m)\u001b[0m\u001b[1;33m[\u001b[0m\u001b[1;36m0\u001b[0m\u001b[1;33m]\u001b[0m\u001b[1;33m\u001b[0m\u001b[0m\n\u001b[0m\u001b[0;32m      9\u001b[0m     \u001b[1;32mprint\u001b[0m \u001b[0mi\u001b[0m\u001b[1;33m+\u001b[0m\u001b[1;34m' to '\u001b[0m\u001b[1;33m+\u001b[0m\u001b[0mj\u001b[0m\u001b[1;33m+\u001b[0m\u001b[1;34m\" \"\u001b[0m\u001b[1;33m+\u001b[0m\u001b[0mstr\u001b[0m\u001b[1;33m(\u001b[0m\u001b[0msumme\u001b[0m\u001b[1;33m)\u001b[0m\u001b[1;33m\u001b[0m\u001b[0m\n",
      "\u001b[1;32m<ipython-input-100-b619e748ae34>\u001b[0m in \u001b[0;36msum_proj\u001b[1;34m(inj, target, hemisphere, r1, r2)\u001b[0m\n\u001b[0;32m     31\u001b[0m                                          \u001b[0mstructure_ids\u001b[0m\u001b[1;33m=\u001b[0m\u001b[1;33m[\u001b[0m\u001b[0mstarget\u001b[0m\u001b[1;33m[\u001b[0m\u001b[1;34m'id'\u001b[0m\u001b[1;33m]\u001b[0m\u001b[1;33m]\u001b[0m\u001b[1;33m,\u001b[0m\u001b[1;33m\u001b[0m\u001b[0m\n\u001b[0;32m     32\u001b[0m                                          \u001b[0minclude_descendants\u001b[0m\u001b[1;33m=\u001b[0m\u001b[0mFalse\u001b[0m\u001b[1;33m,\u001b[0m\u001b[1;33m\u001b[0m\u001b[0m\n\u001b[1;32m---> 33\u001b[1;33m                                          hemisphere_ids=hemisphere)\n\u001b[0m\u001b[0;32m     34\u001b[0m     \u001b[0mexception_count\u001b[0m\u001b[1;33m=\u001b[0m\u001b[1;36m0.0\u001b[0m\u001b[1;33m\u001b[0m\u001b[0m\n\u001b[0;32m     35\u001b[0m \u001b[1;33m\u001b[0m\u001b[0m\n",
      "\u001b[1;32mC:\\Users\\Chris OBrien\\AppData\\Local\\conda\\conda\\envs\\p2\\lib\\site-packages\\allensdk\\core\\mouse_connectivity_cache.pyc\u001b[0m in \u001b[0;36mget_structure_unionizes\u001b[1;34m(self, experiment_ids, is_injection, structure_ids, include_descendants, hemisphere_ids)\u001b[0m\n\u001b[0;32m    568\u001b[0m                                                              \u001b[0minclude_descendants\u001b[0m\u001b[1;33m=\u001b[0m\u001b[0minclude_descendants\u001b[0m\u001b[1;33m,\u001b[0m\u001b[1;33m\u001b[0m\u001b[0m\n\u001b[0;32m    569\u001b[0m                                                              hemisphere_ids=hemisphere_ids)\n\u001b[1;32m--> 570\u001b[1;33m                      for eid in experiment_ids]\n\u001b[0m\u001b[0;32m    571\u001b[0m \u001b[1;33m\u001b[0m\u001b[0m\n\u001b[0;32m    572\u001b[0m         \u001b[1;32mreturn\u001b[0m \u001b[0mpd\u001b[0m\u001b[1;33m.\u001b[0m\u001b[0mconcat\u001b[0m\u001b[1;33m(\u001b[0m\u001b[0munionizes\u001b[0m\u001b[1;33m,\u001b[0m \u001b[0mignore_index\u001b[0m\u001b[1;33m=\u001b[0m\u001b[0mTrue\u001b[0m\u001b[1;33m)\u001b[0m\u001b[1;33m\u001b[0m\u001b[0m\n",
      "\u001b[1;32mC:\\Users\\Chris OBrien\\AppData\\Local\\conda\\conda\\envs\\p2\\lib\\site-packages\\allensdk\\core\\mouse_connectivity_cache.pyc\u001b[0m in \u001b[0;36mget_experiment_structure_unionizes\u001b[1;34m(self, experiment_id, file_name, is_injection, structure_ids, include_descendants, hemisphere_ids)\u001b[0m\n\u001b[0;32m    418\u001b[0m                                                 \u001b[0mpost\u001b[0m\u001b[1;33m=\u001b[0m\u001b[0mfilter_fn\u001b[0m\u001b[1;33m,\u001b[0m\u001b[1;33m\u001b[0m\u001b[0m\n\u001b[0;32m    419\u001b[0m                                                 \u001b[0mwriter\u001b[0m\u001b[1;33m=\u001b[0m\u001b[1;32mlambda\u001b[0m \u001b[0mp\u001b[0m\u001b[1;33m,\u001b[0m \u001b[0mx\u001b[0m \u001b[1;33m:\u001b[0m \u001b[0mpd\u001b[0m\u001b[1;33m.\u001b[0m\u001b[0mDataFrame\u001b[0m\u001b[1;33m(\u001b[0m\u001b[0mx\u001b[0m\u001b[1;33m)\u001b[0m\u001b[1;33m.\u001b[0m\u001b[0mto_csv\u001b[0m\u001b[1;33m(\u001b[0m\u001b[0mp\u001b[0m\u001b[1;33m)\u001b[0m\u001b[1;33m,\u001b[0m\u001b[1;33m\u001b[0m\u001b[0m\n\u001b[1;32m--> 420\u001b[1;33m                                                 reader=pd.DataFrame.from_csv)\n\u001b[0m\u001b[0;32m    421\u001b[0m \u001b[1;33m\u001b[0m\u001b[0m\n\u001b[0;32m    422\u001b[0m     def rank_structures(self, experiment_ids, is_injection, structure_ids=None, hemisphere_ids=None, \n",
      "\u001b[1;32mC:\\Users\\Chris OBrien\\AppData\\Local\\conda\\conda\\envs\\p2\\lib\\site-packages\\allensdk\\api\\cache.pyc\u001b[0m in \u001b[0;36mw\u001b[1;34m(*args, **kwargs)\u001b[0m\n\u001b[0;32m    596\u001b[0m             result = Cache.cacher(func,\n\u001b[0;32m    597\u001b[0m                                   \u001b[1;33m*\u001b[0m\u001b[0margs\u001b[0m\u001b[1;33m,\u001b[0m\u001b[1;33m\u001b[0m\u001b[0m\n\u001b[1;32m--> 598\u001b[1;33m                                   **kwargs)\n\u001b[0m\u001b[0;32m    599\u001b[0m             \u001b[1;32mreturn\u001b[0m \u001b[0mresult\u001b[0m\u001b[1;33m\u001b[0m\u001b[0m\n\u001b[0;32m    600\u001b[0m \u001b[1;33m\u001b[0m\u001b[0m\n",
      "\u001b[1;32mC:\\Users\\Chris OBrien\\AppData\\Local\\conda\\conda\\envs\\p2\\lib\\site-packages\\allensdk\\api\\cache.pyc\u001b[0m in \u001b[0;36mcacher\u001b[1;34m(fn, *args, **kwargs)\u001b[0m\n\u001b[0;32m    333\u001b[0m \u001b[1;33m\u001b[0m\u001b[0m\n\u001b[0;32m    334\u001b[0m         \u001b[1;32mif\u001b[0m \u001b[0mreader\u001b[0m\u001b[1;33m:\u001b[0m\u001b[1;33m\u001b[0m\u001b[0m\n\u001b[1;32m--> 335\u001b[1;33m             \u001b[0mdata\u001b[0m \u001b[1;33m=\u001b[0m \u001b[0mreader\u001b[0m\u001b[1;33m(\u001b[0m\u001b[0mpath\u001b[0m\u001b[1;33m)\u001b[0m\u001b[1;33m\u001b[0m\u001b[0m\n\u001b[0m\u001b[0;32m    336\u001b[0m \u001b[1;33m\u001b[0m\u001b[0m\n\u001b[0;32m    337\u001b[0m         \u001b[1;31m# Note: don't provide post if fn or reader doesn't return data\u001b[0m\u001b[1;33m\u001b[0m\u001b[1;33m\u001b[0m\u001b[0m\n",
      "\u001b[1;32mC:\\Users\\Chris OBrien\\AppData\\Local\\conda\\conda\\envs\\p2\\lib\\site-packages\\pandas\\core\\frame.pyc\u001b[0m in \u001b[0;36mfrom_csv\u001b[1;34m(cls, path, header, sep, index_col, parse_dates, encoding, tupleize_cols, infer_datetime_format)\u001b[0m\n\u001b[0;32m   1577\u001b[0m                           \u001b[0mparse_dates\u001b[0m\u001b[1;33m=\u001b[0m\u001b[0mparse_dates\u001b[0m\u001b[1;33m,\u001b[0m \u001b[0mindex_col\u001b[0m\u001b[1;33m=\u001b[0m\u001b[0mindex_col\u001b[0m\u001b[1;33m,\u001b[0m\u001b[1;33m\u001b[0m\u001b[0m\n\u001b[0;32m   1578\u001b[0m                           \u001b[0mencoding\u001b[0m\u001b[1;33m=\u001b[0m\u001b[0mencoding\u001b[0m\u001b[1;33m,\u001b[0m \u001b[0mtupleize_cols\u001b[0m\u001b[1;33m=\u001b[0m\u001b[0mtupleize_cols\u001b[0m\u001b[1;33m,\u001b[0m\u001b[1;33m\u001b[0m\u001b[0m\n\u001b[1;32m-> 1579\u001b[1;33m                           infer_datetime_format=infer_datetime_format)\n\u001b[0m\u001b[0;32m   1580\u001b[0m \u001b[1;33m\u001b[0m\u001b[0m\n\u001b[0;32m   1581\u001b[0m     \u001b[1;32mdef\u001b[0m \u001b[0mto_sparse\u001b[0m\u001b[1;33m(\u001b[0m\u001b[0mself\u001b[0m\u001b[1;33m,\u001b[0m \u001b[0mfill_value\u001b[0m\u001b[1;33m=\u001b[0m\u001b[0mNone\u001b[0m\u001b[1;33m,\u001b[0m \u001b[0mkind\u001b[0m\u001b[1;33m=\u001b[0m\u001b[1;34m'block'\u001b[0m\u001b[1;33m)\u001b[0m\u001b[1;33m:\u001b[0m\u001b[1;33m\u001b[0m\u001b[0m\n",
      "\u001b[1;32mC:\\Users\\Chris OBrien\\AppData\\Local\\conda\\conda\\envs\\p2\\lib\\site-packages\\pandas\\io\\parsers.pyc\u001b[0m in \u001b[0;36mparser_f\u001b[1;34m(filepath_or_buffer, sep, delimiter, header, names, index_col, usecols, squeeze, prefix, mangle_dupe_cols, dtype, engine, converters, true_values, false_values, skipinitialspace, skiprows, nrows, na_values, keep_default_na, na_filter, verbose, skip_blank_lines, parse_dates, infer_datetime_format, keep_date_col, date_parser, dayfirst, iterator, chunksize, compression, thousands, decimal, lineterminator, quotechar, quoting, escapechar, comment, encoding, dialect, tupleize_cols, error_bad_lines, warn_bad_lines, skipfooter, doublequote, delim_whitespace, low_memory, memory_map, float_precision)\u001b[0m\n\u001b[0;32m    676\u001b[0m                     skip_blank_lines=skip_blank_lines)\n\u001b[0;32m    677\u001b[0m \u001b[1;33m\u001b[0m\u001b[0m\n\u001b[1;32m--> 678\u001b[1;33m         \u001b[1;32mreturn\u001b[0m \u001b[0m_read\u001b[0m\u001b[1;33m(\u001b[0m\u001b[0mfilepath_or_buffer\u001b[0m\u001b[1;33m,\u001b[0m \u001b[0mkwds\u001b[0m\u001b[1;33m)\u001b[0m\u001b[1;33m\u001b[0m\u001b[0m\n\u001b[0m\u001b[0;32m    679\u001b[0m \u001b[1;33m\u001b[0m\u001b[0m\n\u001b[0;32m    680\u001b[0m     \u001b[0mparser_f\u001b[0m\u001b[1;33m.\u001b[0m\u001b[0m__name__\u001b[0m \u001b[1;33m=\u001b[0m \u001b[0mname\u001b[0m\u001b[1;33m\u001b[0m\u001b[0m\n",
      "\u001b[1;32mC:\\Users\\Chris OBrien\\AppData\\Local\\conda\\conda\\envs\\p2\\lib\\site-packages\\pandas\\io\\parsers.pyc\u001b[0m in \u001b[0;36m_read\u001b[1;34m(filepath_or_buffer, kwds)\u001b[0m\n\u001b[0;32m    438\u001b[0m \u001b[1;33m\u001b[0m\u001b[0m\n\u001b[0;32m    439\u001b[0m     \u001b[1;31m# Create the parser.\u001b[0m\u001b[1;33m\u001b[0m\u001b[1;33m\u001b[0m\u001b[0m\n\u001b[1;32m--> 440\u001b[1;33m     \u001b[0mparser\u001b[0m \u001b[1;33m=\u001b[0m \u001b[0mTextFileReader\u001b[0m\u001b[1;33m(\u001b[0m\u001b[0mfilepath_or_buffer\u001b[0m\u001b[1;33m,\u001b[0m \u001b[1;33m**\u001b[0m\u001b[0mkwds\u001b[0m\u001b[1;33m)\u001b[0m\u001b[1;33m\u001b[0m\u001b[0m\n\u001b[0m\u001b[0;32m    441\u001b[0m \u001b[1;33m\u001b[0m\u001b[0m\n\u001b[0;32m    442\u001b[0m     \u001b[1;32mif\u001b[0m \u001b[0mchunksize\u001b[0m \u001b[1;32mor\u001b[0m \u001b[0miterator\u001b[0m\u001b[1;33m:\u001b[0m\u001b[1;33m\u001b[0m\u001b[0m\n",
      "\u001b[1;32mC:\\Users\\Chris OBrien\\AppData\\Local\\conda\\conda\\envs\\p2\\lib\\site-packages\\pandas\\io\\parsers.pyc\u001b[0m in \u001b[0;36m__init__\u001b[1;34m(self, f, engine, **kwds)\u001b[0m\n\u001b[0;32m    785\u001b[0m             \u001b[0mself\u001b[0m\u001b[1;33m.\u001b[0m\u001b[0moptions\u001b[0m\u001b[1;33m[\u001b[0m\u001b[1;34m'has_index_names'\u001b[0m\u001b[1;33m]\u001b[0m \u001b[1;33m=\u001b[0m \u001b[0mkwds\u001b[0m\u001b[1;33m[\u001b[0m\u001b[1;34m'has_index_names'\u001b[0m\u001b[1;33m]\u001b[0m\u001b[1;33m\u001b[0m\u001b[0m\n\u001b[0;32m    786\u001b[0m \u001b[1;33m\u001b[0m\u001b[0m\n\u001b[1;32m--> 787\u001b[1;33m         \u001b[0mself\u001b[0m\u001b[1;33m.\u001b[0m\u001b[0m_make_engine\u001b[0m\u001b[1;33m(\u001b[0m\u001b[0mself\u001b[0m\u001b[1;33m.\u001b[0m\u001b[0mengine\u001b[0m\u001b[1;33m)\u001b[0m\u001b[1;33m\u001b[0m\u001b[0m\n\u001b[0m\u001b[0;32m    788\u001b[0m \u001b[1;33m\u001b[0m\u001b[0m\n\u001b[0;32m    789\u001b[0m     \u001b[1;32mdef\u001b[0m \u001b[0mclose\u001b[0m\u001b[1;33m(\u001b[0m\u001b[0mself\u001b[0m\u001b[1;33m)\u001b[0m\u001b[1;33m:\u001b[0m\u001b[1;33m\u001b[0m\u001b[0m\n",
      "\u001b[1;32mC:\\Users\\Chris OBrien\\AppData\\Local\\conda\\conda\\envs\\p2\\lib\\site-packages\\pandas\\io\\parsers.pyc\u001b[0m in \u001b[0;36m_make_engine\u001b[1;34m(self, engine)\u001b[0m\n\u001b[0;32m   1012\u001b[0m     \u001b[1;32mdef\u001b[0m \u001b[0m_make_engine\u001b[0m\u001b[1;33m(\u001b[0m\u001b[0mself\u001b[0m\u001b[1;33m,\u001b[0m \u001b[0mengine\u001b[0m\u001b[1;33m=\u001b[0m\u001b[1;34m'c'\u001b[0m\u001b[1;33m)\u001b[0m\u001b[1;33m:\u001b[0m\u001b[1;33m\u001b[0m\u001b[0m\n\u001b[0;32m   1013\u001b[0m         \u001b[1;32mif\u001b[0m \u001b[0mengine\u001b[0m \u001b[1;33m==\u001b[0m \u001b[1;34m'c'\u001b[0m\u001b[1;33m:\u001b[0m\u001b[1;33m\u001b[0m\u001b[0m\n\u001b[1;32m-> 1014\u001b[1;33m             \u001b[0mself\u001b[0m\u001b[1;33m.\u001b[0m\u001b[0m_engine\u001b[0m \u001b[1;33m=\u001b[0m \u001b[0mCParserWrapper\u001b[0m\u001b[1;33m(\u001b[0m\u001b[0mself\u001b[0m\u001b[1;33m.\u001b[0m\u001b[0mf\u001b[0m\u001b[1;33m,\u001b[0m \u001b[1;33m**\u001b[0m\u001b[0mself\u001b[0m\u001b[1;33m.\u001b[0m\u001b[0moptions\u001b[0m\u001b[1;33m)\u001b[0m\u001b[1;33m\u001b[0m\u001b[0m\n\u001b[0m\u001b[0;32m   1015\u001b[0m         \u001b[1;32melse\u001b[0m\u001b[1;33m:\u001b[0m\u001b[1;33m\u001b[0m\u001b[0m\n\u001b[0;32m   1016\u001b[0m             \u001b[1;32mif\u001b[0m \u001b[0mengine\u001b[0m \u001b[1;33m==\u001b[0m \u001b[1;34m'python'\u001b[0m\u001b[1;33m:\u001b[0m\u001b[1;33m\u001b[0m\u001b[0m\n",
      "\u001b[1;32mC:\\Users\\Chris OBrien\\AppData\\Local\\conda\\conda\\envs\\p2\\lib\\site-packages\\pandas\\io\\parsers.pyc\u001b[0m in \u001b[0;36m__init__\u001b[1;34m(self, src, **kwds)\u001b[0m\n\u001b[0;32m   1706\u001b[0m         \u001b[0mkwds\u001b[0m\u001b[1;33m[\u001b[0m\u001b[1;34m'usecols'\u001b[0m\u001b[1;33m]\u001b[0m \u001b[1;33m=\u001b[0m \u001b[0mself\u001b[0m\u001b[1;33m.\u001b[0m\u001b[0musecols\u001b[0m\u001b[1;33m\u001b[0m\u001b[0m\n\u001b[0;32m   1707\u001b[0m \u001b[1;33m\u001b[0m\u001b[0m\n\u001b[1;32m-> 1708\u001b[1;33m         \u001b[0mself\u001b[0m\u001b[1;33m.\u001b[0m\u001b[0m_reader\u001b[0m \u001b[1;33m=\u001b[0m \u001b[0mparsers\u001b[0m\u001b[1;33m.\u001b[0m\u001b[0mTextReader\u001b[0m\u001b[1;33m(\u001b[0m\u001b[0msrc\u001b[0m\u001b[1;33m,\u001b[0m \u001b[1;33m**\u001b[0m\u001b[0mkwds\u001b[0m\u001b[1;33m)\u001b[0m\u001b[1;33m\u001b[0m\u001b[0m\n\u001b[0m\u001b[0;32m   1709\u001b[0m \u001b[1;33m\u001b[0m\u001b[0m\n\u001b[0;32m   1710\u001b[0m         \u001b[0mpassed_names\u001b[0m \u001b[1;33m=\u001b[0m \u001b[0mself\u001b[0m\u001b[1;33m.\u001b[0m\u001b[0mnames\u001b[0m \u001b[1;32mis\u001b[0m \u001b[0mNone\u001b[0m\u001b[1;33m\u001b[0m\u001b[0m\n",
      "\u001b[1;31mKeyboardInterrupt\u001b[0m: "
     ]
    }
   ],
   "source": [
    "_regions=['AUD','VIS','MO','SS','ACA','ORB','AI','RSP','PTLp','FRP','GU','VISC','PL','ILA','TEa','PERI','ECT']\n",
    "BS_nuclei=['SCs', 'SCm','PB','NTS','PAG','AP']\n",
    "\n",
    "\n",
    "for i in BS_nuclei:\n",
    "    summe=0.0\n",
    "    for j in _regions:\n",
    "        summe+=sum_proj(j,i,r1=0.1,r2=1.5)[0]\n",
    "    print i+' to '+j+\" \"+str(summe)"
   ]
  },
  {
   "cell_type": "code",
   "execution_count": 304,
   "metadata": {},
   "outputs": [
    {
     "name": "stdout",
     "output_type": "stream",
     "text": [
      "tot inj volume smaller\n",
      "tot inj volume 0.0\n",
      "structure vol 0.02743295625\n",
      "tot inj volume larger\n",
      "tot injection fraction 0.402797109575\n",
      "structure vol 0.03433129875\n",
      "tot inj volume smaller\n",
      "tot inj volume 0.0\n",
      "structure vol 0.04993884\n",
      "tot inj volume smaller\n",
      "tot inj volume 0.0\n",
      "structure vol 0.01812951\n",
      "tot inj volume smaller\n",
      "tot inj volume 0.0\n",
      "structure vol 0.030153375\n",
      "tot inj volume larger\n",
      "tot injection fraction 3.1599357258\n",
      "structure vol 0.1531179538\n",
      "tot inj volume larger\n",
      "tot injection fraction 2.62867507429\n",
      "structure vol 0.1036520912\n",
      "tot inj volume larger\n",
      "tot injection fraction 0.397480505527\n",
      "structure vol 0.0520242212\n",
      "tot inj volume larger\n",
      "tot injection fraction 0.242690293431\n",
      "structure vol 0.078535485\n",
      "tot inj volume smaller\n",
      "tot inj volume 0.0\n",
      "structure vol 0.01293949125\n",
      "tot inj volume larger\n",
      "tot injection fraction 6.9864844154\n",
      "structure vol 0.5690300224\n",
      "tot inj volume larger\n",
      "tot injection fraction 0.366235996\n",
      "structure vol 0.154343385\n",
      "tot inj volume larger\n",
      "tot injection fraction 0.345275952\n",
      "structure vol 0.0458932138\n",
      "tot inj volume larger\n",
      "tot injection fraction 0.1261697668\n",
      "structure vol 0.053636625\n",
      "tot inj volume larger\n",
      "tot injection fraction 3.0530966844\n",
      "structure vol 0.14421141\n",
      "tot inj volume larger\n",
      "tot injection fraction 4.3478578276\n",
      "structure vol 0.4960538912\n",
      "tot inj volume larger\n",
      "tot injection fraction 0.199931722331\n",
      "structure vol 0.03600820125\n",
      "tot inj volume larger\n",
      "tot injection fraction 7.25521112633\n",
      "structure vol 0.1958574688\n",
      "tot inj volume larger\n",
      "tot injection fraction 5.02541391624\n",
      "structure vol 0.27998262635\n",
      "tot inj volume larger\n",
      "tot injection fraction 3.30888414999\n",
      "structure vol 0.1120195076\n",
      "tot inj volume larger\n",
      "tot injection fraction 10.5198984519\n",
      "structure vol 0.1514432612\n",
      "tot inj volume larger\n",
      "tot injection fraction 5.88724862578\n",
      "structure vol 0.1948983036\n",
      "tot inj volume larger\n",
      "tot injection fraction 1.81380038652\n",
      "structure vol 0.0537529412\n",
      "HY to SCs 2811.97647483\n",
      "tot inj volume smaller\n",
      "tot inj volume 0.0\n",
      "structure vol 0.02743295625\n",
      "tot inj volume larger\n",
      "tot injection fraction 0.402797109575\n",
      "structure vol 0.03433129875\n",
      "tot inj volume smaller\n",
      "tot inj volume 0.0\n",
      "structure vol 0.04993884\n",
      "tot inj volume smaller\n",
      "tot inj volume 0.0\n",
      "structure vol 0.01812951\n",
      "tot inj volume smaller\n",
      "tot inj volume 0.0\n",
      "structure vol 0.030153375\n",
      "tot inj volume larger\n",
      "tot injection fraction 3.1599357258\n",
      "structure vol 0.1531179538\n",
      "tot inj volume larger\n",
      "tot injection fraction 2.62867507429\n",
      "structure vol 0.1036520912\n",
      "tot inj volume larger\n",
      "tot injection fraction 0.397480505527\n",
      "structure vol 0.0520242212\n",
      "tot inj volume larger\n",
      "tot injection fraction 0.242690293431\n",
      "structure vol 0.078535485\n",
      "tot inj volume smaller\n",
      "tot inj volume 0.0\n",
      "structure vol 0.01293949125\n",
      "tot inj volume larger\n",
      "tot injection fraction 6.9864844154\n",
      "structure vol 0.5690300224\n",
      "tot inj volume larger\n",
      "tot injection fraction 0.366235996\n",
      "structure vol 0.154343385\n",
      "tot inj volume larger\n",
      "tot injection fraction 0.345275952\n",
      "structure vol 0.0458932138\n",
      "tot inj volume larger\n",
      "tot injection fraction 0.1261697668\n",
      "structure vol 0.053636625\n",
      "tot inj volume larger\n",
      "tot injection fraction 3.0530966844\n",
      "structure vol 0.14421141\n",
      "tot inj volume larger\n",
      "tot injection fraction 4.3478578276\n",
      "structure vol 0.4960538912\n",
      "tot inj volume larger\n",
      "tot injection fraction 0.199931722331\n",
      "structure vol 0.03600820125\n",
      "tot inj volume larger\n",
      "tot injection fraction 7.25521112633\n",
      "structure vol 0.1958574688\n",
      "tot inj volume larger\n",
      "tot injection fraction 5.02541391624\n",
      "structure vol 0.27998262635\n",
      "tot inj volume larger\n",
      "tot injection fraction 3.30888414999\n",
      "structure vol 0.1120195076\n",
      "tot inj volume larger\n",
      "tot injection fraction 10.5198984519\n",
      "structure vol 0.1514432612\n",
      "tot inj volume larger\n",
      "tot injection fraction 5.88724862578\n",
      "structure vol 0.1948983036\n",
      "tot inj volume larger\n",
      "tot injection fraction 1.81380038652\n",
      "structure vol 0.0537529412\n",
      "HY to SCm 76246.9196973\n",
      "tot inj volume smaller\n",
      "tot inj volume 0.0\n",
      "structure vol 0.02743295625\n",
      "tot inj volume larger\n",
      "tot injection fraction 0.402797109575\n",
      "structure vol 0.03433129875\n",
      "tot inj volume smaller\n",
      "tot inj volume 0.0\n",
      "structure vol 0.04993884\n",
      "tot inj volume smaller\n",
      "tot inj volume 0.0\n",
      "structure vol 0.01812951\n",
      "tot inj volume smaller\n",
      "tot inj volume 0.0\n",
      "structure vol 0.030153375\n",
      "tot inj volume larger\n",
      "tot injection fraction 3.1599357258\n",
      "structure vol 0.1531179538\n",
      "tot inj volume larger\n",
      "tot injection fraction 2.62867507429\n",
      "structure vol 0.1036520912\n",
      "tot inj volume larger\n",
      "tot injection fraction 0.397480505527\n",
      "structure vol 0.0520242212\n",
      "tot inj volume larger\n",
      "tot injection fraction 0.242690293431\n",
      "structure vol 0.078535485\n",
      "tot inj volume smaller\n",
      "tot inj volume 0.0\n",
      "structure vol 0.01293949125\n",
      "tot inj volume larger\n",
      "tot injection fraction 6.9864844154\n",
      "structure vol 0.5690300224\n",
      "tot inj volume larger\n",
      "tot injection fraction 0.366235996\n",
      "structure vol 0.154343385\n",
      "tot inj volume larger\n",
      "tot injection fraction 0.345275952\n",
      "structure vol 0.0458932138\n",
      "tot inj volume larger\n",
      "tot injection fraction 0.1261697668\n",
      "structure vol 0.053636625\n",
      "tot inj volume larger\n",
      "tot injection fraction 3.0530966844\n",
      "structure vol 0.14421141\n",
      "tot inj volume larger\n",
      "tot injection fraction 4.3478578276\n",
      "structure vol 0.4960538912\n",
      "tot inj volume larger\n",
      "tot injection fraction 0.199931722331\n",
      "structure vol 0.03600820125\n",
      "tot inj volume larger\n",
      "tot injection fraction 7.25521112633\n",
      "structure vol 0.1958574688\n",
      "tot inj volume larger\n",
      "tot injection fraction 5.02541391624\n",
      "structure vol 0.27998262635\n",
      "tot inj volume larger\n",
      "tot injection fraction 3.30888414999\n",
      "structure vol 0.1120195076\n",
      "tot inj volume larger\n",
      "tot injection fraction 10.5198984519\n",
      "structure vol 0.1514432612\n",
      "tot inj volume larger\n",
      "tot injection fraction 5.88724862578\n",
      "structure vol 0.1948983036\n",
      "tot inj volume larger\n",
      "tot injection fraction 1.81380038652\n",
      "structure vol 0.0537529412\n",
      "HY to PB 12001.1248776\n",
      "tot inj volume smaller\n",
      "tot inj volume 0.0\n",
      "structure vol 0.02743295625\n",
      "tot inj volume larger\n",
      "tot injection fraction 0.402797109575\n",
      "structure vol 0.03433129875\n",
      "tot inj volume smaller\n",
      "tot inj volume 0.0\n",
      "structure vol 0.04993884\n",
      "tot inj volume smaller\n",
      "tot inj volume 0.0\n",
      "structure vol 0.01812951\n",
      "tot inj volume smaller\n",
      "tot inj volume 0.0\n",
      "structure vol 0.030153375\n",
      "tot inj volume larger\n",
      "tot injection fraction 3.1599357258\n",
      "structure vol 0.1531179538\n",
      "tot inj volume larger\n",
      "tot injection fraction 2.62867507429\n",
      "structure vol 0.1036520912\n",
      "tot inj volume larger\n",
      "tot injection fraction 0.397480505527\n",
      "structure vol 0.0520242212\n",
      "tot inj volume larger\n",
      "tot injection fraction 0.242690293431\n",
      "structure vol 0.078535485\n",
      "tot inj volume smaller\n",
      "tot inj volume 0.0\n",
      "structure vol 0.01293949125\n",
      "tot inj volume larger\n",
      "tot injection fraction 6.9864844154\n",
      "structure vol 0.5690300224\n",
      "tot inj volume larger\n",
      "tot injection fraction 0.366235996\n",
      "structure vol 0.154343385\n",
      "tot inj volume larger\n",
      "tot injection fraction 0.345275952\n",
      "structure vol 0.0458932138\n",
      "tot inj volume larger\n",
      "tot injection fraction 0.1261697668\n",
      "structure vol 0.053636625\n",
      "tot inj volume larger\n",
      "tot injection fraction 3.0530966844\n",
      "structure vol 0.14421141\n",
      "tot inj volume larger\n",
      "tot injection fraction 4.3478578276\n",
      "structure vol 0.4960538912\n",
      "tot inj volume larger\n",
      "tot injection fraction 0.199931722331\n",
      "structure vol 0.03600820125\n",
      "tot inj volume larger\n",
      "tot injection fraction 7.25521112633\n",
      "structure vol 0.1958574688\n",
      "tot inj volume larger\n",
      "tot injection fraction 5.02541391624\n",
      "structure vol 0.27998262635\n",
      "tot inj volume larger\n",
      "tot injection fraction 3.30888414999\n",
      "structure vol 0.1120195076\n",
      "tot inj volume larger\n",
      "tot injection fraction 10.5198984519\n",
      "structure vol 0.1514432612\n",
      "tot inj volume larger\n",
      "tot injection fraction 5.88724862578\n",
      "structure vol 0.1948983036\n",
      "tot inj volume larger\n",
      "tot injection fraction 1.81380038652\n",
      "structure vol 0.0537529412\n",
      "HY to NTS 5254.83995473\n",
      "tot inj volume smaller\n",
      "tot inj volume 0.0\n",
      "structure vol 0.02743295625\n",
      "tot inj volume larger\n",
      "tot injection fraction 0.402797109575\n",
      "structure vol 0.03433129875\n",
      "tot inj volume smaller\n",
      "tot inj volume 0.0\n",
      "structure vol 0.04993884\n",
      "tot inj volume smaller\n",
      "tot inj volume 0.0\n",
      "structure vol 0.01812951\n",
      "tot inj volume smaller\n",
      "tot inj volume 0.0\n",
      "structure vol 0.030153375\n",
      "tot inj volume larger\n",
      "tot injection fraction 3.1599357258\n",
      "structure vol 0.1531179538\n",
      "tot inj volume larger\n",
      "tot injection fraction 2.62867507429\n",
      "structure vol 0.1036520912\n",
      "tot inj volume larger\n",
      "tot injection fraction 0.397480505527\n",
      "structure vol 0.0520242212\n"
     ]
    },
    {
     "name": "stdout",
     "output_type": "stream",
     "text": [
      "tot inj volume larger\n",
      "tot injection fraction 0.242690293431\n",
      "structure vol 0.078535485\n",
      "tot inj volume smaller\n",
      "tot inj volume 0.0\n",
      "structure vol 0.01293949125\n",
      "tot inj volume larger\n",
      "tot injection fraction 6.9864844154\n",
      "structure vol 0.5690300224\n",
      "tot inj volume larger\n",
      "tot injection fraction 0.366235996\n",
      "structure vol 0.154343385\n",
      "tot inj volume larger\n",
      "tot injection fraction 0.345275952\n",
      "structure vol 0.0458932138\n",
      "tot inj volume larger\n",
      "tot injection fraction 0.1261697668\n",
      "structure vol 0.053636625\n",
      "tot inj volume larger\n",
      "tot injection fraction 3.0530966844\n",
      "structure vol 0.14421141\n",
      "tot inj volume larger\n",
      "tot injection fraction 4.3478578276\n",
      "structure vol 0.4960538912\n",
      "tot inj volume larger\n",
      "tot injection fraction 0.199931722331\n",
      "structure vol 0.03600820125\n",
      "tot inj volume larger\n",
      "tot injection fraction 7.25521112633\n",
      "structure vol 0.1958574688\n",
      "tot inj volume larger\n",
      "tot injection fraction 5.02541391624\n",
      "structure vol 0.27998262635\n",
      "tot inj volume larger\n",
      "tot injection fraction 3.30888414999\n",
      "structure vol 0.1120195076\n",
      "tot inj volume larger\n",
      "tot injection fraction 10.5198984519\n",
      "structure vol 0.1514432612\n",
      "tot inj volume larger\n",
      "tot injection fraction 5.88724862578\n",
      "structure vol 0.1948983036\n",
      "tot inj volume larger\n",
      "tot injection fraction 1.81380038652\n",
      "structure vol 0.0537529412\n",
      "HY to PAG 121863.041702\n",
      "tot inj volume smaller\n",
      "tot inj volume 0.0\n",
      "structure vol 0.02743295625\n",
      "tot inj volume larger\n",
      "tot injection fraction 0.402797109575\n",
      "structure vol 0.03433129875\n",
      "tot inj volume smaller\n",
      "tot inj volume 0.0\n",
      "structure vol 0.04993884\n",
      "tot inj volume smaller\n",
      "tot inj volume 0.0\n",
      "structure vol 0.01812951\n",
      "tot inj volume smaller\n",
      "tot inj volume 0.0\n",
      "structure vol 0.030153375\n",
      "tot inj volume larger\n",
      "tot injection fraction 3.1599357258\n",
      "structure vol 0.1531179538\n",
      "tot inj volume larger\n",
      "tot injection fraction 2.62867507429\n",
      "structure vol 0.1036520912\n",
      "tot inj volume larger\n",
      "tot injection fraction 0.397480505527\n",
      "structure vol 0.0520242212\n",
      "tot inj volume larger\n",
      "tot injection fraction 0.242690293431\n",
      "structure vol 0.078535485\n",
      "tot inj volume smaller\n",
      "tot inj volume 0.0\n",
      "structure vol 0.01293949125\n",
      "tot inj volume larger\n",
      "tot injection fraction 6.9864844154\n",
      "structure vol 0.5690300224\n",
      "tot inj volume larger\n",
      "tot injection fraction 0.366235996\n",
      "structure vol 0.154343385\n",
      "exception occured\n",
      "tot inj volume larger\n",
      "tot injection fraction 0.345275952\n",
      "structure vol 0.0458932138\n",
      "tot inj volume larger\n",
      "tot injection fraction 0.1261697668\n",
      "structure vol 0.053636625\n",
      "tot inj volume larger\n",
      "tot injection fraction 3.0530966844\n",
      "structure vol 0.14421141\n",
      "tot inj volume larger\n",
      "tot injection fraction 4.3478578276\n",
      "structure vol 0.4960538912\n",
      "tot inj volume larger\n",
      "tot injection fraction 0.199931722331\n",
      "structure vol 0.03600820125\n",
      "tot inj volume larger\n",
      "tot injection fraction 7.25521112633\n",
      "structure vol 0.1958574688\n",
      "tot inj volume larger\n",
      "tot injection fraction 5.02541391624\n",
      "structure vol 0.27998262635\n",
      "tot inj volume larger\n",
      "tot injection fraction 3.30888414999\n",
      "structure vol 0.1120195076\n",
      "tot inj volume larger\n",
      "tot injection fraction 10.5198984519\n",
      "structure vol 0.1514432612\n",
      "tot inj volume larger\n",
      "tot injection fraction 5.88724862578\n",
      "structure vol 0.1948983036\n",
      "tot inj volume larger\n",
      "tot injection fraction 1.81380038652\n",
      "structure vol 0.0537529412\n",
      "HY to AP 167.77079497\n"
     ]
    }
   ],
   "source": [
    "_regions=['ADP', 'PVp', 'PVpo', 'VLPO', 'AVP', 'AVPV', 'SCH', 'SFO', 'SBPV', 'MEPO', 'MPO', 'OV', 'DMH', 'PD', 'PS', 'VMPO', 'PVa', 'PVH', 'PVi', 'ARH', 'ASO', 'SO', 'RCH', 'LHA', 'LPO', 'PST', 'PSTN', 'STN', 'TU', 'ZI', 'PeF', 'PVHd', 'AHN', 'MBO', 'MPN', 'VMH', 'PH', 'PMd', 'PMv']\n",
    "BS_nuclei=['SCs', 'SCm','PB','NTS','PAG','AP']\n",
    "\n",
    "\n",
    "for i in BS_nuclei:\n",
    "    summe=0.0\n",
    "    for j in _regions:\n",
    "        try:\n",
    "            summe+=sum_proj(j,i,r1=0.1,r2=1.5)[0]\n",
    "        except:\n",
    "            None\n",
    "    print 'HY'+' to '+i+\" \"+str(summe)"
   ]
  },
  {
   "cell_type": "code",
   "execution_count": 280,
   "metadata": {},
   "outputs": [
    {
     "data": {
      "text/plain": [
       "81511424.42761406"
      ]
     },
     "execution_count": 280,
     "metadata": {},
     "output_type": "execute_result"
    }
   ],
   "source": [
    "sum_proj('BS','HY',r1=0.1,r2=1.5)[0]"
   ]
  },
  {
   "cell_type": "code",
   "execution_count": 290,
   "metadata": {},
   "outputs": [
    {
     "name": "stdout",
     "output_type": "stream",
     "text": [
      "exception occured\n",
      "exception occured\n",
      "exception occured\n",
      "exception occured\n",
      "exception occured\n",
      "SCs to HY 2454.48250879\n",
      "SCm to HY 171806.573731\n",
      "PB to HY 1585387.81205\n",
      "exception occured\n",
      "exception occured\n",
      "exception occured\n",
      "exception occured\n",
      "exception occured\n",
      "exception occured\n",
      "exception occured\n",
      "exception occured\n",
      "exception occured\n",
      "exception occured\n",
      "exception occured\n",
      "exception occured\n",
      "exception occured\n",
      "exception occured\n",
      "exception occured\n",
      "NTS to HY 460.525654608\n",
      "PAG to HY 1282826.07808\n",
      "AP to HY 0.0\n"
     ]
    }
   ],
   "source": [
    "_regions=['ADP', 'PVp', 'PVpo', 'VLPO', 'AVP', 'AVPV', 'SCH', 'SFO', 'SBPV', 'MEPO', 'MPO', 'OV', 'DMH', 'PD', 'PS', 'VMPO', 'PVa', 'PVH', 'PVi', 'ARH', 'ASO', 'SO', 'RCH', 'LHA', 'LPO', 'PST', 'PSTN', 'STN', 'TU', 'ZI', 'PeF', 'PVHd', 'AHN', 'MBO', 'MPN', 'VMH', 'PH', 'PMd', 'PMv']\n",
    "BS_nuclei=['SCs', 'SCm','PB','NTS','PAG','AP']\n",
    "\n",
    "\n",
    "for i in BS_nuclei:\n",
    "    summe=0.0\n",
    "    for j in _regions:\n",
    "        try:\n",
    "            summe+=sum_proj(i,j,r1=0.1,r2=1.5)[0]\n",
    "        except:\n",
    "            None\n",
    "    print i+' to '+'HY'+\" \"+str(summe)"
   ]
  },
  {
   "cell_type": "code",
   "execution_count": 291,
   "metadata": {},
   "outputs": [
    {
     "data": {
      "text/plain": [
       "7277884.273278983"
      ]
     },
     "execution_count": 291,
     "metadata": {},
     "output_type": "execute_result"
    }
   ],
   "source": [
    "sum_proj('ILM','CTX',r1=0.1,r2=1.5)[0]"
   ]
  },
  {
   "cell_type": "code",
   "execution_count": 298,
   "metadata": {},
   "outputs": [
    {
     "name": "stdout",
     "output_type": "stream",
     "text": [
      "tot inj volume larger\n",
      "tot injection fraction 181.077545256\n",
      "structure vol 0.0430031743938\n"
     ]
    },
    {
     "data": {
      "text/plain": [
       "3842745704.0153522"
      ]
     },
     "execution_count": 298,
     "metadata": {},
     "output_type": "execute_result"
    }
   ],
   "source": [
    "sum_proj('CTX','ILM',r1=0.1,r2=1.5)[0]"
   ]
  },
  {
   "cell_type": "code",
   "execution_count": 302,
   "metadata": {},
   "outputs": [
    {
     "name": "stdout",
     "output_type": "stream",
     "text": [
      "tot inj volume larger\n",
      "tot injection fraction 181.077545256\n",
      "structure vol 0.0430031743938\n"
     ]
    },
    {
     "data": {
      "text/plain": [
       "614.7468377566435"
      ]
     },
     "execution_count": 302,
     "metadata": {},
     "output_type": "execute_result"
    }
   ],
   "source": [
    "sum_proj('CTX','SCm',r1=0.1,r2=1.5)[0]"
   ]
  },
  {
   "cell_type": "code",
   "execution_count": null,
   "metadata": {},
   "outputs": [],
   "source": []
  },
  {
   "cell_type": "code",
   "execution_count": 303,
   "metadata": {},
   "outputs": [
    {
     "data": {
      "text/plain": [
       "2584511.6279069767"
      ]
     },
     "execution_count": 303,
     "metadata": {},
     "output_type": "execute_result"
    }
   ],
   "source": [
    "614*181/0.043"
   ]
  },
  {
   "cell_type": "code",
   "execution_count": 299,
   "metadata": {},
   "outputs": [
    {
     "data": {
      "text/plain": [
       "8.3802130048"
      ]
     },
     "execution_count": 299,
     "metadata": {},
     "output_type": "execute_result"
    }
   ],
   "source": [
    "id_to_volume[acronym_to_id['HY']]"
   ]
  },
  {
   "cell_type": "markdown",
   "metadata": {},
   "source": [
    "## Mcmodels\n",
    "Here we use Mcmodels and their available data to explore the connectivity strength and the information flow\n"
   ]
  },
  {
   "cell_type": "markdown",
   "metadata": {},
   "source": [
    "Structure sets used by Knox, et al on 'High resolution data_diven model' uses intermediate level summary structures. This most likely corresponds to the structure set number 687527945 'Structures representing the subdivisions of the Mouse Brain'"
   ]
  },
  {
   "cell_type": "code",
   "execution_count": 25,
   "metadata": {},
   "outputs": [],
   "source": [
    "from allensdk.core.mouse_connectivity_cache import MouseConnectivityCache\n",
    "mcc=MouseConnectivityCache(manifest_file='connectivity/mouse_connectivity_manifest.json')\n",
    "structure_tree=mcc.get_structure_tree()\n",
    "\n",
    "from mcmodels.core import VoxelModelCache\n",
    "Voxel_cache = VoxelModelCache()\n",
    "Voxel_connectivity=Voxel_cache.get_connection_strength()\n",
    "Voxel_connectivity_dict=dict(Voxel_connectivity)"
   ]
  },
  {
   "cell_type": "code",
   "execution_count": 26,
   "metadata": {},
   "outputs": [],
   "source": [
    "Voxel_connectivity=Voxel_cache.get_connection_strength()\n",
    "Voxel_connectivity_dict=dict(Voxel_connectivity)"
   ]
  },
  {
   "cell_type": "code",
   "execution_count": 27,
   "metadata": {},
   "outputs": [],
   "source": [
    "structure687527945=list(pd.DataFrame(structure_tree.get_structures_by_set_id([687527945]))['acronym'])\n",
    "Voxel_Structures=set([i[1] for i in Voxel_connectivity_dict.keys()])"
   ]
  },
  {
   "cell_type": "code",
   "execution_count": 28,
   "metadata": {},
   "outputs": [
    {
     "name": "stdout",
     "output_type": "stream",
     "text": [
      "293 291\n"
     ]
    }
   ],
   "source": [
    "print len(structure687527945), len(Voxel_Structures)"
   ]
  },
  {
   "cell_type": "markdown",
   "metadata": {},
   "source": [
    "the former has 2 more structures, which are:"
   ]
  },
  {
   "cell_type": "code",
   "execution_count": 29,
   "metadata": {},
   "outputs": [
    {
     "name": "stdout",
     "output_type": "stream",
     "text": [
      "ENTmv\n",
      "fiber tracts\n"
     ]
    }
   ],
   "source": [
    "for i in structure687527945:\n",
    "    if i not in Voxel_Structures:\n",
    "        print i"
   ]
  },
  {
   "cell_type": "code",
   "execution_count": 30,
   "metadata": {},
   "outputs": [],
   "source": [
    "for i in Voxel_Structures:\n",
    "    if i not in structure687527945:\n",
    "        print i"
   ]
  },
  {
   "cell_type": "code",
   "execution_count": 31,
   "metadata": {},
   "outputs": [
    {
     "data": {
      "text/plain": [
       "u'Entorhinal area, medial part, ventral zone'"
      ]
     },
     "execution_count": 31,
     "metadata": {},
     "output_type": "execute_result"
    }
   ],
   "source": [
    "acronym_to_name['ENTmv']"
   ]
  },
  {
   "cell_type": "markdown",
   "metadata": {},
   "source": [
    "https://en.wikipedia.org/wiki/Entorhinal_cortex\n",
    "The entorhinal cortex (EC) (ento = interior, rhino = nose, entorhinal = interior to the rhinal sulcus) is an area of the brain located in the medial temporal lobe and functioning as a hub in a widespread network for memory, navigation and the perception of time.[1] The EC is the main interface between the hippocampus and neocortex"
   ]
  },
  {
   "cell_type": "markdown",
   "metadata": {},
   "source": [
    "## Exploring Damasio Network\n",
    "Here we explore the consciousness network proposed by Damasio, which includes the nuclei of the brainstem, hypothalamus, and the cortex."
   ]
  },
  {
   "cell_type": "markdown",
   "metadata": {},
   "source": [
    "Since Voxel_Structures only contains structures at the subdivision level, it is not straight forward to get the information flow from large structures to a large structures directly from the Voxel_connectivity. \n",
    "\n",
    "\n",
    "We first identify the nuclei of each structures of interest and make sure thoese nuclei are included in Voxel_Structures"
   ]
  },
  {
   "cell_type": "markdown",
   "metadata": {},
   "source": [
    "Brain stem is divided into:"
   ]
  },
  {
   "cell_type": "code",
   "execution_count": 32,
   "metadata": {},
   "outputs": [
    {
     "data": {
      "text/plain": [
       "[u'Midbrain', u'Hindbrain', u'Interbrain']"
      ]
     },
     "execution_count": 32,
     "metadata": {},
     "output_type": "execute_result"
    }
   ],
   "source": [
    "BSsub=[id_to_name[i] for i in Substr[acronym_to_id['BS']]]\n",
    "BSsub"
   ]
  },
  {
   "cell_type": "markdown",
   "metadata": {},
   "source": [
    "where each can further be subdivided into:"
   ]
  },
  {
   "cell_type": "code",
   "execution_count": 33,
   "metadata": {},
   "outputs": [
    {
     "data": {
      "text/plain": [
       "[u'Midbrain, motor related',\n",
       " u'Midbrain, sensory related',\n",
       " u'Midbrain, behavioral state related']"
      ]
     },
     "execution_count": 33,
     "metadata": {},
     "output_type": "execute_result"
    }
   ],
   "source": [
    "MBsub=[id_to_name[i] for i in Substr[name_to_id[BSsub[0]]]]\n",
    "MBsub"
   ]
  },
  {
   "cell_type": "code",
   "execution_count": 34,
   "metadata": {},
   "outputs": [
    {
     "data": {
      "text/plain": [
       "[u'Medulla', u'Pons']"
      ]
     },
     "execution_count": 34,
     "metadata": {},
     "output_type": "execute_result"
    }
   ],
   "source": [
    "HBsub=[id_to_name[i] for i in Substr[name_to_id[BSsub[1]]]]\n",
    "HBsub"
   ]
  },
  {
   "cell_type": "code",
   "execution_count": 35,
   "metadata": {},
   "outputs": [
    {
     "data": {
      "text/plain": [
       "[u'Hypothalamus', u'Thalamus']"
      ]
     },
     "execution_count": 35,
     "metadata": {},
     "output_type": "execute_result"
    }
   ],
   "source": [
    "IBsub=[id_to_name[i] for i in Substr[name_to_id[BSsub[2]]]]\n",
    "IBsub"
   ]
  },
  {
   "cell_type": "markdown",
   "metadata": {},
   "source": [
    "but of course non of them are included in the Voxel_Structures, but some of their sub(-sub)structures are definitely included. The question is, which ones? We use tree to visualize this. "
   ]
  },
  {
   "cell_type": "code",
   "execution_count": 36,
   "metadata": {},
   "outputs": [],
   "source": [
    "from anytree import Node, RenderTree"
   ]
  },
  {
   "cell_type": "code",
   "execution_count": 37,
   "metadata": {},
   "outputs": [],
   "source": [
    "import string\n",
    "def print_code_for_tree(acr):\n",
    "    \"\"\"\"\"\"\n",
    "    #returns list of substructures - outputs are in terms of structure id\n",
    "    substr=[id_to_acronym[i] for i in Substr[acronym_to_id[acr]]]\n",
    "    \n",
    "    #variable names cannot contain - and /. replace temporarily\n",
    "    if \"-\" in acr or \"/\" in acr:\n",
    "        acr=string.replace(acr,\"-\",\"_\")\n",
    "        acr=string.replace(acr,\"/\",\"and\")\n",
    "    \n",
    "    if len(substr)>0:\n",
    "        for j in substr:\n",
    "            #exp = mcc.get_experiments(file_name='experiments_for_'+j+'.json',\n",
    "            #                      injection_structure_ids=[acronym_to_id[j]])\n",
    "            #n_exp=len(exp)\n",
    "            n_exp='NA'\n",
    "            \n",
    "            #check whether the structure is in Voxel_Structures\n",
    "            if j in Voxel_Structures:\n",
    "                inVoxel=True\n",
    "            else:\n",
    "                inVoxel=False\n",
    "                    \n",
    "            #python variable name does not allow - or /. Replace with _ if exists\n",
    "            if (\"-\" in j) or (\"/\" in j):\n",
    "                \n",
    "                #check whether the structure is in Voxel_Structures\n",
    "                j=string.replace(j,\"-\",\"_\")\n",
    "                j=string.replace(j,\"/\",\"and\")\n",
    "\n",
    "                print str(j)+\" = \"+\"Node('\"+ j+\" inVoxel=\"+str(inVoxel) + \"  n_exp= \"+str(n_exp) +\"', parent=\"+acr+\")\"\n",
    "                \n",
    "                #make sure to return j to its original since otherwise Substr\n",
    "                #will not recognize its altered form.\n",
    "                j=string.replace(j,\"_\",\"-\")\n",
    "                j=string.replace(j,\"and\",\"/\")\n",
    "                \n",
    "                \"\"\"RECURSION\"\"\"\n",
    "                print_code_for_tree(j)\n",
    "                \n",
    "            else:\n",
    "                print str(j)+\" = \"+\"Node('\"+ j +\" inVoxel=\"+str(inVoxel)+ \"  n_exp= \"+str(n_exp) +\"', parent=\"+acr+\")\"\n",
    "                \n",
    "                \n",
    "                \"\"\"RECURSION\"\"\"\n",
    "                print_code_for_tree(j)\n",
    "    else:\n",
    "        None"
   ]
  },
  {
   "cell_type": "code",
   "execution_count": 39,
   "metadata": {
    "scrolled": true
   },
   "outputs": [
    {
     "name": "stdout",
     "output_type": "stream",
     "text": [
      "MB = Node('MB inVoxel=False  n_exp= NA', parent=BS)\n",
      "MBmot = Node('MBmot inVoxel=False  n_exp= NA', parent=MB)\n",
      "III = Node('III inVoxel=True  n_exp= NA', parent=MBmot)\n",
      "MT = Node('MT inVoxel=False  n_exp= NA', parent=MBmot)\n",
      "LT = Node('LT inVoxel=True  n_exp= NA', parent=MBmot)\n",
      "DT = Node('DT inVoxel=False  n_exp= NA', parent=MBmot)\n",
      "IV = Node('IV inVoxel=True  n_exp= NA', parent=MBmot)\n",
      "MRN = Node('MRN inVoxel=True  n_exp= NA', parent=MBmot)\n",
      "PN = Node('PN inVoxel=False  n_exp= NA', parent=MBmot)\n",
      "RN = Node('RN inVoxel=True  n_exp= NA', parent=MBmot)\n",
      "AT = Node('AT inVoxel=True  n_exp= NA', parent=MBmot)\n",
      "RR = Node('RR inVoxel=True  n_exp= NA', parent=MBmot)\n",
      "SCm = Node('SCm inVoxel=True  n_exp= NA', parent=MBmot)\n",
      "SCig = Node('SCig inVoxel=False  n_exp= NA', parent=SCm)\n",
      "SCig_a = Node('SCig_a inVoxel=False  n_exp= NA', parent=SCig)\n",
      "SCig_b = Node('SCig_b inVoxel=False  n_exp= NA', parent=SCig)\n",
      "SCig_c = Node('SCig_c inVoxel=False  n_exp= NA', parent=SCig)\n",
      "SCiw = Node('SCiw inVoxel=False  n_exp= NA', parent=SCm)\n",
      "SCdg = Node('SCdg inVoxel=False  n_exp= NA', parent=SCm)\n",
      "SCdw = Node('SCdw inVoxel=False  n_exp= NA', parent=SCm)\n",
      "CUN = Node('CUN inVoxel=True  n_exp= NA', parent=MBmot)\n",
      "VTA = Node('VTA inVoxel=True  n_exp= NA', parent=MBmot)\n",
      "VTN = Node('VTN inVoxel=True  n_exp= NA', parent=MBmot)\n",
      "PAG = Node('PAG inVoxel=True  n_exp= NA', parent=MBmot)\n",
      "PRC = Node('PRC inVoxel=False  n_exp= NA', parent=PAG)\n",
      "INC = Node('INC inVoxel=False  n_exp= NA', parent=PAG)\n",
      "ND = Node('ND inVoxel=False  n_exp= NA', parent=PAG)\n",
      "Su3 = Node('Su3 inVoxel=False  n_exp= NA', parent=PAG)\n",
      "EW = Node('EW inVoxel=True  n_exp= NA', parent=MBmot)\n",
      "Pa4 = Node('Pa4 inVoxel=False  n_exp= NA', parent=MBmot)\n",
      "PRT = Node('PRT inVoxel=False  n_exp= NA', parent=MBmot)\n",
      "APN = Node('APN inVoxel=True  n_exp= NA', parent=PRT)\n",
      "MPT = Node('MPT inVoxel=True  n_exp= NA', parent=PRT)\n",
      "NOT = Node('NOT inVoxel=True  n_exp= NA', parent=PRT)\n",
      "NPC = Node('NPC inVoxel=True  n_exp= NA', parent=PRT)\n",
      "OP = Node('OP inVoxel=True  n_exp= NA', parent=PRT)\n",
      "PPT = Node('PPT inVoxel=True  n_exp= NA', parent=PRT)\n",
      "RPF = Node('RPF inVoxel=False  n_exp= NA', parent=PRT)\n",
      "SNr = Node('SNr inVoxel=True  n_exp= NA', parent=MBmot)\n",
      "MA3 = Node('MA3 inVoxel=False  n_exp= NA', parent=MBmot)\n",
      "MBsen = Node('MBsen inVoxel=False  n_exp= NA', parent=MB)\n",
      "IC = Node('IC inVoxel=True  n_exp= NA', parent=MBsen)\n",
      "ICc = Node('ICc inVoxel=False  n_exp= NA', parent=IC)\n",
      "ICd = Node('ICd inVoxel=False  n_exp= NA', parent=IC)\n",
      "ICe = Node('ICe inVoxel=False  n_exp= NA', parent=IC)\n",
      "SAG = Node('SAG inVoxel=True  n_exp= NA', parent=MBsen)\n",
      "SCs = Node('SCs inVoxel=True  n_exp= NA', parent=MBsen)\n",
      "SCzo = Node('SCzo inVoxel=False  n_exp= NA', parent=SCs)\n",
      "SCsg = Node('SCsg inVoxel=False  n_exp= NA', parent=SCs)\n",
      "SCop = Node('SCop inVoxel=False  n_exp= NA', parent=SCs)\n",
      "MEV = Node('MEV inVoxel=True  n_exp= NA', parent=MBsen)\n",
      "PBG = Node('PBG inVoxel=True  n_exp= NA', parent=MBsen)\n",
      "SCO = Node('SCO inVoxel=False  n_exp= NA', parent=MBsen)\n",
      "NB = Node('NB inVoxel=True  n_exp= NA', parent=MBsen)\n",
      "MBsta = Node('MBsta inVoxel=False  n_exp= NA', parent=MB)\n",
      "RAmb = Node('RAmb inVoxel=False  n_exp= NA', parent=MBsta)\n",
      "IF = Node('IF inVoxel=True  n_exp= NA', parent=RAmb)\n",
      "IPN = Node('IPN inVoxel=True  n_exp= NA', parent=RAmb)\n",
      "IPC = Node('IPC inVoxel=False  n_exp= NA', parent=IPN)\n",
      "IPA = Node('IPA inVoxel=False  n_exp= NA', parent=IPN)\n",
      "IPL = Node('IPL inVoxel=False  n_exp= NA', parent=IPN)\n",
      "IPRL = Node('IPRL inVoxel=False  n_exp= NA', parent=IPN)\n",
      "IPR = Node('IPR inVoxel=False  n_exp= NA', parent=IPN)\n",
      "IPI = Node('IPI inVoxel=False  n_exp= NA', parent=IPN)\n",
      "IPDM = Node('IPDM inVoxel=False  n_exp= NA', parent=IPN)\n",
      "IPDL = Node('IPDL inVoxel=False  n_exp= NA', parent=IPN)\n",
      "RL = Node('RL inVoxel=True  n_exp= NA', parent=RAmb)\n",
      "CLI = Node('CLI inVoxel=True  n_exp= NA', parent=RAmb)\n",
      "DR = Node('DR inVoxel=True  n_exp= NA', parent=RAmb)\n",
      "SNc = Node('SNc inVoxel=True  n_exp= NA', parent=MBsta)\n",
      "PPN = Node('PPN inVoxel=True  n_exp= NA', parent=MBsta)\n",
      "HB = Node('HB inVoxel=False  n_exp= NA', parent=BS)\n",
      "MY = Node('MY inVoxel=False  n_exp= NA', parent=HB)\n",
      "MY_mot = Node('MY_mot inVoxel=False  n_exp= NA', parent=MY)\n",
      "IO = Node('IO inVoxel=True  n_exp= NA', parent=MY_mot)\n",
      "ISN = Node('ISN inVoxel=True  n_exp= NA', parent=MY_mot)\n",
      "AMB = Node('AMB inVoxel=True  n_exp= NA', parent=MY_mot)\n",
      "AMBv = Node('AMBv inVoxel=False  n_exp= NA', parent=AMB)\n",
      "AMBd = Node('AMBd inVoxel=False  n_exp= NA', parent=AMB)\n",
      "IRN = Node('IRN inVoxel=True  n_exp= NA', parent=MY_mot)\n",
      "PHY = Node('PHY inVoxel=False  n_exp= NA', parent=MY_mot)\n",
      "PRP = Node('PRP inVoxel=True  n_exp= NA', parent=PHY)\n",
      "NR = Node('NR inVoxel=True  n_exp= NA', parent=PHY)\n",
      "LIN = Node('LIN inVoxel=True  n_exp= NA', parent=MY_mot)\n",
      "LRN = Node('LRN inVoxel=True  n_exp= NA', parent=MY_mot)\n",
      "LRNp = Node('LRNp inVoxel=False  n_exp= NA', parent=LRN)\n",
      "LRNm = Node('LRNm inVoxel=False  n_exp= NA', parent=LRN)\n",
      "MARN = Node('MARN inVoxel=True  n_exp= NA', parent=MY_mot)\n",
      "ICB = Node('ICB inVoxel=True  n_exp= NA', parent=MY_mot)\n",
      "MDRN = Node('MDRN inVoxel=False  n_exp= NA', parent=MY_mot)\n",
      "MDRNd = Node('MDRNd inVoxel=True  n_exp= NA', parent=MDRN)\n",
      "MDRNv = Node('MDRNv inVoxel=True  n_exp= NA', parent=MDRN)\n",
      "VI = Node('VI inVoxel=True  n_exp= NA', parent=MY_mot)\n",
      "VII = Node('VII inVoxel=True  n_exp= NA', parent=MY_mot)\n",
      "x = Node('x inVoxel=True  n_exp= NA', parent=MY_mot)\n",
      "XII = Node('XII inVoxel=True  n_exp= NA', parent=MY_mot)\n",
      "y = Node('y inVoxel=True  n_exp= NA', parent=MY_mot)\n",
      "DMX = Node('DMX inVoxel=True  n_exp= NA', parent=MY_mot)\n",
      "PARN = Node('PARN inVoxel=True  n_exp= NA', parent=MY_mot)\n",
      "PAS = Node('PAS inVoxel=True  n_exp= NA', parent=MY_mot)\n",
      "PGRN = Node('PGRN inVoxel=False  n_exp= NA', parent=MY_mot)\n",
      "PGRNd = Node('PGRNd inVoxel=True  n_exp= NA', parent=PGRN)\n",
      "PGRNl = Node('PGRNl inVoxel=True  n_exp= NA', parent=PGRN)\n",
      "GRN = Node('GRN inVoxel=True  n_exp= NA', parent=MY_mot)\n",
      "PPY = Node('PPY inVoxel=True  n_exp= NA', parent=MY_mot)\n",
      "ACVII = Node('ACVII inVoxel=True  n_exp= NA', parent=MY_mot)\n",
      "VNC = Node('VNC inVoxel=False  n_exp= NA', parent=MY_mot)\n",
      "LAV = Node('LAV inVoxel=True  n_exp= NA', parent=VNC)\n",
      "SPIV = Node('SPIV inVoxel=True  n_exp= NA', parent=VNC)\n",
      "MV = Node('MV inVoxel=True  n_exp= NA', parent=VNC)\n",
      "SUV = Node('SUV inVoxel=True  n_exp= NA', parent=VNC)\n",
      "MY_sat = Node('MY_sat inVoxel=False  n_exp= NA', parent=MY)\n",
      "RPA = Node('RPA inVoxel=True  n_exp= NA', parent=MY_sat)\n",
      "RM = Node('RM inVoxel=True  n_exp= NA', parent=MY_sat)\n",
      "RO = Node('RO inVoxel=True  n_exp= NA', parent=MY_sat)\n",
      "MY_sen = Node('MY_sen inVoxel=False  n_exp= NA', parent=MY)\n",
      "AP = Node('AP inVoxel=True  n_exp= NA', parent=MY_sen)\n",
      "SPVI = Node('SPVI inVoxel=True  n_exp= NA', parent=MY_sen)\n",
      "SPVO = Node('SPVO inVoxel=True  n_exp= NA', parent=MY_sen)\n",
      "CN = Node('CN inVoxel=False  n_exp= NA', parent=MY_sen)\n",
      "DCO = Node('DCO inVoxel=True  n_exp= NA', parent=CN)\n",
      "VCO = Node('VCO inVoxel=True  n_exp= NA', parent=CN)\n",
      "NTB = Node('NTB inVoxel=True  n_exp= NA', parent=MY_sen)\n",
      "NTS = Node('NTS inVoxel=True  n_exp= NA', parent=MY_sen)\n",
      "DCN = Node('DCN inVoxel=False  n_exp= NA', parent=MY_sen)\n",
      "CU = Node('CU inVoxel=True  n_exp= NA', parent=DCN)\n",
      "GR = Node('GR inVoxel=True  n_exp= NA', parent=DCN)\n",
      "ECU = Node('ECU inVoxel=True  n_exp= NA', parent=MY_sen)\n",
      "SPVC = Node('SPVC inVoxel=True  n_exp= NA', parent=MY_sen)\n",
      "Pa5 = Node('Pa5 inVoxel=False  n_exp= NA', parent=MY_sen)\n",
      "P = Node('P inVoxel=False  n_exp= NA', parent=HB)\n",
      "P_mot = Node('P_mot inVoxel=False  n_exp= NA', parent=P)\n",
      "B = Node('B inVoxel=True  n_exp= NA', parent=P_mot)\n",
      "SG = Node('SG inVoxel=True  n_exp= NA', parent=P_mot)\n",
      "SUT = Node('SUT inVoxel=True  n_exp= NA', parent=P_mot)\n",
      "TRN = Node('TRN inVoxel=True  n_exp= NA', parent=P_mot)\n",
      "V = Node('V inVoxel=True  n_exp= NA', parent=P_mot)\n",
      "DTN = Node('DTN inVoxel=True  n_exp= NA', parent=P_mot)\n",
      "PCG = Node('PCG inVoxel=True  n_exp= NA', parent=P_mot)\n",
      "PRNc = Node('PRNc inVoxel=True  n_exp= NA', parent=P_mot)\n",
      "PDTg = Node('PDTg inVoxel=False  n_exp= NA', parent=P_mot)\n",
      "PG = Node('PG inVoxel=True  n_exp= NA', parent=P_mot)\n",
      "P5 = Node('P5 inVoxel=False  n_exp= NA', parent=P_mot)\n",
      "Acs5 = Node('Acs5 inVoxel=False  n_exp= NA', parent=P_mot)\n",
      "PC5 = Node('PC5 inVoxel=False  n_exp= NA', parent=P_mot)\n",
      "I5 = Node('I5 inVoxel=False  n_exp= NA', parent=P_mot)\n",
      "P_sat = Node('P_sat inVoxel=False  n_exp= NA', parent=P)\n",
      "PRNr = Node('PRNr inVoxel=True  n_exp= NA', parent=P_sat)\n",
      "LDT = Node('LDT inVoxel=True  n_exp= NA', parent=P_sat)\n",
      "RPO = Node('RPO inVoxel=True  n_exp= NA', parent=P_sat)\n",
      "SLC = Node('SLC inVoxel=True  n_exp= NA', parent=P_sat)\n",
      "SLD = Node('SLD inVoxel=True  n_exp= NA', parent=P_sat)\n",
      "NI = Node('NI inVoxel=True  n_exp= NA', parent=P_sat)\n",
      "CS = Node('CS inVoxel=True  n_exp= NA', parent=P_sat)\n",
      "LC = Node('LC inVoxel=True  n_exp= NA', parent=P_sat)\n",
      "P_sen = Node('P_sen inVoxel=False  n_exp= NA', parent=P)\n",
      "PSV = Node('PSV inVoxel=True  n_exp= NA', parent=P_sen)\n",
      "SOC = Node('SOC inVoxel=True  n_exp= NA', parent=P_sen)\n",
      "SOCm = Node('SOCm inVoxel=False  n_exp= NA', parent=SOC)\n",
      "SOCl = Node('SOCl inVoxel=False  n_exp= NA', parent=SOC)\n",
      "POR = Node('POR inVoxel=False  n_exp= NA', parent=SOC)\n",
      "NLL = Node('NLL inVoxel=True  n_exp= NA', parent=P_sen)\n",
      "PB = Node('PB inVoxel=True  n_exp= NA', parent=P_sen)\n",
      "KF = Node('KF inVoxel=False  n_exp= NA', parent=PB)\n",
      "IB = Node('IB inVoxel=False  n_exp= NA', parent=BS)\n",
      "HY = Node('HY inVoxel=False  n_exp= NA', parent=IB)\n",
      "PVR = Node('PVR inVoxel=False  n_exp= NA', parent=HY)\n",
      "ADP = Node('ADP inVoxel=True  n_exp= NA', parent=PVR)\n",
      "PVp = Node('PVp inVoxel=True  n_exp= NA', parent=PVR)\n",
      "PVpo = Node('PVpo inVoxel=True  n_exp= NA', parent=PVR)\n",
      "VLPO = Node('VLPO inVoxel=True  n_exp= NA', parent=PVR)\n",
      "AVP = Node('AVP inVoxel=True  n_exp= NA', parent=PVR)\n",
      "AVPV = Node('AVPV inVoxel=True  n_exp= NA', parent=PVR)\n",
      "SCH = Node('SCH inVoxel=True  n_exp= NA', parent=PVR)\n",
      "SFO = Node('SFO inVoxel=True  n_exp= NA', parent=PVR)\n",
      "SBPV = Node('SBPV inVoxel=True  n_exp= NA', parent=PVR)\n",
      "MEPO = Node('MEPO inVoxel=True  n_exp= NA', parent=PVR)\n",
      "MPO = Node('MPO inVoxel=True  n_exp= NA', parent=PVR)\n",
      "OV = Node('OV inVoxel=True  n_exp= NA', parent=PVR)\n",
      "DMH = Node('DMH inVoxel=True  n_exp= NA', parent=PVR)\n",
      "PD = Node('PD inVoxel=True  n_exp= NA', parent=PVR)\n",
      "PS = Node('PS inVoxel=True  n_exp= NA', parent=PVR)\n",
      "VMPO = Node('VMPO inVoxel=False  n_exp= NA', parent=PVR)\n",
      "PVZ = Node('PVZ inVoxel=False  n_exp= NA', parent=HY)\n",
      "PVa = Node('PVa inVoxel=True  n_exp= NA', parent=PVZ)\n",
      "PVH = Node('PVH inVoxel=True  n_exp= NA', parent=PVZ)\n",
      "PVi = Node('PVi inVoxel=True  n_exp= NA', parent=PVZ)\n",
      "ARH = Node('ARH inVoxel=True  n_exp= NA', parent=PVZ)\n",
      "ASO = Node('ASO inVoxel=True  n_exp= NA', parent=PVZ)\n",
      "SO = Node('SO inVoxel=True  n_exp= NA', parent=PVZ)\n",
      "LZ = Node('LZ inVoxel=False  n_exp= NA', parent=HY)\n",
      "RCH = Node('RCH inVoxel=True  n_exp= NA', parent=LZ)\n",
      "LHA = Node('LHA inVoxel=True  n_exp= NA', parent=LZ)\n",
      "LPO = Node('LPO inVoxel=True  n_exp= NA', parent=LZ)\n",
      "PST = Node('PST inVoxel=True  n_exp= NA', parent=LZ)\n",
      "PSTN = Node('PSTN inVoxel=True  n_exp= NA', parent=LZ)\n",
      "STN = Node('STN inVoxel=True  n_exp= NA', parent=LZ)\n",
      "TU = Node('TU inVoxel=True  n_exp= NA', parent=LZ)\n",
      "ZI = Node('ZI inVoxel=True  n_exp= NA', parent=LZ)\n",
      "FF = Node('FF inVoxel=False  n_exp= NA', parent=ZI)\n",
      "PeF = Node('PeF inVoxel=False  n_exp= NA', parent=LZ)\n",
      "MEZ = Node('MEZ inVoxel=False  n_exp= NA', parent=HY)\n",
      "PVHd = Node('PVHd inVoxel=True  n_exp= NA', parent=MEZ)\n",
      "AHN = Node('AHN inVoxel=True  n_exp= NA', parent=MEZ)\n",
      "MBO = Node('MBO inVoxel=False  n_exp= NA', parent=MEZ)\n",
      "LM = Node('LM inVoxel=True  n_exp= NA', parent=MBO)\n",
      "MM = Node('MM inVoxel=True  n_exp= NA', parent=MBO)\n",
      "MMme = Node('MMme inVoxel=False  n_exp= NA', parent=MM)\n",
      "MMm = Node('MMm inVoxel=False  n_exp= NA', parent=MM)\n",
      "MMd = Node('MMd inVoxel=False  n_exp= NA', parent=MM)\n",
      "MMl = Node('MMl inVoxel=False  n_exp= NA', parent=MM)\n",
      "MMp = Node('MMp inVoxel=False  n_exp= NA', parent=MM)\n",
      "TM = Node('TM inVoxel=False  n_exp= NA', parent=MBO)\n",
      "TMv = Node('TMv inVoxel=True  n_exp= NA', parent=TM)\n",
      "TMd = Node('TMd inVoxel=True  n_exp= NA', parent=TM)\n",
      "SUM = Node('SUM inVoxel=True  n_exp= NA', parent=MBO)\n",
      "MPN = Node('MPN inVoxel=True  n_exp= NA', parent=MEZ)\n",
      "VMH = Node('VMH inVoxel=True  n_exp= NA', parent=MEZ)\n",
      "PH = Node('PH inVoxel=True  n_exp= NA', parent=MEZ)\n",
      "PMd = Node('PMd inVoxel=True  n_exp= NA', parent=MEZ)\n",
      "PMv = Node('PMv inVoxel=True  n_exp= NA', parent=MEZ)\n",
      "ME = Node('ME inVoxel=False  n_exp= NA', parent=HY)\n",
      "TH = Node('TH inVoxel=False  n_exp= NA', parent=IB)\n",
      "DORpm = Node('DORpm inVoxel=False  n_exp= NA', parent=TH)\n",
      "ILM = Node('ILM inVoxel=False  n_exp= NA', parent=DORpm)\n",
      "RH = Node('RH inVoxel=True  n_exp= NA', parent=ILM)\n",
      "CL = Node('CL inVoxel=True  n_exp= NA', parent=ILM)\n",
      "CM = Node('CM inVoxel=True  n_exp= NA', parent=ILM)\n",
      "PCN = Node('PCN inVoxel=True  n_exp= NA', parent=ILM)\n",
      "PF = Node('PF inVoxel=True  n_exp= NA', parent=ILM)\n",
      "PIL = Node('PIL inVoxel=False  n_exp= NA', parent=ILM)\n",
      "LAT = Node('LAT inVoxel=False  n_exp= NA', parent=DORpm)\n",
      "LP = Node('LP inVoxel=True  n_exp= NA', parent=LAT)\n",
      "SGN = Node('SGN inVoxel=True  n_exp= NA', parent=LAT)\n",
      "PO = Node('PO inVoxel=True  n_exp= NA', parent=LAT)\n",
      "POL = Node('POL inVoxel=True  n_exp= NA', parent=LAT)\n",
      "Eth = Node('Eth inVoxel=False  n_exp= NA', parent=LAT)\n",
      "ATN = Node('ATN inVoxel=False  n_exp= NA', parent=DORpm)\n",
      "AD = Node('AD inVoxel=True  n_exp= NA', parent=ATN)\n",
      "AM = Node('AM inVoxel=True  n_exp= NA', parent=ATN)\n",
      "AMd = Node('AMd inVoxel=False  n_exp= NA', parent=AM)\n",
      "AMv = Node('AMv inVoxel=False  n_exp= NA', parent=AM)\n",
      "LD = Node('LD inVoxel=True  n_exp= NA', parent=ATN)\n",
      "AV = Node('AV inVoxel=True  n_exp= NA', parent=ATN)\n",
      "IAD = Node('IAD inVoxel=True  n_exp= NA', parent=ATN)\n",
      "IAM = Node('IAM inVoxel=True  n_exp= NA', parent=ATN)\n",
      "RT = Node('RT inVoxel=True  n_exp= NA', parent=DORpm)\n",
      "MED = Node('MED inVoxel=False  n_exp= NA', parent=DORpm)\n",
      "IMD = Node('IMD inVoxel=True  n_exp= NA', parent=MED)\n",
      "MD = Node('MD inVoxel=True  n_exp= NA', parent=MED)\n",
      "SMT = Node('SMT inVoxel=True  n_exp= NA', parent=MED)\n",
      "PR = Node('PR inVoxel=True  n_exp= NA', parent=MED)\n",
      "MTN = Node('MTN inVoxel=False  n_exp= NA', parent=DORpm)\n",
      "PT = Node('PT inVoxel=True  n_exp= NA', parent=MTN)\n",
      "PVT = Node('PVT inVoxel=True  n_exp= NA', parent=MTN)\n",
      "RE = Node('RE inVoxel=True  n_exp= NA', parent=MTN)\n",
      "Xi = Node('Xi inVoxel=False  n_exp= NA', parent=MTN)\n",
      "EPI = Node('EPI inVoxel=False  n_exp= NA', parent=DORpm)\n",
      "LH = Node('LH inVoxel=True  n_exp= NA', parent=EPI)\n",
      "MH = Node('MH inVoxel=True  n_exp= NA', parent=EPI)\n",
      "GENv = Node('GENv inVoxel=False  n_exp= NA', parent=DORpm)\n",
      "IGL = Node('IGL inVoxel=True  n_exp= NA', parent=GENv)\n",
      "LGv = Node('LGv inVoxel=True  n_exp= NA', parent=GENv)\n",
      "SubG = Node('SubG inVoxel=True  n_exp= NA', parent=GENv)\n",
      "IntG = Node('IntG inVoxel=False  n_exp= NA', parent=GENv)\n",
      "DORsm = Node('DORsm inVoxel=False  n_exp= NA', parent=TH)\n",
      "SPF = Node('SPF inVoxel=False  n_exp= NA', parent=DORsm)\n",
      "SPFm = Node('SPFm inVoxel=True  n_exp= NA', parent=SPF)\n",
      "SPFp = Node('SPFp inVoxel=True  n_exp= NA', parent=SPF)\n",
      "SPA = Node('SPA inVoxel=True  n_exp= NA', parent=DORsm)\n",
      "VENT = Node('VENT inVoxel=False  n_exp= NA', parent=DORsm)\n",
      "VM = Node('VM inVoxel=True  n_exp= NA', parent=VENT)\n",
      "PoT = Node('PoT inVoxel=False  n_exp= NA', parent=VENT)\n",
      "VAL = Node('VAL inVoxel=True  n_exp= NA', parent=VENT)\n",
      "VP = Node('VP inVoxel=False  n_exp= NA', parent=VENT)\n",
      "VPL = Node('VPL inVoxel=True  n_exp= NA', parent=VP)\n",
      "VPLpc = Node('VPLpc inVoxel=True  n_exp= NA', parent=VP)\n",
      "VPM = Node('VPM inVoxel=True  n_exp= NA', parent=VP)\n",
      "VPMpc = Node('VPMpc inVoxel=True  n_exp= NA', parent=VP)\n",
      "GENd = Node('GENd inVoxel=False  n_exp= NA', parent=DORsm)\n",
      "LGd = Node('LGd inVoxel=True  n_exp= NA', parent=GENd)\n",
      "LGd_sh = Node('LGd_sh inVoxel=False  n_exp= NA', parent=LGd)\n",
      "LGd_co = Node('LGd_co inVoxel=False  n_exp= NA', parent=LGd)\n",
      "LGd_ip = Node('LGd_ip inVoxel=False  n_exp= NA', parent=LGd)\n",
      "MG = Node('MG inVoxel=True  n_exp= NA', parent=GENd)\n",
      "MGd = Node('MGd inVoxel=False  n_exp= NA', parent=MG)\n",
      "MGv = Node('MGv inVoxel=False  n_exp= NA', parent=MG)\n",
      "MGm = Node('MGm inVoxel=False  n_exp= NA', parent=MG)\n",
      "PP = Node('PP inVoxel=True  n_exp= NA', parent=DORsm)\n"
     ]
    }
   ],
   "source": [
    "print_code_for_tree('BS')"
   ]
  },
  {
   "cell_type": "code",
   "execution_count": 47,
   "metadata": {},
   "outputs": [],
   "source": [
    "BS = Node('BS inVoxel=False')\n",
    "CTX= Node('CTX inVoxel=False')"
   ]
  },
  {
   "cell_type": "code",
   "execution_count": 41,
   "metadata": {},
   "outputs": [],
   "source": [
    "MB = Node('MB inVoxel=False  n_exp= NA', parent=BS)\n",
    "MBmot = Node('MBmot inVoxel=False  n_exp= NA', parent=MB)\n",
    "III = Node('III inVoxel=True  n_exp= NA', parent=MBmot)\n",
    "MT = Node('MT inVoxel=False  n_exp= NA', parent=MBmot)\n",
    "LT = Node('LT inVoxel=True  n_exp= NA', parent=MBmot)\n",
    "DT = Node('DT inVoxel=False  n_exp= NA', parent=MBmot)\n",
    "IV = Node('IV inVoxel=True  n_exp= NA', parent=MBmot)\n",
    "MRN = Node('MRN inVoxel=True  n_exp= NA', parent=MBmot)\n",
    "PN = Node('PN inVoxel=False  n_exp= NA', parent=MBmot)\n",
    "RN = Node('RN inVoxel=True  n_exp= NA', parent=MBmot)\n",
    "AT = Node('AT inVoxel=True  n_exp= NA', parent=MBmot)\n",
    "RR = Node('RR inVoxel=True  n_exp= NA', parent=MBmot)\n",
    "SCm = Node('SCm inVoxel=True  n_exp= NA', parent=MBmot)\n",
    "SCig = Node('SCig inVoxel=False  n_exp= NA', parent=SCm)\n",
    "SCig_a = Node('SCig_a inVoxel=False  n_exp= NA', parent=SCig)\n",
    "SCig_b = Node('SCig_b inVoxel=False  n_exp= NA', parent=SCig)\n",
    "SCig_c = Node('SCig_c inVoxel=False  n_exp= NA', parent=SCig)\n",
    "SCiw = Node('SCiw inVoxel=False  n_exp= NA', parent=SCm)\n",
    "SCdg = Node('SCdg inVoxel=False  n_exp= NA', parent=SCm)\n",
    "SCdw = Node('SCdw inVoxel=False  n_exp= NA', parent=SCm)\n",
    "CUN = Node('CUN inVoxel=True  n_exp= NA', parent=MBmot)\n",
    "VTA = Node('VTA inVoxel=True  n_exp= NA', parent=MBmot)\n",
    "VTN = Node('VTN inVoxel=True  n_exp= NA', parent=MBmot)\n",
    "PAG = Node('PAG inVoxel=True  n_exp= NA', parent=MBmot)\n",
    "PRC = Node('PRC inVoxel=False  n_exp= NA', parent=PAG)\n",
    "INC = Node('INC inVoxel=False  n_exp= NA', parent=PAG)\n",
    "ND = Node('ND inVoxel=False  n_exp= NA', parent=PAG)\n",
    "Su3 = Node('Su3 inVoxel=False  n_exp= NA', parent=PAG)\n",
    "EW = Node('EW inVoxel=True  n_exp= NA', parent=MBmot)\n",
    "Pa4 = Node('Pa4 inVoxel=False  n_exp= NA', parent=MBmot)\n",
    "PRT = Node('PRT inVoxel=False  n_exp= NA', parent=MBmot)\n",
    "APN = Node('APN inVoxel=True  n_exp= NA', parent=PRT)\n",
    "MPT = Node('MPT inVoxel=True  n_exp= NA', parent=PRT)\n",
    "NOT = Node('NOT inVoxel=True  n_exp= NA', parent=PRT)\n",
    "NPC = Node('NPC inVoxel=True  n_exp= NA', parent=PRT)\n",
    "OP = Node('OP inVoxel=True  n_exp= NA', parent=PRT)\n",
    "PPT = Node('PPT inVoxel=True  n_exp= NA', parent=PRT)\n",
    "RPF = Node('RPF inVoxel=False  n_exp= NA', parent=PRT)\n",
    "SNr = Node('SNr inVoxel=True  n_exp= NA', parent=MBmot)\n",
    "MA3 = Node('MA3 inVoxel=False  n_exp= NA', parent=MBmot)\n",
    "MBsen = Node('MBsen inVoxel=False  n_exp= NA', parent=MB)\n",
    "IC = Node('IC inVoxel=True  n_exp= NA', parent=MBsen)\n",
    "ICc = Node('ICc inVoxel=False  n_exp= NA', parent=IC)\n",
    "ICd = Node('ICd inVoxel=False  n_exp= NA', parent=IC)\n",
    "ICe = Node('ICe inVoxel=False  n_exp= NA', parent=IC)\n",
    "SAG = Node('SAG inVoxel=True  n_exp= NA', parent=MBsen)\n",
    "SCs = Node('SCs inVoxel=True  n_exp= NA', parent=MBsen)\n",
    "SCzo = Node('SCzo inVoxel=False  n_exp= NA', parent=SCs)\n",
    "SCsg = Node('SCsg inVoxel=False  n_exp= NA', parent=SCs)\n",
    "SCop = Node('SCop inVoxel=False  n_exp= NA', parent=SCs)\n",
    "MEV = Node('MEV inVoxel=True  n_exp= NA', parent=MBsen)\n",
    "PBG = Node('PBG inVoxel=True  n_exp= NA', parent=MBsen)\n",
    "SCO = Node('SCO inVoxel=False  n_exp= NA', parent=MBsen)\n",
    "NB = Node('NB inVoxel=True  n_exp= NA', parent=MBsen)\n",
    "MBsta = Node('MBsta inVoxel=False  n_exp= NA', parent=MB)\n",
    "RAmb = Node('RAmb inVoxel=False  n_exp= NA', parent=MBsta)\n",
    "IF = Node('IF inVoxel=True  n_exp= NA', parent=RAmb)\n",
    "IPN = Node('IPN inVoxel=True  n_exp= NA', parent=RAmb)\n",
    "IPC = Node('IPC inVoxel=False  n_exp= NA', parent=IPN)\n",
    "IPA = Node('IPA inVoxel=False  n_exp= NA', parent=IPN)\n",
    "IPL = Node('IPL inVoxel=False  n_exp= NA', parent=IPN)\n",
    "IPRL = Node('IPRL inVoxel=False  n_exp= NA', parent=IPN)\n",
    "IPR = Node('IPR inVoxel=False  n_exp= NA', parent=IPN)\n",
    "IPI = Node('IPI inVoxel=False  n_exp= NA', parent=IPN)\n",
    "IPDM = Node('IPDM inVoxel=False  n_exp= NA', parent=IPN)\n",
    "IPDL = Node('IPDL inVoxel=False  n_exp= NA', parent=IPN)\n",
    "RL = Node('RL inVoxel=True  n_exp= NA', parent=RAmb)\n",
    "CLI = Node('CLI inVoxel=True  n_exp= NA', parent=RAmb)\n",
    "DR = Node('DR inVoxel=True  n_exp= NA', parent=RAmb)\n",
    "SNc = Node('SNc inVoxel=True  n_exp= NA', parent=MBsta)\n",
    "PPN = Node('PPN inVoxel=True  n_exp= NA', parent=MBsta)\n",
    "HB = Node('HB inVoxel=False  n_exp= NA', parent=BS)\n",
    "MY = Node('MY inVoxel=False  n_exp= NA', parent=HB)\n",
    "MY_mot = Node('MY_mot inVoxel=False  n_exp= NA', parent=MY)\n",
    "IO = Node('IO inVoxel=True  n_exp= NA', parent=MY_mot)\n",
    "ISN = Node('ISN inVoxel=True  n_exp= NA', parent=MY_mot)\n",
    "AMB = Node('AMB inVoxel=True  n_exp= NA', parent=MY_mot)\n",
    "AMBv = Node('AMBv inVoxel=False  n_exp= NA', parent=AMB)\n",
    "AMBd = Node('AMBd inVoxel=False  n_exp= NA', parent=AMB)\n",
    "IRN = Node('IRN inVoxel=True  n_exp= NA', parent=MY_mot)\n",
    "PHY = Node('PHY inVoxel=False  n_exp= NA', parent=MY_mot)\n",
    "PRP = Node('PRP inVoxel=True  n_exp= NA', parent=PHY)\n",
    "NR = Node('NR inVoxel=True  n_exp= NA', parent=PHY)\n",
    "LIN = Node('LIN inVoxel=True  n_exp= NA', parent=MY_mot)\n",
    "LRN = Node('LRN inVoxel=True  n_exp= NA', parent=MY_mot)\n",
    "LRNp = Node('LRNp inVoxel=False  n_exp= NA', parent=LRN)\n",
    "LRNm = Node('LRNm inVoxel=False  n_exp= NA', parent=LRN)\n",
    "MARN = Node('MARN inVoxel=True  n_exp= NA', parent=MY_mot)\n",
    "ICB = Node('ICB inVoxel=True  n_exp= NA', parent=MY_mot)\n",
    "MDRN = Node('MDRN inVoxel=False  n_exp= NA', parent=MY_mot)\n",
    "MDRNd = Node('MDRNd inVoxel=True  n_exp= NA', parent=MDRN)\n",
    "MDRNv = Node('MDRNv inVoxel=True  n_exp= NA', parent=MDRN)\n",
    "VI = Node('VI inVoxel=True  n_exp= NA', parent=MY_mot)\n",
    "VII = Node('VII inVoxel=True  n_exp= NA', parent=MY_mot)\n",
    "x = Node('x inVoxel=True  n_exp= NA', parent=MY_mot)\n",
    "XII = Node('XII inVoxel=True  n_exp= NA', parent=MY_mot)\n",
    "y = Node('y inVoxel=True  n_exp= NA', parent=MY_mot)\n",
    "DMX = Node('DMX inVoxel=True  n_exp= NA', parent=MY_mot)\n",
    "PARN = Node('PARN inVoxel=True  n_exp= NA', parent=MY_mot)\n",
    "PAS = Node('PAS inVoxel=True  n_exp= NA', parent=MY_mot)\n",
    "PGRN = Node('PGRN inVoxel=False  n_exp= NA', parent=MY_mot)\n",
    "PGRNd = Node('PGRNd inVoxel=True  n_exp= NA', parent=PGRN)\n",
    "PGRNl = Node('PGRNl inVoxel=True  n_exp= NA', parent=PGRN)\n",
    "GRN = Node('GRN inVoxel=True  n_exp= NA', parent=MY_mot)\n",
    "PPY = Node('PPY inVoxel=True  n_exp= NA', parent=MY_mot)\n",
    "ACVII = Node('ACVII inVoxel=True  n_exp= NA', parent=MY_mot)\n",
    "VNC = Node('VNC inVoxel=False  n_exp= NA', parent=MY_mot)\n",
    "LAV = Node('LAV inVoxel=True  n_exp= NA', parent=VNC)\n",
    "SPIV = Node('SPIV inVoxel=True  n_exp= NA', parent=VNC)\n",
    "MV = Node('MV inVoxel=True  n_exp= NA', parent=VNC)\n",
    "SUV = Node('SUV inVoxel=True  n_exp= NA', parent=VNC)\n",
    "MY_sat = Node('MY_sat inVoxel=False  n_exp= NA', parent=MY)\n",
    "RPA = Node('RPA inVoxel=True  n_exp= NA', parent=MY_sat)\n",
    "RM = Node('RM inVoxel=True  n_exp= NA', parent=MY_sat)\n",
    "RO = Node('RO inVoxel=True  n_exp= NA', parent=MY_sat)\n",
    "MY_sen = Node('MY_sen inVoxel=False  n_exp= NA', parent=MY)\n",
    "AP = Node('AP inVoxel=True  n_exp= NA', parent=MY_sen)\n",
    "SPVI = Node('SPVI inVoxel=True  n_exp= NA', parent=MY_sen)\n",
    "SPVO = Node('SPVO inVoxel=True  n_exp= NA', parent=MY_sen)\n",
    "CN = Node('CN inVoxel=False  n_exp= NA', parent=MY_sen)\n",
    "DCO = Node('DCO inVoxel=True  n_exp= NA', parent=CN)\n",
    "VCO = Node('VCO inVoxel=True  n_exp= NA', parent=CN)\n",
    "NTB = Node('NTB inVoxel=True  n_exp= NA', parent=MY_sen)\n",
    "NTS = Node('NTS inVoxel=True  n_exp= NA', parent=MY_sen)\n",
    "DCN = Node('DCN inVoxel=False  n_exp= NA', parent=MY_sen)\n",
    "CU = Node('CU inVoxel=True  n_exp= NA', parent=DCN)\n",
    "GR = Node('GR inVoxel=True  n_exp= NA', parent=DCN)\n",
    "ECU = Node('ECU inVoxel=True  n_exp= NA', parent=MY_sen)\n",
    "SPVC = Node('SPVC inVoxel=True  n_exp= NA', parent=MY_sen)\n",
    "Pa5 = Node('Pa5 inVoxel=False  n_exp= NA', parent=MY_sen)\n",
    "P = Node('P inVoxel=False  n_exp= NA', parent=HB)\n",
    "P_mot = Node('P_mot inVoxel=False  n_exp= NA', parent=P)\n",
    "B = Node('B inVoxel=True  n_exp= NA', parent=P_mot)\n",
    "SG = Node('SG inVoxel=True  n_exp= NA', parent=P_mot)\n",
    "SUT = Node('SUT inVoxel=True  n_exp= NA', parent=P_mot)\n",
    "TRN = Node('TRN inVoxel=True  n_exp= NA', parent=P_mot)\n",
    "V = Node('V inVoxel=True  n_exp= NA', parent=P_mot)\n",
    "DTN = Node('DTN inVoxel=True  n_exp= NA', parent=P_mot)\n",
    "PCG = Node('PCG inVoxel=True  n_exp= NA', parent=P_mot)\n",
    "PRNc = Node('PRNc inVoxel=True  n_exp= NA', parent=P_mot)\n",
    "PDTg = Node('PDTg inVoxel=False  n_exp= NA', parent=P_mot)\n",
    "PG = Node('PG inVoxel=True  n_exp= NA', parent=P_mot)\n",
    "P5 = Node('P5 inVoxel=False  n_exp= NA', parent=P_mot)\n",
    "Acs5 = Node('Acs5 inVoxel=False  n_exp= NA', parent=P_mot)\n",
    "PC5 = Node('PC5 inVoxel=False  n_exp= NA', parent=P_mot)\n",
    "I5 = Node('I5 inVoxel=False  n_exp= NA', parent=P_mot)\n",
    "P_sat = Node('P_sat inVoxel=False  n_exp= NA', parent=P)\n",
    "PRNr = Node('PRNr inVoxel=True  n_exp= NA', parent=P_sat)\n",
    "LDT = Node('LDT inVoxel=True  n_exp= NA', parent=P_sat)\n",
    "RPO = Node('RPO inVoxel=True  n_exp= NA', parent=P_sat)\n",
    "SLC = Node('SLC inVoxel=True  n_exp= NA', parent=P_sat)\n",
    "SLD = Node('SLD inVoxel=True  n_exp= NA', parent=P_sat)\n",
    "NI = Node('NI inVoxel=True  n_exp= NA', parent=P_sat)\n",
    "CS = Node('CS inVoxel=True  n_exp= NA', parent=P_sat)\n",
    "LC = Node('LC inVoxel=True  n_exp= NA', parent=P_sat)\n",
    "P_sen = Node('P_sen inVoxel=False  n_exp= NA', parent=P)\n",
    "PSV = Node('PSV inVoxel=True  n_exp= NA', parent=P_sen)\n",
    "SOC = Node('SOC inVoxel=True  n_exp= NA', parent=P_sen)\n",
    "SOCm = Node('SOCm inVoxel=False  n_exp= NA', parent=SOC)\n",
    "SOCl = Node('SOCl inVoxel=False  n_exp= NA', parent=SOC)\n",
    "POR = Node('POR inVoxel=False  n_exp= NA', parent=SOC)\n",
    "NLL = Node('NLL inVoxel=True  n_exp= NA', parent=P_sen)\n",
    "PB = Node('PB inVoxel=True  n_exp= NA', parent=P_sen)\n",
    "KF = Node('KF inVoxel=False  n_exp= NA', parent=PB)\n",
    "IB = Node('IB inVoxel=False  n_exp= NA', parent=BS)\n",
    "HY = Node('HY inVoxel=False  n_exp= NA', parent=IB)\n",
    "PVR = Node('PVR inVoxel=False  n_exp= NA', parent=HY)\n",
    "ADP = Node('ADP inVoxel=True  n_exp= NA', parent=PVR)\n",
    "PVp = Node('PVp inVoxel=True  n_exp= NA', parent=PVR)\n",
    "PVpo = Node('PVpo inVoxel=True  n_exp= NA', parent=PVR)\n",
    "VLPO = Node('VLPO inVoxel=True  n_exp= NA', parent=PVR)\n",
    "AVP = Node('AVP inVoxel=True  n_exp= NA', parent=PVR)\n",
    "AVPV = Node('AVPV inVoxel=True  n_exp= NA', parent=PVR)\n",
    "SCH = Node('SCH inVoxel=True  n_exp= NA', parent=PVR)\n",
    "SFO = Node('SFO inVoxel=True  n_exp= NA', parent=PVR)\n",
    "SBPV = Node('SBPV inVoxel=True  n_exp= NA', parent=PVR)\n",
    "MEPO = Node('MEPO inVoxel=True  n_exp= NA', parent=PVR)\n",
    "MPO = Node('MPO inVoxel=True  n_exp= NA', parent=PVR)\n",
    "OV = Node('OV inVoxel=True  n_exp= NA', parent=PVR)\n",
    "DMH = Node('DMH inVoxel=True  n_exp= NA', parent=PVR)\n",
    "PD = Node('PD inVoxel=True  n_exp= NA', parent=PVR)\n",
    "PS = Node('PS inVoxel=True  n_exp= NA', parent=PVR)\n",
    "VMPO = Node('VMPO inVoxel=False  n_exp= NA', parent=PVR)\n",
    "PVZ = Node('PVZ inVoxel=False  n_exp= NA', parent=HY)\n",
    "PVa = Node('PVa inVoxel=True  n_exp= NA', parent=PVZ)\n",
    "PVH = Node('PVH inVoxel=True  n_exp= NA', parent=PVZ)\n",
    "PVi = Node('PVi inVoxel=True  n_exp= NA', parent=PVZ)\n",
    "ARH = Node('ARH inVoxel=True  n_exp= NA', parent=PVZ)\n",
    "ASO = Node('ASO inVoxel=True  n_exp= NA', parent=PVZ)\n",
    "SO = Node('SO inVoxel=True  n_exp= NA', parent=PVZ)\n",
    "LZ = Node('LZ inVoxel=False  n_exp= NA', parent=HY)\n",
    "RCH = Node('RCH inVoxel=True  n_exp= NA', parent=LZ)\n",
    "LHA = Node('LHA inVoxel=True  n_exp= NA', parent=LZ)\n",
    "LPO = Node('LPO inVoxel=True  n_exp= NA', parent=LZ)\n",
    "PST = Node('PST inVoxel=True  n_exp= NA', parent=LZ)\n",
    "PSTN = Node('PSTN inVoxel=True  n_exp= NA', parent=LZ)\n",
    "STN = Node('STN inVoxel=True  n_exp= NA', parent=LZ)\n",
    "TU = Node('TU inVoxel=True  n_exp= NA', parent=LZ)\n",
    "ZI = Node('ZI inVoxel=True  n_exp= NA', parent=LZ)\n",
    "FF = Node('FF inVoxel=False  n_exp= NA', parent=ZI)\n",
    "PeF = Node('PeF inVoxel=False  n_exp= NA', parent=LZ)\n",
    "MEZ = Node('MEZ inVoxel=False  n_exp= NA', parent=HY)\n",
    "PVHd = Node('PVHd inVoxel=True  n_exp= NA', parent=MEZ)\n",
    "AHN = Node('AHN inVoxel=True  n_exp= NA', parent=MEZ)\n",
    "MBO = Node('MBO inVoxel=False  n_exp= NA', parent=MEZ)\n",
    "LM = Node('LM inVoxel=True  n_exp= NA', parent=MBO)\n",
    "MM = Node('MM inVoxel=True  n_exp= NA', parent=MBO)\n",
    "MMme = Node('MMme inVoxel=False  n_exp= NA', parent=MM)\n",
    "MMm = Node('MMm inVoxel=False  n_exp= NA', parent=MM)\n",
    "MMd = Node('MMd inVoxel=False  n_exp= NA', parent=MM)\n",
    "MMl = Node('MMl inVoxel=False  n_exp= NA', parent=MM)\n",
    "MMp = Node('MMp inVoxel=False  n_exp= NA', parent=MM)\n",
    "TM = Node('TM inVoxel=False  n_exp= NA', parent=MBO)\n",
    "TMv = Node('TMv inVoxel=True  n_exp= NA', parent=TM)\n",
    "TMd = Node('TMd inVoxel=True  n_exp= NA', parent=TM)\n",
    "SUM = Node('SUM inVoxel=True  n_exp= NA', parent=MBO)\n",
    "MPN = Node('MPN inVoxel=True  n_exp= NA', parent=MEZ)\n",
    "VMH = Node('VMH inVoxel=True  n_exp= NA', parent=MEZ)\n",
    "PH = Node('PH inVoxel=True  n_exp= NA', parent=MEZ)\n",
    "PMd = Node('PMd inVoxel=True  n_exp= NA', parent=MEZ)\n",
    "PMv = Node('PMv inVoxel=True  n_exp= NA', parent=MEZ)\n",
    "ME = Node('ME inVoxel=False  n_exp= NA', parent=HY)\n",
    "TH = Node('TH inVoxel=False  n_exp= NA', parent=IB)\n",
    "DORpm = Node('DORpm inVoxel=False  n_exp= NA', parent=TH)\n",
    "ILM = Node('ILM inVoxel=False  n_exp= NA', parent=DORpm)\n",
    "RH = Node('RH inVoxel=True  n_exp= NA', parent=ILM)\n",
    "CL = Node('CL inVoxel=True  n_exp= NA', parent=ILM)\n",
    "CM = Node('CM inVoxel=True  n_exp= NA', parent=ILM)\n",
    "PCN = Node('PCN inVoxel=True  n_exp= NA', parent=ILM)\n",
    "PF = Node('PF inVoxel=True  n_exp= NA', parent=ILM)\n",
    "PIL = Node('PIL inVoxel=False  n_exp= NA', parent=ILM)\n",
    "LAT = Node('LAT inVoxel=False  n_exp= NA', parent=DORpm)\n",
    "LP = Node('LP inVoxel=True  n_exp= NA', parent=LAT)\n",
    "SGN = Node('SGN inVoxel=True  n_exp= NA', parent=LAT)\n",
    "PO = Node('PO inVoxel=True  n_exp= NA', parent=LAT)\n",
    "POL = Node('POL inVoxel=True  n_exp= NA', parent=LAT)\n",
    "Eth = Node('Eth inVoxel=False  n_exp= NA', parent=LAT)\n",
    "ATN = Node('ATN inVoxel=False  n_exp= NA', parent=DORpm)\n",
    "AD = Node('AD inVoxel=True  n_exp= NA', parent=ATN)\n",
    "AM = Node('AM inVoxel=True  n_exp= NA', parent=ATN)\n",
    "AMd = Node('AMd inVoxel=False  n_exp= NA', parent=AM)\n",
    "AMv = Node('AMv inVoxel=False  n_exp= NA', parent=AM)\n",
    "LD = Node('LD inVoxel=True  n_exp= NA', parent=ATN)\n",
    "AV = Node('AV inVoxel=True  n_exp= NA', parent=ATN)\n",
    "IAD = Node('IAD inVoxel=True  n_exp= NA', parent=ATN)\n",
    "IAM = Node('IAM inVoxel=True  n_exp= NA', parent=ATN)\n",
    "RT = Node('RT inVoxel=True  n_exp= NA', parent=DORpm)\n",
    "MED = Node('MED inVoxel=False  n_exp= NA', parent=DORpm)\n",
    "IMD = Node('IMD inVoxel=True  n_exp= NA', parent=MED)\n",
    "MD = Node('MD inVoxel=True  n_exp= NA', parent=MED)\n",
    "SMT = Node('SMT inVoxel=True  n_exp= NA', parent=MED)\n",
    "PR = Node('PR inVoxel=True  n_exp= NA', parent=MED)\n",
    "MTN = Node('MTN inVoxel=False  n_exp= NA', parent=DORpm)\n",
    "PT = Node('PT inVoxel=True  n_exp= NA', parent=MTN)\n",
    "PVT = Node('PVT inVoxel=True  n_exp= NA', parent=MTN)\n",
    "RE = Node('RE inVoxel=True  n_exp= NA', parent=MTN)\n",
    "Xi = Node('Xi inVoxel=False  n_exp= NA', parent=MTN)\n",
    "EPI = Node('EPI inVoxel=False  n_exp= NA', parent=DORpm)\n",
    "LH = Node('LH inVoxel=True  n_exp= NA', parent=EPI)\n",
    "MH = Node('MH inVoxel=True  n_exp= NA', parent=EPI)\n",
    "GENv = Node('GENv inVoxel=False  n_exp= NA', parent=DORpm)\n",
    "IGL = Node('IGL inVoxel=True  n_exp= NA', parent=GENv)\n",
    "LGv = Node('LGv inVoxel=True  n_exp= NA', parent=GENv)\n",
    "SubG = Node('SubG inVoxel=True  n_exp= NA', parent=GENv)\n",
    "IntG = Node('IntG inVoxel=False  n_exp= NA', parent=GENv)\n",
    "DORsm = Node('DORsm inVoxel=False  n_exp= NA', parent=TH)\n",
    "SPF = Node('SPF inVoxel=False  n_exp= NA', parent=DORsm)\n",
    "SPFm = Node('SPFm inVoxel=True  n_exp= NA', parent=SPF)\n",
    "SPFp = Node('SPFp inVoxel=True  n_exp= NA', parent=SPF)\n",
    "SPA = Node('SPA inVoxel=True  n_exp= NA', parent=DORsm)\n",
    "VENT = Node('VENT inVoxel=False  n_exp= NA', parent=DORsm)\n",
    "VM = Node('VM inVoxel=True  n_exp= NA', parent=VENT)\n",
    "PoT = Node('PoT inVoxel=False  n_exp= NA', parent=VENT)\n",
    "VAL = Node('VAL inVoxel=True  n_exp= NA', parent=VENT)\n",
    "VP = Node('VP inVoxel=False  n_exp= NA', parent=VENT)\n",
    "VPL = Node('VPL inVoxel=True  n_exp= NA', parent=VP)\n",
    "VPLpc = Node('VPLpc inVoxel=True  n_exp= NA', parent=VP)\n",
    "VPM = Node('VPM inVoxel=True  n_exp= NA', parent=VP)\n",
    "VPMpc = Node('VPMpc inVoxel=True  n_exp= NA', parent=VP)\n",
    "GENd = Node('GENd inVoxel=False  n_exp= NA', parent=DORsm)\n",
    "LGd = Node('LGd inVoxel=True  n_exp= NA', parent=GENd)\n",
    "LGd_sh = Node('LGd_sh inVoxel=False  n_exp= NA', parent=LGd)\n",
    "LGd_co = Node('LGd_co inVoxel=False  n_exp= NA', parent=LGd)\n",
    "LGd_ip = Node('LGd_ip inVoxel=False  n_exp= NA', parent=LGd)\n",
    "MG = Node('MG inVoxel=True  n_exp= NA', parent=GENd)\n",
    "MGd = Node('MGd inVoxel=False  n_exp= NA', parent=MG)\n",
    "MGv = Node('MGv inVoxel=False  n_exp= NA', parent=MG)\n",
    "MGm = Node('MGm inVoxel=False  n_exp= NA', parent=MG)\n",
    "PP = Node('PP inVoxel=True  n_exp= NA', parent=DORsm)"
   ]
  },
  {
   "cell_type": "code",
   "execution_count": 42,
   "metadata": {
    "scrolled": true
   },
   "outputs": [
    {
     "name": "stdout",
     "output_type": "stream",
     "text": [
      " BS inVoxel=False\n",
      "├──  MB inVoxel=False  n_exp= NA\n",
      "│   ├──  MBmot inVoxel=False  n_exp= NA\n",
      "│   │   ├──  III inVoxel=True  n_exp= NA\n",
      "│   │   ├──  MT inVoxel=False  n_exp= NA\n",
      "│   │   ├──  LT inVoxel=True  n_exp= NA\n",
      "│   │   ├──  DT inVoxel=False  n_exp= NA\n",
      "│   │   ├──  IV inVoxel=True  n_exp= NA\n",
      "│   │   ├──  MRN inVoxel=True  n_exp= NA\n",
      "│   │   ├──  PN inVoxel=False  n_exp= NA\n",
      "│   │   ├──  RN inVoxel=True  n_exp= NA\n",
      "│   │   ├──  AT inVoxel=True  n_exp= NA\n",
      "│   │   ├──  RR inVoxel=True  n_exp= NA\n",
      "│   │   ├──  SCm inVoxel=True  n_exp= NA\n",
      "│   │   │   ├──  SCig inVoxel=False  n_exp= NA\n",
      "│   │   │   │   ├──  SCig_a inVoxel=False  n_exp= NA\n",
      "│   │   │   │   ├──  SCig_b inVoxel=False  n_exp= NA\n",
      "│   │   │   │   └──  SCig_c inVoxel=False  n_exp= NA\n",
      "│   │   │   ├──  SCiw inVoxel=False  n_exp= NA\n",
      "│   │   │   ├──  SCdg inVoxel=False  n_exp= NA\n",
      "│   │   │   └──  SCdw inVoxel=False  n_exp= NA\n",
      "│   │   ├──  CUN inVoxel=True  n_exp= NA\n",
      "│   │   ├──  VTA inVoxel=True  n_exp= NA\n",
      "│   │   ├──  VTN inVoxel=True  n_exp= NA\n",
      "│   │   ├──  PAG inVoxel=True  n_exp= NA\n",
      "│   │   │   ├──  PRC inVoxel=False  n_exp= NA\n",
      "│   │   │   ├──  INC inVoxel=False  n_exp= NA\n",
      "│   │   │   ├──  ND inVoxel=False  n_exp= NA\n",
      "│   │   │   └──  Su3 inVoxel=False  n_exp= NA\n",
      "│   │   ├──  EW inVoxel=True  n_exp= NA\n",
      "│   │   ├──  Pa4 inVoxel=False  n_exp= NA\n",
      "│   │   ├──  PRT inVoxel=False  n_exp= NA\n",
      "│   │   │   ├──  APN inVoxel=True  n_exp= NA\n",
      "│   │   │   ├──  MPT inVoxel=True  n_exp= NA\n",
      "│   │   │   ├──  NOT inVoxel=True  n_exp= NA\n",
      "│   │   │   ├──  NPC inVoxel=True  n_exp= NA\n",
      "│   │   │   ├──  OP inVoxel=True  n_exp= NA\n",
      "│   │   │   ├──  PPT inVoxel=True  n_exp= NA\n",
      "│   │   │   └──  RPF inVoxel=False  n_exp= NA\n",
      "│   │   ├──  SNr inVoxel=True  n_exp= NA\n",
      "│   │   └──  MA3 inVoxel=False  n_exp= NA\n",
      "│   ├──  MBsen inVoxel=False  n_exp= NA\n",
      "│   │   ├──  IC inVoxel=True  n_exp= NA\n",
      "│   │   │   ├──  ICc inVoxel=False  n_exp= NA\n",
      "│   │   │   ├──  ICd inVoxel=False  n_exp= NA\n",
      "│   │   │   └──  ICe inVoxel=False  n_exp= NA\n",
      "│   │   ├──  SAG inVoxel=True  n_exp= NA\n",
      "│   │   ├──  SCs inVoxel=True  n_exp= NA\n",
      "│   │   │   ├──  SCzo inVoxel=False  n_exp= NA\n",
      "│   │   │   ├──  SCsg inVoxel=False  n_exp= NA\n",
      "│   │   │   └──  SCop inVoxel=False  n_exp= NA\n",
      "│   │   ├──  MEV inVoxel=True  n_exp= NA\n",
      "│   │   ├──  PBG inVoxel=True  n_exp= NA\n",
      "│   │   ├──  SCO inVoxel=False  n_exp= NA\n",
      "│   │   └──  NB inVoxel=True  n_exp= NA\n",
      "│   └──  MBsta inVoxel=False  n_exp= NA\n",
      "│       ├──  RAmb inVoxel=False  n_exp= NA\n",
      "│       │   ├──  IF inVoxel=True  n_exp= NA\n",
      "│       │   ├──  IPN inVoxel=True  n_exp= NA\n",
      "│       │   │   ├──  IPC inVoxel=False  n_exp= NA\n",
      "│       │   │   ├──  IPA inVoxel=False  n_exp= NA\n",
      "│       │   │   ├──  IPL inVoxel=False  n_exp= NA\n",
      "│       │   │   ├──  IPRL inVoxel=False  n_exp= NA\n",
      "│       │   │   ├──  IPR inVoxel=False  n_exp= NA\n",
      "│       │   │   ├──  IPI inVoxel=False  n_exp= NA\n",
      "│       │   │   ├──  IPDM inVoxel=False  n_exp= NA\n",
      "│       │   │   └──  IPDL inVoxel=False  n_exp= NA\n",
      "│       │   ├──  RL inVoxel=True  n_exp= NA\n",
      "│       │   ├──  CLI inVoxel=True  n_exp= NA\n",
      "│       │   └──  DR inVoxel=True  n_exp= NA\n",
      "│       ├──  SNc inVoxel=True  n_exp= NA\n",
      "│       └──  PPN inVoxel=True  n_exp= NA\n",
      "├──  HB inVoxel=False  n_exp= NA\n",
      "│   ├──  MY inVoxel=False  n_exp= NA\n",
      "│   │   ├──  MY_mot inVoxel=False  n_exp= NA\n",
      "│   │   │   ├──  IO inVoxel=True  n_exp= NA\n",
      "│   │   │   ├──  ISN inVoxel=True  n_exp= NA\n",
      "│   │   │   ├──  AMB inVoxel=True  n_exp= NA\n",
      "│   │   │   │   ├──  AMBv inVoxel=False  n_exp= NA\n",
      "│   │   │   │   └──  AMBd inVoxel=False  n_exp= NA\n",
      "│   │   │   ├──  IRN inVoxel=True  n_exp= NA\n",
      "│   │   │   ├──  PHY inVoxel=False  n_exp= NA\n",
      "│   │   │   │   ├──  PRP inVoxel=True  n_exp= NA\n",
      "│   │   │   │   └──  NR inVoxel=True  n_exp= NA\n",
      "│   │   │   ├──  LIN inVoxel=True  n_exp= NA\n",
      "│   │   │   ├──  LRN inVoxel=True  n_exp= NA\n",
      "│   │   │   │   ├──  LRNp inVoxel=False  n_exp= NA\n",
      "│   │   │   │   └──  LRNm inVoxel=False  n_exp= NA\n",
      "│   │   │   ├──  MARN inVoxel=True  n_exp= NA\n",
      "│   │   │   ├──  ICB inVoxel=True  n_exp= NA\n",
      "│   │   │   ├──  MDRN inVoxel=False  n_exp= NA\n",
      "│   │   │   │   ├──  MDRNd inVoxel=True  n_exp= NA\n",
      "│   │   │   │   └──  MDRNv inVoxel=True  n_exp= NA\n",
      "│   │   │   ├──  VI inVoxel=True  n_exp= NA\n",
      "│   │   │   ├──  VII inVoxel=True  n_exp= NA\n",
      "│   │   │   ├──  x inVoxel=True  n_exp= NA\n",
      "│   │   │   ├──  XII inVoxel=True  n_exp= NA\n",
      "│   │   │   ├──  y inVoxel=True  n_exp= NA\n",
      "│   │   │   ├──  DMX inVoxel=True  n_exp= NA\n",
      "│   │   │   ├──  PARN inVoxel=True  n_exp= NA\n",
      "│   │   │   ├──  PAS inVoxel=True  n_exp= NA\n",
      "│   │   │   ├──  PGRN inVoxel=False  n_exp= NA\n",
      "│   │   │   │   ├──  PGRNd inVoxel=True  n_exp= NA\n",
      "│   │   │   │   └──  PGRNl inVoxel=True  n_exp= NA\n",
      "│   │   │   ├──  GRN inVoxel=True  n_exp= NA\n",
      "│   │   │   ├──  PPY inVoxel=True  n_exp= NA\n",
      "│   │   │   ├──  ACVII inVoxel=True  n_exp= NA\n",
      "│   │   │   └──  VNC inVoxel=False  n_exp= NA\n",
      "│   │   │       ├──  LAV inVoxel=True  n_exp= NA\n",
      "│   │   │       ├──  SPIV inVoxel=True  n_exp= NA\n",
      "│   │   │       ├──  MV inVoxel=True  n_exp= NA\n",
      "│   │   │       └──  SUV inVoxel=True  n_exp= NA\n",
      "│   │   ├──  MY_sat inVoxel=False  n_exp= NA\n",
      "│   │   │   ├──  RPA inVoxel=True  n_exp= NA\n",
      "│   │   │   ├──  RM inVoxel=True  n_exp= NA\n",
      "│   │   │   └──  RO inVoxel=True  n_exp= NA\n",
      "│   │   └──  MY_sen inVoxel=False  n_exp= NA\n",
      "│   │       ├──  AP inVoxel=True  n_exp= NA\n",
      "│   │       ├──  SPVI inVoxel=True  n_exp= NA\n",
      "│   │       ├──  SPVO inVoxel=True  n_exp= NA\n",
      "│   │       ├──  CN inVoxel=False  n_exp= NA\n",
      "│   │       │   ├──  DCO inVoxel=True  n_exp= NA\n",
      "│   │       │   └──  VCO inVoxel=True  n_exp= NA\n",
      "│   │       ├──  NTB inVoxel=True  n_exp= NA\n",
      "│   │       ├──  NTS inVoxel=True  n_exp= NA\n",
      "│   │       ├──  DCN inVoxel=False  n_exp= NA\n",
      "│   │       │   ├──  CU inVoxel=True  n_exp= NA\n",
      "│   │       │   └──  GR inVoxel=True  n_exp= NA\n",
      "│   │       ├──  ECU inVoxel=True  n_exp= NA\n",
      "│   │       ├──  SPVC inVoxel=True  n_exp= NA\n",
      "│   │       └──  Pa5 inVoxel=False  n_exp= NA\n",
      "│   └──  P inVoxel=False  n_exp= NA\n",
      "│       ├──  P_mot inVoxel=False  n_exp= NA\n",
      "│       │   ├──  B inVoxel=True  n_exp= NA\n",
      "│       │   ├──  SG inVoxel=True  n_exp= NA\n",
      "│       │   ├──  SUT inVoxel=True  n_exp= NA\n",
      "│       │   ├──  TRN inVoxel=True  n_exp= NA\n",
      "│       │   ├──  V inVoxel=True  n_exp= NA\n",
      "│       │   ├──  DTN inVoxel=True  n_exp= NA\n",
      "│       │   ├──  PCG inVoxel=True  n_exp= NA\n",
      "│       │   ├──  PRNc inVoxel=True  n_exp= NA\n",
      "│       │   ├──  PDTg inVoxel=False  n_exp= NA\n",
      "│       │   ├──  PG inVoxel=True  n_exp= NA\n",
      "│       │   ├──  P5 inVoxel=False  n_exp= NA\n",
      "│       │   ├──  Acs5 inVoxel=False  n_exp= NA\n",
      "│       │   ├──  PC5 inVoxel=False  n_exp= NA\n",
      "│       │   └──  I5 inVoxel=False  n_exp= NA\n",
      "│       ├──  P_sat inVoxel=False  n_exp= NA\n",
      "│       │   ├──  PRNr inVoxel=True  n_exp= NA\n",
      "│       │   ├──  LDT inVoxel=True  n_exp= NA\n",
      "│       │   ├──  RPO inVoxel=True  n_exp= NA\n",
      "│       │   ├──  SLC inVoxel=True  n_exp= NA\n",
      "│       │   ├──  SLD inVoxel=True  n_exp= NA\n",
      "│       │   ├──  NI inVoxel=True  n_exp= NA\n",
      "│       │   ├──  CS inVoxel=True  n_exp= NA\n",
      "│       │   └──  LC inVoxel=True  n_exp= NA\n",
      "│       └──  P_sen inVoxel=False  n_exp= NA\n",
      "│           ├──  PSV inVoxel=True  n_exp= NA\n",
      "│           ├──  SOC inVoxel=True  n_exp= NA\n",
      "│           │   ├──  SOCm inVoxel=False  n_exp= NA\n",
      "│           │   ├──  SOCl inVoxel=False  n_exp= NA\n",
      "│           │   └──  POR inVoxel=False  n_exp= NA\n",
      "│           ├──  NLL inVoxel=True  n_exp= NA\n",
      "│           └──  PB inVoxel=True  n_exp= NA\n",
      "│               └──  KF inVoxel=False  n_exp= NA\n",
      "└──  IB inVoxel=False  n_exp= NA\n",
      "    ├──  HY inVoxel=False  n_exp= NA\n",
      "    │   ├──  PVR inVoxel=False  n_exp= NA\n",
      "    │   │   ├──  ADP inVoxel=True  n_exp= NA\n",
      "    │   │   ├──  PVp inVoxel=True  n_exp= NA\n",
      "    │   │   ├──  PVpo inVoxel=True  n_exp= NA\n",
      "    │   │   ├──  VLPO inVoxel=True  n_exp= NA\n",
      "    │   │   ├──  AVP inVoxel=True  n_exp= NA\n",
      "    │   │   ├──  AVPV inVoxel=True  n_exp= NA\n",
      "    │   │   ├──  SCH inVoxel=True  n_exp= NA\n",
      "    │   │   ├──  SFO inVoxel=True  n_exp= NA\n",
      "    │   │   ├──  SBPV inVoxel=True  n_exp= NA\n",
      "    │   │   ├──  MEPO inVoxel=True  n_exp= NA\n",
      "    │   │   ├──  MPO inVoxel=True  n_exp= NA\n",
      "    │   │   ├──  OV inVoxel=True  n_exp= NA\n",
      "    │   │   ├──  DMH inVoxel=True  n_exp= NA\n",
      "    │   │   ├──  PD inVoxel=True  n_exp= NA\n",
      "    │   │   ├──  PS inVoxel=True  n_exp= NA\n",
      "    │   │   └──  VMPO inVoxel=False  n_exp= NA\n",
      "    │   ├──  PVZ inVoxel=False  n_exp= NA\n",
      "    │   │   ├──  PVa inVoxel=True  n_exp= NA\n",
      "    │   │   ├──  PVH inVoxel=True  n_exp= NA\n",
      "    │   │   ├──  PVi inVoxel=True  n_exp= NA\n",
      "    │   │   ├──  ARH inVoxel=True  n_exp= NA\n",
      "    │   │   ├──  ASO inVoxel=True  n_exp= NA\n",
      "    │   │   └──  SO inVoxel=True  n_exp= NA\n",
      "    │   ├──  LZ inVoxel=False  n_exp= NA\n",
      "    │   │   ├──  RCH inVoxel=True  n_exp= NA\n",
      "    │   │   ├──  LHA inVoxel=True  n_exp= NA\n",
      "    │   │   ├──  LPO inVoxel=True  n_exp= NA\n",
      "    │   │   ├──  PST inVoxel=True  n_exp= NA\n",
      "    │   │   ├──  PSTN inVoxel=True  n_exp= NA\n",
      "    │   │   ├──  STN inVoxel=True  n_exp= NA\n",
      "    │   │   ├──  TU inVoxel=True  n_exp= NA\n",
      "    │   │   ├──  ZI inVoxel=True  n_exp= NA\n",
      "    │   │   │   └──  FF inVoxel=False  n_exp= NA\n",
      "    │   │   └──  PeF inVoxel=False  n_exp= NA\n",
      "    │   ├──  MEZ inVoxel=False  n_exp= NA\n",
      "    │   │   ├──  PVHd inVoxel=True  n_exp= NA\n",
      "    │   │   ├──  AHN inVoxel=True  n_exp= NA\n",
      "    │   │   ├──  MBO inVoxel=False  n_exp= NA\n",
      "    │   │   │   ├──  LM inVoxel=True  n_exp= NA\n",
      "    │   │   │   ├──  MM inVoxel=True  n_exp= NA\n",
      "    │   │   │   │   ├──  MMme inVoxel=False  n_exp= NA\n",
      "    │   │   │   │   ├──  MMm inVoxel=False  n_exp= NA\n",
      "    │   │   │   │   ├──  MMd inVoxel=False  n_exp= NA\n",
      "    │   │   │   │   ├──  MMl inVoxel=False  n_exp= NA\n",
      "    │   │   │   │   └──  MMp inVoxel=False  n_exp= NA\n",
      "    │   │   │   ├──  TM inVoxel=False  n_exp= NA\n",
      "    │   │   │   │   ├──  TMv inVoxel=True  n_exp= NA\n",
      "    │   │   │   │   └──  TMd inVoxel=True  n_exp= NA\n",
      "    │   │   │   └──  SUM inVoxel=True  n_exp= NA\n",
      "    │   │   ├──  MPN inVoxel=True  n_exp= NA\n",
      "    │   │   ├──  VMH inVoxel=True  n_exp= NA\n",
      "    │   │   ├──  PH inVoxel=True  n_exp= NA\n",
      "    │   │   ├──  PMd inVoxel=True  n_exp= NA\n",
      "    │   │   └──  PMv inVoxel=True  n_exp= NA\n",
      "    │   └──  ME inVoxel=False  n_exp= NA\n",
      "    └──  TH inVoxel=False  n_exp= NA\n",
      "        ├──  DORpm inVoxel=False  n_exp= NA\n",
      "        │   ├──  ILM inVoxel=False  n_exp= NA\n",
      "        │   │   ├──  RH inVoxel=True  n_exp= NA\n",
      "        │   │   ├──  CL inVoxel=True  n_exp= NA\n",
      "        │   │   ├──  CM inVoxel=True  n_exp= NA\n",
      "        │   │   ├──  PCN inVoxel=True  n_exp= NA\n",
      "        │   │   ├──  PF inVoxel=True  n_exp= NA\n",
      "        │   │   └──  PIL inVoxel=False  n_exp= NA\n",
      "        │   ├──  LAT inVoxel=False  n_exp= NA\n",
      "        │   │   ├──  LP inVoxel=True  n_exp= NA\n",
      "        │   │   ├──  SGN inVoxel=True  n_exp= NA\n",
      "        │   │   ├──  PO inVoxel=True  n_exp= NA\n",
      "        │   │   ├──  POL inVoxel=True  n_exp= NA\n",
      "        │   │   └──  Eth inVoxel=False  n_exp= NA\n",
      "        │   ├──  ATN inVoxel=False  n_exp= NA\n",
      "        │   │   ├──  AD inVoxel=True  n_exp= NA\n",
      "        │   │   ├──  AM inVoxel=True  n_exp= NA\n",
      "        │   │   │   ├──  AMd inVoxel=False  n_exp= NA\n",
      "        │   │   │   └──  AMv inVoxel=False  n_exp= NA\n",
      "        │   │   ├──  LD inVoxel=True  n_exp= NA\n",
      "        │   │   ├──  AV inVoxel=True  n_exp= NA\n",
      "        │   │   ├──  IAD inVoxel=True  n_exp= NA\n",
      "        │   │   └──  IAM inVoxel=True  n_exp= NA\n",
      "        │   ├──  RT inVoxel=True  n_exp= NA\n",
      "        │   ├──  MED inVoxel=False  n_exp= NA\n",
      "        │   │   ├──  IMD inVoxel=True  n_exp= NA\n",
      "        │   │   ├──  MD inVoxel=True  n_exp= NA\n",
      "        │   │   ├──  SMT inVoxel=True  n_exp= NA\n",
      "        │   │   └──  PR inVoxel=True  n_exp= NA\n",
      "        │   ├──  MTN inVoxel=False  n_exp= NA\n",
      "        │   │   ├──  PT inVoxel=True  n_exp= NA\n",
      "        │   │   ├──  PVT inVoxel=True  n_exp= NA\n",
      "        │   │   ├──  RE inVoxel=True  n_exp= NA\n",
      "        │   │   └──  Xi inVoxel=False  n_exp= NA\n",
      "        │   ├──  EPI inVoxel=False  n_exp= NA\n",
      "        │   │   ├──  LH inVoxel=True  n_exp= NA\n",
      "        │   │   └──  MH inVoxel=True  n_exp= NA\n",
      "        │   └──  GENv inVoxel=False  n_exp= NA\n",
      "        │       ├──  IGL inVoxel=True  n_exp= NA\n",
      "        │       ├──  LGv inVoxel=True  n_exp= NA\n",
      "        │       ├──  SubG inVoxel=True  n_exp= NA\n",
      "        │       └──  IntG inVoxel=False  n_exp= NA\n",
      "        └──  DORsm inVoxel=False  n_exp= NA\n",
      "            ├──  SPF inVoxel=False  n_exp= NA\n",
      "            │   ├──  SPFm inVoxel=True  n_exp= NA\n",
      "            │   └──  SPFp inVoxel=True  n_exp= NA\n",
      "            ├──  SPA inVoxel=True  n_exp= NA\n",
      "            ├──  VENT inVoxel=False  n_exp= NA\n",
      "            │   ├──  VM inVoxel=True  n_exp= NA\n",
      "            │   ├──  PoT inVoxel=False  n_exp= NA\n",
      "            │   ├──  VAL inVoxel=True  n_exp= NA\n",
      "            │   └──  VP inVoxel=False  n_exp= NA\n",
      "            │       ├──  VPL inVoxel=True  n_exp= NA\n",
      "            │       ├──  VPLpc inVoxel=True  n_exp= NA\n",
      "            │       ├──  VPM inVoxel=True  n_exp= NA\n",
      "            │       └──  VPMpc inVoxel=True  n_exp= NA\n",
      "            ├──  GENd inVoxel=False  n_exp= NA\n",
      "            │   ├──  LGd inVoxel=True  n_exp= NA\n",
      "            │   │   ├──  LGd_sh inVoxel=False  n_exp= NA\n",
      "            │   │   ├──  LGd_co inVoxel=False  n_exp= NA\n",
      "            │   │   └──  LGd_ip inVoxel=False  n_exp= NA\n",
      "            │   └──  MG inVoxel=True  n_exp= NA\n",
      "            │       ├──  MGd inVoxel=False  n_exp= NA\n",
      "            │       ├──  MGv inVoxel=False  n_exp= NA\n",
      "            │       └──  MGm inVoxel=False  n_exp= NA\n",
      "            └──  PP inVoxel=True  n_exp= NA\n"
     ]
    }
   ],
   "source": [
    "for pre, fill, node in RenderTree(BS):\n",
    "    print   pre,node.name"
   ]
  },
  {
   "cell_type": "code",
   "execution_count": 55,
   "metadata": {
    "scrolled": true
   },
   "outputs": [
    {
     "name": "stdout",
     "output_type": "stream",
     "text": [
      "CTXpl = Node('CTXpl inVoxel=False  n_exp= NA', parent=CTX)\n",
      "Isocortex = Node('Isocortex inVoxel=False  n_exp= NA', parent=CTXpl)\n",
      "PTLp = Node('PTLp inVoxel=False  n_exp= NA', parent=Isocortex)\n",
      "VISa = Node('VISa inVoxel=True  n_exp= NA', parent=PTLp)\n",
      "VISa1 = Node('VISa1 inVoxel=False  n_exp= NA', parent=VISa)\n",
      "VISa2and3 = Node('VISa2and3 inVoxel=False  n_exp= NA', parent=VISa)\n",
      "VISa4 = Node('VISa4 inVoxel=False  n_exp= NA', parent=VISa)\n",
      "VISa5 = Node('VISa5 inVoxel=False  n_exp= NA', parent=VISa)\n",
      "VISa6a = Node('VISa6a inVoxel=False  n_exp= NA', parent=VISa)\n",
      "VISa6b = Node('VISa6b inVoxel=False  n_exp= NA', parent=VISa)\n",
      "VISrl = Node('VISrl inVoxel=True  n_exp= NA', parent=PTLp)\n",
      "VISrl1 = Node('VISrl1 inVoxel=False  n_exp= NA', parent=VISrl)\n",
      "VISrl2and3 = Node('VISrl2and3 inVoxel=False  n_exp= NA', parent=VISrl)\n",
      "VISrl4 = Node('VISrl4 inVoxel=False  n_exp= NA', parent=VISrl)\n",
      "VISrl5 = Node('VISrl5 inVoxel=False  n_exp= NA', parent=VISrl)\n",
      "VISrl6a = Node('VISrl6a inVoxel=False  n_exp= NA', parent=VISrl)\n",
      "VISrl6b = Node('VISrl6b inVoxel=False  n_exp= NA', parent=VISrl)\n",
      "ACA = Node('ACA inVoxel=False  n_exp= NA', parent=Isocortex)\n",
      "ACAd = Node('ACAd inVoxel=True  n_exp= NA', parent=ACA)\n",
      "ACAd2and3 = Node('ACAd2and3 inVoxel=False  n_exp= NA', parent=ACAd)\n",
      "ACAd6a = Node('ACAd6a inVoxel=False  n_exp= NA', parent=ACAd)\n",
      "ACAd6b = Node('ACAd6b inVoxel=False  n_exp= NA', parent=ACAd)\n",
      "ACAd1 = Node('ACAd1 inVoxel=False  n_exp= NA', parent=ACAd)\n",
      "ACAd5 = Node('ACAd5 inVoxel=False  n_exp= NA', parent=ACAd)\n",
      "ACAv = Node('ACAv inVoxel=True  n_exp= NA', parent=ACA)\n",
      "ACAv2and3 = Node('ACAv2and3 inVoxel=False  n_exp= NA', parent=ACAv)\n",
      "ACAv1 = Node('ACAv1 inVoxel=False  n_exp= NA', parent=ACAv)\n",
      "ACAv5 = Node('ACAv5 inVoxel=False  n_exp= NA', parent=ACAv)\n",
      "ACAv6a = Node('ACAv6a inVoxel=False  n_exp= NA', parent=ACAv)\n",
      "ACAv6b = Node('ACAv6b inVoxel=False  n_exp= NA', parent=ACAv)\n",
      "ILA = Node('ILA inVoxel=True  n_exp= NA', parent=Isocortex)\n",
      "ILA2and3 = Node('ILA2and3 inVoxel=False  n_exp= NA', parent=ILA)\n",
      "ILA1 = Node('ILA1 inVoxel=False  n_exp= NA', parent=ILA)\n",
      "ILA5 = Node('ILA5 inVoxel=False  n_exp= NA', parent=ILA)\n",
      "ILA6a = Node('ILA6a inVoxel=False  n_exp= NA', parent=ILA)\n",
      "ILA6b = Node('ILA6b inVoxel=False  n_exp= NA', parent=ILA)\n",
      "AI = Node('AI inVoxel=False  n_exp= NA', parent=Isocortex)\n",
      "AId = Node('AId inVoxel=True  n_exp= NA', parent=AI)\n",
      "AId2and3 = Node('AId2and3 inVoxel=False  n_exp= NA', parent=AId)\n",
      "AId6a = Node('AId6a inVoxel=False  n_exp= NA', parent=AId)\n",
      "AId6b = Node('AId6b inVoxel=False  n_exp= NA', parent=AId)\n",
      "AId1 = Node('AId1 inVoxel=False  n_exp= NA', parent=AId)\n",
      "AId5 = Node('AId5 inVoxel=False  n_exp= NA', parent=AId)\n",
      "AIp = Node('AIp inVoxel=True  n_exp= NA', parent=AI)\n",
      "AIp1 = Node('AIp1 inVoxel=False  n_exp= NA', parent=AIp)\n",
      "AIp2and3 = Node('AIp2and3 inVoxel=False  n_exp= NA', parent=AIp)\n",
      "AIp6a = Node('AIp6a inVoxel=False  n_exp= NA', parent=AIp)\n",
      "AIp5 = Node('AIp5 inVoxel=False  n_exp= NA', parent=AIp)\n",
      "AIp6b = Node('AIp6b inVoxel=False  n_exp= NA', parent=AIp)\n",
      "AIv = Node('AIv inVoxel=True  n_exp= NA', parent=AI)\n",
      "AIv6a = Node('AIv6a inVoxel=False  n_exp= NA', parent=AIv)\n",
      "AIv2and3 = Node('AIv2and3 inVoxel=False  n_exp= NA', parent=AIv)\n",
      "AIv6b = Node('AIv6b inVoxel=False  n_exp= NA', parent=AIv)\n",
      "AIv1 = Node('AIv1 inVoxel=False  n_exp= NA', parent=AIv)\n",
      "AIv5 = Node('AIv5 inVoxel=False  n_exp= NA', parent=AIv)\n",
      "FRP = Node('FRP inVoxel=True  n_exp= NA', parent=Isocortex)\n",
      "FRP1 = Node('FRP1 inVoxel=False  n_exp= NA', parent=FRP)\n",
      "FRP2and3 = Node('FRP2and3 inVoxel=False  n_exp= NA', parent=FRP)\n",
      "FRP5 = Node('FRP5 inVoxel=False  n_exp= NA', parent=FRP)\n",
      "FRP6a = Node('FRP6a inVoxel=False  n_exp= NA', parent=FRP)\n",
      "FRP6b = Node('FRP6b inVoxel=False  n_exp= NA', parent=FRP)\n",
      "AUD = Node('AUD inVoxel=False  n_exp= NA', parent=Isocortex)\n",
      "AUDp = Node('AUDp inVoxel=True  n_exp= NA', parent=AUD)\n",
      "AUDp2and3 = Node('AUDp2and3 inVoxel=False  n_exp= NA', parent=AUDp)\n",
      "AUDp1 = Node('AUDp1 inVoxel=False  n_exp= NA', parent=AUDp)\n",
      "AUDp4 = Node('AUDp4 inVoxel=False  n_exp= NA', parent=AUDp)\n",
      "AUDp5 = Node('AUDp5 inVoxel=False  n_exp= NA', parent=AUDp)\n",
      "AUDp6a = Node('AUDp6a inVoxel=False  n_exp= NA', parent=AUDp)\n",
      "AUDp6b = Node('AUDp6b inVoxel=False  n_exp= NA', parent=AUDp)\n",
      "AUDd = Node('AUDd inVoxel=True  n_exp= NA', parent=AUD)\n",
      "AUDd6a = Node('AUDd6a inVoxel=False  n_exp= NA', parent=AUDd)\n",
      "AUDd6b = Node('AUDd6b inVoxel=False  n_exp= NA', parent=AUDd)\n",
      "AUDd5 = Node('AUDd5 inVoxel=False  n_exp= NA', parent=AUDd)\n",
      "AUDd1 = Node('AUDd1 inVoxel=False  n_exp= NA', parent=AUDd)\n",
      "AUDd2and3 = Node('AUDd2and3 inVoxel=False  n_exp= NA', parent=AUDd)\n",
      "AUDd4 = Node('AUDd4 inVoxel=False  n_exp= NA', parent=AUDd)\n",
      "AUDv = Node('AUDv inVoxel=True  n_exp= NA', parent=AUD)\n",
      "AUDv6a = Node('AUDv6a inVoxel=False  n_exp= NA', parent=AUDv)\n",
      "AUDv6b = Node('AUDv6b inVoxel=False  n_exp= NA', parent=AUDv)\n",
      "AUDv2and3 = Node('AUDv2and3 inVoxel=False  n_exp= NA', parent=AUDv)\n",
      "AUDv1 = Node('AUDv1 inVoxel=False  n_exp= NA', parent=AUDv)\n",
      "AUDv4 = Node('AUDv4 inVoxel=False  n_exp= NA', parent=AUDv)\n",
      "AUDv5 = Node('AUDv5 inVoxel=False  n_exp= NA', parent=AUDv)\n",
      "AUDpo = Node('AUDpo inVoxel=True  n_exp= NA', parent=AUD)\n",
      "AUDpo6a = Node('AUDpo6a inVoxel=False  n_exp= NA', parent=AUDpo)\n",
      "AUDpo6b = Node('AUDpo6b inVoxel=False  n_exp= NA', parent=AUDpo)\n",
      "AUDpo2and3 = Node('AUDpo2and3 inVoxel=False  n_exp= NA', parent=AUDpo)\n",
      "AUDpo1 = Node('AUDpo1 inVoxel=False  n_exp= NA', parent=AUDpo)\n",
      "AUDpo4 = Node('AUDpo4 inVoxel=False  n_exp= NA', parent=AUDpo)\n",
      "AUDpo5 = Node('AUDpo5 inVoxel=False  n_exp= NA', parent=AUDpo)\n",
      "RSP = Node('RSP inVoxel=False  n_exp= NA', parent=Isocortex)\n",
      "RSPd = Node('RSPd inVoxel=True  n_exp= NA', parent=RSP)\n",
      "RSPd6a = Node('RSPd6a inVoxel=False  n_exp= NA', parent=RSPd)\n",
      "RSPd6b = Node('RSPd6b inVoxel=False  n_exp= NA', parent=RSPd)\n",
      "RSPd2and3 = Node('RSPd2and3 inVoxel=False  n_exp= NA', parent=RSPd)\n",
      "RSPd1 = Node('RSPd1 inVoxel=False  n_exp= NA', parent=RSPd)\n",
      "RSPd4 = Node('RSPd4 inVoxel=False  n_exp= NA', parent=RSPd)\n",
      "RSPd5 = Node('RSPd5 inVoxel=False  n_exp= NA', parent=RSPd)\n",
      "RSPv = Node('RSPv inVoxel=True  n_exp= NA', parent=RSP)\n",
      "RSPv2and3 = Node('RSPv2and3 inVoxel=False  n_exp= NA', parent=RSPv)\n",
      "RSPv1 = Node('RSPv1 inVoxel=False  n_exp= NA', parent=RSPv)\n",
      "RSPv6a = Node('RSPv6a inVoxel=False  n_exp= NA', parent=RSPv)\n",
      "RSPv6b = Node('RSPv6b inVoxel=False  n_exp= NA', parent=RSPv)\n",
      "RSPv5 = Node('RSPv5 inVoxel=False  n_exp= NA', parent=RSPv)\n",
      "RSPagl = Node('RSPagl inVoxel=True  n_exp= NA', parent=RSP)\n",
      "RSPagl6b = Node('RSPagl6b inVoxel=False  n_exp= NA', parent=RSPagl)\n",
      "RSPagl1 = Node('RSPagl1 inVoxel=False  n_exp= NA', parent=RSPagl)\n",
      "RSPagl5 = Node('RSPagl5 inVoxel=False  n_exp= NA', parent=RSPagl)\n",
      "RSPagl6a = Node('RSPagl6a inVoxel=False  n_exp= NA', parent=RSPagl)\n",
      "RSPagl2and3 = Node('RSPagl2and3 inVoxel=False  n_exp= NA', parent=RSPagl)\n",
      "MO = Node('MO inVoxel=False  n_exp= NA', parent=Isocortex)\n",
      "MOp = Node('MOp inVoxel=True  n_exp= NA', parent=MO)\n",
      "MOp1 = Node('MOp1 inVoxel=False  n_exp= NA', parent=MOp)\n",
      "MOp5 = Node('MOp5 inVoxel=False  n_exp= NA', parent=MOp)\n",
      "MOp6a = Node('MOp6a inVoxel=False  n_exp= NA', parent=MOp)\n",
      "MOp6b = Node('MOp6b inVoxel=False  n_exp= NA', parent=MOp)\n",
      "MOp2and3 = Node('MOp2and3 inVoxel=False  n_exp= NA', parent=MOp)\n",
      "MOs = Node('MOs inVoxel=True  n_exp= NA', parent=MO)\n",
      "MOs1 = Node('MOs1 inVoxel=False  n_exp= NA', parent=MOs)\n",
      "MOs5 = Node('MOs5 inVoxel=False  n_exp= NA', parent=MOs)\n",
      "MOs2and3 = Node('MOs2and3 inVoxel=False  n_exp= NA', parent=MOs)\n",
      "MOs6a = Node('MOs6a inVoxel=False  n_exp= NA', parent=MOs)\n",
      "MOs6b = Node('MOs6b inVoxel=False  n_exp= NA', parent=MOs)\n",
      "TEa = Node('TEa inVoxel=True  n_exp= NA', parent=Isocortex)\n",
      "TEa1 = Node('TEa1 inVoxel=False  n_exp= NA', parent=TEa)\n",
      "TEa4 = Node('TEa4 inVoxel=False  n_exp= NA', parent=TEa)\n",
      "TEa5 = Node('TEa5 inVoxel=False  n_exp= NA', parent=TEa)\n",
      "TEa6a = Node('TEa6a inVoxel=False  n_exp= NA', parent=TEa)\n",
      "TEa6b = Node('TEa6b inVoxel=False  n_exp= NA', parent=TEa)\n",
      "TEa2and3 = Node('TEa2and3 inVoxel=False  n_exp= NA', parent=TEa)\n",
      "VIS = Node('VIS inVoxel=False  n_exp= NA', parent=Isocortex)\n",
      "VISp = Node('VISp inVoxel=True  n_exp= NA', parent=VIS)\n",
      "VISp6a = Node('VISp6a inVoxel=False  n_exp= NA', parent=VISp)\n",
      "VISp6b = Node('VISp6b inVoxel=False  n_exp= NA', parent=VISp)\n",
      "VISp1 = Node('VISp1 inVoxel=False  n_exp= NA', parent=VISp)\n",
      "VISp4 = Node('VISp4 inVoxel=False  n_exp= NA', parent=VISp)\n",
      "VISp5 = Node('VISp5 inVoxel=False  n_exp= NA', parent=VISp)\n",
      "VISp2and3 = Node('VISp2and3 inVoxel=False  n_exp= NA', parent=VISp)\n",
      "VISam = Node('VISam inVoxel=True  n_exp= NA', parent=VIS)\n",
      "VISam1 = Node('VISam1 inVoxel=False  n_exp= NA', parent=VISam)\n",
      "VISam4 = Node('VISam4 inVoxel=False  n_exp= NA', parent=VISam)\n",
      "VISam5 = Node('VISam5 inVoxel=False  n_exp= NA', parent=VISam)\n",
      "VISam6b = Node('VISam6b inVoxel=False  n_exp= NA', parent=VISam)\n",
      "VISam6a = Node('VISam6a inVoxel=False  n_exp= NA', parent=VISam)\n",
      "VISam2and3 = Node('VISam2and3 inVoxel=False  n_exp= NA', parent=VISam)\n",
      "VISal = Node('VISal inVoxel=True  n_exp= NA', parent=VIS)\n",
      "VISal5 = Node('VISal5 inVoxel=False  n_exp= NA', parent=VISal)\n",
      "VISal6a = Node('VISal6a inVoxel=False  n_exp= NA', parent=VISal)\n",
      "VISal6b = Node('VISal6b inVoxel=False  n_exp= NA', parent=VISal)\n",
      "VISal2and3 = Node('VISal2and3 inVoxel=False  n_exp= NA', parent=VISal)\n",
      "VISal1 = Node('VISal1 inVoxel=False  n_exp= NA', parent=VISal)\n",
      "VISal4 = Node('VISal4 inVoxel=False  n_exp= NA', parent=VISal)\n",
      "VISli = Node('VISli inVoxel=True  n_exp= NA', parent=VIS)\n",
      "VISli2and3 = Node('VISli2and3 inVoxel=False  n_exp= NA', parent=VISli)\n",
      "VISli4 = Node('VISli4 inVoxel=False  n_exp= NA', parent=VISli)\n",
      "VISli5 = Node('VISli5 inVoxel=False  n_exp= NA', parent=VISli)\n",
      "VISli1 = Node('VISli1 inVoxel=False  n_exp= NA', parent=VISli)\n",
      "VISli6a = Node('VISli6a inVoxel=False  n_exp= NA', parent=VISli)\n",
      "VISli6b = Node('VISli6b inVoxel=False  n_exp= NA', parent=VISli)\n",
      "VISl = Node('VISl inVoxel=True  n_exp= NA', parent=VIS)\n",
      "VISl6a = Node('VISl6a inVoxel=False  n_exp= NA', parent=VISl)\n",
      "VISl6b = Node('VISl6b inVoxel=False  n_exp= NA', parent=VISl)\n",
      "VISl1 = Node('VISl1 inVoxel=False  n_exp= NA', parent=VISl)\n",
      "VISl4 = Node('VISl4 inVoxel=False  n_exp= NA', parent=VISl)\n",
      "VISl5 = Node('VISl5 inVoxel=False  n_exp= NA', parent=VISl)\n",
      "VISl2and3 = Node('VISl2and3 inVoxel=False  n_exp= NA', parent=VISl)\n",
      "VISpl = Node('VISpl inVoxel=True  n_exp= NA', parent=VIS)\n",
      "VISpl2and3 = Node('VISpl2and3 inVoxel=False  n_exp= NA', parent=VISpl)\n",
      "VISpl6a = Node('VISpl6a inVoxel=False  n_exp= NA', parent=VISpl)\n",
      "VISpl6b = Node('VISpl6b inVoxel=False  n_exp= NA', parent=VISpl)\n",
      "VISpl1 = Node('VISpl1 inVoxel=False  n_exp= NA', parent=VISpl)\n",
      "VISpl4 = Node('VISpl4 inVoxel=False  n_exp= NA', parent=VISpl)\n",
      "VISpl5 = Node('VISpl5 inVoxel=False  n_exp= NA', parent=VISpl)\n",
      "VISpm = Node('VISpm inVoxel=True  n_exp= NA', parent=VIS)\n",
      "VISpm2and3 = Node('VISpm2and3 inVoxel=False  n_exp= NA', parent=VISpm)\n",
      "VISpm6a = Node('VISpm6a inVoxel=False  n_exp= NA', parent=VISpm)\n",
      "VISpm6b = Node('VISpm6b inVoxel=False  n_exp= NA', parent=VISpm)\n",
      "VISpm5 = Node('VISpm5 inVoxel=False  n_exp= NA', parent=VISpm)\n",
      "VISpm4 = Node('VISpm4 inVoxel=False  n_exp= NA', parent=VISpm)\n",
      "VISpm1 = Node('VISpm1 inVoxel=False  n_exp= NA', parent=VISpm)\n",
      "VISpor = Node('VISpor inVoxel=True  n_exp= NA', parent=VIS)\n",
      "VISpor1 = Node('VISpor1 inVoxel=False  n_exp= NA', parent=VISpor)\n",
      "VISpor2and3 = Node('VISpor2and3 inVoxel=False  n_exp= NA', parent=VISpor)\n",
      "VISpor4 = Node('VISpor4 inVoxel=False  n_exp= NA', parent=VISpor)\n",
      "VISpor5 = Node('VISpor5 inVoxel=False  n_exp= NA', parent=VISpor)\n",
      "VISpor6a = Node('VISpor6a inVoxel=False  n_exp= NA', parent=VISpor)\n",
      "VISpor6b = Node('VISpor6b inVoxel=False  n_exp= NA', parent=VISpor)\n",
      "VISC = Node('VISC inVoxel=True  n_exp= NA', parent=Isocortex)\n",
      "VISC6b = Node('VISC6b inVoxel=False  n_exp= NA', parent=VISC)\n",
      "VISC6a = Node('VISC6a inVoxel=False  n_exp= NA', parent=VISC)\n",
      "VISC1 = Node('VISC1 inVoxel=False  n_exp= NA', parent=VISC)\n",
      "VISC4 = Node('VISC4 inVoxel=False  n_exp= NA', parent=VISC)\n",
      "VISC5 = Node('VISC5 inVoxel=False  n_exp= NA', parent=VISC)\n",
      "VISC2and3 = Node('VISC2and3 inVoxel=False  n_exp= NA', parent=VISC)\n",
      "ORB = Node('ORB inVoxel=False  n_exp= NA', parent=Isocortex)\n",
      "ORBl = Node('ORBl inVoxel=True  n_exp= NA', parent=ORB)\n",
      "ORBl2and3 = Node('ORBl2and3 inVoxel=False  n_exp= NA', parent=ORBl)\n",
      "ORBl6a = Node('ORBl6a inVoxel=False  n_exp= NA', parent=ORBl)\n",
      "ORBl1 = Node('ORBl1 inVoxel=False  n_exp= NA', parent=ORBl)\n",
      "ORBl6b = Node('ORBl6b inVoxel=False  n_exp= NA', parent=ORBl)\n",
      "ORBl5 = Node('ORBl5 inVoxel=False  n_exp= NA', parent=ORBl)\n",
      "ORBm = Node('ORBm inVoxel=True  n_exp= NA', parent=ORB)\n",
      "ORBm1 = Node('ORBm1 inVoxel=False  n_exp= NA', parent=ORBm)\n",
      "ORBm2and3 = Node('ORBm2and3 inVoxel=False  n_exp= NA', parent=ORBm)\n",
      "ORBm5 = Node('ORBm5 inVoxel=False  n_exp= NA', parent=ORBm)\n",
      "ORBm6a = Node('ORBm6a inVoxel=False  n_exp= NA', parent=ORBm)\n",
      "ORBm6b = Node('ORBm6b inVoxel=False  n_exp= NA', parent=ORBm)\n",
      "ORBvl = Node('ORBvl inVoxel=True  n_exp= NA', parent=ORB)\n",
      "ORBvl2and3 = Node('ORBvl2and3 inVoxel=False  n_exp= NA', parent=ORBvl)\n",
      "ORBvl6a = Node('ORBvl6a inVoxel=False  n_exp= NA', parent=ORBvl)\n",
      "ORBvl6b = Node('ORBvl6b inVoxel=False  n_exp= NA', parent=ORBvl)\n",
      "ORBvl1 = Node('ORBvl1 inVoxel=False  n_exp= NA', parent=ORBvl)\n",
      "ORBvl5 = Node('ORBvl5 inVoxel=False  n_exp= NA', parent=ORBvl)\n",
      "ECT = Node('ECT inVoxel=True  n_exp= NA', parent=Isocortex)\n",
      "ECT2and3 = Node('ECT2and3 inVoxel=False  n_exp= NA', parent=ECT)\n",
      "ECT1 = Node('ECT1 inVoxel=False  n_exp= NA', parent=ECT)\n",
      "ECT6a = Node('ECT6a inVoxel=False  n_exp= NA', parent=ECT)\n",
      "ECT5 = Node('ECT5 inVoxel=False  n_exp= NA', parent=ECT)\n",
      "ECT6b = Node('ECT6b inVoxel=False  n_exp= NA', parent=ECT)\n",
      "PERI = Node('PERI inVoxel=True  n_exp= NA', parent=Isocortex)\n",
      "PERI6a = Node('PERI6a inVoxel=False  n_exp= NA', parent=PERI)\n",
      "PERI6b = Node('PERI6b inVoxel=False  n_exp= NA', parent=PERI)\n",
      "PERI1 = Node('PERI1 inVoxel=False  n_exp= NA', parent=PERI)\n",
      "PERI5 = Node('PERI5 inVoxel=False  n_exp= NA', parent=PERI)\n",
      "PERI2and3 = Node('PERI2and3 inVoxel=False  n_exp= NA', parent=PERI)\n",
      "PL = Node('PL inVoxel=True  n_exp= NA', parent=Isocortex)\n",
      "PL6a = Node('PL6a inVoxel=False  n_exp= NA', parent=PL)\n",
      "PL6b = Node('PL6b inVoxel=False  n_exp= NA', parent=PL)\n",
      "PL1 = Node('PL1 inVoxel=False  n_exp= NA', parent=PL)\n",
      "PL2and3 = Node('PL2and3 inVoxel=False  n_exp= NA', parent=PL)\n",
      "PL5 = Node('PL5 inVoxel=False  n_exp= NA', parent=PL)\n",
      "GU = Node('GU inVoxel=True  n_exp= NA', parent=Isocortex)\n",
      "GU1 = Node('GU1 inVoxel=False  n_exp= NA', parent=GU)\n",
      "GU4 = Node('GU4 inVoxel=False  n_exp= NA', parent=GU)\n",
      "GU2and3 = Node('GU2and3 inVoxel=False  n_exp= NA', parent=GU)\n",
      "GU5 = Node('GU5 inVoxel=False  n_exp= NA', parent=GU)\n",
      "GU6a = Node('GU6a inVoxel=False  n_exp= NA', parent=GU)\n",
      "GU6b = Node('GU6b inVoxel=False  n_exp= NA', parent=GU)\n",
      "SS = Node('SS inVoxel=False  n_exp= NA', parent=Isocortex)\n",
      "SSp = Node('SSp inVoxel=False  n_exp= NA', parent=SS)\n",
      "SSp_bfd = Node('SSp_bfd inVoxel=True  n_exp= NA', parent=SSp)\n",
      "SSp_bfd2and3 = Node('SSp_bfd2and3 inVoxel=False  n_exp= NA', parent=SSp_bfd)\n",
      "SSp_bfd1 = Node('SSp_bfd1 inVoxel=False  n_exp= NA', parent=SSp_bfd)\n",
      "SSp_bfd6a = Node('SSp_bfd6a inVoxel=False  n_exp= NA', parent=SSp_bfd)\n",
      "SSp_bfd4 = Node('SSp_bfd4 inVoxel=False  n_exp= NA', parent=SSp_bfd)\n",
      "SSp_bfd6b = Node('SSp_bfd6b inVoxel=False  n_exp= NA', parent=SSp_bfd)\n",
      "SSp_bfd5 = Node('SSp_bfd5 inVoxel=False  n_exp= NA', parent=SSp_bfd)\n",
      "SSp_ll = Node('SSp_ll inVoxel=True  n_exp= NA', parent=SSp)\n",
      "SSp_ll2and3 = Node('SSp_ll2and3 inVoxel=False  n_exp= NA', parent=SSp_ll)\n",
      "SSp_ll6a = Node('SSp_ll6a inVoxel=False  n_exp= NA', parent=SSp_ll)\n",
      "SSp_ll6b = Node('SSp_ll6b inVoxel=False  n_exp= NA', parent=SSp_ll)\n",
      "SSp_ll1 = Node('SSp_ll1 inVoxel=False  n_exp= NA', parent=SSp_ll)\n",
      "SSp_ll4 = Node('SSp_ll4 inVoxel=False  n_exp= NA', parent=SSp_ll)\n",
      "SSp_ll5 = Node('SSp_ll5 inVoxel=False  n_exp= NA', parent=SSp_ll)\n",
      "SSp_m = Node('SSp_m inVoxel=True  n_exp= NA', parent=SSp)\n",
      "SSp_m6b = Node('SSp_m6b inVoxel=False  n_exp= NA', parent=SSp_m)\n",
      "SSp_m2and3 = Node('SSp_m2and3 inVoxel=False  n_exp= NA', parent=SSp_m)\n",
      "SSp_m1 = Node('SSp_m1 inVoxel=False  n_exp= NA', parent=SSp_m)\n",
      "SSp_m4 = Node('SSp_m4 inVoxel=False  n_exp= NA', parent=SSp_m)\n",
      "SSp_m5 = Node('SSp_m5 inVoxel=False  n_exp= NA', parent=SSp_m)\n",
      "SSp_m6a = Node('SSp_m6a inVoxel=False  n_exp= NA', parent=SSp_m)\n",
      "SSp_n = Node('SSp_n inVoxel=True  n_exp= NA', parent=SSp)\n",
      "SSp_n1 = Node('SSp_n1 inVoxel=False  n_exp= NA', parent=SSp_n)\n",
      "SSp_n4 = Node('SSp_n4 inVoxel=False  n_exp= NA', parent=SSp_n)\n",
      "SSp_n5 = Node('SSp_n5 inVoxel=False  n_exp= NA', parent=SSp_n)\n",
      "SSp_n2and3 = Node('SSp_n2and3 inVoxel=False  n_exp= NA', parent=SSp_n)\n",
      "SSp_n6a = Node('SSp_n6a inVoxel=False  n_exp= NA', parent=SSp_n)\n",
      "SSp_n6b = Node('SSp_n6b inVoxel=False  n_exp= NA', parent=SSp_n)\n",
      "SSp_tr = Node('SSp_tr inVoxel=True  n_exp= NA', parent=SSp)\n",
      "SSp_tr6a = Node('SSp_tr6a inVoxel=False  n_exp= NA', parent=SSp_tr)\n",
      "SSp_tr6b = Node('SSp_tr6b inVoxel=False  n_exp= NA', parent=SSp_tr)\n",
      "SSp_tr2and3 = Node('SSp_tr2and3 inVoxel=False  n_exp= NA', parent=SSp_tr)\n",
      "SSp_tr1 = Node('SSp_tr1 inVoxel=False  n_exp= NA', parent=SSp_tr)\n",
      "SSp_tr4 = Node('SSp_tr4 inVoxel=False  n_exp= NA', parent=SSp_tr)\n",
      "SSp_tr5 = Node('SSp_tr5 inVoxel=False  n_exp= NA', parent=SSp_tr)\n",
      "SSp_ul = Node('SSp_ul inVoxel=True  n_exp= NA', parent=SSp)\n",
      "SSp_ul1 = Node('SSp_ul1 inVoxel=False  n_exp= NA', parent=SSp_ul)\n",
      "SSp_ul4 = Node('SSp_ul4 inVoxel=False  n_exp= NA', parent=SSp_ul)\n",
      "SSp_ul5 = Node('SSp_ul5 inVoxel=False  n_exp= NA', parent=SSp_ul)\n",
      "SSp_ul2and3 = Node('SSp_ul2and3 inVoxel=False  n_exp= NA', parent=SSp_ul)\n",
      "SSp_ul6b = Node('SSp_ul6b inVoxel=False  n_exp= NA', parent=SSp_ul)\n",
      "SSp_ul6a = Node('SSp_ul6a inVoxel=False  n_exp= NA', parent=SSp_ul)\n",
      "SSp_un = Node('SSp_un inVoxel=True  n_exp= NA', parent=SSp)\n",
      "SSp_un1 = Node('SSp_un1 inVoxel=False  n_exp= NA', parent=SSp_un)\n",
      "SSp_un4 = Node('SSp_un4 inVoxel=False  n_exp= NA', parent=SSp_un)\n",
      "SSp_un5 = Node('SSp_un5 inVoxel=False  n_exp= NA', parent=SSp_un)\n",
      "SSp_un6a = Node('SSp_un6a inVoxel=False  n_exp= NA', parent=SSp_un)\n",
      "SSp_un6b = Node('SSp_un6b inVoxel=False  n_exp= NA', parent=SSp_un)\n",
      "SSp_un2and3 = Node('SSp_un2and3 inVoxel=False  n_exp= NA', parent=SSp_un)\n",
      "SSs = Node('SSs inVoxel=True  n_exp= NA', parent=SS)\n",
      "SSs2and3 = Node('SSs2and3 inVoxel=False  n_exp= NA', parent=SSs)\n",
      "SSs6a = Node('SSs6a inVoxel=False  n_exp= NA', parent=SSs)\n",
      "SSs1 = Node('SSs1 inVoxel=False  n_exp= NA', parent=SSs)\n",
      "SSs6b = Node('SSs6b inVoxel=False  n_exp= NA', parent=SSs)\n",
      "SSs4 = Node('SSs4 inVoxel=False  n_exp= NA', parent=SSs)\n",
      "SSs5 = Node('SSs5 inVoxel=False  n_exp= NA', parent=SSs)\n",
      "OLF = Node('OLF inVoxel=False  n_exp= NA', parent=CTXpl)\n",
      "AOB = Node('AOB inVoxel=True  n_exp= NA', parent=OLF)\n",
      "AOBgl = Node('AOBgl inVoxel=False  n_exp= NA', parent=AOB)\n",
      "AOBgr = Node('AOBgr inVoxel=False  n_exp= NA', parent=AOB)\n",
      "AOBmi = Node('AOBmi inVoxel=False  n_exp= NA', parent=AOB)\n",
      "AON = Node('AON inVoxel=True  n_exp= NA', parent=OLF)\n",
      "MOB = Node('MOB inVoxel=True  n_exp= NA', parent=OLF)\n",
      "TR = Node('TR inVoxel=True  n_exp= NA', parent=OLF)\n",
      "TT = Node('TT inVoxel=True  n_exp= NA', parent=OLF)\n",
      "TTd = Node('TTd inVoxel=False  n_exp= NA', parent=TT)\n",
      "TTv = Node('TTv inVoxel=False  n_exp= NA', parent=TT)\n",
      "NLOT = Node('NLOT inVoxel=True  n_exp= NA', parent=OLF)\n",
      "NLOT1 = Node('NLOT1 inVoxel=False  n_exp= NA', parent=NLOT)\n",
      "NLOT2 = Node('NLOT2 inVoxel=False  n_exp= NA', parent=NLOT)\n",
      "NLOT3 = Node('NLOT3 inVoxel=False  n_exp= NA', parent=NLOT)\n",
      "COA = Node('COA inVoxel=False  n_exp= NA', parent=OLF)\n",
      "COAa = Node('COAa inVoxel=True  n_exp= NA', parent=COA)\n",
      "COAp = Node('COAp inVoxel=True  n_exp= NA', parent=COA)\n",
      "COApl = Node('COApl inVoxel=False  n_exp= NA', parent=COAp)\n",
      "COApm = Node('COApm inVoxel=False  n_exp= NA', parent=COAp)\n",
      "PAA = Node('PAA inVoxel=True  n_exp= NA', parent=OLF)\n",
      "DP = Node('DP inVoxel=True  n_exp= NA', parent=OLF)\n",
      "PIR = Node('PIR inVoxel=True  n_exp= NA', parent=OLF)\n",
      "HPF = Node('HPF inVoxel=False  n_exp= NA', parent=CTXpl)\n",
      "RHP = Node('RHP inVoxel=False  n_exp= NA', parent=HPF)\n",
      "SUB = Node('SUB inVoxel=True  n_exp= NA', parent=RHP)\n",
      "APr = Node('APr inVoxel=False  n_exp= NA', parent=RHP)\n",
      "PAR = Node('PAR inVoxel=True  n_exp= NA', parent=RHP)\n",
      "ENT = Node('ENT inVoxel=False  n_exp= NA', parent=RHP)\n",
      "ENTl = Node('ENTl inVoxel=True  n_exp= NA', parent=ENT)\n",
      "ENTl2 = Node('ENTl2 inVoxel=False  n_exp= NA', parent=ENTl)\n",
      "ENTl6a = Node('ENTl6a inVoxel=False  n_exp= NA', parent=ENTl)\n",
      "ENTl3 = Node('ENTl3 inVoxel=False  n_exp= NA', parent=ENTl)\n",
      "ENTl5 = Node('ENTl5 inVoxel=False  n_exp= NA', parent=ENTl)\n",
      "ENTl1 = Node('ENTl1 inVoxel=False  n_exp= NA', parent=ENTl)\n",
      "ENTm = Node('ENTm inVoxel=True  n_exp= NA', parent=ENT)\n",
      "ENTm1 = Node('ENTm1 inVoxel=False  n_exp= NA', parent=ENTm)\n",
      "ENTm2 = Node('ENTm2 inVoxel=False  n_exp= NA', parent=ENTm)\n",
      "ENTm3 = Node('ENTm3 inVoxel=False  n_exp= NA', parent=ENTm)\n",
      "ENTm5 = Node('ENTm5 inVoxel=False  n_exp= NA', parent=ENTm)\n",
      "ENTm6 = Node('ENTm6 inVoxel=False  n_exp= NA', parent=ENTm)\n",
      "ENTmv = Node('ENTmv inVoxel=False  n_exp= NA', parent=ENT)\n",
      "POST = Node('POST inVoxel=True  n_exp= NA', parent=RHP)\n",
      "PRE = Node('PRE inVoxel=True  n_exp= NA', parent=RHP)\n",
      "ProS = Node('ProS inVoxel=False  n_exp= NA', parent=RHP)\n",
      "HATA = Node('HATA inVoxel=False  n_exp= NA', parent=RHP)\n",
      "HIP = Node('HIP inVoxel=False  n_exp= NA', parent=HPF)\n",
      "IG = Node('IG inVoxel=True  n_exp= NA', parent=HIP)\n",
      "CA = Node('CA inVoxel=False  n_exp= NA', parent=HIP)\n",
      "CA1 = Node('CA1 inVoxel=True  n_exp= NA', parent=CA)\n",
      "CA2 = Node('CA2 inVoxel=True  n_exp= NA', parent=CA)\n",
      "CA3 = Node('CA3 inVoxel=True  n_exp= NA', parent=CA)\n",
      "DG = Node('DG inVoxel=True  n_exp= NA', parent=HIP)\n",
      "DG_po = Node('DG_po inVoxel=False  n_exp= NA', parent=DG)\n",
      "DG_sg = Node('DG_sg inVoxel=False  n_exp= NA', parent=DG)\n",
      "DG_mo = Node('DG_mo inVoxel=False  n_exp= NA', parent=DG)\n",
      "FC = Node('FC inVoxel=True  n_exp= NA', parent=HIP)\n",
      "CTXsp = Node('CTXsp inVoxel=False  n_exp= NA', parent=CTX)\n",
      "LA = Node('LA inVoxel=True  n_exp= NA', parent=CTXsp)\n",
      "BLA = Node('BLA inVoxel=True  n_exp= NA', parent=CTXsp)\n",
      "BLAa = Node('BLAa inVoxel=False  n_exp= NA', parent=BLA)\n",
      "BLAp = Node('BLAp inVoxel=False  n_exp= NA', parent=BLA)\n",
      "BLAv = Node('BLAv inVoxel=False  n_exp= NA', parent=BLA)\n",
      "BMA = Node('BMA inVoxel=True  n_exp= NA', parent=CTXsp)\n",
      "BMAa = Node('BMAa inVoxel=False  n_exp= NA', parent=BMA)\n",
      "BMAp = Node('BMAp inVoxel=False  n_exp= NA', parent=BMA)\n",
      "CLA = Node('CLA inVoxel=True  n_exp= NA', parent=CTXsp)\n",
      "PA = Node('PA inVoxel=True  n_exp= NA', parent=CTXsp)\n",
      "EP = Node('EP inVoxel=False  n_exp= NA', parent=CTXsp)\n",
      "EPd = Node('EPd inVoxel=True  n_exp= NA', parent=EP)\n",
      "EPv = Node('EPv inVoxel=True  n_exp= NA', parent=EP)\n"
     ]
    }
   ],
   "source": [
    "print_code_for_tree('CTX')"
   ]
  },
  {
   "cell_type": "code",
   "execution_count": 56,
   "metadata": {},
   "outputs": [],
   "source": [
    "CTXpl = Node('CTXpl inVoxel=False  n_exp= NA', parent=CTX)\n",
    "Isocortex = Node('Isocortex inVoxel=False  n_exp= NA', parent=CTXpl)\n",
    "PTLp = Node('PTLp inVoxel=False  n_exp= NA', parent=Isocortex)\n",
    "VISa = Node('VISa inVoxel=True  n_exp= NA', parent=PTLp)\n",
    "VISa1 = Node('VISa1 inVoxel=False  n_exp= NA', parent=VISa)\n",
    "VISa2and3 = Node('VISa2and3 inVoxel=False  n_exp= NA', parent=VISa)\n",
    "VISa4 = Node('VISa4 inVoxel=False  n_exp= NA', parent=VISa)\n",
    "VISa5 = Node('VISa5 inVoxel=False  n_exp= NA', parent=VISa)\n",
    "VISa6a = Node('VISa6a inVoxel=False  n_exp= NA', parent=VISa)\n",
    "VISa6b = Node('VISa6b inVoxel=False  n_exp= NA', parent=VISa)\n",
    "VISrl = Node('VISrl inVoxel=True  n_exp= NA', parent=PTLp)\n",
    "VISrl1 = Node('VISrl1 inVoxel=False  n_exp= NA', parent=VISrl)\n",
    "VISrl2and3 = Node('VISrl2and3 inVoxel=False  n_exp= NA', parent=VISrl)\n",
    "VISrl4 = Node('VISrl4 inVoxel=False  n_exp= NA', parent=VISrl)\n",
    "VISrl5 = Node('VISrl5 inVoxel=False  n_exp= NA', parent=VISrl)\n",
    "VISrl6a = Node('VISrl6a inVoxel=False  n_exp= NA', parent=VISrl)\n",
    "VISrl6b = Node('VISrl6b inVoxel=False  n_exp= NA', parent=VISrl)\n",
    "ACA = Node('ACA inVoxel=False  n_exp= NA', parent=Isocortex)\n",
    "ACAd = Node('ACAd inVoxel=True  n_exp= NA', parent=ACA)\n",
    "ACAd2and3 = Node('ACAd2and3 inVoxel=False  n_exp= NA', parent=ACAd)\n",
    "ACAd6a = Node('ACAd6a inVoxel=False  n_exp= NA', parent=ACAd)\n",
    "ACAd6b = Node('ACAd6b inVoxel=False  n_exp= NA', parent=ACAd)\n",
    "ACAd1 = Node('ACAd1 inVoxel=False  n_exp= NA', parent=ACAd)\n",
    "ACAd5 = Node('ACAd5 inVoxel=False  n_exp= NA', parent=ACAd)\n",
    "ACAv = Node('ACAv inVoxel=True  n_exp= NA', parent=ACA)\n",
    "ACAv2and3 = Node('ACAv2and3 inVoxel=False  n_exp= NA', parent=ACAv)\n",
    "ACAv1 = Node('ACAv1 inVoxel=False  n_exp= NA', parent=ACAv)\n",
    "ACAv5 = Node('ACAv5 inVoxel=False  n_exp= NA', parent=ACAv)\n",
    "ACAv6a = Node('ACAv6a inVoxel=False  n_exp= NA', parent=ACAv)\n",
    "ACAv6b = Node('ACAv6b inVoxel=False  n_exp= NA', parent=ACAv)\n",
    "ILA = Node('ILA inVoxel=True  n_exp= NA', parent=Isocortex)\n",
    "ILA2and3 = Node('ILA2and3 inVoxel=False  n_exp= NA', parent=ILA)\n",
    "ILA1 = Node('ILA1 inVoxel=False  n_exp= NA', parent=ILA)\n",
    "ILA5 = Node('ILA5 inVoxel=False  n_exp= NA', parent=ILA)\n",
    "ILA6a = Node('ILA6a inVoxel=False  n_exp= NA', parent=ILA)\n",
    "ILA6b = Node('ILA6b inVoxel=False  n_exp= NA', parent=ILA)\n",
    "AI = Node('AI inVoxel=False  n_exp= NA', parent=Isocortex)\n",
    "AId = Node('AId inVoxel=True  n_exp= NA', parent=AI)\n",
    "AId2and3 = Node('AId2and3 inVoxel=False  n_exp= NA', parent=AId)\n",
    "AId6a = Node('AId6a inVoxel=False  n_exp= NA', parent=AId)\n",
    "AId6b = Node('AId6b inVoxel=False  n_exp= NA', parent=AId)\n",
    "AId1 = Node('AId1 inVoxel=False  n_exp= NA', parent=AId)\n",
    "AId5 = Node('AId5 inVoxel=False  n_exp= NA', parent=AId)\n",
    "AIp = Node('AIp inVoxel=True  n_exp= NA', parent=AI)\n",
    "AIp1 = Node('AIp1 inVoxel=False  n_exp= NA', parent=AIp)\n",
    "AIp2and3 = Node('AIp2and3 inVoxel=False  n_exp= NA', parent=AIp)\n",
    "AIp6a = Node('AIp6a inVoxel=False  n_exp= NA', parent=AIp)\n",
    "AIp5 = Node('AIp5 inVoxel=False  n_exp= NA', parent=AIp)\n",
    "AIp6b = Node('AIp6b inVoxel=False  n_exp= NA', parent=AIp)\n",
    "AIv = Node('AIv inVoxel=True  n_exp= NA', parent=AI)\n",
    "AIv6a = Node('AIv6a inVoxel=False  n_exp= NA', parent=AIv)\n",
    "AIv2and3 = Node('AIv2and3 inVoxel=False  n_exp= NA', parent=AIv)\n",
    "AIv6b = Node('AIv6b inVoxel=False  n_exp= NA', parent=AIv)\n",
    "AIv1 = Node('AIv1 inVoxel=False  n_exp= NA', parent=AIv)\n",
    "AIv5 = Node('AIv5 inVoxel=False  n_exp= NA', parent=AIv)\n",
    "FRP = Node('FRP inVoxel=True  n_exp= NA', parent=Isocortex)\n",
    "FRP1 = Node('FRP1 inVoxel=False  n_exp= NA', parent=FRP)\n",
    "FRP2and3 = Node('FRP2and3 inVoxel=False  n_exp= NA', parent=FRP)\n",
    "FRP5 = Node('FRP5 inVoxel=False  n_exp= NA', parent=FRP)\n",
    "FRP6a = Node('FRP6a inVoxel=False  n_exp= NA', parent=FRP)\n",
    "FRP6b = Node('FRP6b inVoxel=False  n_exp= NA', parent=FRP)\n",
    "AUD = Node('AUD inVoxel=False  n_exp= NA', parent=Isocortex)\n",
    "AUDp = Node('AUDp inVoxel=True  n_exp= NA', parent=AUD)\n",
    "AUDp2and3 = Node('AUDp2and3 inVoxel=False  n_exp= NA', parent=AUDp)\n",
    "AUDp1 = Node('AUDp1 inVoxel=False  n_exp= NA', parent=AUDp)\n",
    "AUDp4 = Node('AUDp4 inVoxel=False  n_exp= NA', parent=AUDp)\n",
    "AUDp5 = Node('AUDp5 inVoxel=False  n_exp= NA', parent=AUDp)\n",
    "AUDp6a = Node('AUDp6a inVoxel=False  n_exp= NA', parent=AUDp)\n",
    "AUDp6b = Node('AUDp6b inVoxel=False  n_exp= NA', parent=AUDp)\n",
    "AUDd = Node('AUDd inVoxel=True  n_exp= NA', parent=AUD)\n",
    "AUDd6a = Node('AUDd6a inVoxel=False  n_exp= NA', parent=AUDd)\n",
    "AUDd6b = Node('AUDd6b inVoxel=False  n_exp= NA', parent=AUDd)\n",
    "AUDd5 = Node('AUDd5 inVoxel=False  n_exp= NA', parent=AUDd)\n",
    "AUDd1 = Node('AUDd1 inVoxel=False  n_exp= NA', parent=AUDd)\n",
    "AUDd2and3 = Node('AUDd2and3 inVoxel=False  n_exp= NA', parent=AUDd)\n",
    "AUDd4 = Node('AUDd4 inVoxel=False  n_exp= NA', parent=AUDd)\n",
    "AUDv = Node('AUDv inVoxel=True  n_exp= NA', parent=AUD)\n",
    "AUDv6a = Node('AUDv6a inVoxel=False  n_exp= NA', parent=AUDv)\n",
    "AUDv6b = Node('AUDv6b inVoxel=False  n_exp= NA', parent=AUDv)\n",
    "AUDv2and3 = Node('AUDv2and3 inVoxel=False  n_exp= NA', parent=AUDv)\n",
    "AUDv1 = Node('AUDv1 inVoxel=False  n_exp= NA', parent=AUDv)\n",
    "AUDv4 = Node('AUDv4 inVoxel=False  n_exp= NA', parent=AUDv)\n",
    "AUDv5 = Node('AUDv5 inVoxel=False  n_exp= NA', parent=AUDv)\n",
    "AUDpo = Node('AUDpo inVoxel=True  n_exp= NA', parent=AUD)\n",
    "AUDpo6a = Node('AUDpo6a inVoxel=False  n_exp= NA', parent=AUDpo)\n",
    "AUDpo6b = Node('AUDpo6b inVoxel=False  n_exp= NA', parent=AUDpo)\n",
    "AUDpo2and3 = Node('AUDpo2and3 inVoxel=False  n_exp= NA', parent=AUDpo)\n",
    "AUDpo1 = Node('AUDpo1 inVoxel=False  n_exp= NA', parent=AUDpo)\n",
    "AUDpo4 = Node('AUDpo4 inVoxel=False  n_exp= NA', parent=AUDpo)\n",
    "AUDpo5 = Node('AUDpo5 inVoxel=False  n_exp= NA', parent=AUDpo)\n",
    "RSP = Node('RSP inVoxel=False  n_exp= NA', parent=Isocortex)\n",
    "RSPd = Node('RSPd inVoxel=True  n_exp= NA', parent=RSP)\n",
    "RSPd6a = Node('RSPd6a inVoxel=False  n_exp= NA', parent=RSPd)\n",
    "RSPd6b = Node('RSPd6b inVoxel=False  n_exp= NA', parent=RSPd)\n",
    "RSPd2and3 = Node('RSPd2and3 inVoxel=False  n_exp= NA', parent=RSPd)\n",
    "RSPd1 = Node('RSPd1 inVoxel=False  n_exp= NA', parent=RSPd)\n",
    "RSPd4 = Node('RSPd4 inVoxel=False  n_exp= NA', parent=RSPd)\n",
    "RSPd5 = Node('RSPd5 inVoxel=False  n_exp= NA', parent=RSPd)\n",
    "RSPv = Node('RSPv inVoxel=True  n_exp= NA', parent=RSP)\n",
    "RSPv2and3 = Node('RSPv2and3 inVoxel=False  n_exp= NA', parent=RSPv)\n",
    "RSPv1 = Node('RSPv1 inVoxel=False  n_exp= NA', parent=RSPv)\n",
    "RSPv6a = Node('RSPv6a inVoxel=False  n_exp= NA', parent=RSPv)\n",
    "RSPv6b = Node('RSPv6b inVoxel=False  n_exp= NA', parent=RSPv)\n",
    "RSPv5 = Node('RSPv5 inVoxel=False  n_exp= NA', parent=RSPv)\n",
    "RSPagl = Node('RSPagl inVoxel=True  n_exp= NA', parent=RSP)\n",
    "RSPagl6b = Node('RSPagl6b inVoxel=False  n_exp= NA', parent=RSPagl)\n",
    "RSPagl1 = Node('RSPagl1 inVoxel=False  n_exp= NA', parent=RSPagl)\n",
    "RSPagl5 = Node('RSPagl5 inVoxel=False  n_exp= NA', parent=RSPagl)\n",
    "RSPagl6a = Node('RSPagl6a inVoxel=False  n_exp= NA', parent=RSPagl)\n",
    "RSPagl2and3 = Node('RSPagl2and3 inVoxel=False  n_exp= NA', parent=RSPagl)\n",
    "MO = Node('MO inVoxel=False  n_exp= NA', parent=Isocortex)\n",
    "MOp = Node('MOp inVoxel=True  n_exp= NA', parent=MO)\n",
    "MOp1 = Node('MOp1 inVoxel=False  n_exp= NA', parent=MOp)\n",
    "MOp5 = Node('MOp5 inVoxel=False  n_exp= NA', parent=MOp)\n",
    "MOp6a = Node('MOp6a inVoxel=False  n_exp= NA', parent=MOp)\n",
    "MOp6b = Node('MOp6b inVoxel=False  n_exp= NA', parent=MOp)\n",
    "MOp2and3 = Node('MOp2and3 inVoxel=False  n_exp= NA', parent=MOp)\n",
    "MOs = Node('MOs inVoxel=True  n_exp= NA', parent=MO)\n",
    "MOs1 = Node('MOs1 inVoxel=False  n_exp= NA', parent=MOs)\n",
    "MOs5 = Node('MOs5 inVoxel=False  n_exp= NA', parent=MOs)\n",
    "MOs2and3 = Node('MOs2and3 inVoxel=False  n_exp= NA', parent=MOs)\n",
    "MOs6a = Node('MOs6a inVoxel=False  n_exp= NA', parent=MOs)\n",
    "MOs6b = Node('MOs6b inVoxel=False  n_exp= NA', parent=MOs)\n",
    "TEa = Node('TEa inVoxel=True  n_exp= NA', parent=Isocortex)\n",
    "TEa1 = Node('TEa1 inVoxel=False  n_exp= NA', parent=TEa)\n",
    "TEa4 = Node('TEa4 inVoxel=False  n_exp= NA', parent=TEa)\n",
    "TEa5 = Node('TEa5 inVoxel=False  n_exp= NA', parent=TEa)\n",
    "TEa6a = Node('TEa6a inVoxel=False  n_exp= NA', parent=TEa)\n",
    "TEa6b = Node('TEa6b inVoxel=False  n_exp= NA', parent=TEa)\n",
    "TEa2and3 = Node('TEa2and3 inVoxel=False  n_exp= NA', parent=TEa)\n",
    "VIS = Node('VIS inVoxel=False  n_exp= NA', parent=Isocortex)\n",
    "VISp = Node('VISp inVoxel=True  n_exp= NA', parent=VIS)\n",
    "VISp6a = Node('VISp6a inVoxel=False  n_exp= NA', parent=VISp)\n",
    "VISp6b = Node('VISp6b inVoxel=False  n_exp= NA', parent=VISp)\n",
    "VISp1 = Node('VISp1 inVoxel=False  n_exp= NA', parent=VISp)\n",
    "VISp4 = Node('VISp4 inVoxel=False  n_exp= NA', parent=VISp)\n",
    "VISp5 = Node('VISp5 inVoxel=False  n_exp= NA', parent=VISp)\n",
    "VISp2and3 = Node('VISp2and3 inVoxel=False  n_exp= NA', parent=VISp)\n",
    "VISam = Node('VISam inVoxel=True  n_exp= NA', parent=VIS)\n",
    "VISam1 = Node('VISam1 inVoxel=False  n_exp= NA', parent=VISam)\n",
    "VISam4 = Node('VISam4 inVoxel=False  n_exp= NA', parent=VISam)\n",
    "VISam5 = Node('VISam5 inVoxel=False  n_exp= NA', parent=VISam)\n",
    "VISam6b = Node('VISam6b inVoxel=False  n_exp= NA', parent=VISam)\n",
    "VISam6a = Node('VISam6a inVoxel=False  n_exp= NA', parent=VISam)\n",
    "VISam2and3 = Node('VISam2and3 inVoxel=False  n_exp= NA', parent=VISam)\n",
    "VISal = Node('VISal inVoxel=True  n_exp= NA', parent=VIS)\n",
    "VISal5 = Node('VISal5 inVoxel=False  n_exp= NA', parent=VISal)\n",
    "VISal6a = Node('VISal6a inVoxel=False  n_exp= NA', parent=VISal)\n",
    "VISal6b = Node('VISal6b inVoxel=False  n_exp= NA', parent=VISal)\n",
    "VISal2and3 = Node('VISal2and3 inVoxel=False  n_exp= NA', parent=VISal)\n",
    "VISal1 = Node('VISal1 inVoxel=False  n_exp= NA', parent=VISal)\n",
    "VISal4 = Node('VISal4 inVoxel=False  n_exp= NA', parent=VISal)\n",
    "VISli = Node('VISli inVoxel=True  n_exp= NA', parent=VIS)\n",
    "VISli2and3 = Node('VISli2and3 inVoxel=False  n_exp= NA', parent=VISli)\n",
    "VISli4 = Node('VISli4 inVoxel=False  n_exp= NA', parent=VISli)\n",
    "VISli5 = Node('VISli5 inVoxel=False  n_exp= NA', parent=VISli)\n",
    "VISli1 = Node('VISli1 inVoxel=False  n_exp= NA', parent=VISli)\n",
    "VISli6a = Node('VISli6a inVoxel=False  n_exp= NA', parent=VISli)\n",
    "VISli6b = Node('VISli6b inVoxel=False  n_exp= NA', parent=VISli)\n",
    "VISl = Node('VISl inVoxel=True  n_exp= NA', parent=VIS)\n",
    "VISl6a = Node('VISl6a inVoxel=False  n_exp= NA', parent=VISl)\n",
    "VISl6b = Node('VISl6b inVoxel=False  n_exp= NA', parent=VISl)\n",
    "VISl1 = Node('VISl1 inVoxel=False  n_exp= NA', parent=VISl)\n",
    "VISl4 = Node('VISl4 inVoxel=False  n_exp= NA', parent=VISl)\n",
    "VISl5 = Node('VISl5 inVoxel=False  n_exp= NA', parent=VISl)\n",
    "VISl2and3 = Node('VISl2and3 inVoxel=False  n_exp= NA', parent=VISl)\n",
    "VISpl = Node('VISpl inVoxel=True  n_exp= NA', parent=VIS)\n",
    "VISpl2and3 = Node('VISpl2and3 inVoxel=False  n_exp= NA', parent=VISpl)\n",
    "VISpl6a = Node('VISpl6a inVoxel=False  n_exp= NA', parent=VISpl)\n",
    "VISpl6b = Node('VISpl6b inVoxel=False  n_exp= NA', parent=VISpl)\n",
    "VISpl1 = Node('VISpl1 inVoxel=False  n_exp= NA', parent=VISpl)\n",
    "VISpl4 = Node('VISpl4 inVoxel=False  n_exp= NA', parent=VISpl)\n",
    "VISpl5 = Node('VISpl5 inVoxel=False  n_exp= NA', parent=VISpl)\n",
    "VISpm = Node('VISpm inVoxel=True  n_exp= NA', parent=VIS)\n",
    "VISpm2and3 = Node('VISpm2and3 inVoxel=False  n_exp= NA', parent=VISpm)\n",
    "VISpm6a = Node('VISpm6a inVoxel=False  n_exp= NA', parent=VISpm)\n",
    "VISpm6b = Node('VISpm6b inVoxel=False  n_exp= NA', parent=VISpm)\n",
    "VISpm5 = Node('VISpm5 inVoxel=False  n_exp= NA', parent=VISpm)\n",
    "VISpm4 = Node('VISpm4 inVoxel=False  n_exp= NA', parent=VISpm)\n",
    "VISpm1 = Node('VISpm1 inVoxel=False  n_exp= NA', parent=VISpm)\n",
    "VISpor = Node('VISpor inVoxel=True  n_exp= NA', parent=VIS)\n",
    "VISpor1 = Node('VISpor1 inVoxel=False  n_exp= NA', parent=VISpor)\n",
    "VISpor2and3 = Node('VISpor2and3 inVoxel=False  n_exp= NA', parent=VISpor)\n",
    "VISpor4 = Node('VISpor4 inVoxel=False  n_exp= NA', parent=VISpor)\n",
    "VISpor5 = Node('VISpor5 inVoxel=False  n_exp= NA', parent=VISpor)\n",
    "VISpor6a = Node('VISpor6a inVoxel=False  n_exp= NA', parent=VISpor)\n",
    "VISpor6b = Node('VISpor6b inVoxel=False  n_exp= NA', parent=VISpor)\n",
    "VISC = Node('VISC inVoxel=True  n_exp= NA', parent=Isocortex)\n",
    "VISC6b = Node('VISC6b inVoxel=False  n_exp= NA', parent=VISC)\n",
    "VISC6a = Node('VISC6a inVoxel=False  n_exp= NA', parent=VISC)\n",
    "VISC1 = Node('VISC1 inVoxel=False  n_exp= NA', parent=VISC)\n",
    "VISC4 = Node('VISC4 inVoxel=False  n_exp= NA', parent=VISC)\n",
    "VISC5 = Node('VISC5 inVoxel=False  n_exp= NA', parent=VISC)\n",
    "VISC2and3 = Node('VISC2and3 inVoxel=False  n_exp= NA', parent=VISC)\n",
    "ORB = Node('ORB inVoxel=False  n_exp= NA', parent=Isocortex)\n",
    "ORBl = Node('ORBl inVoxel=True  n_exp= NA', parent=ORB)\n",
    "ORBl2and3 = Node('ORBl2and3 inVoxel=False  n_exp= NA', parent=ORBl)\n",
    "ORBl6a = Node('ORBl6a inVoxel=False  n_exp= NA', parent=ORBl)\n",
    "ORBl1 = Node('ORBl1 inVoxel=False  n_exp= NA', parent=ORBl)\n",
    "ORBl6b = Node('ORBl6b inVoxel=False  n_exp= NA', parent=ORBl)\n",
    "ORBl5 = Node('ORBl5 inVoxel=False  n_exp= NA', parent=ORBl)\n",
    "ORBm = Node('ORBm inVoxel=True  n_exp= NA', parent=ORB)\n",
    "ORBm1 = Node('ORBm1 inVoxel=False  n_exp= NA', parent=ORBm)\n",
    "ORBm2and3 = Node('ORBm2and3 inVoxel=False  n_exp= NA', parent=ORBm)\n",
    "ORBm5 = Node('ORBm5 inVoxel=False  n_exp= NA', parent=ORBm)\n",
    "ORBm6a = Node('ORBm6a inVoxel=False  n_exp= NA', parent=ORBm)\n",
    "ORBm6b = Node('ORBm6b inVoxel=False  n_exp= NA', parent=ORBm)\n",
    "ORBvl = Node('ORBvl inVoxel=True  n_exp= NA', parent=ORB)\n",
    "ORBvl2and3 = Node('ORBvl2and3 inVoxel=False  n_exp= NA', parent=ORBvl)\n",
    "ORBvl6a = Node('ORBvl6a inVoxel=False  n_exp= NA', parent=ORBvl)\n",
    "ORBvl6b = Node('ORBvl6b inVoxel=False  n_exp= NA', parent=ORBvl)\n",
    "ORBvl1 = Node('ORBvl1 inVoxel=False  n_exp= NA', parent=ORBvl)\n",
    "ORBvl5 = Node('ORBvl5 inVoxel=False  n_exp= NA', parent=ORBvl)\n",
    "ECT = Node('ECT inVoxel=True  n_exp= NA', parent=Isocortex)\n",
    "ECT2and3 = Node('ECT2and3 inVoxel=False  n_exp= NA', parent=ECT)\n",
    "ECT1 = Node('ECT1 inVoxel=False  n_exp= NA', parent=ECT)\n",
    "ECT6a = Node('ECT6a inVoxel=False  n_exp= NA', parent=ECT)\n",
    "ECT5 = Node('ECT5 inVoxel=False  n_exp= NA', parent=ECT)\n",
    "ECT6b = Node('ECT6b inVoxel=False  n_exp= NA', parent=ECT)\n",
    "PERI = Node('PERI inVoxel=True  n_exp= NA', parent=Isocortex)\n",
    "PERI6a = Node('PERI6a inVoxel=False  n_exp= NA', parent=PERI)\n",
    "PERI6b = Node('PERI6b inVoxel=False  n_exp= NA', parent=PERI)\n",
    "PERI1 = Node('PERI1 inVoxel=False  n_exp= NA', parent=PERI)\n",
    "PERI5 = Node('PERI5 inVoxel=False  n_exp= NA', parent=PERI)\n",
    "PERI2and3 = Node('PERI2and3 inVoxel=False  n_exp= NA', parent=PERI)\n",
    "PL = Node('PL inVoxel=True  n_exp= NA', parent=Isocortex)\n",
    "PL6a = Node('PL6a inVoxel=False  n_exp= NA', parent=PL)\n",
    "PL6b = Node('PL6b inVoxel=False  n_exp= NA', parent=PL)\n",
    "PL1 = Node('PL1 inVoxel=False  n_exp= NA', parent=PL)\n",
    "PL2and3 = Node('PL2and3 inVoxel=False  n_exp= NA', parent=PL)\n",
    "PL5 = Node('PL5 inVoxel=False  n_exp= NA', parent=PL)\n",
    "GU = Node('GU inVoxel=True  n_exp= NA', parent=Isocortex)\n",
    "GU1 = Node('GU1 inVoxel=False  n_exp= NA', parent=GU)\n",
    "GU4 = Node('GU4 inVoxel=False  n_exp= NA', parent=GU)\n",
    "GU2and3 = Node('GU2and3 inVoxel=False  n_exp= NA', parent=GU)\n",
    "GU5 = Node('GU5 inVoxel=False  n_exp= NA', parent=GU)\n",
    "GU6a = Node('GU6a inVoxel=False  n_exp= NA', parent=GU)\n",
    "GU6b = Node('GU6b inVoxel=False  n_exp= NA', parent=GU)\n",
    "SS = Node('SS inVoxel=False  n_exp= NA', parent=Isocortex)\n",
    "SSp = Node('SSp inVoxel=False  n_exp= NA', parent=SS)\n",
    "SSp_bfd = Node('SSp_bfd inVoxel=True  n_exp= NA', parent=SSp)\n",
    "SSp_bfd2and3 = Node('SSp_bfd2and3 inVoxel=False  n_exp= NA', parent=SSp_bfd)\n",
    "SSp_bfd1 = Node('SSp_bfd1 inVoxel=False  n_exp= NA', parent=SSp_bfd)\n",
    "SSp_bfd6a = Node('SSp_bfd6a inVoxel=False  n_exp= NA', parent=SSp_bfd)\n",
    "SSp_bfd4 = Node('SSp_bfd4 inVoxel=False  n_exp= NA', parent=SSp_bfd)\n",
    "SSp_bfd6b = Node('SSp_bfd6b inVoxel=False  n_exp= NA', parent=SSp_bfd)\n",
    "SSp_bfd5 = Node('SSp_bfd5 inVoxel=False  n_exp= NA', parent=SSp_bfd)\n",
    "SSp_ll = Node('SSp_ll inVoxel=True  n_exp= NA', parent=SSp)\n",
    "SSp_ll2and3 = Node('SSp_ll2and3 inVoxel=False  n_exp= NA', parent=SSp_ll)\n",
    "SSp_ll6a = Node('SSp_ll6a inVoxel=False  n_exp= NA', parent=SSp_ll)\n",
    "SSp_ll6b = Node('SSp_ll6b inVoxel=False  n_exp= NA', parent=SSp_ll)\n",
    "SSp_ll1 = Node('SSp_ll1 inVoxel=False  n_exp= NA', parent=SSp_ll)\n",
    "SSp_ll4 = Node('SSp_ll4 inVoxel=False  n_exp= NA', parent=SSp_ll)\n",
    "SSp_ll5 = Node('SSp_ll5 inVoxel=False  n_exp= NA', parent=SSp_ll)\n",
    "SSp_m = Node('SSp_m inVoxel=True  n_exp= NA', parent=SSp)\n",
    "SSp_m6b = Node('SSp_m6b inVoxel=False  n_exp= NA', parent=SSp_m)\n",
    "SSp_m2and3 = Node('SSp_m2and3 inVoxel=False  n_exp= NA', parent=SSp_m)\n",
    "SSp_m1 = Node('SSp_m1 inVoxel=False  n_exp= NA', parent=SSp_m)\n",
    "SSp_m4 = Node('SSp_m4 inVoxel=False  n_exp= NA', parent=SSp_m)\n",
    "SSp_m5 = Node('SSp_m5 inVoxel=False  n_exp= NA', parent=SSp_m)\n",
    "SSp_m6a = Node('SSp_m6a inVoxel=False  n_exp= NA', parent=SSp_m)\n",
    "SSp_n = Node('SSp_n inVoxel=True  n_exp= NA', parent=SSp)\n",
    "SSp_n1 = Node('SSp_n1 inVoxel=False  n_exp= NA', parent=SSp_n)\n",
    "SSp_n4 = Node('SSp_n4 inVoxel=False  n_exp= NA', parent=SSp_n)\n",
    "SSp_n5 = Node('SSp_n5 inVoxel=False  n_exp= NA', parent=SSp_n)\n",
    "SSp_n2and3 = Node('SSp_n2and3 inVoxel=False  n_exp= NA', parent=SSp_n)\n",
    "SSp_n6a = Node('SSp_n6a inVoxel=False  n_exp= NA', parent=SSp_n)\n",
    "SSp_n6b = Node('SSp_n6b inVoxel=False  n_exp= NA', parent=SSp_n)\n",
    "SSp_tr = Node('SSp_tr inVoxel=True  n_exp= NA', parent=SSp)\n",
    "SSp_tr6a = Node('SSp_tr6a inVoxel=False  n_exp= NA', parent=SSp_tr)\n",
    "SSp_tr6b = Node('SSp_tr6b inVoxel=False  n_exp= NA', parent=SSp_tr)\n",
    "SSp_tr2and3 = Node('SSp_tr2and3 inVoxel=False  n_exp= NA', parent=SSp_tr)\n",
    "SSp_tr1 = Node('SSp_tr1 inVoxel=False  n_exp= NA', parent=SSp_tr)\n",
    "SSp_tr4 = Node('SSp_tr4 inVoxel=False  n_exp= NA', parent=SSp_tr)\n",
    "SSp_tr5 = Node('SSp_tr5 inVoxel=False  n_exp= NA', parent=SSp_tr)\n",
    "SSp_ul = Node('SSp_ul inVoxel=True  n_exp= NA', parent=SSp)\n",
    "SSp_ul1 = Node('SSp_ul1 inVoxel=False  n_exp= NA', parent=SSp_ul)\n",
    "SSp_ul4 = Node('SSp_ul4 inVoxel=False  n_exp= NA', parent=SSp_ul)\n",
    "SSp_ul5 = Node('SSp_ul5 inVoxel=False  n_exp= NA', parent=SSp_ul)\n",
    "SSp_ul2and3 = Node('SSp_ul2and3 inVoxel=False  n_exp= NA', parent=SSp_ul)\n",
    "SSp_ul6b = Node('SSp_ul6b inVoxel=False  n_exp= NA', parent=SSp_ul)\n",
    "SSp_ul6a = Node('SSp_ul6a inVoxel=False  n_exp= NA', parent=SSp_ul)\n",
    "SSp_un = Node('SSp_un inVoxel=True  n_exp= NA', parent=SSp)\n",
    "SSp_un1 = Node('SSp_un1 inVoxel=False  n_exp= NA', parent=SSp_un)\n",
    "SSp_un4 = Node('SSp_un4 inVoxel=False  n_exp= NA', parent=SSp_un)\n",
    "SSp_un5 = Node('SSp_un5 inVoxel=False  n_exp= NA', parent=SSp_un)\n",
    "SSp_un6a = Node('SSp_un6a inVoxel=False  n_exp= NA', parent=SSp_un)\n",
    "SSp_un6b = Node('SSp_un6b inVoxel=False  n_exp= NA', parent=SSp_un)\n",
    "SSp_un2and3 = Node('SSp_un2and3 inVoxel=False  n_exp= NA', parent=SSp_un)\n",
    "SSs = Node('SSs inVoxel=True  n_exp= NA', parent=SS)\n",
    "SSs2and3 = Node('SSs2and3 inVoxel=False  n_exp= NA', parent=SSs)\n",
    "SSs6a = Node('SSs6a inVoxel=False  n_exp= NA', parent=SSs)\n",
    "SSs1 = Node('SSs1 inVoxel=False  n_exp= NA', parent=SSs)\n",
    "SSs6b = Node('SSs6b inVoxel=False  n_exp= NA', parent=SSs)\n",
    "SSs4 = Node('SSs4 inVoxel=False  n_exp= NA', parent=SSs)\n",
    "SSs5 = Node('SSs5 inVoxel=False  n_exp= NA', parent=SSs)\n",
    "OLF = Node('OLF inVoxel=False  n_exp= NA', parent=CTXpl)\n",
    "AOB = Node('AOB inVoxel=True  n_exp= NA', parent=OLF)\n",
    "AOBgl = Node('AOBgl inVoxel=False  n_exp= NA', parent=AOB)\n",
    "AOBgr = Node('AOBgr inVoxel=False  n_exp= NA', parent=AOB)\n",
    "AOBmi = Node('AOBmi inVoxel=False  n_exp= NA', parent=AOB)\n",
    "AON = Node('AON inVoxel=True  n_exp= NA', parent=OLF)\n",
    "MOB = Node('MOB inVoxel=True  n_exp= NA', parent=OLF)\n",
    "TR = Node('TR inVoxel=True  n_exp= NA', parent=OLF)\n",
    "TT = Node('TT inVoxel=True  n_exp= NA', parent=OLF)\n",
    "TTd = Node('TTd inVoxel=False  n_exp= NA', parent=TT)\n",
    "TTv = Node('TTv inVoxel=False  n_exp= NA', parent=TT)\n",
    "NLOT = Node('NLOT inVoxel=True  n_exp= NA', parent=OLF)\n",
    "NLOT1 = Node('NLOT1 inVoxel=False  n_exp= NA', parent=NLOT)\n",
    "NLOT2 = Node('NLOT2 inVoxel=False  n_exp= NA', parent=NLOT)\n",
    "NLOT3 = Node('NLOT3 inVoxel=False  n_exp= NA', parent=NLOT)\n",
    "COA = Node('COA inVoxel=False  n_exp= NA', parent=OLF)\n",
    "COAa = Node('COAa inVoxel=True  n_exp= NA', parent=COA)\n",
    "COAp = Node('COAp inVoxel=True  n_exp= NA', parent=COA)\n",
    "COApl = Node('COApl inVoxel=False  n_exp= NA', parent=COAp)\n",
    "COApm = Node('COApm inVoxel=False  n_exp= NA', parent=COAp)\n",
    "PAA = Node('PAA inVoxel=True  n_exp= NA', parent=OLF)\n",
    "DP = Node('DP inVoxel=True  n_exp= NA', parent=OLF)\n",
    "PIR = Node('PIR inVoxel=True  n_exp= NA', parent=OLF)\n",
    "HPF = Node('HPF inVoxel=False  n_exp= NA', parent=CTXpl)\n",
    "RHP = Node('RHP inVoxel=False  n_exp= NA', parent=HPF)\n",
    "SUB = Node('SUB inVoxel=True  n_exp= NA', parent=RHP)\n",
    "APr = Node('APr inVoxel=False  n_exp= NA', parent=RHP)\n",
    "PAR = Node('PAR inVoxel=True  n_exp= NA', parent=RHP)\n",
    "ENT = Node('ENT inVoxel=False  n_exp= NA', parent=RHP)\n",
    "ENTl = Node('ENTl inVoxel=True  n_exp= NA', parent=ENT)\n",
    "ENTl2 = Node('ENTl2 inVoxel=False  n_exp= NA', parent=ENTl)\n",
    "ENTl6a = Node('ENTl6a inVoxel=False  n_exp= NA', parent=ENTl)\n",
    "ENTl3 = Node('ENTl3 inVoxel=False  n_exp= NA', parent=ENTl)\n",
    "ENTl5 = Node('ENTl5 inVoxel=False  n_exp= NA', parent=ENTl)\n",
    "ENTl1 = Node('ENTl1 inVoxel=False  n_exp= NA', parent=ENTl)\n",
    "ENTm = Node('ENTm inVoxel=True  n_exp= NA', parent=ENT)\n",
    "ENTm1 = Node('ENTm1 inVoxel=False  n_exp= NA', parent=ENTm)\n",
    "ENTm2 = Node('ENTm2 inVoxel=False  n_exp= NA', parent=ENTm)\n",
    "ENTm3 = Node('ENTm3 inVoxel=False  n_exp= NA', parent=ENTm)\n",
    "ENTm5 = Node('ENTm5 inVoxel=False  n_exp= NA', parent=ENTm)\n",
    "ENTm6 = Node('ENTm6 inVoxel=False  n_exp= NA', parent=ENTm)\n",
    "ENTmv = Node('ENTmv inVoxel=False  n_exp= NA', parent=ENT)\n",
    "POST = Node('POST inVoxel=True  n_exp= NA', parent=RHP)\n",
    "PRE = Node('PRE inVoxel=True  n_exp= NA', parent=RHP)\n",
    "ProS = Node('ProS inVoxel=False  n_exp= NA', parent=RHP)\n",
    "HATA = Node('HATA inVoxel=False  n_exp= NA', parent=RHP)\n",
    "HIP = Node('HIP inVoxel=False  n_exp= NA', parent=HPF)\n",
    "IG = Node('IG inVoxel=True  n_exp= NA', parent=HIP)\n",
    "CA = Node('CA inVoxel=False  n_exp= NA', parent=HIP)\n",
    "CA1 = Node('CA1 inVoxel=True  n_exp= NA', parent=CA)\n",
    "CA2 = Node('CA2 inVoxel=True  n_exp= NA', parent=CA)\n",
    "CA3 = Node('CA3 inVoxel=True  n_exp= NA', parent=CA)\n",
    "DG = Node('DG inVoxel=True  n_exp= NA', parent=HIP)\n",
    "DG_po = Node('DG_po inVoxel=False  n_exp= NA', parent=DG)\n",
    "DG_sg = Node('DG_sg inVoxel=False  n_exp= NA', parent=DG)\n",
    "DG_mo = Node('DG_mo inVoxel=False  n_exp= NA', parent=DG)\n",
    "FC = Node('FC inVoxel=True  n_exp= NA', parent=HIP)\n",
    "CTXsp = Node('CTXsp inVoxel=False  n_exp= NA', parent=CTX)\n",
    "LA = Node('LA inVoxel=True  n_exp= NA', parent=CTXsp)\n",
    "BLA = Node('BLA inVoxel=True  n_exp= NA', parent=CTXsp)\n",
    "BLAa = Node('BLAa inVoxel=False  n_exp= NA', parent=BLA)\n",
    "BLAp = Node('BLAp inVoxel=False  n_exp= NA', parent=BLA)\n",
    "BLAv = Node('BLAv inVoxel=False  n_exp= NA', parent=BLA)\n",
    "BMA = Node('BMA inVoxel=True  n_exp= NA', parent=CTXsp)\n",
    "BMAa = Node('BMAa inVoxel=False  n_exp= NA', parent=BMA)\n",
    "BMAp = Node('BMAp inVoxel=False  n_exp= NA', parent=BMA)\n",
    "CLA = Node('CLA inVoxel=True  n_exp= NA', parent=CTXsp)\n",
    "PA = Node('PA inVoxel=True  n_exp= NA', parent=CTXsp)\n",
    "EP = Node('EP inVoxel=False  n_exp= NA', parent=CTXsp)\n",
    "EPd = Node('EPd inVoxel=True  n_exp= NA', parent=EP)\n",
    "EPv = Node('EPv inVoxel=True  n_exp= NA', parent=EP)"
   ]
  },
  {
   "cell_type": "code",
   "execution_count": 58,
   "metadata": {},
   "outputs": [
    {
     "name": "stdout",
     "output_type": "stream",
     "text": [
      " CTX inVoxel=False\n",
      "├──  CTXpl inVoxel=False  n_exp= NA\n",
      "│   └──  Isocortex inVoxel=False  n_exp= NA\n",
      "│       ├──  PTLp inVoxel=False  n_exp= NA\n",
      "│       │   ├──  VISa inVoxel=True  n_exp= NA\n",
      "│       │   │   ├──  VISa1 inVoxel=False  n_exp= NA\n",
      "│       │   │   ├──  VISa2and3 inVoxel=False  n_exp= NA\n",
      "│       │   │   ├──  VISa4 inVoxel=False  n_exp= NA\n",
      "│       │   │   ├──  VISa5 inVoxel=False  n_exp= NA\n",
      "│       │   │   ├──  VISa6a inVoxel=False  n_exp= NA\n",
      "│       │   │   └──  VISa6b inVoxel=False  n_exp= NA\n",
      "│       │   └──  VISrl inVoxel=True  n_exp= NA\n",
      "│       │       ├──  VISrl1 inVoxel=False  n_exp= NA\n",
      "│       │       ├──  VISrl2and3 inVoxel=False  n_exp= NA\n",
      "│       │       ├──  VISrl4 inVoxel=False  n_exp= NA\n",
      "│       │       ├──  VISrl5 inVoxel=False  n_exp= NA\n",
      "│       │       ├──  VISrl6a inVoxel=False  n_exp= NA\n",
      "│       │       └──  VISrl6b inVoxel=False  n_exp= NA\n",
      "│       ├──  ACA inVoxel=False  n_exp= NA\n",
      "│       │   ├──  ACAd inVoxel=True  n_exp= NA\n",
      "│       │   │   ├──  ACAd2and3 inVoxel=False  n_exp= NA\n",
      "│       │   │   ├──  ACAd6a inVoxel=False  n_exp= NA\n",
      "│       │   │   ├──  ACAd6b inVoxel=False  n_exp= NA\n",
      "│       │   │   ├──  ACAd1 inVoxel=False  n_exp= NA\n",
      "│       │   │   └──  ACAd5 inVoxel=False  n_exp= NA\n",
      "│       │   └──  ACAv inVoxel=True  n_exp= NA\n",
      "│       │       ├──  ACAv2and3 inVoxel=False  n_exp= NA\n",
      "│       │       ├──  ACAv1 inVoxel=False  n_exp= NA\n",
      "│       │       ├──  ACAv5 inVoxel=False  n_exp= NA\n",
      "│       │       ├──  ACAv6a inVoxel=False  n_exp= NA\n",
      "│       │       └──  ACAv6b inVoxel=False  n_exp= NA\n",
      "│       ├──  ILA inVoxel=True  n_exp= NA\n",
      "│       │   ├──  ILA2and3 inVoxel=False  n_exp= NA\n",
      "│       │   ├──  ILA1 inVoxel=False  n_exp= NA\n",
      "│       │   ├──  ILA5 inVoxel=False  n_exp= NA\n",
      "│       │   ├──  ILA6a inVoxel=False  n_exp= NA\n",
      "│       │   └──  ILA6b inVoxel=False  n_exp= NA\n",
      "│       ├──  AI inVoxel=False  n_exp= NA\n",
      "│       │   ├──  AId inVoxel=True  n_exp= NA\n",
      "│       │   │   ├──  AId2and3 inVoxel=False  n_exp= NA\n",
      "│       │   │   ├──  AId6a inVoxel=False  n_exp= NA\n",
      "│       │   │   ├──  AId6b inVoxel=False  n_exp= NA\n",
      "│       │   │   ├──  AId1 inVoxel=False  n_exp= NA\n",
      "│       │   │   └──  AId5 inVoxel=False  n_exp= NA\n",
      "│       │   ├──  AIp inVoxel=True  n_exp= NA\n",
      "│       │   │   ├──  AIp1 inVoxel=False  n_exp= NA\n",
      "│       │   │   ├──  AIp2and3 inVoxel=False  n_exp= NA\n",
      "│       │   │   ├──  AIp6a inVoxel=False  n_exp= NA\n",
      "│       │   │   ├──  AIp5 inVoxel=False  n_exp= NA\n",
      "│       │   │   └──  AIp6b inVoxel=False  n_exp= NA\n",
      "│       │   └──  AIv inVoxel=True  n_exp= NA\n",
      "│       │       ├──  AIv6a inVoxel=False  n_exp= NA\n",
      "│       │       ├──  AIv2and3 inVoxel=False  n_exp= NA\n",
      "│       │       ├──  AIv6b inVoxel=False  n_exp= NA\n",
      "│       │       ├──  AIv1 inVoxel=False  n_exp= NA\n",
      "│       │       └──  AIv5 inVoxel=False  n_exp= NA\n",
      "│       ├──  FRP inVoxel=True  n_exp= NA\n",
      "│       │   ├──  FRP1 inVoxel=False  n_exp= NA\n",
      "│       │   ├──  FRP2and3 inVoxel=False  n_exp= NA\n",
      "│       │   ├──  FRP5 inVoxel=False  n_exp= NA\n",
      "│       │   ├──  FRP6a inVoxel=False  n_exp= NA\n",
      "│       │   └──  FRP6b inVoxel=False  n_exp= NA\n",
      "│       ├──  AUD inVoxel=False  n_exp= NA\n",
      "│       │   ├──  AUDp inVoxel=True  n_exp= NA\n",
      "│       │   │   ├──  AUDp2and3 inVoxel=False  n_exp= NA\n",
      "│       │   │   ├──  AUDp1 inVoxel=False  n_exp= NA\n",
      "│       │   │   ├──  AUDp4 inVoxel=False  n_exp= NA\n",
      "│       │   │   ├──  AUDp5 inVoxel=False  n_exp= NA\n",
      "│       │   │   ├──  AUDp6a inVoxel=False  n_exp= NA\n",
      "│       │   │   └──  AUDp6b inVoxel=False  n_exp= NA\n",
      "│       │   ├──  AUDd inVoxel=True  n_exp= NA\n",
      "│       │   │   ├──  AUDd6a inVoxel=False  n_exp= NA\n",
      "│       │   │   ├──  AUDd6b inVoxel=False  n_exp= NA\n",
      "│       │   │   ├──  AUDd5 inVoxel=False  n_exp= NA\n",
      "│       │   │   ├──  AUDd1 inVoxel=False  n_exp= NA\n",
      "│       │   │   ├──  AUDd2and3 inVoxel=False  n_exp= NA\n",
      "│       │   │   └──  AUDd4 inVoxel=False  n_exp= NA\n",
      "│       │   ├──  AUDv inVoxel=True  n_exp= NA\n",
      "│       │   │   ├──  AUDv6a inVoxel=False  n_exp= NA\n",
      "│       │   │   ├──  AUDv6b inVoxel=False  n_exp= NA\n",
      "│       │   │   ├──  AUDv2and3 inVoxel=False  n_exp= NA\n",
      "│       │   │   ├──  AUDv1 inVoxel=False  n_exp= NA\n",
      "│       │   │   ├──  AUDv4 inVoxel=False  n_exp= NA\n",
      "│       │   │   └──  AUDv5 inVoxel=False  n_exp= NA\n",
      "│       │   └──  AUDpo inVoxel=True  n_exp= NA\n",
      "│       │       ├──  AUDpo6a inVoxel=False  n_exp= NA\n",
      "│       │       ├──  AUDpo6b inVoxel=False  n_exp= NA\n",
      "│       │       ├──  AUDpo2and3 inVoxel=False  n_exp= NA\n",
      "│       │       ├──  AUDpo1 inVoxel=False  n_exp= NA\n",
      "│       │       ├──  AUDpo4 inVoxel=False  n_exp= NA\n",
      "│       │       └──  AUDpo5 inVoxel=False  n_exp= NA\n",
      "│       ├──  RSP inVoxel=False  n_exp= NA\n",
      "│       │   ├──  RSPd inVoxel=True  n_exp= NA\n",
      "│       │   │   ├──  RSPd6a inVoxel=False  n_exp= NA\n",
      "│       │   │   ├──  RSPd6b inVoxel=False  n_exp= NA\n",
      "│       │   │   ├──  RSPd2and3 inVoxel=False  n_exp= NA\n",
      "│       │   │   ├──  RSPd1 inVoxel=False  n_exp= NA\n",
      "│       │   │   ├──  RSPd4 inVoxel=False  n_exp= NA\n",
      "│       │   │   └──  RSPd5 inVoxel=False  n_exp= NA\n",
      "│       │   ├──  RSPv inVoxel=True  n_exp= NA\n",
      "│       │   │   ├──  RSPv2and3 inVoxel=False  n_exp= NA\n",
      "│       │   │   ├──  RSPv1 inVoxel=False  n_exp= NA\n",
      "│       │   │   ├──  RSPv6a inVoxel=False  n_exp= NA\n",
      "│       │   │   ├──  RSPv6b inVoxel=False  n_exp= NA\n",
      "│       │   │   └──  RSPv5 inVoxel=False  n_exp= NA\n",
      "│       │   └──  RSPagl inVoxel=True  n_exp= NA\n",
      "│       │       ├──  RSPagl6b inVoxel=False  n_exp= NA\n",
      "│       │       ├──  RSPagl1 inVoxel=False  n_exp= NA\n",
      "│       │       ├──  RSPagl5 inVoxel=False  n_exp= NA\n",
      "│       │       ├──  RSPagl6a inVoxel=False  n_exp= NA\n",
      "│       │       └──  RSPagl2and3 inVoxel=False  n_exp= NA\n",
      "│       ├──  MO inVoxel=False  n_exp= NA\n",
      "│       │   ├──  MOp inVoxel=True  n_exp= NA\n",
      "│       │   │   ├──  MOp1 inVoxel=False  n_exp= NA\n",
      "│       │   │   ├──  MOp5 inVoxel=False  n_exp= NA\n",
      "│       │   │   ├──  MOp6a inVoxel=False  n_exp= NA\n",
      "│       │   │   ├──  MOp6b inVoxel=False  n_exp= NA\n",
      "│       │   │   └──  MOp2and3 inVoxel=False  n_exp= NA\n",
      "│       │   └──  MOs inVoxel=True  n_exp= NA\n",
      "│       │       ├──  MOs1 inVoxel=False  n_exp= NA\n",
      "│       │       ├──  MOs5 inVoxel=False  n_exp= NA\n",
      "│       │       ├──  MOs2and3 inVoxel=False  n_exp= NA\n",
      "│       │       ├──  MOs6a inVoxel=False  n_exp= NA\n",
      "│       │       └──  MOs6b inVoxel=False  n_exp= NA\n",
      "│       ├──  TEa inVoxel=True  n_exp= NA\n",
      "│       │   ├──  TEa1 inVoxel=False  n_exp= NA\n",
      "│       │   ├──  TEa4 inVoxel=False  n_exp= NA\n",
      "│       │   ├──  TEa5 inVoxel=False  n_exp= NA\n",
      "│       │   ├──  TEa6a inVoxel=False  n_exp= NA\n",
      "│       │   ├──  TEa6b inVoxel=False  n_exp= NA\n",
      "│       │   └──  TEa2and3 inVoxel=False  n_exp= NA\n",
      "│       ├──  VIS inVoxel=False  n_exp= NA\n",
      "│       │   ├──  VISp inVoxel=True  n_exp= NA\n",
      "│       │   │   ├──  VISp6a inVoxel=False  n_exp= NA\n",
      "│       │   │   ├──  VISp6b inVoxel=False  n_exp= NA\n",
      "│       │   │   ├──  VISp1 inVoxel=False  n_exp= NA\n",
      "│       │   │   ├──  VISp4 inVoxel=False  n_exp= NA\n",
      "│       │   │   ├──  VISp5 inVoxel=False  n_exp= NA\n",
      "│       │   │   └──  VISp2and3 inVoxel=False  n_exp= NA\n",
      "│       │   ├──  VISam inVoxel=True  n_exp= NA\n",
      "│       │   │   ├──  VISam1 inVoxel=False  n_exp= NA\n",
      "│       │   │   ├──  VISam4 inVoxel=False  n_exp= NA\n",
      "│       │   │   ├──  VISam5 inVoxel=False  n_exp= NA\n",
      "│       │   │   ├──  VISam6b inVoxel=False  n_exp= NA\n",
      "│       │   │   ├──  VISam6a inVoxel=False  n_exp= NA\n",
      "│       │   │   └──  VISam2and3 inVoxel=False  n_exp= NA\n",
      "│       │   ├──  VISal inVoxel=True  n_exp= NA\n",
      "│       │   │   ├──  VISal5 inVoxel=False  n_exp= NA\n",
      "│       │   │   ├──  VISal6a inVoxel=False  n_exp= NA\n",
      "│       │   │   ├──  VISal6b inVoxel=False  n_exp= NA\n",
      "│       │   │   ├──  VISal2and3 inVoxel=False  n_exp= NA\n",
      "│       │   │   ├──  VISal1 inVoxel=False  n_exp= NA\n",
      "│       │   │   └──  VISal4 inVoxel=False  n_exp= NA\n",
      "│       │   ├──  VISli inVoxel=True  n_exp= NA\n",
      "│       │   │   ├──  VISli2and3 inVoxel=False  n_exp= NA\n",
      "│       │   │   ├──  VISli4 inVoxel=False  n_exp= NA\n",
      "│       │   │   ├──  VISli5 inVoxel=False  n_exp= NA\n",
      "│       │   │   ├──  VISli1 inVoxel=False  n_exp= NA\n",
      "│       │   │   ├──  VISli6a inVoxel=False  n_exp= NA\n",
      "│       │   │   └──  VISli6b inVoxel=False  n_exp= NA\n",
      "│       │   ├──  VISl inVoxel=True  n_exp= NA\n",
      "│       │   │   ├──  VISl6a inVoxel=False  n_exp= NA\n",
      "│       │   │   ├──  VISl6b inVoxel=False  n_exp= NA\n",
      "│       │   │   ├──  VISl1 inVoxel=False  n_exp= NA\n",
      "│       │   │   ├──  VISl4 inVoxel=False  n_exp= NA\n",
      "│       │   │   ├──  VISl5 inVoxel=False  n_exp= NA\n",
      "│       │   │   └──  VISl2and3 inVoxel=False  n_exp= NA\n",
      "│       │   ├──  VISpl inVoxel=True  n_exp= NA\n",
      "│       │   │   ├──  VISpl2and3 inVoxel=False  n_exp= NA\n",
      "│       │   │   ├──  VISpl6a inVoxel=False  n_exp= NA\n",
      "│       │   │   ├──  VISpl6b inVoxel=False  n_exp= NA\n",
      "│       │   │   ├──  VISpl1 inVoxel=False  n_exp= NA\n",
      "│       │   │   ├──  VISpl4 inVoxel=False  n_exp= NA\n",
      "│       │   │   └──  VISpl5 inVoxel=False  n_exp= NA\n",
      "│       │   ├──  VISpm inVoxel=True  n_exp= NA\n",
      "│       │   │   ├──  VISpm2and3 inVoxel=False  n_exp= NA\n",
      "│       │   │   ├──  VISpm6a inVoxel=False  n_exp= NA\n",
      "│       │   │   ├──  VISpm6b inVoxel=False  n_exp= NA\n",
      "│       │   │   ├──  VISpm5 inVoxel=False  n_exp= NA\n",
      "│       │   │   ├──  VISpm4 inVoxel=False  n_exp= NA\n",
      "│       │   │   └──  VISpm1 inVoxel=False  n_exp= NA\n",
      "│       │   └──  VISpor inVoxel=True  n_exp= NA\n",
      "│       │       ├──  VISpor1 inVoxel=False  n_exp= NA\n",
      "│       │       ├──  VISpor2and3 inVoxel=False  n_exp= NA\n",
      "│       │       ├──  VISpor4 inVoxel=False  n_exp= NA\n",
      "│       │       ├──  VISpor5 inVoxel=False  n_exp= NA\n",
      "│       │       ├──  VISpor6a inVoxel=False  n_exp= NA\n",
      "│       │       └──  VISpor6b inVoxel=False  n_exp= NA\n",
      "│       ├──  VISC inVoxel=True  n_exp= NA\n",
      "│       │   ├──  VISC6b inVoxel=False  n_exp= NA\n",
      "│       │   ├──  VISC6a inVoxel=False  n_exp= NA\n",
      "│       │   ├──  VISC1 inVoxel=False  n_exp= NA\n",
      "│       │   ├──  VISC4 inVoxel=False  n_exp= NA\n",
      "│       │   ├──  VISC5 inVoxel=False  n_exp= NA\n",
      "│       │   └──  VISC2and3 inVoxel=False  n_exp= NA\n",
      "│       ├──  ORB inVoxel=False  n_exp= NA\n",
      "│       │   ├──  ORBl inVoxel=True  n_exp= NA\n",
      "│       │   │   ├──  ORBl2and3 inVoxel=False  n_exp= NA\n",
      "│       │   │   ├──  ORBl6a inVoxel=False  n_exp= NA\n",
      "│       │   │   ├──  ORBl1 inVoxel=False  n_exp= NA\n",
      "│       │   │   ├──  ORBl6b inVoxel=False  n_exp= NA\n",
      "│       │   │   └──  ORBl5 inVoxel=False  n_exp= NA\n",
      "│       │   ├──  ORBm inVoxel=True  n_exp= NA\n",
      "│       │   │   ├──  ORBm1 inVoxel=False  n_exp= NA\n",
      "│       │   │   ├──  ORBm2and3 inVoxel=False  n_exp= NA\n",
      "│       │   │   ├──  ORBm5 inVoxel=False  n_exp= NA\n",
      "│       │   │   ├──  ORBm6a inVoxel=False  n_exp= NA\n",
      "│       │   │   └──  ORBm6b inVoxel=False  n_exp= NA\n",
      "│       │   └──  ORBvl inVoxel=True  n_exp= NA\n",
      "│       │       ├──  ORBvl2and3 inVoxel=False  n_exp= NA\n",
      "│       │       ├──  ORBvl6a inVoxel=False  n_exp= NA\n",
      "│       │       ├──  ORBvl6b inVoxel=False  n_exp= NA\n",
      "│       │       ├──  ORBvl1 inVoxel=False  n_exp= NA\n",
      "│       │       └──  ORBvl5 inVoxel=False  n_exp= NA\n",
      "│       ├──  ECT inVoxel=True  n_exp= NA\n",
      "│       │   ├──  ECT2and3 inVoxel=False  n_exp= NA\n",
      "│       │   ├──  ECT1 inVoxel=False  n_exp= NA\n",
      "│       │   ├──  ECT6a inVoxel=False  n_exp= NA\n",
      "│       │   ├──  ECT5 inVoxel=False  n_exp= NA\n",
      "│       │   └──  ECT6b inVoxel=False  n_exp= NA\n",
      "│       ├──  PERI inVoxel=True  n_exp= NA\n",
      "│       │   ├──  PERI6a inVoxel=False  n_exp= NA\n",
      "│       │   ├──  PERI6b inVoxel=False  n_exp= NA\n",
      "│       │   ├──  PERI1 inVoxel=False  n_exp= NA\n",
      "│       │   ├──  PERI5 inVoxel=False  n_exp= NA\n",
      "│       │   └──  PERI2and3 inVoxel=False  n_exp= NA\n",
      "│       ├──  PL inVoxel=True  n_exp= NA\n",
      "│       │   ├──  PL6a inVoxel=False  n_exp= NA\n",
      "│       │   ├──  PL6b inVoxel=False  n_exp= NA\n",
      "│       │   ├──  PL1 inVoxel=False  n_exp= NA\n",
      "│       │   ├──  PL2and3 inVoxel=False  n_exp= NA\n",
      "│       │   └──  PL5 inVoxel=False  n_exp= NA\n",
      "│       ├──  GU inVoxel=True  n_exp= NA\n",
      "│       │   ├──  GU1 inVoxel=False  n_exp= NA\n",
      "│       │   ├──  GU4 inVoxel=False  n_exp= NA\n",
      "│       │   ├──  GU2and3 inVoxel=False  n_exp= NA\n",
      "│       │   ├──  GU5 inVoxel=False  n_exp= NA\n",
      "│       │   ├──  GU6a inVoxel=False  n_exp= NA\n",
      "│       │   └──  GU6b inVoxel=False  n_exp= NA\n",
      "│       └──  SS inVoxel=False  n_exp= NA\n",
      "│           └──  SSp inVoxel=False  n_exp= NA\n",
      "│               └──  SSp_bfd inVoxel=True  n_exp= NA\n",
      "│                   └──  SSp_bfd2and3 inVoxel=False  n_exp= NA\n",
      "├──  CTXpl inVoxel=False  n_exp= NA\n",
      "│   ├──  Isocortex inVoxel=False  n_exp= NA\n",
      "│   │   ├──  PTLp inVoxel=False  n_exp= NA\n",
      "│   │   │   ├──  VISa inVoxel=True  n_exp= NA\n",
      "│   │   │   │   ├──  VISa1 inVoxel=False  n_exp= NA\n",
      "│   │   │   │   ├──  VISa2and3 inVoxel=False  n_exp= NA\n",
      "│   │   │   │   ├──  VISa4 inVoxel=False  n_exp= NA\n",
      "│   │   │   │   ├──  VISa5 inVoxel=False  n_exp= NA\n",
      "│   │   │   │   ├──  VISa6a inVoxel=False  n_exp= NA\n",
      "│   │   │   │   └──  VISa6b inVoxel=False  n_exp= NA\n",
      "│   │   │   └──  VISrl inVoxel=True  n_exp= NA\n",
      "│   │   │       ├──  VISrl1 inVoxel=False  n_exp= NA\n",
      "│   │   │       ├──  VISrl2and3 inVoxel=False  n_exp= NA\n",
      "│   │   │       ├──  VISrl4 inVoxel=False  n_exp= NA\n",
      "│   │   │       ├──  VISrl5 inVoxel=False  n_exp= NA\n",
      "│   │   │       ├──  VISrl6a inVoxel=False  n_exp= NA\n",
      "│   │   │       └──  VISrl6b inVoxel=False  n_exp= NA\n",
      "│   │   ├──  ACA inVoxel=False  n_exp= NA\n",
      "│   │   │   ├──  ACAd inVoxel=True  n_exp= NA\n",
      "│   │   │   │   ├──  ACAd2and3 inVoxel=False  n_exp= NA\n",
      "│   │   │   │   ├──  ACAd6a inVoxel=False  n_exp= NA\n",
      "│   │   │   │   ├──  ACAd6b inVoxel=False  n_exp= NA\n",
      "│   │   │   │   ├──  ACAd1 inVoxel=False  n_exp= NA\n",
      "│   │   │   │   └──  ACAd5 inVoxel=False  n_exp= NA\n",
      "│   │   │   └──  ACAv inVoxel=True  n_exp= NA\n",
      "│   │   │       ├──  ACAv2and3 inVoxel=False  n_exp= NA\n",
      "│   │   │       ├──  ACAv1 inVoxel=False  n_exp= NA\n",
      "│   │   │       ├──  ACAv5 inVoxel=False  n_exp= NA\n",
      "│   │   │       ├──  ACAv6a inVoxel=False  n_exp= NA\n",
      "│   │   │       └──  ACAv6b inVoxel=False  n_exp= NA\n",
      "│   │   ├──  ILA inVoxel=True  n_exp= NA\n",
      "│   │   │   ├──  ILA2and3 inVoxel=False  n_exp= NA\n",
      "│   │   │   ├──  ILA1 inVoxel=False  n_exp= NA\n",
      "│   │   │   ├──  ILA5 inVoxel=False  n_exp= NA\n",
      "│   │   │   ├──  ILA6a inVoxel=False  n_exp= NA\n",
      "│   │   │   └──  ILA6b inVoxel=False  n_exp= NA\n",
      "│   │   ├──  AI inVoxel=False  n_exp= NA\n",
      "│   │   │   ├──  AId inVoxel=True  n_exp= NA\n",
      "│   │   │   │   ├──  AId2and3 inVoxel=False  n_exp= NA\n",
      "│   │   │   │   ├──  AId6a inVoxel=False  n_exp= NA\n",
      "│   │   │   │   ├──  AId6b inVoxel=False  n_exp= NA\n",
      "│   │   │   │   ├──  AId1 inVoxel=False  n_exp= NA\n",
      "│   │   │   │   └──  AId5 inVoxel=False  n_exp= NA\n",
      "│   │   │   ├──  AIp inVoxel=True  n_exp= NA\n",
      "│   │   │   │   ├──  AIp1 inVoxel=False  n_exp= NA\n",
      "│   │   │   │   ├──  AIp2and3 inVoxel=False  n_exp= NA\n",
      "│   │   │   │   ├──  AIp6a inVoxel=False  n_exp= NA\n",
      "│   │   │   │   ├──  AIp5 inVoxel=False  n_exp= NA\n",
      "│   │   │   │   └──  AIp6b inVoxel=False  n_exp= NA\n",
      "│   │   │   └──  AIv inVoxel=True  n_exp= NA\n",
      "│   │   │       ├──  AIv6a inVoxel=False  n_exp= NA\n",
      "│   │   │       ├──  AIv2and3 inVoxel=False  n_exp= NA\n",
      "│   │   │       ├──  AIv6b inVoxel=False  n_exp= NA\n",
      "│   │   │       ├──  AIv1 inVoxel=False  n_exp= NA\n",
      "│   │   │       └──  AIv5 inVoxel=False  n_exp= NA\n",
      "│   │   ├──  FRP inVoxel=True  n_exp= NA\n",
      "│   │   │   ├──  FRP1 inVoxel=False  n_exp= NA\n",
      "│   │   │   ├──  FRP2and3 inVoxel=False  n_exp= NA\n",
      "│   │   │   ├──  FRP5 inVoxel=False  n_exp= NA\n",
      "│   │   │   ├──  FRP6a inVoxel=False  n_exp= NA\n",
      "│   │   │   └──  FRP6b inVoxel=False  n_exp= NA\n",
      "│   │   ├──  AUD inVoxel=False  n_exp= NA\n",
      "│   │   │   ├──  AUDp inVoxel=True  n_exp= NA\n",
      "│   │   │   │   ├──  AUDp2and3 inVoxel=False  n_exp= NA\n",
      "│   │   │   │   ├──  AUDp1 inVoxel=False  n_exp= NA\n",
      "│   │   │   │   ├──  AUDp4 inVoxel=False  n_exp= NA\n",
      "│   │   │   │   ├──  AUDp5 inVoxel=False  n_exp= NA\n",
      "│   │   │   │   ├──  AUDp6a inVoxel=False  n_exp= NA\n",
      "│   │   │   │   └──  AUDp6b inVoxel=False  n_exp= NA\n",
      "│   │   │   ├──  AUDd inVoxel=True  n_exp= NA\n",
      "│   │   │   │   ├──  AUDd6a inVoxel=False  n_exp= NA\n",
      "│   │   │   │   ├──  AUDd6b inVoxel=False  n_exp= NA\n",
      "│   │   │   │   ├──  AUDd5 inVoxel=False  n_exp= NA\n",
      "│   │   │   │   ├──  AUDd1 inVoxel=False  n_exp= NA\n",
      "│   │   │   │   ├──  AUDd2and3 inVoxel=False  n_exp= NA\n",
      "│   │   │   │   └──  AUDd4 inVoxel=False  n_exp= NA\n",
      "│   │   │   ├──  AUDv inVoxel=True  n_exp= NA\n",
      "│   │   │   │   ├──  AUDv6a inVoxel=False  n_exp= NA\n",
      "│   │   │   │   ├──  AUDv6b inVoxel=False  n_exp= NA\n",
      "│   │   │   │   ├──  AUDv2and3 inVoxel=False  n_exp= NA\n",
      "│   │   │   │   ├──  AUDv1 inVoxel=False  n_exp= NA\n",
      "│   │   │   │   ├──  AUDv4 inVoxel=False  n_exp= NA\n",
      "│   │   │   │   └──  AUDv5 inVoxel=False  n_exp= NA\n",
      "│   │   │   └──  AUDpo inVoxel=True  n_exp= NA\n",
      "│   │   │       ├──  AUDpo6a inVoxel=False  n_exp= NA\n",
      "│   │   │       ├──  AUDpo6b inVoxel=False  n_exp= NA\n",
      "│   │   │       ├──  AUDpo2and3 inVoxel=False  n_exp= NA\n",
      "│   │   │       ├──  AUDpo1 inVoxel=False  n_exp= NA\n",
      "│   │   │       ├──  AUDpo4 inVoxel=False  n_exp= NA\n",
      "│   │   │       └──  AUDpo5 inVoxel=False  n_exp= NA\n",
      "│   │   ├──  RSP inVoxel=False  n_exp= NA\n",
      "│   │   │   ├──  RSPd inVoxel=True  n_exp= NA\n",
      "│   │   │   │   ├──  RSPd6a inVoxel=False  n_exp= NA\n",
      "│   │   │   │   ├──  RSPd6b inVoxel=False  n_exp= NA\n",
      "│   │   │   │   ├──  RSPd2and3 inVoxel=False  n_exp= NA\n",
      "│   │   │   │   ├──  RSPd1 inVoxel=False  n_exp= NA\n",
      "│   │   │   │   ├──  RSPd4 inVoxel=False  n_exp= NA\n",
      "│   │   │   │   └──  RSPd5 inVoxel=False  n_exp= NA\n",
      "│   │   │   ├──  RSPv inVoxel=True  n_exp= NA\n",
      "│   │   │   │   ├──  RSPv2and3 inVoxel=False  n_exp= NA\n",
      "│   │   │   │   ├──  RSPv1 inVoxel=False  n_exp= NA\n",
      "│   │   │   │   ├──  RSPv6a inVoxel=False  n_exp= NA\n",
      "│   │   │   │   ├──  RSPv6b inVoxel=False  n_exp= NA\n",
      "│   │   │   │   └──  RSPv5 inVoxel=False  n_exp= NA\n",
      "│   │   │   └──  RSPagl inVoxel=True  n_exp= NA\n",
      "│   │   │       ├──  RSPagl6b inVoxel=False  n_exp= NA\n",
      "│   │   │       ├──  RSPagl1 inVoxel=False  n_exp= NA\n",
      "│   │   │       ├──  RSPagl5 inVoxel=False  n_exp= NA\n",
      "│   │   │       ├──  RSPagl6a inVoxel=False  n_exp= NA\n",
      "│   │   │       └──  RSPagl2and3 inVoxel=False  n_exp= NA\n",
      "│   │   ├──  MO inVoxel=False  n_exp= NA\n",
      "│   │   │   ├──  MOp inVoxel=True  n_exp= NA\n",
      "│   │   │   │   ├──  MOp1 inVoxel=False  n_exp= NA\n",
      "│   │   │   │   ├──  MOp5 inVoxel=False  n_exp= NA\n",
      "│   │   │   │   ├──  MOp6a inVoxel=False  n_exp= NA\n",
      "│   │   │   │   ├──  MOp6b inVoxel=False  n_exp= NA\n",
      "│   │   │   │   └──  MOp2and3 inVoxel=False  n_exp= NA\n",
      "│   │   │   └──  MOs inVoxel=True  n_exp= NA\n",
      "│   │   │       ├──  MOs1 inVoxel=False  n_exp= NA\n",
      "│   │   │       ├──  MOs5 inVoxel=False  n_exp= NA\n",
      "│   │   │       ├──  MOs2and3 inVoxel=False  n_exp= NA\n",
      "│   │   │       ├──  MOs6a inVoxel=False  n_exp= NA\n",
      "│   │   │       └──  MOs6b inVoxel=False  n_exp= NA\n",
      "│   │   ├──  TEa inVoxel=True  n_exp= NA\n",
      "│   │   │   ├──  TEa1 inVoxel=False  n_exp= NA\n",
      "│   │   │   ├──  TEa4 inVoxel=False  n_exp= NA\n",
      "│   │   │   ├──  TEa5 inVoxel=False  n_exp= NA\n",
      "│   │   │   ├──  TEa6a inVoxel=False  n_exp= NA\n",
      "│   │   │   ├──  TEa6b inVoxel=False  n_exp= NA\n",
      "│   │   │   └──  TEa2and3 inVoxel=False  n_exp= NA\n",
      "│   │   ├──  VIS inVoxel=False  n_exp= NA\n",
      "│   │   │   ├──  VISp inVoxel=True  n_exp= NA\n",
      "│   │   │   │   ├──  VISp6a inVoxel=False  n_exp= NA\n",
      "│   │   │   │   ├──  VISp6b inVoxel=False  n_exp= NA\n",
      "│   │   │   │   ├──  VISp1 inVoxel=False  n_exp= NA\n",
      "│   │   │   │   ├──  VISp4 inVoxel=False  n_exp= NA\n",
      "│   │   │   │   ├──  VISp5 inVoxel=False  n_exp= NA\n",
      "│   │   │   │   └──  VISp2and3 inVoxel=False  n_exp= NA\n",
      "│   │   │   ├──  VISam inVoxel=True  n_exp= NA\n",
      "│   │   │   │   ├──  VISam1 inVoxel=False  n_exp= NA\n",
      "│   │   │   │   ├──  VISam4 inVoxel=False  n_exp= NA\n",
      "│   │   │   │   ├──  VISam5 inVoxel=False  n_exp= NA\n",
      "│   │   │   │   ├──  VISam6b inVoxel=False  n_exp= NA\n",
      "│   │   │   │   ├──  VISam6a inVoxel=False  n_exp= NA\n",
      "│   │   │   │   └──  VISam2and3 inVoxel=False  n_exp= NA\n",
      "│   │   │   ├──  VISal inVoxel=True  n_exp= NA\n",
      "│   │   │   │   ├──  VISal5 inVoxel=False  n_exp= NA\n",
      "│   │   │   │   ├──  VISal6a inVoxel=False  n_exp= NA\n",
      "│   │   │   │   ├──  VISal6b inVoxel=False  n_exp= NA\n",
      "│   │   │   │   ├──  VISal2and3 inVoxel=False  n_exp= NA\n",
      "│   │   │   │   ├──  VISal1 inVoxel=False  n_exp= NA\n",
      "│   │   │   │   └──  VISal4 inVoxel=False  n_exp= NA\n",
      "│   │   │   ├──  VISli inVoxel=True  n_exp= NA\n",
      "│   │   │   │   ├──  VISli2and3 inVoxel=False  n_exp= NA\n",
      "│   │   │   │   ├──  VISli4 inVoxel=False  n_exp= NA\n",
      "│   │   │   │   ├──  VISli5 inVoxel=False  n_exp= NA\n",
      "│   │   │   │   ├──  VISli1 inVoxel=False  n_exp= NA\n",
      "│   │   │   │   ├──  VISli6a inVoxel=False  n_exp= NA\n",
      "│   │   │   │   └──  VISli6b inVoxel=False  n_exp= NA\n",
      "│   │   │   ├──  VISl inVoxel=True  n_exp= NA\n",
      "│   │   │   │   ├──  VISl6a inVoxel=False  n_exp= NA\n",
      "│   │   │   │   ├──  VISl6b inVoxel=False  n_exp= NA\n",
      "│   │   │   │   ├──  VISl1 inVoxel=False  n_exp= NA\n",
      "│   │   │   │   ├──  VISl4 inVoxel=False  n_exp= NA\n",
      "│   │   │   │   ├──  VISl5 inVoxel=False  n_exp= NA\n",
      "│   │   │   │   └──  VISl2and3 inVoxel=False  n_exp= NA\n",
      "│   │   │   ├──  VISpl inVoxel=True  n_exp= NA\n",
      "│   │   │   │   ├──  VISpl2and3 inVoxel=False  n_exp= NA\n",
      "│   │   │   │   ├──  VISpl6a inVoxel=False  n_exp= NA\n",
      "│   │   │   │   ├──  VISpl6b inVoxel=False  n_exp= NA\n",
      "│   │   │   │   ├──  VISpl1 inVoxel=False  n_exp= NA\n",
      "│   │   │   │   ├──  VISpl4 inVoxel=False  n_exp= NA\n",
      "│   │   │   │   └──  VISpl5 inVoxel=False  n_exp= NA\n",
      "│   │   │   ├──  VISpm inVoxel=True  n_exp= NA\n",
      "│   │   │   │   ├──  VISpm2and3 inVoxel=False  n_exp= NA\n",
      "│   │   │   │   ├──  VISpm6a inVoxel=False  n_exp= NA\n",
      "│   │   │   │   ├──  VISpm6b inVoxel=False  n_exp= NA\n",
      "│   │   │   │   ├──  VISpm5 inVoxel=False  n_exp= NA\n",
      "│   │   │   │   ├──  VISpm4 inVoxel=False  n_exp= NA\n",
      "│   │   │   │   └──  VISpm1 inVoxel=False  n_exp= NA\n",
      "│   │   │   └──  VISpor inVoxel=True  n_exp= NA\n",
      "│   │   │       ├──  VISpor1 inVoxel=False  n_exp= NA\n",
      "│   │   │       ├──  VISpor2and3 inVoxel=False  n_exp= NA\n",
      "│   │   │       ├──  VISpor4 inVoxel=False  n_exp= NA\n",
      "│   │   │       ├──  VISpor5 inVoxel=False  n_exp= NA\n",
      "│   │   │       ├──  VISpor6a inVoxel=False  n_exp= NA\n",
      "│   │   │       └──  VISpor6b inVoxel=False  n_exp= NA\n",
      "│   │   ├──  VISC inVoxel=True  n_exp= NA\n",
      "│   │   │   ├──  VISC6b inVoxel=False  n_exp= NA\n",
      "│   │   │   ├──  VISC6a inVoxel=False  n_exp= NA\n",
      "│   │   │   ├──  VISC1 inVoxel=False  n_exp= NA\n",
      "│   │   │   ├──  VISC4 inVoxel=False  n_exp= NA\n",
      "│   │   │   ├──  VISC5 inVoxel=False  n_exp= NA\n",
      "│   │   │   └──  VISC2and3 inVoxel=False  n_exp= NA\n",
      "│   │   ├──  ORB inVoxel=False  n_exp= NA\n",
      "│   │   │   ├──  ORBl inVoxel=True  n_exp= NA\n",
      "│   │   │   │   ├──  ORBl2and3 inVoxel=False  n_exp= NA\n",
      "│   │   │   │   ├──  ORBl6a inVoxel=False  n_exp= NA\n",
      "│   │   │   │   ├──  ORBl1 inVoxel=False  n_exp= NA\n",
      "│   │   │   │   ├──  ORBl6b inVoxel=False  n_exp= NA\n",
      "│   │   │   │   └──  ORBl5 inVoxel=False  n_exp= NA\n",
      "│   │   │   ├──  ORBm inVoxel=True  n_exp= NA\n",
      "│   │   │   │   ├──  ORBm1 inVoxel=False  n_exp= NA\n",
      "│   │   │   │   ├──  ORBm2and3 inVoxel=False  n_exp= NA\n",
      "│   │   │   │   ├──  ORBm5 inVoxel=False  n_exp= NA\n",
      "│   │   │   │   ├──  ORBm6a inVoxel=False  n_exp= NA\n",
      "│   │   │   │   └──  ORBm6b inVoxel=False  n_exp= NA\n",
      "│   │   │   └──  ORBvl inVoxel=True  n_exp= NA\n",
      "│   │   │       ├──  ORBvl2and3 inVoxel=False  n_exp= NA\n",
      "│   │   │       ├──  ORBvl6a inVoxel=False  n_exp= NA\n",
      "│   │   │       ├──  ORBvl6b inVoxel=False  n_exp= NA\n",
      "│   │   │       ├──  ORBvl1 inVoxel=False  n_exp= NA\n",
      "│   │   │       └──  ORBvl5 inVoxel=False  n_exp= NA\n",
      "│   │   ├──  ECT inVoxel=True  n_exp= NA\n",
      "│   │   │   ├──  ECT2and3 inVoxel=False  n_exp= NA\n",
      "│   │   │   ├──  ECT1 inVoxel=False  n_exp= NA\n",
      "│   │   │   ├──  ECT6a inVoxel=False  n_exp= NA\n",
      "│   │   │   ├──  ECT5 inVoxel=False  n_exp= NA\n",
      "│   │   │   └──  ECT6b inVoxel=False  n_exp= NA\n",
      "│   │   ├──  PERI inVoxel=True  n_exp= NA\n",
      "│   │   │   ├──  PERI6a inVoxel=False  n_exp= NA\n",
      "│   │   │   ├──  PERI6b inVoxel=False  n_exp= NA\n",
      "│   │   │   ├──  PERI1 inVoxel=False  n_exp= NA\n",
      "│   │   │   ├──  PERI5 inVoxel=False  n_exp= NA\n",
      "│   │   │   └──  PERI2and3 inVoxel=False  n_exp= NA\n",
      "│   │   ├──  PL inVoxel=True  n_exp= NA\n",
      "│   │   │   ├──  PL6a inVoxel=False  n_exp= NA\n",
      "│   │   │   ├──  PL6b inVoxel=False  n_exp= NA\n",
      "│   │   │   ├──  PL1 inVoxel=False  n_exp= NA\n",
      "│   │   │   ├──  PL2and3 inVoxel=False  n_exp= NA\n",
      "│   │   │   └──  PL5 inVoxel=False  n_exp= NA\n",
      "│   │   ├──  GU inVoxel=True  n_exp= NA\n",
      "│   │   │   ├──  GU1 inVoxel=False  n_exp= NA\n",
      "│   │   │   ├──  GU4 inVoxel=False  n_exp= NA\n",
      "│   │   │   ├──  GU2and3 inVoxel=False  n_exp= NA\n",
      "│   │   │   ├──  GU5 inVoxel=False  n_exp= NA\n",
      "│   │   │   ├──  GU6a inVoxel=False  n_exp= NA\n",
      "│   │   │   └──  GU6b inVoxel=False  n_exp= NA\n",
      "│   │   └──  SS inVoxel=False  n_exp= NA\n",
      "│   │       ├──  SSp inVoxel=False  n_exp= NA\n",
      "│   │       │   ├──  SSp_bfd inVoxel=True  n_exp= NA\n",
      "│   │       │   │   ├──  SSp_bfd2and3 inVoxel=False  n_exp= NA\n",
      "│   │       │   │   ├──  SSp_bfd1 inVoxel=False  n_exp= NA\n",
      "│   │       │   │   ├──  SSp_bfd6a inVoxel=False  n_exp= NA\n",
      "│   │       │   │   ├──  SSp_bfd4 inVoxel=False  n_exp= NA\n",
      "│   │       │   │   ├──  SSp_bfd6b inVoxel=False  n_exp= NA\n",
      "│   │       │   │   └──  SSp_bfd5 inVoxel=False  n_exp= NA\n",
      "│   │       │   ├──  SSp_ll inVoxel=True  n_exp= NA\n",
      "│   │       │   │   ├──  SSp_ll2and3 inVoxel=False  n_exp= NA\n",
      "│   │       │   │   ├──  SSp_ll6a inVoxel=False  n_exp= NA\n",
      "│   │       │   │   ├──  SSp_ll6b inVoxel=False  n_exp= NA\n",
      "│   │       │   │   ├──  SSp_ll1 inVoxel=False  n_exp= NA\n",
      "│   │       │   │   ├──  SSp_ll4 inVoxel=False  n_exp= NA\n",
      "│   │       │   │   └──  SSp_ll5 inVoxel=False  n_exp= NA\n",
      "│   │       │   ├──  SSp_m inVoxel=True  n_exp= NA\n",
      "│   │       │   │   ├──  SSp_m6b inVoxel=False  n_exp= NA\n",
      "│   │       │   │   ├──  SSp_m2and3 inVoxel=False  n_exp= NA\n",
      "│   │       │   │   ├──  SSp_m1 inVoxel=False  n_exp= NA\n",
      "│   │       │   │   ├──  SSp_m4 inVoxel=False  n_exp= NA\n",
      "│   │       │   │   ├──  SSp_m5 inVoxel=False  n_exp= NA\n",
      "│   │       │   │   └──  SSp_m6a inVoxel=False  n_exp= NA\n",
      "│   │       │   ├──  SSp_n inVoxel=True  n_exp= NA\n",
      "│   │       │   │   ├──  SSp_n1 inVoxel=False  n_exp= NA\n",
      "│   │       │   │   ├──  SSp_n4 inVoxel=False  n_exp= NA\n",
      "│   │       │   │   ├──  SSp_n5 inVoxel=False  n_exp= NA\n",
      "│   │       │   │   ├──  SSp_n2and3 inVoxel=False  n_exp= NA\n",
      "│   │       │   │   ├──  SSp_n6a inVoxel=False  n_exp= NA\n",
      "│   │       │   │   └──  SSp_n6b inVoxel=False  n_exp= NA\n",
      "│   │       │   ├──  SSp_tr inVoxel=True  n_exp= NA\n",
      "│   │       │   │   ├──  SSp_tr6a inVoxel=False  n_exp= NA\n",
      "│   │       │   │   ├──  SSp_tr6b inVoxel=False  n_exp= NA\n",
      "│   │       │   │   ├──  SSp_tr2and3 inVoxel=False  n_exp= NA\n",
      "│   │       │   │   ├──  SSp_tr1 inVoxel=False  n_exp= NA\n",
      "│   │       │   │   ├──  SSp_tr4 inVoxel=False  n_exp= NA\n",
      "│   │       │   │   └──  SSp_tr5 inVoxel=False  n_exp= NA\n",
      "│   │       │   ├──  SSp_ul inVoxel=True  n_exp= NA\n",
      "│   │       │   │   ├──  SSp_ul1 inVoxel=False  n_exp= NA\n",
      "│   │       │   │   ├──  SSp_ul4 inVoxel=False  n_exp= NA\n",
      "│   │       │   │   ├──  SSp_ul5 inVoxel=False  n_exp= NA\n",
      "│   │       │   │   ├──  SSp_ul2and3 inVoxel=False  n_exp= NA\n",
      "│   │       │   │   ├──  SSp_ul6b inVoxel=False  n_exp= NA\n",
      "│   │       │   │   └──  SSp_ul6a inVoxel=False  n_exp= NA\n",
      "│   │       │   └──  SSp_un inVoxel=True  n_exp= NA\n",
      "│   │       │       ├──  SSp_un1 inVoxel=False  n_exp= NA\n",
      "│   │       │       ├──  SSp_un4 inVoxel=False  n_exp= NA\n",
      "│   │       │       ├──  SSp_un5 inVoxel=False  n_exp= NA\n",
      "│   │       │       ├──  SSp_un6a inVoxel=False  n_exp= NA\n",
      "│   │       │       ├──  SSp_un6b inVoxel=False  n_exp= NA\n",
      "│   │       │       └──  SSp_un2and3 inVoxel=False  n_exp= NA\n",
      "│   │       └──  SSs inVoxel=True  n_exp= NA\n",
      "│   │           ├──  SSs2and3 inVoxel=False  n_exp= NA\n",
      "│   │           ├──  SSs6a inVoxel=False  n_exp= NA\n",
      "│   │           ├──  SSs1 inVoxel=False  n_exp= NA\n",
      "│   │           ├──  SSs6b inVoxel=False  n_exp= NA\n",
      "│   │           ├──  SSs4 inVoxel=False  n_exp= NA\n",
      "│   │           └──  SSs5 inVoxel=False  n_exp= NA\n",
      "│   ├──  OLF inVoxel=False  n_exp= NA\n",
      "│   │   ├──  AOB inVoxel=True  n_exp= NA\n",
      "│   │   │   ├──  AOBgl inVoxel=False  n_exp= NA\n",
      "│   │   │   ├──  AOBgr inVoxel=False  n_exp= NA\n",
      "│   │   │   └──  AOBmi inVoxel=False  n_exp= NA\n",
      "│   │   ├──  AON inVoxel=True  n_exp= NA\n",
      "│   │   ├──  MOB inVoxel=True  n_exp= NA\n",
      "│   │   ├──  TR inVoxel=True  n_exp= NA\n",
      "│   │   ├──  TT inVoxel=True  n_exp= NA\n",
      "│   │   │   ├──  TTd inVoxel=False  n_exp= NA\n",
      "│   │   │   └──  TTv inVoxel=False  n_exp= NA\n",
      "│   │   ├──  NLOT inVoxel=True  n_exp= NA\n",
      "│   │   │   ├──  NLOT1 inVoxel=False  n_exp= NA\n",
      "│   │   │   ├──  NLOT2 inVoxel=False  n_exp= NA\n",
      "│   │   │   └──  NLOT3 inVoxel=False  n_exp= NA\n",
      "│   │   ├──  COA inVoxel=False  n_exp= NA\n",
      "│   │   │   ├──  COAa inVoxel=True  n_exp= NA\n",
      "│   │   │   └──  COAp inVoxel=True  n_exp= NA\n",
      "│   │   │       ├──  COApl inVoxel=False  n_exp= NA\n",
      "│   │   │       └──  COApm inVoxel=False  n_exp= NA\n",
      "│   │   ├──  PAA inVoxel=True  n_exp= NA\n",
      "│   │   ├──  DP inVoxel=True  n_exp= NA\n",
      "│   │   └──  PIR inVoxel=True  n_exp= NA\n",
      "│   └──  HPF inVoxel=False  n_exp= NA\n",
      "│       ├──  RHP inVoxel=False  n_exp= NA\n",
      "│       │   ├──  SUB inVoxel=True  n_exp= NA\n",
      "│       │   ├──  APr inVoxel=False  n_exp= NA\n",
      "│       │   ├──  PAR inVoxel=True  n_exp= NA\n",
      "│       │   ├──  ENT inVoxel=False  n_exp= NA\n",
      "│       │   │   ├──  ENTl inVoxel=True  n_exp= NA\n",
      "│       │   │   │   ├──  ENTl2 inVoxel=False  n_exp= NA\n",
      "│       │   │   │   ├──  ENTl6a inVoxel=False  n_exp= NA\n",
      "│       │   │   │   ├──  ENTl3 inVoxel=False  n_exp= NA\n",
      "│       │   │   │   ├──  ENTl5 inVoxel=False  n_exp= NA\n",
      "│       │   │   │   └──  ENTl1 inVoxel=False  n_exp= NA\n",
      "│       │   │   ├──  ENTm inVoxel=True  n_exp= NA\n",
      "│       │   │   │   ├──  ENTm1 inVoxel=False  n_exp= NA\n",
      "│       │   │   │   ├──  ENTm2 inVoxel=False  n_exp= NA\n",
      "│       │   │   │   ├──  ENTm3 inVoxel=False  n_exp= NA\n",
      "│       │   │   │   ├──  ENTm5 inVoxel=False  n_exp= NA\n",
      "│       │   │   │   └──  ENTm6 inVoxel=False  n_exp= NA\n",
      "│       │   │   └──  ENTmv inVoxel=False  n_exp= NA\n",
      "│       │   ├──  POST inVoxel=True  n_exp= NA\n",
      "│       │   ├──  PRE inVoxel=True  n_exp= NA\n",
      "│       │   ├──  ProS inVoxel=False  n_exp= NA\n",
      "│       │   └──  HATA inVoxel=False  n_exp= NA\n",
      "│       └──  HIP inVoxel=False  n_exp= NA\n",
      "│           ├──  IG inVoxel=True  n_exp= NA\n",
      "│           ├──  CA inVoxel=False  n_exp= NA\n",
      "│           │   ├──  CA1 inVoxel=True  n_exp= NA\n",
      "│           │   ├──  CA2 inVoxel=True  n_exp= NA\n",
      "│           │   └──  CA3 inVoxel=True  n_exp= NA\n",
      "│           ├──  DG inVoxel=True  n_exp= NA\n",
      "│           │   ├──  DG_po inVoxel=False  n_exp= NA\n",
      "│           │   ├──  DG_sg inVoxel=False  n_exp= NA\n",
      "│           │   └──  DG_mo inVoxel=False  n_exp= NA\n",
      "│           └──  FC inVoxel=True  n_exp= NA\n",
      "└──  CTXsp inVoxel=False  n_exp= NA\n",
      "    ├──  LA inVoxel=True  n_exp= NA\n",
      "    ├──  BLA inVoxel=True  n_exp= NA\n",
      "    │   ├──  BLAa inVoxel=False  n_exp= NA\n",
      "    │   ├──  BLAp inVoxel=False  n_exp= NA\n",
      "    │   └──  BLAv inVoxel=False  n_exp= NA\n",
      "    ├──  BMA inVoxel=True  n_exp= NA\n",
      "    │   ├──  BMAa inVoxel=False  n_exp= NA\n",
      "    │   └──  BMAp inVoxel=False  n_exp= NA\n",
      "    ├──  CLA inVoxel=True  n_exp= NA\n",
      "    ├──  PA inVoxel=True  n_exp= NA\n",
      "    └──  EP inVoxel=False  n_exp= NA\n",
      "        ├──  EPd inVoxel=True  n_exp= NA\n",
      "        └──  EPv inVoxel=True  n_exp= NA\n"
     ]
    }
   ],
   "source": [
    "for pre, fill, node in RenderTree(CTX):\n",
    "    print   pre,node.name"
   ]
  },
  {
   "cell_type": "markdown",
   "metadata": {},
   "source": [
    "From the tree, we know  ---"
   ]
  },
  {
   "cell_type": "code",
   "execution_count": 92,
   "metadata": {},
   "outputs": [],
   "source": [
    "BS_nuclei_Damasio={'BS-d':['SCs',\n",
    "                   'SCm',\n",
    "                   'PB',\n",
    "                   'NTS',\n",
    "                   'PAG',\n",
    "                   'AP']}\n",
    "\n",
    "BS_nuclei={'BS':[id_to_acronym[i] for i in Unpack(acronym_to_id['BS'],Substr)\n",
    "          if i in [acronym_to_id[j] for j in Voxel_Structures]]}\n",
    "\n",
    "TH_nuclei={'TH':[id_to_acronym[i] for i in Unpack(acronym_to_id['TH'],Substr)\n",
    "          if i in [acronym_to_id[j] for j in Voxel_Structures]]}\n",
    "\n",
    "HY_nuclei={'HY':[id_to_acronym[i] for i in Unpack(acronym_to_id['HY'],Substr)\n",
    "          if i in [acronym_to_id[j] for j in Voxel_Structures]]}\n",
    "\n",
    "CTX_nuclei={'CTX':[id_to_acronym[i] for i in Unpack(acronym_to_id['CTX'],Substr)\n",
    "          if i in [acronym_to_id[j] for j in Voxel_Structures]]}\n",
    "\n",
    "Iso_nuclei={'ISO':[id_to_acronym[i] for i in Unpack(acronym_to_id['Isocortex'],Substr)\n",
    "          if i in [acronym_to_id[j] for j in Voxel_Structures]]}\n",
    "\n",
    "ILM_nuclei={'ILM':[id_to_acronym[i] for i in Unpack(acronym_to_id['ILM'],Substr)\n",
    "          if i in [acronym_to_id[j] for j in Voxel_Structures]]}\n",
    "\n",
    "\n",
    "#vision\n",
    "VIS_nuclei={'VIS':[id_to_acronym[i] for i in Unpack(acronym_to_id['VIS'],Substr)\n",
    "          if i in [acronym_to_id[j] for j in Voxel_Structures]]}\n",
    "#hearing\n",
    "AUD_nuclei={'AUD':[id_to_acronym[i] for i in Unpack(acronym_to_id['AUD'],Substr)\n",
    "          if i in [acronym_to_id[j] for j in Voxel_Structures]]}\n",
    "#somatosensory (touch)\n",
    "SS_nuclei={'SS':[id_to_acronym[i] for i in Unpack(acronym_to_id['SS'],Substr)\n",
    "          if i in [acronym_to_id[j] for j in Voxel_Structures]]}\n",
    "#taste\n",
    "GU_nuclei={'GU':[id_to_acronym[i] for i in Unpack(acronym_to_id['GU'],Substr,include_self=True)\n",
    "          if i in [acronym_to_id[j] for j in Voxel_Structures]]}\n",
    "#smell\n",
    "OLF_nuclei={'OLF':[id_to_acronym[i] for i in Unpack(acronym_to_id['OLF'],Substr)\n",
    "          if i in [acronym_to_id[j] for j in Voxel_Structures]]}\n"
   ]
  },
  {
   "cell_type": "code",
   "execution_count": 93,
   "metadata": {},
   "outputs": [],
   "source": [
    "def Voxel_infoflow(src,tg,dens,avgfir,avgenc,VMacr_to_error,ddens=46000.0,davgfir=1.0,davgenc=0.5,return_mode='raw',reverse=False,print_Latex_Table=False):\n",
    "    \"\"\"Calculates the information flow between each element of the source and target lists.\n",
    "    \n",
    "    args:\n",
    "    src (dict): dictionary of cardinality 1. maps the structure (super) name to its nuclei\n",
    "    tg (dict): same as src for target\n",
    "    dens (int): number of neurons per volume (neurons/mm^3)\n",
    "    avgfir (float): neuron average firing rate per second (firing/s)\n",
    "    avgenc (float): average number of bits encoded per action potential(bit)\n",
    "    davgfir (float): error in avgfir\n",
    "    davgenc (float): error in avgenc\n",
    "    VMacr_to_error (dict): map from acronym of VM superstructures to the relative error. (for source)\n",
    "    \n",
    "    return_mode (str): choose return mode: 'raw','source nuclei to target','source to target'. Default='raw'\n",
    "    print_Latex_Table (bool): print the formatted table usable for Latex if true. Default=False\n",
    "    \n",
    "    returns:\n",
    "        dictionary containing projections from source to target. Dependant on return_mode\n",
    "    \"\"\"\n",
    "    \n",
    "    src_name=src.keys()[0] # fetch name of the source. Necessary since the original src is a dictionary\n",
    "    tg_name=tg.keys()[0] # fetch name of the target\n",
    "    src=src.values()[0] # list of source acronyms\n",
    "    tg=tg.values()[0] #list of target acronyms\n",
    "    \n",
    "\n",
    "    proj_dict={}\n",
    "    proj_error_dict={}\n",
    "    for a in src:\n",
    "        if a not in proj_dict:\n",
    "            proj_dict[a]={}\n",
    "            proj_error_dict[a]={}\n",
    "\n",
    "        for b in tg:\n",
    "            proj_value=Voxel_connectivity_dict[('ipsi',a)][b]*dens*avgfir*avgenc\n",
    "            proj_dict[a][b]=proj_value\n",
    "\n",
    "            proj_error_value=calc_MSE_error(a,VMacr_to_error,dens,avgfir,avgenc,ddens,davgfir,davgenc)\n",
    "            proj_error_dict[a][b]=proj_value*proj_error_value\n",
    "            \n",
    "    # mode 1: raw\n",
    "    if return_mode=='raw':\n",
    "        if print_Latex_Table:\n",
    "            printLatexTable(proj_dict,proj_error_dict)\n",
    "        return proj_dict,proj_error_dict\n",
    "    \n",
    "    # mode 2\" source nuclei to target\n",
    "    elif return_mode=='source nuclei to target':\n",
    "        proj_dict_mode2={}\n",
    "        proj_error_dict_mode2={}\n",
    "        for a in proj_dict:\n",
    "            proj_dict_mode2[a]={}\n",
    "            proj_error_dict_mode2[a]={}\n",
    "            proj_value=0.0\n",
    "            proj_error_value=0.0\n",
    "            for b in proj_dict[a]:\n",
    "                proj_value+=proj_dict[a][b]\n",
    "                proj_error_value+=proj_error_dict[a][b]\n",
    "            proj_dict_mode2[a][tg_name]=proj_value\n",
    "            proj_error_dict_mode2[a][tg_name]=proj_error_value\n",
    "        \n",
    "        if print_Latex_Table:\n",
    "            printLatexTable(proj_dict_mode2,proj_error_dict_mode2)\n",
    "            \n",
    "        return proj_dict_mode2,proj_error_dict_mode2  \n",
    "    \n",
    "    \n",
    "    # return mode 4: source to target nuclei\n",
    "    elif return_mode=='source to target nuclei':\n",
    "        proj_dict_mode4={}\n",
    "        proj_error_dict_mode4={}\n",
    "        proj_dict_mode4[src_name]={}\n",
    "        proj_error_dict_mode4[src_name]={}\n",
    "        for b in tg:\n",
    "            proj_dict_mode4[src_name][b]=0.0\n",
    "            proj_error_dict_mode4[src_name][b]=0.0\n",
    "        \n",
    "        for a in tg:\n",
    "            proj_value=0.0\n",
    "            proj_error_value=0.0\n",
    "            for b in src:\n",
    "                proj_value+=proj_dict[b][a]\n",
    "                proj_error_value+=proj_error_dict[b][a]\n",
    "            proj_dict_mode4[src_name][a]=proj_value\n",
    "            proj_error_dict_mode4[src_name][a]=proj_error_value\n",
    "        \n",
    "        if print_Latex_Table:\n",
    "            printLatexTable(proj_dict_mode4,proj_error_dict_mode4)\n",
    "            \n",
    "        return proj_dict_mode4,proj_error_dict_mode4    \n",
    "        \n",
    "        \n",
    "    # return mode 3: whole source to whole target\n",
    "    elif return_mode=='source to target':\n",
    "        proj_value=0.0\n",
    "        proj_error_value=0.0\n",
    "        for a in proj_dict:\n",
    "            for b in proj_dict[a]:\n",
    "                proj_value+=proj_dict[a][b]\n",
    "                proj_error_value+=proj_error_dict[a][b]\n",
    "        proj_dict_mode3={src_name:{tg_name:proj_value}}\n",
    "        proj_error_dict_mode3={src_name:{tg_name:proj_error_value}}\n",
    "                               \n",
    "        if print_Latex_Table:\n",
    "            printLatexTable(proj_dict_mode3,proj_error_dict_mode3)\n",
    "        return proj_dict_mode3,proj_error_dict_mode3\n",
    "    \n",
    "    else:\n",
    "        raise ValueError(\"Specify an acceptable return mode ('raw','source nuclei to target','source to target')\")\n",
    "    "
   ]
  },
  {
   "cell_type": "code",
   "execution_count": 94,
   "metadata": {},
   "outputs": [],
   "source": [
    "def calc_MSE_error(src_acr,VMacr_to_error,dens,avgfir,avgenc,ddens,davgfir,davgenc):\n",
    "    \"\"\"\n",
    "    args:\n",
    "        src_acr (str): acronym of the source structure to calculate uncertainty of\n",
    "        Voxel_superStructure_error(dict: list of superstructures with uncertainty given by the high resoluton paper\n",
    "        davgfir (float): error in avgfir\n",
    "        davgenc (float): error in davgenc\n",
    "        \"\"\"\n",
    "    import math\n",
    "    \n",
    "    belong=which_do_I_belong(src_acr,VMacr_to_error)\n",
    "    MSEerror=math.sqrt((VMacr_to_error[belong]/100)**2+(ddens/dens)**2+(davgfir/avgfir)**2+(davgenc/avgfir)**2)\n",
    "    return MSEerror"
   ]
  },
  {
   "cell_type": "code",
   "execution_count": 95,
   "metadata": {},
   "outputs": [],
   "source": [
    "def which_do_I_belong(src_acr,VMacr_to_error):\n",
    "    \"\"\"calculates whether a structure region is in the superstructure\n",
    "    args:\n",
    "        src_arc (str): acronym of the source structure\n",
    "        superstructure (str): acronym of the super structure\n",
    "    returns:\n",
    "        acronym of the structure in which src_acr belongs to\"\"\"\n",
    "    VMacr_superstructures=VMacr_to_error.keys()\n",
    "    for i in VMacr_superstructures:\n",
    "        if acronym_to_id[src_acr] in [j for j in Unpack(acronym_to_id[i],Substr,include_self=True)]:\n",
    "            return i\n",
    "        \n",
    "    raise ValueError(\"No structure found. Check input\")\n"
   ]
  },
  {
   "cell_type": "code",
   "execution_count": 96,
   "metadata": {},
   "outputs": [],
   "source": [
    "def printLatexTable(proj_dict,proj_error_dict):\n",
    "    import math\n",
    "    \n",
    "    proj_dict_keys=proj_dict.keys()[0]\n",
    "    proj_error_dict_keys=proj_error_dict.keys()[0]\n",
    "    \n",
    "    if proj_dict.keys()!=proj_error_dict.keys():\n",
    "        raise ValueError(\"keys of proj_dict and proj_error_dict not the same.\")\n",
    "    \n",
    "    for a in proj_dict:\n",
    "        for b in proj_dict[a]:\n",
    "            proj_value=proj_dict[a][b]\n",
    "            proj_error_value=proj_error_dict[a][b]\n",
    "            print a+\" & $\\\\rightarrow$ &\"+b+\" & \"+str(int(proj_value))+\" $\\pm$ \"+str(int(proj_error_value))+\" & \"+str(int(100*proj_error_value/proj_value))+\" \\\\\\\\\""
   ]
  },
  {
   "cell_type": "code",
   "execution_count": 97,
   "metadata": {},
   "outputs": [],
   "source": [
    "Voxel_Model_Table1_Superstructures=['Isocortex','Olfactory areas','Cortical subplate',\n",
    "                                    'Hippocampal region','Striatum','Pallidum','Thalamus',\n",
    "                                    'Hypothalamus','Midbrain','Pons','Medulla','Cerebellum']\n",
    "\n",
    "Voxel_Model_Table1_RegionMSErel=[float(i) for i in [33,41,104,56,46,71,59,28,30,52,34,104]]\n",
    "VMacr_to_error={}\n",
    "\n",
    "for i in range(len(Voxel_Model_Table1_RegionMSErel)):\n",
    "    VMacr_to_error[name_to_acronym[Voxel_Model_Table1_Superstructures[i]]]=Voxel_Model_Table1_RegionMSErel[i]"
   ]
  },
  {
   "cell_type": "markdown",
   "metadata": {},
   "source": [
    "### SCs to sensory cortex"
   ]
  },
  {
   "cell_type": "code",
   "execution_count": 98,
   "metadata": {},
   "outputs": [
    {
     "name": "stdout",
     "output_type": "stream",
     "text": [
      "abc=Voxel_infoflow(BS_nuclei_Damasio,VIS_nuclei,92000.0,2.0,1.0,VMacr_to_error,davgfir=1.0,davgenc=0.5,return_mode='source nuclei to target',reverse=False,print_Latex_Table=True)\n",
      "abc=Voxel_infoflow(BS_nuclei_Damasio,AUD_nuclei,92000.0,2.0,1.0,VMacr_to_error,davgfir=1.0,davgenc=0.5,return_mode='source nuclei to target',reverse=False,print_Latex_Table=True)\n",
      "abc=Voxel_infoflow(BS_nuclei_Damasio,SS_nuclei,92000.0,2.0,1.0,VMacr_to_error,davgfir=1.0,davgenc=0.5,return_mode='source nuclei to target',reverse=False,print_Latex_Table=True)\n",
      "abc=Voxel_infoflow(BS_nuclei_Damasio,GU_nuclei,92000.0,2.0,1.0,VMacr_to_error,davgfir=1.0,davgenc=0.5,return_mode='source nuclei to target',reverse=False,print_Latex_Table=True)\n",
      "abc=Voxel_infoflow(BS_nuclei_Damasio,OLF_nuclei,92000.0,2.0,1.0,VMacr_to_error,davgfir=1.0,davgenc=0.5,return_mode='source nuclei to target',reverse=False,print_Latex_Table=True)\n"
     ]
    }
   ],
   "source": [
    "for i in ['VIS','AUD','SS','GU','OLF']:\n",
    "    print \"abc=Voxel_infoflow(BS_nuclei_Damasio,\"+i+\"_nuclei,92000.0,2.0,1.0,VMacr_to_error,davgfir=1.0,davgenc=0.5,return_mode='source nuclei to target',reverse=False,print_Latex_Table=True)\"\n"
   ]
  },
  {
   "cell_type": "code",
   "execution_count": 99,
   "metadata": {},
   "outputs": [
    {
     "name": "stdout",
     "output_type": "stream",
     "text": [
      "SCm & $\\rightarrow$ &VIS & 848522819 $\\pm$ 685415283 & 80 \\\\\n",
      "NTS & $\\rightarrow$ &VIS & 75292 $\\pm$ 62000 & 82 \\\\\n",
      "PB & $\\rightarrow$ &VIS & 1136381 $\\pm$ 1037100 & 91 \\\\\n",
      "AP & $\\rightarrow$ &VIS & 59353 $\\pm$ 48875 & 82 \\\\\n",
      "PAG & $\\rightarrow$ &VIS & 95389365 $\\pm$ 77053118 & 80 \\\\\n",
      "SCs & $\\rightarrow$ &VIS & 676233018 $\\pm$ 546243938 & 80 \\\\\n",
      "SCm & $\\rightarrow$ &AUD & 504836781 $\\pm$ 407794390 & 80 \\\\\n",
      "NTS & $\\rightarrow$ &AUD & 55142 $\\pm$ 45408 & 82 \\\\\n",
      "PB & $\\rightarrow$ &AUD & 2592223 $\\pm$ 2365750 & 91 \\\\\n",
      "AP & $\\rightarrow$ &AUD & 6675 $\\pm$ 5496 & 82 \\\\\n",
      "PAG & $\\rightarrow$ &AUD & 80512385 $\\pm$ 65035870 & 80 \\\\\n",
      "SCs & $\\rightarrow$ &AUD & 62770327 $\\pm$ 50704283 & 80 \\\\\n",
      "SCm & $\\rightarrow$ &SS & 1706525129 $\\pm$ 1378487860 & 80 \\\\\n",
      "NTS & $\\rightarrow$ &SS & 17744807 $\\pm$ 14612286 & 82 \\\\\n",
      "PB & $\\rightarrow$ &SS & 55129565 $\\pm$ 50313091 & 91 \\\\\n",
      "AP & $\\rightarrow$ &SS & 179117 $\\pm$ 147497 & 82 \\\\\n",
      "PAG & $\\rightarrow$ &SS & 377449619 $\\pm$ 304894260 & 80 \\\\\n",
      "SCs & $\\rightarrow$ &SS & 45115663 $\\pm$ 36443292 & 80 \\\\\n",
      "SCm & $\\rightarrow$ &GU & 8199565 $\\pm$ 6623401 & 80 \\\\\n",
      "NTS & $\\rightarrow$ &GU & 3917354 $\\pm$ 3225817 & 82 \\\\\n",
      "PB & $\\rightarrow$ &GU & 8040957 $\\pm$ 7338447 & 91 \\\\\n",
      "AP & $\\rightarrow$ &GU & 12581 $\\pm$ 10360 & 82 \\\\\n",
      "PAG & $\\rightarrow$ &GU & 8204499 $\\pm$ 6627387 & 80 \\\\\n",
      "SCs & $\\rightarrow$ &GU & 2022440 $\\pm$ 1633676 & 80 \\\\\n",
      "SCm & $\\rightarrow$ &OLF & 3871899 $\\pm$ 3127622 & 80 \\\\\n",
      "NTS & $\\rightarrow$ &OLF & 48804 $\\pm$ 40189 & 82 \\\\\n",
      "PB & $\\rightarrow$ &OLF & 3343606 $\\pm$ 3051487 & 91 \\\\\n",
      "AP & $\\rightarrow$ &OLF & 11151 $\\pm$ 9182 & 82 \\\\\n",
      "PAG & $\\rightarrow$ &OLF & 12511600 $\\pm$ 10106554 & 80 \\\\\n",
      "SCs & $\\rightarrow$ &OLF & 5156449 $\\pm$ 4165249 & 80 \\\\\n"
     ]
    }
   ],
   "source": [
    "abc=Voxel_infoflow(BS_nuclei_Damasio,VIS_nuclei,92000.0,2.0,1.0,VMacr_to_error,davgfir=1.0,davgenc=0.5,return_mode='source nuclei to target',reverse=False,print_Latex_Table=True)\n",
    "abc=Voxel_infoflow(BS_nuclei_Damasio,AUD_nuclei,92000.0,2.0,1.0,VMacr_to_error,davgfir=1.0,davgenc=0.5,return_mode='source nuclei to target',reverse=False,print_Latex_Table=True)\n",
    "abc=Voxel_infoflow(BS_nuclei_Damasio,SS_nuclei,92000.0,2.0,1.0,VMacr_to_error,davgfir=1.0,davgenc=0.5,return_mode='source nuclei to target',reverse=False,print_Latex_Table=True)\n",
    "abc=Voxel_infoflow(BS_nuclei_Damasio,GU_nuclei,92000.0,2.0,1.0,VMacr_to_error,davgfir=1.0,davgenc=0.5,return_mode='source nuclei to target',reverse=False,print_Latex_Table=True)\n",
    "abc=Voxel_infoflow(BS_nuclei_Damasio,OLF_nuclei,92000.0,2.0,1.0,VMacr_to_error,davgfir=1.0,davgenc=0.5,return_mode='source nuclei to target',reverse=False,print_Latex_Table=True)"
   ]
  },
  {
   "cell_type": "code",
   "execution_count": 100,
   "metadata": {},
   "outputs": [
    {
     "name": "stdout",
     "output_type": "stream",
     "text": [
      "abc=Voxel_infoflow(VIS_nuclei,BS_nuclei_Damasio,92000.0,2.0,1.0,VMacr_to_error,davgfir=1.0,davgenc=0.5,return_mode='source to target nuclei',reverse=False,print_Latex_Table=True)\n",
      "abc=Voxel_infoflow(AUD_nuclei,BS_nuclei_Damasio,92000.0,2.0,1.0,VMacr_to_error,davgfir=1.0,davgenc=0.5,return_mode='source to target nuclei',reverse=False,print_Latex_Table=True)\n",
      "abc=Voxel_infoflow(SS_nuclei,BS_nuclei_Damasio,92000.0,2.0,1.0,VMacr_to_error,davgfir=1.0,davgenc=0.5,return_mode='source to target nuclei',reverse=False,print_Latex_Table=True)\n",
      "abc=Voxel_infoflow(GU_nuclei,BS_nuclei_Damasio,92000.0,2.0,1.0,VMacr_to_error,davgfir=1.0,davgenc=0.5,return_mode='source to target nuclei',reverse=False,print_Latex_Table=True)\n",
      "abc=Voxel_infoflow(OLF_nuclei,BS_nuclei_Damasio,92000.0,2.0,1.0,VMacr_to_error,davgfir=1.0,davgenc=0.5,return_mode='source to target nuclei',reverse=False,print_Latex_Table=True)\n"
     ]
    }
   ],
   "source": [
    "for i in ['VIS','AUD','SS','GU','OLF']:\n",
    "    print \"abc=Voxel_infoflow(\"+i+\"_nuclei,BS_nuclei_Damasio,92000.0,2.0,1.0,VMacr_to_error,davgfir=1.0,davgenc=0.5,return_mode='source to target nuclei',reverse=False,print_Latex_Table=True)\""
   ]
  },
  {
   "cell_type": "code",
   "execution_count": 101,
   "metadata": {},
   "outputs": [
    {
     "name": "stdout",
     "output_type": "stream",
     "text": [
      "VIS & $\\rightarrow$ &SCm & 5589322 $\\pm$ 4579834 & 81 \\\\\n",
      "VIS & $\\rightarrow$ &NTS & 515463 $\\pm$ 422365 & 81 \\\\\n",
      "VIS & $\\rightarrow$ &PB & 233940 $\\pm$ 191688 & 81 \\\\\n",
      "VIS & $\\rightarrow$ &AP & 110967 $\\pm$ 90925 & 81 \\\\\n",
      "VIS & $\\rightarrow$ &PAG & 653769 $\\pm$ 535692 & 81 \\\\\n",
      "VIS & $\\rightarrow$ &SCs & 3372878 $\\pm$ 2763703 & 81 \\\\\n",
      "AUD & $\\rightarrow$ &SCm & 4137475 $\\pm$ 3390205 & 81 \\\\\n",
      "AUD & $\\rightarrow$ &NTS & 442532 $\\pm$ 362606 & 81 \\\\\n",
      "AUD & $\\rightarrow$ &PB & 96376 $\\pm$ 78969 & 81 \\\\\n",
      "AUD & $\\rightarrow$ &AP & 93748 $\\pm$ 76816 & 81 \\\\\n",
      "AUD & $\\rightarrow$ &PAG & 470174 $\\pm$ 385255 & 81 \\\\\n",
      "AUD & $\\rightarrow$ &SCs & 429500 $\\pm$ 351928 & 81 \\\\\n",
      "SS & $\\rightarrow$ &SCm & 6455230 $\\pm$ 5289351 & 81 \\\\\n",
      "SS & $\\rightarrow$ &NTS & 2835207 $\\pm$ 2323140 & 81 \\\\\n",
      "SS & $\\rightarrow$ &PB & 1054527 $\\pm$ 864069 & 81 \\\\\n",
      "SS & $\\rightarrow$ &AP & 505044 $\\pm$ 413828 & 81 \\\\\n",
      "SS & $\\rightarrow$ &PAG & 2952412 $\\pm$ 2419176 & 81 \\\\\n",
      "SS & $\\rightarrow$ &SCs & 2387722 $\\pm$ 1956476 & 81 \\\\\n",
      "GU & $\\rightarrow$ &SCm & 486740 $\\pm$ 398829 & 81 \\\\\n",
      "GU & $\\rightarrow$ &NTS & 576558 $\\pm$ 472426 & 81 \\\\\n",
      "GU & $\\rightarrow$ &PB & 1230785 $\\pm$ 1008493 & 81 \\\\\n",
      "GU & $\\rightarrow$ &AP & 129996 $\\pm$ 106517 & 81 \\\\\n",
      "GU & $\\rightarrow$ &PAG & 493852 $\\pm$ 404657 & 81 \\\\\n",
      "GU & $\\rightarrow$ &SCs & 225749 $\\pm$ 184976 & 81 \\\\\n",
      "OLF & $\\rightarrow$ &SCm & 5247444 $\\pm$ 4485260 & 85 \\\\\n",
      "OLF & $\\rightarrow$ &NTS & 4728199 $\\pm$ 4041435 & 85 \\\\\n",
      "OLF & $\\rightarrow$ &PB & 4465764 $\\pm$ 3817118 & 85 \\\\\n",
      "OLF & $\\rightarrow$ &AP & 861031 $\\pm$ 735967 & 85 \\\\\n",
      "OLF & $\\rightarrow$ &PAG & 9919236 $\\pm$ 8478481 & 85 \\\\\n",
      "OLF & $\\rightarrow$ &SCs & 2221397 $\\pm$ 1898742 & 85 \\\\\n"
     ]
    }
   ],
   "source": [
    "abc=Voxel_infoflow(VIS_nuclei,BS_nuclei_Damasio,92000.0,2.0,1.0,VMacr_to_error,davgfir=1.0,davgenc=0.5,return_mode='source to target nuclei',reverse=False,print_Latex_Table=True)\n",
    "abc=Voxel_infoflow(AUD_nuclei,BS_nuclei_Damasio,92000.0,2.0,1.0,VMacr_to_error,davgfir=1.0,davgenc=0.5,return_mode='source to target nuclei',reverse=False,print_Latex_Table=True)\n",
    "abc=Voxel_infoflow(SS_nuclei,BS_nuclei_Damasio,92000.0,2.0,1.0,VMacr_to_error,davgfir=1.0,davgenc=0.5,return_mode='source to target nuclei',reverse=False,print_Latex_Table=True)\n",
    "abc=Voxel_infoflow(GU_nuclei,BS_nuclei_Damasio,92000.0,2.0,1.0,VMacr_to_error,davgfir=1.0,davgenc=0.5,return_mode='source to target nuclei',reverse=False,print_Latex_Table=True)\n",
    "abc=Voxel_infoflow(OLF_nuclei,BS_nuclei_Damasio,92000.0,2.0,1.0,VMacr_to_error,davgfir=1.0,davgenc=0.5,return_mode='source to target nuclei',reverse=False,print_Latex_Table=True)"
   ]
  },
  {
   "cell_type": "markdown",
   "metadata": {},
   "source": [
    "### thalamic nuclei to sensory"
   ]
  },
  {
   "cell_type": "code",
   "execution_count": 104,
   "metadata": {},
   "outputs": [],
   "source": [
    "DORsm_nuclei={'DORsm':[id_to_acronym[i] for i in Unpack(acronym_to_id['DORsm'],Substr)\n",
    "          if i in [acronym_to_id[j] for j in Voxel_Structures]]}\n",
    "DORpm_nuclei={'DORpm':[id_to_acronym[i] for i in Unpack(acronym_to_id['DORpm'],Substr)\n",
    "          if i in [acronym_to_id[j] for j in Voxel_Structures]]}\n",
    "ILM_nuclei={'ILM':[id_to_acronym[i] for i in Unpack(acronym_to_id['ILM'],Substr)\n",
    "          if i in [acronym_to_id[j] for j in Voxel_Structures]]}"
   ]
  },
  {
   "cell_type": "code",
   "execution_count": 111,
   "metadata": {},
   "outputs": [
    {
     "name": "stdout",
     "output_type": "stream",
     "text": [
      "VIS & $\\rightarrow$ &DORsm & 1275368237 $\\pm$ 1045024001 & 81 \\\\\n",
      "AUD & $\\rightarrow$ &DORsm & 515198281 $\\pm$ 422148328 & 81 \\\\\n",
      "SS & $\\rightarrow$ &DORsm & 2980057353 $\\pm$ 2441829245 & 81 \\\\\n",
      "GU & $\\rightarrow$ &DORsm & 60475946 $\\pm$ 49553386 & 81 \\\\\n",
      "OLF & $\\rightarrow$ &DORsm & 35201260 $\\pm$ 30088327 & 85 \\\\\n",
      "DORsm & $\\rightarrow$ &VIS & 848237266 $\\pm$ 809433495 & 95 \\\\\n",
      "DORsm & $\\rightarrow$ &AUD & 617794831 $\\pm$ 589532963 & 95 \\\\\n",
      "DORsm & $\\rightarrow$ &SS & 3828626743 $\\pm$ 3653480987 & 95 \\\\\n",
      "DORsm & $\\rightarrow$ &GU & 131179099 $\\pm$ 125178132 & 95 \\\\\n",
      "DORsm & $\\rightarrow$ &OLF & 26344804 $\\pm$ 25139625 & 95 \\\\\n"
     ]
    }
   ],
   "source": [
    "for i in [VIS_nuclei,AUD_nuclei,SS_nuclei,GU_nuclei,OLF_nuclei]:\n",
    "    abc=Voxel_infoflow(i,DORsm_nuclei,92000.0,2.0,1.0,VMacr_to_error,davgfir=1.0,davgenc=0.5,return_mode='source to target',reverse=False,print_Latex_Table=True)\n",
    "for i in [VIS_nuclei,AUD_nuclei,SS_nuclei,GU_nuclei,OLF_nuclei]:\n",
    "    abc=Voxel_infoflow(DORsm_nuclei,i,92000.0,2.0,1.0,VMacr_to_error,davgfir=1.0,davgenc=0.5,return_mode='source to target',reverse=False,print_Latex_Table=True)"
   ]
  },
  {
   "cell_type": "code",
   "execution_count": 112,
   "metadata": {},
   "outputs": [
    {
     "name": "stdout",
     "output_type": "stream",
     "text": [
      "VIS & $\\rightarrow$ &DORpm & 1269178486 $\\pm$ 1039952182 & 81 \\\\\n",
      "AUD & $\\rightarrow$ &DORpm & 427360914 $\\pm$ 350175267 & 81 \\\\\n",
      "SS & $\\rightarrow$ &DORpm & 2374099618 $\\pm$ 1945313526 & 81 \\\\\n",
      "GU & $\\rightarrow$ &DORpm & 52444378 $\\pm$ 42972400 & 81 \\\\\n",
      "OLF & $\\rightarrow$ &DORpm & 227571147 $\\pm$ 194516762 & 85 \\\\\n",
      "DORpm & $\\rightarrow$ &VIS & 2699871059 $\\pm$ 2576361773 & 95 \\\\\n",
      "DORpm & $\\rightarrow$ &AUD & 500759762 $\\pm$ 477851823 & 95 \\\\\n",
      "DORpm & $\\rightarrow$ &SS & 3340834255 $\\pm$ 3188003232 & 95 \\\\\n",
      "DORpm & $\\rightarrow$ &GU & 134321195 $\\pm$ 128176488 & 95 \\\\\n",
      "DORpm & $\\rightarrow$ &OLF & 229106073 $\\pm$ 218625303 & 95 \\\\\n"
     ]
    }
   ],
   "source": [
    "for i in [VIS_nuclei,AUD_nuclei,SS_nuclei,GU_nuclei,OLF_nuclei]:\n",
    "    abc=Voxel_infoflow(i,DORpm_nuclei,92000.0,2.0,1.0,VMacr_to_error,davgfir=1.0,davgenc=0.5,return_mode='source to target',reverse=False,print_Latex_Table=True)\n",
    "for i in [VIS_nuclei,AUD_nuclei,SS_nuclei,GU_nuclei,OLF_nuclei]:\n",
    "    abc=Voxel_infoflow(DORpm_nuclei,i,92000.0,2.0,1.0,VMacr_to_error,davgfir=1.0,davgenc=0.5,return_mode='source to target',reverse=False,print_Latex_Table=True)"
   ]
  },
  {
   "cell_type": "code",
   "execution_count": 114,
   "metadata": {},
   "outputs": [
    {
     "name": "stdout",
     "output_type": "stream",
     "text": [
      "ILM & $\\rightarrow$ &VIS & 51513808 $\\pm$ 49157239 & 95 \\\\\n",
      "ILM & $\\rightarrow$ &AUD & 8675439 $\\pm$ 8278569 & 95 \\\\\n",
      "ILM & $\\rightarrow$ &SS & 532841065 $\\pm$ 508465523 & 95 \\\\\n",
      "ILM & $\\rightarrow$ &GU & 32445678 $\\pm$ 30961406 & 95 \\\\\n",
      "ILM & $\\rightarrow$ &OLF & 5030500 $\\pm$ 4800373 & 95 \\\\\n",
      "VIS & $\\rightarrow$ &ILM & 14341683 $\\pm$ 11751431 & 81 \\\\\n",
      "AUD & $\\rightarrow$ &ILM & 1732739 $\\pm$ 1419789 & 81 \\\\\n",
      "SS & $\\rightarrow$ &ILM & 150536702 $\\pm$ 123348271 & 81 \\\\\n",
      "GU & $\\rightarrow$ &ILM & 11220480 $\\pm$ 9193949 & 81 \\\\\n",
      "OLF & $\\rightarrow$ &ILM & 16487572 $\\pm$ 14092775 & 85 \\\\\n"
     ]
    }
   ],
   "source": [
    "for i in [VIS_nuclei,AUD_nuclei,SS_nuclei,GU_nuclei,OLF_nuclei]:\n",
    "    abc=Voxel_infoflow(ILM_nuclei,i,92000.0,2.0,1.0,VMacr_to_error,davgfir=1.0,davgenc=0.5,return_mode='source to target',reverse=False,print_Latex_Table=True)\n",
    "for i in [VIS_nuclei,AUD_nuclei,SS_nuclei,GU_nuclei,OLF_nuclei]:\n",
    "    abc=Voxel_infoflow(i,ILM_nuclei,92000.0,2.0,1.0,VMacr_to_error,davgfir=1.0,davgenc=0.5,return_mode='source to target',reverse=False,print_Latex_Table=True)\n"
   ]
  },
  {
   "cell_type": "code",
   "execution_count": 116,
   "metadata": {},
   "outputs": [
    {
     "name": "stdout",
     "output_type": "stream",
     "text": [
      "Visual areas\n",
      "Auditory areas\n",
      "Somatosensory areas\n",
      "Gustatory areas\n",
      "Olfactory areas\n"
     ]
    }
   ],
   "source": [
    "for i in [VIS_nuclei,AUD_nuclei,SS_nuclei,GU_nuclei,OLF_nuclei]:\n",
    "    print acronym_to_name[i.keys()[0]]"
   ]
  },
  {
   "cell_type": "code",
   "execution_count": 118,
   "metadata": {},
   "outputs": [
    {
     "data": {
      "text/plain": [
       "u'Thalamus, polymodal association cortex related'"
      ]
     },
     "execution_count": 118,
     "metadata": {},
     "output_type": "execute_result"
    }
   ],
   "source": [
    "acronym_to_name['DORpm']"
   ]
  },
  {
   "cell_type": "markdown",
   "metadata": {},
   "source": [
    "### BS Damasio to TH&HY"
   ]
  },
  {
   "cell_type": "code",
   "execution_count": 449,
   "metadata": {},
   "outputs": [
    {
     "name": "stdout",
     "output_type": "stream",
     "text": [
      "SCm & $\\rightarrow$ &TH & 46537047 $\\pm$ 37591450 & 80 \\\\\n",
      "NTS & $\\rightarrow$ &TH & 59309 $\\pm$ 48839 & 82 \\\\\n",
      "PB & $\\rightarrow$ &TH & 2283944 $\\pm$ 2084404 & 91 \\\\\n",
      "AP & $\\rightarrow$ &TH & 24920 $\\pm$ 20521 & 82 \\\\\n",
      "PAG & $\\rightarrow$ &TH & 69136308 $\\pm$ 55846562 & 80 \\\\\n",
      "SCs & $\\rightarrow$ &TH & 13520503 $\\pm$ 10921521 & 80 \\\\\n"
     ]
    }
   ],
   "source": [
    "abc=Voxel_infoflow(BS_nuclei_Damasio,TH_nuclei,92000.0,2.0,1.0,VMacr_to_error,davgfir=1.0,davgenc=0.5,return_mode='source nuclei to target',reverse=False,print_Latex_Table=True)"
   ]
  },
  {
   "cell_type": "code",
   "execution_count": 451,
   "metadata": {},
   "outputs": [
    {
     "name": "stdout",
     "output_type": "stream",
     "text": [
      "SCm & $\\rightarrow$ &HY & 353734972 $\\pm$ 285738168 & 80 \\\\\n",
      "NTS & $\\rightarrow$ &HY & 4074540 $\\pm$ 3355254 & 82 \\\\\n",
      "PB & $\\rightarrow$ &HY & 22172104 $\\pm$ 20235006 & 91 \\\\\n",
      "AP & $\\rightarrow$ &HY & 119922 $\\pm$ 98752 & 82 \\\\\n",
      "PAG & $\\rightarrow$ &HY & 552988870 $\\pm$ 446690430 & 80 \\\\\n",
      "SCs & $\\rightarrow$ &HY & 10814385 $\\pm$ 8735587 & 80 \\\\\n"
     ]
    }
   ],
   "source": [
    "abc=Voxel_infoflow(BS_nuclei_Damasio,HY_nuclei,92000.0,2.0,1.0,VMacr_to_error,davgfir=1.0,davgenc=0.5,return_mode='source nuclei to target',print_Latex_Table=True)"
   ]
  },
  {
   "cell_type": "markdown",
   "metadata": {},
   "source": [
    "### TH&HY to BS Damasio"
   ]
  },
  {
   "cell_type": "code",
   "execution_count": 83,
   "metadata": {},
   "outputs": [
    {
     "name": "stdout",
     "output_type": "stream",
     "text": [
      "TH & $\\rightarrow$ &SCm & 657884103 $\\pm$ 627788296 & 95 \\\\\n",
      "TH & $\\rightarrow$ &NTS & 7050328 $\\pm$ 6727801 & 95 \\\\\n",
      "TH & $\\rightarrow$ &PB & 45883522 $\\pm$ 43784518 & 95 \\\\\n",
      "TH & $\\rightarrow$ &AP & 1358673 $\\pm$ 1296519 & 95 \\\\\n",
      "TH & $\\rightarrow$ &PAG & 276555430 $\\pm$ 263904025 & 95 \\\\\n",
      "TH & $\\rightarrow$ &SCs & 289874685 $\\pm$ 276613972 & 95 \\\\\n"
     ]
    }
   ],
   "source": [
    "abc=Voxel_infoflow(TH_nuclei,BS_nuclei_Damasio,92000.0,2.0,1.0,VMacr_to_error,davgfir=1.0,davgenc=0.5,return_mode='source to target nuclei',print_Latex_Table=True)"
   ]
  },
  {
   "cell_type": "code",
   "execution_count": 452,
   "metadata": {},
   "outputs": [
    {
     "name": "stdout",
     "output_type": "stream",
     "text": [
      "TH & $\\rightarrow$ &SCs & 289874685 $\\pm$ 276613972 & 95 \\\\\n",
      "TH & $\\rightarrow$ &SCm & 657884103 $\\pm$ 627788296 & 95 \\\\\n",
      "TH & $\\rightarrow$ &PB & 45883522 $\\pm$ 43784518 & 95 \\\\\n",
      "TH & $\\rightarrow$ &NTS & 7050328 $\\pm$ 6727801 & 95 \\\\\n",
      "TH & $\\rightarrow$ &PAG & 276555430 $\\pm$ 263904025 & 95 \\\\\n",
      "TH & $\\rightarrow$ &AP & 1358673 $\\pm$ 1296519 & 95 \\\\\n"
     ]
    }
   ],
   "source": [
    "for i in BS_nuclei_Damasio[BS_nuclei_Damasio.keys()[0]]:\n",
    "    abc=Voxel_infoflow(TH_nuclei,{str(i):[i]},92000.0,2.0,1.0,VMacr_to_error,davgfir=1.0,davgenc=0.5,return_mode='source to target',print_Latex_Table=True)"
   ]
  },
  {
   "cell_type": "code",
   "execution_count": 453,
   "metadata": {},
   "outputs": [
    {
     "name": "stdout",
     "output_type": "stream",
     "text": [
      "HY & $\\rightarrow$ &SCs & 31010500 $\\pm$ 24825837 & 80 \\\\\n",
      "HY & $\\rightarrow$ &SCm & 198470941 $\\pm$ 158888353 & 80 \\\\\n",
      "HY & $\\rightarrow$ &PB & 71534580 $\\pm$ 57267888 & 80 \\\\\n",
      "HY & $\\rightarrow$ &NTS & 6383071 $\\pm$ 5110046 & 80 \\\\\n",
      "HY & $\\rightarrow$ &PAG & 238186492 $\\pm$ 190683126 & 80 \\\\\n",
      "HY & $\\rightarrow$ &AP & 1302283 $\\pm$ 1042559 & 80 \\\\\n"
     ]
    }
   ],
   "source": [
    "for i in BS_nuclei_Damasio[BS_nuclei_Damasio.keys()[0]]:\n",
    "    abc=Voxel_infoflow(HY_nuclei,{str(i):[i]},92000.0,2.0,1.0,VMacr_to_error,davgfir=1.0,davgenc=0.5,return_mode='source to target',print_Latex_Table=True)"
   ]
  },
  {
   "cell_type": "markdown",
   "metadata": {},
   "source": [
    "### Between BS Damasio"
   ]
  },
  {
   "cell_type": "code",
   "execution_count": 454,
   "metadata": {},
   "outputs": [
    {
     "name": "stdout",
     "output_type": "stream",
     "text": [
      "SCm & $\\rightarrow$ &SCm & 1211803601 $\\pm$ 978864316 & 80 \\\\\n",
      "SCm & $\\rightarrow$ &NTS & 1959667 $\\pm$ 1582969 & 80 \\\\\n",
      "SCm & $\\rightarrow$ &PB & 16971372 $\\pm$ 13709045 & 80 \\\\\n",
      "SCm & $\\rightarrow$ &AP & 261002 $\\pm$ 210831 & 80 \\\\\n",
      "SCm & $\\rightarrow$ &PAG & 437980940 $\\pm$ 353789931 & 80 \\\\\n",
      "SCm & $\\rightarrow$ &SCs & 512887383 $\\pm$ 414297462 & 80 \\\\\n",
      "NTS & $\\rightarrow$ &SCm & 960614 $\\pm$ 791035 & 82 \\\\\n",
      "NTS & $\\rightarrow$ &NTS & 46593371 $\\pm$ 38368163 & 82 \\\\\n",
      "NTS & $\\rightarrow$ &PB & 3482119 $\\pm$ 2867415 & 82 \\\\\n",
      "NTS & $\\rightarrow$ &AP & 6619582 $\\pm$ 5451016 & 82 \\\\\n",
      "NTS & $\\rightarrow$ &PAG & 1273321 $\\pm$ 1048539 & 82 \\\\\n",
      "NTS & $\\rightarrow$ &SCs & 28764 $\\pm$ 23686 & 82 \\\\\n",
      "PB & $\\rightarrow$ &SCm & 22927734 $\\pm$ 20924620 & 91 \\\\\n",
      "PB & $\\rightarrow$ &NTS & 17234980 $\\pm$ 15729221 & 91 \\\\\n",
      "PB & $\\rightarrow$ &PB & 72582877 $\\pm$ 66241569 & 91 \\\\\n",
      "PB & $\\rightarrow$ &AP & 1101810 $\\pm$ 1005549 & 91 \\\\\n",
      "PB & $\\rightarrow$ &PAG & 24903375 $\\pm$ 22727656 & 91 \\\\\n",
      "PB & $\\rightarrow$ &SCs & 1713945 $\\pm$ 1564203 & 91 \\\\\n",
      "AP & $\\rightarrow$ &SCm & 7066 $\\pm$ 5818 & 82 \\\\\n",
      "AP & $\\rightarrow$ &NTS & 1424488 $\\pm$ 1173020 & 82 \\\\\n",
      "AP & $\\rightarrow$ &PB & 55375 $\\pm$ 45599 & 82 \\\\\n",
      "AP & $\\rightarrow$ &AP & 364375 $\\pm$ 300052 & 82 \\\\\n",
      "AP & $\\rightarrow$ &PAG & 30994 $\\pm$ 25522 & 82 \\\\\n",
      "AP & $\\rightarrow$ &SCs & 1262 $\\pm$ 1039 & 82 \\\\\n",
      "PAG & $\\rightarrow$ &SCm & 589923695 $\\pm$ 476525448 & 80 \\\\\n",
      "PAG & $\\rightarrow$ &NTS & 4240486 $\\pm$ 3425357 & 80 \\\\\n",
      "PAG & $\\rightarrow$ &PB & 54973963 $\\pm$ 44406578 & 80 \\\\\n",
      "PAG & $\\rightarrow$ &AP & 436351 $\\pm$ 352473 & 80 \\\\\n",
      "PAG & $\\rightarrow$ &PAG & 697064682 $\\pm$ 563071229 & 80 \\\\\n",
      "PAG & $\\rightarrow$ &SCs & 123460257 $\\pm$ 99728075 & 80 \\\\\n",
      "SCs & $\\rightarrow$ &SCm & 450037596 $\\pm$ 363528993 & 80 \\\\\n",
      "SCs & $\\rightarrow$ &NTS & 494615 $\\pm$ 399537 & 80 \\\\\n",
      "SCs & $\\rightarrow$ &PB & 531739 $\\pm$ 429525 & 80 \\\\\n",
      "SCs & $\\rightarrow$ &AP & 109157 $\\pm$ 88174 & 80 \\\\\n",
      "SCs & $\\rightarrow$ &PAG & 55187681 $\\pm$ 44579214 & 80 \\\\\n",
      "SCs & $\\rightarrow$ &SCs & 428340898 $\\pm$ 346002949 & 80 \\\\\n"
     ]
    }
   ],
   "source": [
    "abc=Voxel_infoflow(BS_nuclei_Damasio,BS_nuclei_Damasio,92000.0,2.0,1.0,VMacr_to_error,davgfir=1.0,davgenc=0.5,return_mode='raw',print_Latex_Table=True)"
   ]
  },
  {
   "cell_type": "markdown",
   "metadata": {},
   "source": [
    "### ISO to BS Damasio"
   ]
  },
  {
   "cell_type": "code",
   "execution_count": 455,
   "metadata": {
    "scrolled": false
   },
   "outputs": [
    {
     "name": "stdout",
     "output_type": "stream",
     "text": [
      "ISO & $\\rightarrow$ &SCs & 32265290 $\\pm$ 26437856 & 81 \\\\\n",
      "ISO & $\\rightarrow$ &SCm & 49158839 $\\pm$ 40280261 & 81 \\\\\n",
      "ISO & $\\rightarrow$ &PB & 6540277 $\\pm$ 5359037 & 81 \\\\\n",
      "ISO & $\\rightarrow$ &NTS & 8012953 $\\pm$ 6565734 & 81 \\\\\n",
      "ISO & $\\rightarrow$ &PAG & 16523224 $\\pm$ 13538965 & 81 \\\\\n",
      "ISO & $\\rightarrow$ &AP & 1487671 $\\pm$ 1218982 & 81 \\\\\n"
     ]
    }
   ],
   "source": [
    "for i in BS_nuclei_Damasio[BS_nuclei_Damasio.keys()[0]]:\n",
    "    abc=Voxel_infoflow(Iso_nuclei,{str(i):[i]},92000.0,2.0,1.0,VMacr_to_error,davgfir=1.0,davgenc=0.5,return_mode='source to target',print_Latex_Table=True)"
   ]
  },
  {
   "cell_type": "markdown",
   "metadata": {},
   "source": [
    "### BS Damasio to ISO"
   ]
  },
  {
   "cell_type": "code",
   "execution_count": 456,
   "metadata": {},
   "outputs": [
    {
     "name": "stdout",
     "output_type": "stream",
     "text": [
      "SCm & $\\rightarrow$ &ISO & 7597631593 $\\pm$ 6137174741 & 80 \\\\\n",
      "NTS & $\\rightarrow$ &ISO & 61908988 $\\pm$ 50980087 & 82 \\\\\n",
      "PB & $\\rightarrow$ &ISO & 230872818 $\\pm$ 210702280 & 91 \\\\\n",
      "AP & $\\rightarrow$ &ISO & 656016 $\\pm$ 540209 & 82 \\\\\n",
      "PAG & $\\rightarrow$ &ISO & 3064475449 $\\pm$ 2475405801 & 80 \\\\\n",
      "SCs & $\\rightarrow$ &ISO & 1254489523 $\\pm$ 1013344924 & 80 \\\\\n"
     ]
    }
   ],
   "source": [
    "abc=Voxel_infoflow(BS_nuclei_Damasio,Iso_nuclei,92000.0,2.0,1.0,VMacr_to_error,davgfir=1.0,davgenc=0.5,return_mode='source nuclei to target',print_Latex_Table=True)"
   ]
  },
  {
   "cell_type": "markdown",
   "metadata": {},
   "source": [
    "### ISO nuclei to TH + reverse"
   ]
  },
  {
   "cell_type": "code",
   "execution_count": 463,
   "metadata": {},
   "outputs": [
    {
     "name": "stdout",
     "output_type": "stream",
     "text": [
      "VISrl & $\\rightarrow$ &TH & 138176869 $\\pm$ 113220747 & 81 \\\\\n",
      "ILA & $\\rightarrow$ &TH & 109567073 $\\pm$ 89778166 & 81 \\\\\n",
      "TEa & $\\rightarrow$ &TH & 442547609 $\\pm$ 362619093 & 81 \\\\\n",
      "AUDpo & $\\rightarrow$ &TH & 81012788 $\\pm$ 66381069 & 81 \\\\\n",
      "VISam & $\\rightarrow$ &TH & 91843555 $\\pm$ 75255692 & 81 \\\\\n",
      "VISC & $\\rightarrow$ &TH & 253922749 $\\pm$ 208061766 & 81 \\\\\n",
      "SSp-tr & $\\rightarrow$ &TH & 171911032 $\\pm$ 140862183 & 81 \\\\\n",
      "VISpm & $\\rightarrow$ &TH & 86844472 $\\pm$ 71159494 & 81 \\\\\n",
      "VISpl & $\\rightarrow$ &TH & 27058282 $\\pm$ 22171286 & 81 \\\\\n",
      "AUDv & $\\rightarrow$ &TH & 412115570 $\\pm$ 337683384 & 81 \\\\\n",
      "VISp & $\\rightarrow$ &TH & 1733143387 $\\pm$ 1420120390 & 81 \\\\\n",
      "ACAd & $\\rightarrow$ &TH & 418218352 $\\pm$ 342683942 & 81 \\\\\n",
      "AUDp & $\\rightarrow$ &TH & 372909518 $\\pm$ 305558336 & 81 \\\\\n",
      "PERI & $\\rightarrow$ &TH & 18449817 $\\pm$ 15117596 & 81 \\\\\n",
      "AIv & $\\rightarrow$ &TH & 135183844 $\\pm$ 110768292 & 81 \\\\\n",
      "AIp & $\\rightarrow$ &TH & 50196239 $\\pm$ 41130297 & 81 \\\\\n",
      "ACAv & $\\rightarrow$ &TH & 318607046 $\\pm$ 261063433 & 81 \\\\\n",
      "AUDd & $\\rightarrow$ &TH & 76521319 $\\pm$ 62700805 & 81 \\\\\n",
      "ECT & $\\rightarrow$ &TH & 92753552 $\\pm$ 76001335 & 81 \\\\\n",
      "AId & $\\rightarrow$ &TH & 420778082 $\\pm$ 344781359 & 81 \\\\\n",
      "VISl & $\\rightarrow$ &TH & 291579198 $\\pm$ 238917084 & 81 \\\\\n",
      "SSp-ll & $\\rightarrow$ &TH & 267392852 $\\pm$ 219099033 & 81 \\\\\n",
      "VISli & $\\rightarrow$ &TH & 69996786 $\\pm$ 57354667 & 81 \\\\\n",
      "GU & $\\rightarrow$ &TH & 112920325 $\\pm$ 92525787 & 81 \\\\\n",
      "MOs & $\\rightarrow$ &TH & 1310941916 $\\pm$ 1074172719 & 81 \\\\\n",
      "VISal & $\\rightarrow$ &TH & 156620989 $\\pm$ 128333675 & 81 \\\\\n",
      "SSp-ul & $\\rightarrow$ &TH & 795545164 $\\pm$ 651861766 & 81 \\\\\n",
      "MOp & $\\rightarrow$ &TH & 1238748831 $\\pm$ 1015018425 & 81 \\\\\n",
      "SSs & $\\rightarrow$ &TH & 1810562907 $\\pm$ 1483557171 & 81 \\\\\n",
      "RSPv & $\\rightarrow$ &TH & 666327041 $\\pm$ 545981725 & 81 \\\\\n",
      "FRP & $\\rightarrow$ &TH & 112859495 $\\pm$ 92475943 & 81 \\\\\n",
      "ORBm & $\\rightarrow$ &TH & 133027969 $\\pm$ 109001790 & 81 \\\\\n",
      "ORBl & $\\rightarrow$ &TH & 247810996 $\\pm$ 203053856 & 81 \\\\\n",
      "RSPd & $\\rightarrow$ &TH & 506420584 $\\pm$ 414955971 & 81 \\\\\n",
      "VISpor & $\\rightarrow$ &TH & 87460051 $\\pm$ 71663893 & 81 \\\\\n",
      "SSp-un & $\\rightarrow$ &TH & 386296371 $\\pm$ 316527390 & 81 \\\\\n",
      "SSp-bfd & $\\rightarrow$ &TH & 542789133 $\\pm$ 444755997 & 81 \\\\\n",
      "SSp-m & $\\rightarrow$ &TH & 687478885 $\\pm$ 563313335 & 81 \\\\\n",
      "RSPagl & $\\rightarrow$ &TH & 197133038 $\\pm$ 161528843 & 81 \\\\\n",
      "ORBvl & $\\rightarrow$ &TH & 104022845 $\\pm$ 85235281 & 81 \\\\\n",
      "PL & $\\rightarrow$ &TH & 321442207 $\\pm$ 263386536 & 81 \\\\\n",
      "VISa & $\\rightarrow$ &TH & 166939315 $\\pm$ 136788408 & 81 \\\\\n",
      "SSp-n & $\\rightarrow$ &TH & 692180623 $\\pm$ 567165893 & 81 \\\\\n"
     ]
    }
   ],
   "source": [
    "abc=Voxel_infoflow(Iso_nuclei,TH_nuclei,92000.0,2.0,1.0,VMacr_to_error,davgfir=1.0,davgenc=0.5,return_mode='source nuclei to target',print_Latex_Table=True)"
   ]
  },
  {
   "cell_type": "code",
   "execution_count": 464,
   "metadata": {},
   "outputs": [
    {
     "name": "stdout",
     "output_type": "stream",
     "text": [
      "TH & $\\rightarrow$ &VISa & 625054174 $\\pm$ 596460218 & 95 \\\\\n",
      "TH & $\\rightarrow$ &VISrl & 225912073 $\\pm$ 215577417 & 95 \\\\\n",
      "TH & $\\rightarrow$ &ACAd & 1316350306 $\\pm$ 1256132065 & 95 \\\\\n",
      "TH & $\\rightarrow$ &ACAv & 950603658 $\\pm$ 907116996 & 95 \\\\\n",
      "TH & $\\rightarrow$ &ILA & 391327418 $\\pm$ 373425611 & 95 \\\\\n",
      "TH & $\\rightarrow$ &AId & 497991360 $\\pm$ 475210065 & 95 \\\\\n",
      "TH & $\\rightarrow$ &AIp & 268931881 $\\pm$ 256629225 & 95 \\\\\n",
      "TH & $\\rightarrow$ &AIv & 217821653 $\\pm$ 207857104 & 95 \\\\\n",
      "TH & $\\rightarrow$ &FRP & 159076598 $\\pm$ 151799422 & 95 \\\\\n",
      "TH & $\\rightarrow$ &AUDp & 433911041 $\\pm$ 414061188 & 95 \\\\\n",
      "TH & $\\rightarrow$ &AUDd & 199856318 $\\pm$ 190713618 & 95 \\\\\n",
      "TH & $\\rightarrow$ &AUDv & 345359857 $\\pm$ 329560899 & 95 \\\\\n",
      "TH & $\\rightarrow$ &AUDpo & 139427376 $\\pm$ 133049080 & 95 \\\\\n",
      "TH & $\\rightarrow$ &RSPd & 1336657646 $\\pm$ 1275510417 & 95 \\\\\n",
      "TH & $\\rightarrow$ &RSPv & 1723978730 $\\pm$ 1645112970 & 95 \\\\\n",
      "TH & $\\rightarrow$ &RSPagl & 858020457 $\\pm$ 818769140 & 95 \\\\\n",
      "TH & $\\rightarrow$ &MOp & 2503679912 $\\pm$ 2389145657 & 95 \\\\\n",
      "TH & $\\rightarrow$ &MOs & 3554632335 $\\pm$ 3392020826 & 95 \\\\\n",
      "TH & $\\rightarrow$ &TEa & 464696495 $\\pm$ 443438320 & 95 \\\\\n",
      "TH & $\\rightarrow$ &VISp & 1135272741 $\\pm$ 1083338140 & 95 \\\\\n",
      "TH & $\\rightarrow$ &VISam & 507487865 $\\pm$ 484272140 & 95 \\\\\n",
      "TH & $\\rightarrow$ &VISal & 277520214 $\\pm$ 264824673 & 95 \\\\\n",
      "TH & $\\rightarrow$ &VISli & 175664040 $\\pm$ 167628049 & 95 \\\\\n",
      "TH & $\\rightarrow$ &VISl & 341254201 $\\pm$ 325643062 & 95 \\\\\n",
      "TH & $\\rightarrow$ &VISpl & 128684312 $\\pm$ 122797473 & 95 \\\\\n",
      "TH & $\\rightarrow$ &VISpm & 594265232 $\\pm$ 567079758 & 95 \\\\\n",
      "TH & $\\rightarrow$ &VISpor & 387959717 $\\pm$ 370211970 & 95 \\\\\n",
      "TH & $\\rightarrow$ &VISC & 272555692 $\\pm$ 260087260 & 95 \\\\\n",
      "TH & $\\rightarrow$ &ORBl & 677654174 $\\pm$ 646653959 & 95 \\\\\n",
      "TH & $\\rightarrow$ &ORBm & 346570160 $\\pm$ 330715835 & 95 \\\\\n",
      "TH & $\\rightarrow$ &ORBvl & 522054279 $\\pm$ 498172193 & 95 \\\\\n",
      "TH & $\\rightarrow$ &ECT & 121527966 $\\pm$ 115968504 & 95 \\\\\n",
      "TH & $\\rightarrow$ &PERI & 56380906 $\\pm$ 53801684 & 95 \\\\\n",
      "TH & $\\rightarrow$ &PL & 810924866 $\\pm$ 773828001 & 95 \\\\\n",
      "TH & $\\rightarrow$ &GU & 265500295 $\\pm$ 253354621 & 95 \\\\\n",
      "TH & $\\rightarrow$ &SSp-bfd & 1495698972 $\\pm$ 1427276181 & 95 \\\\\n",
      "TH & $\\rightarrow$ &SSp-ll & 378196084 $\\pm$ 360894988 & 95 \\\\\n",
      "TH & $\\rightarrow$ &SSp-m & 1354455154 $\\pm$ 1292493754 & 95 \\\\\n",
      "TH & $\\rightarrow$ &SSp-n & 686272878 $\\pm$ 654878388 & 95 \\\\\n",
      "TH & $\\rightarrow$ &SSp-tr & 410466873 $\\pm$ 391689505 & 95 \\\\\n",
      "TH & $\\rightarrow$ &SSp-ul & 713102622 $\\pm$ 680480769 & 95 \\\\\n",
      "TH & $\\rightarrow$ &SSp-un & 357574977 $\\pm$ 341217221 & 95 \\\\\n",
      "TH & $\\rightarrow$ &SSs & 1773693435 $\\pm$ 1692553407 & 95 \\\\\n"
     ]
    }
   ],
   "source": [
    "for i in Iso_nuclei[Iso_nuclei.keys()[0]]:\n",
    "    abc=Voxel_infoflow(TH_nuclei,{str(i):[i]},92000.0,2.0,1.0,VMacr_to_error,davgfir=1.0,davgenc=0.5,return_mode='source to target',print_Latex_Table=True)"
   ]
  },
  {
   "cell_type": "markdown",
   "metadata": {},
   "source": [
    "### ILM"
   ]
  },
  {
   "cell_type": "code",
   "execution_count": 461,
   "metadata": {},
   "outputs": [
    {
     "name": "stdout",
     "output_type": "stream",
     "text": [
      "SCm & $\\rightarrow$ &ILM & 1596394 $\\pm$ 1289527 & 80 \\\\\n",
      "NTS & $\\rightarrow$ &ILM & 3632 $\\pm$ 2991 & 82 \\\\\n",
      "PB & $\\rightarrow$ &ILM & 114316 $\\pm$ 104328 & 91 \\\\\n",
      "AP & $\\rightarrow$ &ILM & 1921 $\\pm$ 1582 & 82 \\\\\n",
      "PAG & $\\rightarrow$ &ILM & 3597984 $\\pm$ 2906361 & 80 \\\\\n",
      "SCs & $\\rightarrow$ &ILM & 354528 $\\pm$ 286378 & 80 \\\\\n"
     ]
    }
   ],
   "source": [
    "abc=Voxel_infoflow(BS_nuclei_Damasio,ILM_nuclei,92000.0,2.0,1.0,VMacr_to_error,davgfir=1.0,davgenc=0.5,return_mode='source nuclei to target',print_Latex_Table=True)"
   ]
  },
  {
   "cell_type": "code",
   "execution_count": 462,
   "metadata": {},
   "outputs": [
    {
     "name": "stdout",
     "output_type": "stream",
     "text": [
      "ILM & $\\rightarrow$ &SCs & 13208135 $\\pm$ 12603911 & 95 \\\\\n",
      "ILM & $\\rightarrow$ &SCm & 70425588 $\\pm$ 67203873 & 95 \\\\\n",
      "ILM & $\\rightarrow$ &PB & 10019128 $\\pm$ 9560789 & 95 \\\\\n",
      "ILM & $\\rightarrow$ &NTS & 792101 $\\pm$ 755865 & 95 \\\\\n",
      "ILM & $\\rightarrow$ &PAG & 39911185 $\\pm$ 38085394 & 95 \\\\\n",
      "ILM & $\\rightarrow$ &AP & 18391 $\\pm$ 17550 & 95 \\\\\n"
     ]
    }
   ],
   "source": [
    "for i in BS_nuclei_Damasio[BS_nuclei_Damasio.keys()[0]]:\n",
    "    abc=Voxel_infoflow(ILM_nuclei,{str(i):[i]},92000.0,2.0,1.0,VMacr_to_error,davgfir=1.0,davgenc=0.5,return_mode='source to target',print_Latex_Table=True)"
   ]
  },
  {
   "cell_type": "markdown",
   "metadata": {},
   "source": [
    "### Thalamus nuclei to ISO"
   ]
  },
  {
   "cell_type": "code",
   "execution_count": 466,
   "metadata": {},
   "outputs": [
    {
     "name": "stdout",
     "output_type": "stream",
     "text": [
      "Pretty printing has been turned OFF\n",
      "LAT = Lateral group of the dorsal thalamus\n",
      "ATN = Anterior group of the dorsal thalamus\n",
      "MED = Medial group of the dorsal thalamus\n",
      "ILM = Intralaminar nuclei of the dorsal thalamus\n",
      "GENv = Geniculate group, ventral thalamus\n",
      "EPI = Epithalamus\n"
     ]
    }
   ],
   "source": [
    "%pprint\n",
    "THsub=['LAT','ATN','MED','ILM','GENv','EPI']\n",
    "for i in THsub:\n",
    "    print i+\" = \"+acronym_to_name[i]"
   ]
  },
  {
   "cell_type": "code",
   "execution_count": 457,
   "metadata": {},
   "outputs": [
    {
     "name": "stdout",
     "output_type": "stream",
     "text": [
      "LAT & $\\rightarrow$ &ISO & 6008313709 $\\pm$ 5733455197 & 95 \\\\\n",
      "ATN & $\\rightarrow$ &ISO & 4378612551 $\\pm$ 4178306943 & 95 \\\\\n",
      "MED & $\\rightarrow$ &ISO & 2655623539 $\\pm$ 2534138415 & 95 \\\\\n",
      "ILM & $\\rightarrow$ &ISO & 2388278624 $\\pm$ 2279023559 & 95 \\\\\n",
      "GENv & $\\rightarrow$ &ISO & 661003530 $\\pm$ 630765021 & 95 \\\\\n",
      "EPI & $\\rightarrow$ &ISO & 201117644 $\\pm$ 191917242 & 95 \\\\\n",
      "RT & $\\rightarrow$ &ISO & 2590144243 $\\pm$ 2471654559 & 95 \\\\\n"
     ]
    }
   ],
   "source": [
    "for k in THsub:\n",
    "    nuclei={k : [id_to_acronym[i] for i in Unpack(acronym_to_id[k],Substr)\n",
    "          if i in [acronym_to_id[j] for j in Voxel_Structures]]}\n",
    "    Voxel_infoflow(nuclei,Iso_nuclei,92000.0,2.0,1.0,VMacr_to_error,davgfir=1.0,davgenc=0.5,return_mode='source to target',print_Latex_Table=True)\n",
    "Voxel_infoflow({'RT':['RT']},Iso_nuclei,92000.0,2.0,1.0,VMacr_to_error,davgfir=1.0,davgenc=0.5,return_mode='source to target',print_Latex_Table=True)\n",
    "None"
   ]
  },
  {
   "cell_type": "code",
   "execution_count": 460,
   "metadata": {},
   "outputs": [
    {
     "name": "stdout",
     "output_type": "stream",
     "text": [
      "ISO & $\\rightarrow$ &LAT & 3048902266 $\\pm$ 2498240079 & 81 \\\\\n",
      "ISO & $\\rightarrow$ &ATN & 1874500582 $\\pm$ 1535947064 & 81 \\\\\n",
      "ISO & $\\rightarrow$ &MED & 1236798484 $\\pm$ 1013420331 & 81 \\\\\n",
      "ISO & $\\rightarrow$ &ILM & 698809581 $\\pm$ 572597595 & 81 \\\\\n",
      "ISO & $\\rightarrow$ &GENv & 674999876 $\\pm$ 553088160 & 81 \\\\\n",
      "ISO & $\\rightarrow$ &EPI & 104793679 $\\pm$ 85866894 & 81 \\\\\n",
      "ISO & $\\rightarrow$ &RT & 1242653697 $\\pm$ 1018218034 & 81 \\\\\n"
     ]
    }
   ],
   "source": [
    "for k in THsub:\n",
    "    nuclei={k : [id_to_acronym[i] for i in Unpack(acronym_to_id[k],Substr)\n",
    "          if i in [acronym_to_id[j] for j in Voxel_Structures]]}\n",
    "    \n",
    "    abc=Voxel_infoflow(Iso_nuclei,nuclei,92000.0,2.0,1.0,VMacr_to_error,davgfir=1.0,davgenc=0.5,return_mode='source to target',print_Latex_Table=True)\n",
    "abc=Voxel_infoflow(Iso_nuclei,{'RT':['RT']},92000.0,2.0,1.0,VMacr_to_error,davgfir=1.0,davgenc=0.5,return_mode='source to target',print_Latex_Table=True)\n",
    "None"
   ]
  },
  {
   "cell_type": "code",
   "execution_count": null,
   "metadata": {},
   "outputs": [],
   "source": []
  },
  {
   "cell_type": "code",
   "execution_count": null,
   "metadata": {},
   "outputs": [],
   "source": []
  },
  {
   "cell_type": "code",
   "execution_count": null,
   "metadata": {},
   "outputs": [],
   "source": []
  },
  {
   "cell_type": "code",
   "execution_count": null,
   "metadata": {},
   "outputs": [],
   "source": []
  },
  {
   "cell_type": "code",
   "execution_count": null,
   "metadata": {},
   "outputs": [],
   "source": []
  },
  {
   "cell_type": "code",
   "execution_count": null,
   "metadata": {},
   "outputs": [],
   "source": []
  },
  {
   "cell_type": "code",
   "execution_count": null,
   "metadata": {},
   "outputs": [],
   "source": []
  },
  {
   "cell_type": "code",
   "execution_count": null,
   "metadata": {},
   "outputs": [],
   "source": []
  },
  {
   "cell_type": "code",
   "execution_count": null,
   "metadata": {},
   "outputs": [],
   "source": []
  },
  {
   "cell_type": "markdown",
   "metadata": {},
   "source": [
    "Create a list that contains Damasio's Network"
   ]
  },
  {
   "cell_type": "code",
   "execution_count": 41,
   "metadata": {},
   "outputs": [],
   "source": [
    "from collections import Iterable\n",
    "\n",
    "def flatten(lis):\n",
    "    \"\"\"Iterate over an arbitrary dimensional iterable and returns a list containing\n",
    "    all the elements in the list\"\"\"\n",
    "    \n",
    "    for item in lis:\n",
    "        if isinstance(item,Iterable) and not isinstance(item,basestring):\n",
    "            for x in flatten(item):\n",
    "                yield x\n",
    "        else:\n",
    "            yield item\n",
    "\n",
    "    "
   ]
  },
  {
   "cell_type": "code",
   "execution_count": 42,
   "metadata": {},
   "outputs": [],
   "source": [
    "Damasio_Network=[['SCs','SCm'],\n",
    "                ['PB'],\n",
    "                ['NTS'],\n",
    "                ['PAG'],\n",
    "                ['AP'],\n",
    "                ]\n",
    "\n",
    "# add nuclei of the hypothalamus\n",
    "for i in Substr[acronym_to_id['HY']]:\n",
    "    toappend=[str(id_to_acronym[j]) for j in Substr[i]]\n",
    "    Damasio_Network.append(toappend)"
   ]
  },
  {
   "cell_type": "markdown",
   "metadata": {},
   "source": [
    "#### From HY to BS"
   ]
  },
  {
   "cell_type": "code",
   "execution_count": 43,
   "metadata": {},
   "outputs": [],
   "source": [
    "flat_Damasio=list(flatten(Damasio_Network))"
   ]
  },
  {
   "cell_type": "code",
   "execution_count": 44,
   "metadata": {
    "scrolled": true
   },
   "outputs": [
    {
     "data": {
      "text/plain": [
       "['SCs', 'SCm', 'PB', 'NTS', 'PAG', 'AP', 'ADP', 'PVp', 'PVpo', 'VLPO', 'AVP', 'AVPV', 'SCH', 'SFO', 'SBPV', 'MEPO', 'MPO', 'OV', 'DMH', 'PD', 'PS', 'VMPO', 'PVa', 'PVH', 'PVi', 'ARH', 'ASO', 'SO', 'RCH', 'LHA', 'LPO', 'PST', 'PSTN', 'STN', 'TU', 'ZI', 'PeF', 'PVHd', 'AHN', 'MBO', 'MPN', 'VMH', 'PH', 'PMd', 'PMv']"
      ]
     },
     "execution_count": 44,
     "metadata": {},
     "output_type": "execute_result"
    }
   ],
   "source": [
    "flat_Damasio"
   ]
  },
  {
   "cell_type": "code",
   "execution_count": 46,
   "metadata": {},
   "outputs": [],
   "source": [
    "exception_dict={}\n",
    "Damasio_dict={}\n",
    "\n",
    "for i in flat_Damasio[6:]:\n",
    "    for j in flat_Damasio[:6]:\n",
    "        try:\n",
    "            proj=Voxel_connectivity_dict[('ipsi',i)][j]*92000\n",
    "            Damasio_dict[(i,j)]=proj\n",
    "        except:\n",
    "            if i not in exception_dict:\n",
    "                exception_dict[i]=0\n",
    "            else:\n",
    "                exception_dict[i]+=1"
   ]
  },
  {
   "cell_type": "code",
   "execution_count": 47,
   "metadata": {},
   "outputs": [
    {
     "data": {
      "text/plain": [
       "{'PeF': 5, 'MBO': 5, 'VMPO': 5}"
      ]
     },
     "execution_count": 47,
     "metadata": {},
     "output_type": "execute_result"
    }
   ],
   "source": [
    "exception_dict"
   ]
  },
  {
   "cell_type": "code",
   "execution_count": 48,
   "metadata": {},
   "outputs": [],
   "source": [
    "HY_to_BS={}\n",
    "for i in flat_Damasio[:6]:\n",
    "    HY_to_BS[('HY',i)]=0\n",
    "\n",
    "for i in flat_Damasio[6:]:\n",
    "    for j in flat_Damasio[:6]:\n",
    "        if i not in exception_dict.keys():\n",
    "            add=Damasio_dict[(i,j)]\n",
    "            HY_to_BS[('HY',j)]+=add"
   ]
  },
  {
   "cell_type": "code",
   "execution_count": 49,
   "metadata": {},
   "outputs": [
    {
     "data": {
      "text/plain": [
       "['PeF', 'MBO', 'VMPO']"
      ]
     },
     "execution_count": 49,
     "metadata": {},
     "output_type": "execute_result"
    }
   ],
   "source": [
    "exception_dict.keys()"
   ]
  },
  {
   "cell_type": "code",
   "execution_count": 51,
   "metadata": {},
   "outputs": [
    {
     "name": "stdout",
     "output_type": "stream",
     "text": [
      "Pretty printing has been turned ON\n"
     ]
    }
   ],
   "source": [
    "%pprint"
   ]
  },
  {
   "cell_type": "code",
   "execution_count": 73,
   "metadata": {},
   "outputs": [
    {
     "name": "stdout",
     "output_type": "stream",
     "text": [
      "HY & $\\rightarrow$ &SCm & 98010599.8 \\\\\n",
      "HY & $\\rightarrow$ &PAG & 112840524.6 \\\\\n",
      "HY & $\\rightarrow$ &NTS & 2888747.2 \\\\\n",
      "HY & $\\rightarrow$ &SCs & 15164716.9 \\\\\n",
      "HY & $\\rightarrow$ &PB & 35070641.3 \\\\\n",
      "HY & $\\rightarrow$ &AP & 601992.8 \\\\\n"
     ]
    }
   ],
   "source": [
    "for i in HY_to_BS:\n",
    "    print i[0]+\" & $\\\\rightarrow$ &\"+i[1]+\" & \"+str(round(HY_to_BS[i],1))+\" \\\\\\\\\""
   ]
  },
  {
   "cell_type": "markdown",
   "metadata": {},
   "source": [
    "#### From BS to HY"
   ]
  },
  {
   "cell_type": "code",
   "execution_count": 53,
   "metadata": {},
   "outputs": [],
   "source": [
    "exception_dict={}\n",
    "Damasio_dict={}\n",
    "\n",
    "for i in flat_Damasio[:6]:\n",
    "    for j in flat_Damasio[6:]:\n",
    "        try:\n",
    "            proj=Voxel_connectivity_dict[('ipsi',i)][j]*92000\n",
    "            Damasio_dict[(i,j)]=proj\n",
    "        except:\n",
    "            if i not in exception_dict:\n",
    "                exception_dict[j]=0\n",
    "            else:\n",
    "                exception_dict[j]+=1"
   ]
  },
  {
   "cell_type": "code",
   "execution_count": 54,
   "metadata": {
    "scrolled": true
   },
   "outputs": [
    {
     "data": {
      "text/plain": [
       "{('AP', 'ADP'): 312.9441143682925,\n",
       " ('AP', 'AHN'): 5135.985342581989,\n",
       " ('AP', 'ARH'): 3020.6431963597424,\n",
       " ('AP', 'ASO'): 17.178109206724912,\n",
       " ('AP', 'AVP'): 173.4274537739111,\n",
       " ('AP', 'AVPV'): 355.974893682287,\n",
       " ('AP', 'DMH'): 3795.1260693953373,\n",
       " ('AP', 'LHA'): 11433.845429819485,\n",
       " ('AP', 'LPO'): 1416.3174082677872,\n",
       " ('AP', 'MEPO'): 205.06868507163747,\n",
       " ('AP', 'MPN'): 2100.520661333576,\n",
       " ('AP', 'MPO'): 1860.2410752355354,\n",
       " ('AP', 'OV'): 22.933276151889004,\n",
       " ('AP', 'PD'): 57.28061546687968,\n",
       " ('AP', 'PH'): 2095.3289983444847,\n",
       " ('AP', 'PMd'): 587.8298965108115,\n",
       " ('AP', 'PMv'): 1563.8487985997926,\n",
       " ('AP', 'PS'): 310.3679866471793,\n",
       " ('AP', 'PST'): 45.41565314866603,\n",
       " ('AP', 'PSTN'): 336.65115421536024,\n",
       " ('AP', 'PVH'): 1833.1710154307077,\n",
       " ('AP', 'PVHd'): 1210.4691684362479,\n",
       " ('AP', 'PVa'): 19.303322042105716,\n",
       " ('AP', 'PVi'): 588.5014634695835,\n",
       " ('AP', 'PVp'): 790.4466252075508,\n",
       " ('AP', 'PVpo'): 546.6821859154152,\n",
       " ('AP', 'RCH'): 876.9786358170678,\n",
       " ('AP', 'SBPV'): 1063.4426152973904,\n",
       " ('AP', 'SCH'): 332.791831344366,\n",
       " ('AP', 'SFO'): 0.0,\n",
       " ('AP', 'SO'): 109.7724411811214,\n",
       " ('AP', 'STN'): 71.84182619675994,\n",
       " ('AP', 'TU'): 6158.196307020262,\n",
       " ('AP', 'VLPO'): 102.13368322729366,\n",
       " ('AP', 'VMH'): 6150.589356548154,\n",
       " ('AP', 'ZI'): 2473.4750537190844,\n",
       " ('NTS', 'ADP'): 8550.229606218636,\n",
       " ('NTS', 'AHN'): 91669.52390875666,\n",
       " ('NTS', 'ARH'): 36146.464543417096,\n",
       " ('NTS', 'ASO'): 276.75136644393206,\n",
       " ('NTS', 'AVP'): 7238.959515467286,\n",
       " ('NTS', 'AVPV'): 13624.882741365582,\n",
       " ('NTS', 'DMH'): 55635.68610884249,\n",
       " ('NTS', 'LHA'): 407957.3571886868,\n",
       " ('NTS', 'LPO'): 52879.41356981173,\n",
       " ('NTS', 'MEPO'): 5307.608151808381,\n",
       " ('NTS', 'MPN'): 50021.90749766305,\n",
       " ('NTS', 'MPO'): 56984.039957635105,\n",
       " ('NTS', 'OV'): 788.329990580678,\n",
       " ('NTS', 'PD'): 1332.5033383443952,\n",
       " ('NTS', 'PH'): 78387.7365202643,\n",
       " ('NTS', 'PMd'): 14205.066309310498,\n",
       " ('NTS', 'PMv'): 23146.6619153507,\n",
       " ('NTS', 'PS'): 10289.13081996143,\n",
       " ('NTS', 'PST'): 4885.103663429618,\n",
       " ('NTS', 'PSTN'): 55874.07558225095,\n",
       " ('NTS', 'PVH'): 31699.08727519214,\n",
       " ('NTS', 'PVHd'): 21727.419856004417,\n",
       " ('NTS', 'PVa'): 388.4994015097618,\n",
       " ('NTS', 'PVi'): 8567.209037020802,\n",
       " ('NTS', 'PVp'): 10282.45285432786,\n",
       " ('NTS', 'PVpo'): 12696.96064479649,\n",
       " ('NTS', 'RCH'): 13887.843031436205,\n",
       " ('NTS', 'SBPV'): 18965.48893116415,\n",
       " ('NTS', 'SCH'): 6760.612251237035,\n",
       " ('NTS', 'SFO'): 0.0,\n",
       " ('NTS', 'SO'): 3326.8229267559946,\n",
       " ('NTS', 'STN'): 87139.55299556255,\n",
       " ('NTS', 'TU'): 73574.29942116141,\n",
       " ('NTS', 'VLPO'): 5641.719406004996,\n",
       " ('NTS', 'VMH'): 73923.84060658514,\n",
       " ('NTS', 'ZI'): 596918.2868441566,\n",
       " ('PAG', 'ADP'): 1528885.7651948929,\n",
       " ('PAG', 'AHN'): 17392943.52567196,\n",
       " ('PAG', 'ARH'): 9556540.984630585,\n",
       " ('PAG', 'ASO'): 50665.897846221924,\n",
       " ('PAG', 'AVP'): 1496425.079584122,\n",
       " ('PAG', 'AVPV'): 2994784.357905388,\n",
       " ('PAG', 'DMH'): 10884338.387966156,\n",
       " ('PAG', 'LHA'): 47601158.59138966,\n",
       " ('PAG', 'LPO'): 9999826.521158218,\n",
       " ('PAG', 'MEPO'): 1034759.0494155884,\n",
       " ('PAG', 'MPN'): 7967107.422113419,\n",
       " ('PAG', 'MPO'): 10521299.727201464,\n",
       " ('PAG', 'OV'): 176422.23572731015,\n",
       " ('PAG', 'PD'): 189526.31187438965,\n",
       " ('PAG', 'PH'): 12789722.758293152,\n",
       " ('PAG', 'PMd'): 2382040.633320808,\n",
       " ('PAG', 'PMv'): 4348919.14343834,\n",
       " ('PAG', 'PS'): 1911526.5374183657,\n",
       " ('PAG', 'PST'): 302000.4736185074,\n",
       " ('PAG', 'PSTN'): 3443026.728868484,\n",
       " ('PAG', 'PVH'): 3940685.561418533,\n",
       " ('PAG', 'PVHd'): 3200225.4147529607,\n",
       " ('PAG', 'PVa'): 97291.49198532104,\n",
       " ('PAG', 'PVi'): 1843781.4655303953,\n",
       " ('PAG', 'PVp'): 2460015.4256820683,\n",
       " ('PAG', 'PVpo'): 2053027.7210474012,\n",
       " ('PAG', 'RCH'): 3943585.731267929,\n",
       " ('PAG', 'SBPV'): 3459905.7642221455,\n",
       " ('PAG', 'SCH'): 1677008.5576772687,\n",
       " ('PAG', 'SFO'): 0.0,\n",
       " ('PAG', 'SO'): 822074.1647481918,\n",
       " ('PAG', 'STN'): 4351588.847398759,\n",
       " ('PAG', 'TU'): 16321456.94732666,\n",
       " ('PAG', 'VLPO'): 1264672.345042229,\n",
       " ('PAG', 'VMH'): 17451389.38832283,\n",
       " ('PAG', 'ZI'): 50799031.73840047,\n",
       " ('PB', 'ADP'): 66148.21450784802,\n",
       " ('PB', 'AHN'): 499094.23334896564,\n",
       " ('PB', 'ARH'): 195727.82834991813,\n",
       " ('PB', 'ASO'): 1313.8764202594757,\n",
       " ('PB', 'AVP'): 72422.7423965931,\n",
       " ('PB', 'AVPV'): 145271.44773676991,\n",
       " ('PB', 'DMH'): 244168.82520914078,\n",
       " ('PB', 'LHA'): 1774370.7071430979,\n",
       " ('PB', 'LPO'): 445876.0200664401,\n",
       " ('PB', 'MEPO'): 41164.767656475306,\n",
       " ('PB', 'MPN'): 331799.1558238864,\n",
       " ('PB', 'MPO'): 469945.70079445845,\n",
       " ('PB', 'OV'): 8533.384267240763,\n",
       " ('PB', 'PD'): 8079.981252551079,\n",
       " ('PB', 'PH'): 321049.4457203895,\n",
       " ('PB', 'PMd'): 60038.438603281975,\n",
       " ('PB', 'PMv'): 103027.228128165,\n",
       " ('PB', 'PS'): 87622.95993417501,\n",
       " ('PB', 'PST'): 17117.1205714345,\n",
       " ('PB', 'PSTN'): 186822.45828211308,\n",
       " ('PB', 'PVH'): 122798.36528748272,\n",
       " ('PB', 'PVHd'): 81353.3397205174,\n",
       " ('PB', 'PVa'): 2638.5133452713485,\n",
       " ('PB', 'PVi'): 39272.889327257864,\n",
       " ('PB', 'PVp'): 55526.42899006605,\n",
       " ('PB', 'PVpo'): 86217.98452734949,\n",
       " ('PB', 'RCH'): 88823.6702233553,\n",
       " ('PB', 'SBPV'): 99644.0712660551,\n",
       " ('PB', 'SCH'): 46934.976022690535,\n",
       " ('PB', 'SFO'): 0.0,\n",
       " ('PB', 'SO'): 27504.034277051687,\n",
       " ('PB', 'STN'): 366386.86952739954,\n",
       " ('PB', 'TU'): 347985.7976324856,\n",
       " ('PB', 'VLPO'): 60181.177765131,\n",
       " ('PB', 'VMH'): 364122.92657047504,\n",
       " ('PB', 'ZI'): 3796346.819654107,\n",
       " ('SCm', 'ADP'): 72090.86658805609,\n",
       " ('SCm', 'AHN'): 4998376.109361649,\n",
       " ('SCm', 'ARH'): 4168804.5730590825,\n",
       " ('SCm', 'ASO'): 16447.780966758728,\n",
       " ('SCm', 'AVP'): 76851.08333826065,\n",
       " ('SCm', 'AVPV'): 140480.91792315245,\n",
       " ('SCm', 'DMH'): 3661431.7497015,\n",
       " ('SCm', 'LHA'): 16872801.06882751,\n",
       " ('SCm', 'LPO'): 872970.9154218434,\n",
       " ('SCm', 'MEPO'): 42886.95505261421,\n",
       " ('SCm', 'MPN'): 992927.7572259307,\n",
       " ('SCm', 'MPO'): 876358.3005033433,\n",
       " ('SCm', 'OV'): 7549.218136817217,\n",
       " ('SCm', 'PD'): 18237.5920265913,\n",
       " ('SCm', 'PH'): 3429750.6515532727,\n",
       " ('SCm', 'PMd'): 517998.92234802246,\n",
       " ('SCm', 'PMv'): 1174422.915607691,\n",
       " ('SCm', 'PS'): 97828.48167419434,\n",
       " ('SCm', 'PST'): 264665.5342578888,\n",
       " ('SCm', 'PSTN'): 3347936.421096325,\n",
       " ('SCm', 'PVH'): 969907.7825993301,\n",
       " ('SCm', 'PVHd'): 1064391.2375569344,\n",
       " ('SCm', 'PVa'): 32953.05639505387,\n",
       " ('SCm', 'PVi'): 713836.6096019744,\n",
       " ('SCm', 'PVp'): 676793.1082397698,\n",
       " ('SCm', 'PVpo'): 257009.80754196647,\n",
       " ('SCm', 'RCH'): 1562376.9450187683,\n",
       " ('SCm', 'SBPV'): 1035592.290699482,\n",
       " ('SCm', 'SCH'): 548083.2945108415,\n",
       " ('SCm', 'SFO'): 0.0,\n",
       " ('SCm', 'SO'): 166642.33000576496,\n",
       " ('SCm', 'STN'): 8271131.447434425,\n",
       " ('SCm', 'TU'): 6303231.34714365,\n",
       " ('SCm', 'VLPO'): 91447.16725498438,\n",
       " ('SCm', 'VMH'): 7148067.939221859,\n",
       " ('SCm', 'ZI'): 102972582.16905592,\n",
       " ('SCs', 'ADP'): 3374.332720413804,\n",
       " ('SCs', 'AHN'): 150252.18093395233,\n",
       " ('SCs', 'ARH'): 134935.9648432583,\n",
       " ('SCs', 'ASO'): 491.0374060273171,\n",
       " ('SCs', 'AVP'): 3565.915841376409,\n",
       " ('SCs', 'AVPV'): 8504.492121981455,\n",
       " ('SCs', 'DMH'): 122889.37734998764,\n",
       " ('SCs', 'LHA'): 595683.4631771779,\n",
       " ('SCs', 'LPO'): 29164.199572289363,\n",
       " ('SCs', 'MEPO'): 2272.547932923771,\n",
       " ('SCs', 'MPN'): 34411.839498672634,\n",
       " ('SCs', 'MPO'): 33011.10484218225,\n",
       " ('SCs', 'OV'): 537.4668233562261,\n",
       " ('SCs', 'PD'): 668.7160241417587,\n",
       " ('SCs', 'PH'): 141353.12845464796,\n",
       " ('SCs', 'PMd'): 23359.25230383873,\n",
       " ('SCs', 'PMv'): 45612.231570296,\n",
       " ('SCs', 'PS'): 4138.446734286845,\n",
       " ('SCs', 'PST'): 10338.18567916751,\n",
       " ('SCs', 'PSTN'): 122181.88707903028,\n",
       " ('SCs', 'PVH'): 30525.5323369056,\n",
       " ('SCs', 'PVHd'): 33432.60954320431,\n",
       " ('SCs', 'PVa'): 975.9588968008757,\n",
       " ('SCs', 'PVi'): 21752.02791206539,\n",
       " ('SCs', 'PVp'): 28173.627842217684,\n",
       " ('SCs', 'PVpo'): 9248.606420587748,\n",
       " ('SCs', 'RCH'): 46611.52473650873,\n",
       " ('SCs', 'SBPV'): 31095.380156300962,\n",
       " ('SCs', 'SCH'): 16311.391845345497,\n",
       " ('SCs', 'SFO'): 0.0,\n",
       " ('SCs', 'SO'): 4763.955577276648,\n",
       " ('SCs', 'STN'): 284170.9748506546,\n",
       " ('SCs', 'TU'): 202538.409255445,\n",
       " ('SCs', 'VLPO'): 3416.414092527702,\n",
       " ('SCs', 'VMH'): 225485.43574474752,\n",
       " ('SCs', 'ZI'): 2830570.938544348}"
      ]
     },
     "execution_count": 54,
     "metadata": {},
     "output_type": "execute_result"
    }
   ],
   "source": [
    "Damasio_dict"
   ]
  },
  {
   "cell_type": "code",
   "execution_count": 55,
   "metadata": {},
   "outputs": [
    {
     "data": {
      "text/plain": [
       "{'MBO': 0, 'PeF': 0, 'VMPO': 0}"
      ]
     },
     "execution_count": 55,
     "metadata": {},
     "output_type": "execute_result"
    }
   ],
   "source": [
    "exception_dict"
   ]
  },
  {
   "cell_type": "code",
   "execution_count": 56,
   "metadata": {},
   "outputs": [],
   "source": [
    "BS_to_HY={}\n",
    "for i in flat_Damasio[:6]:\n",
    "    BS_to_HY[('BS',i)]=0\n",
    "\n",
    "for i in flat_Damasio[:6]:\n",
    "    for j in flat_Damasio[6:]:\n",
    "        if j not in exception_dict.keys():\n",
    "            add=Damasio_dict[(i,j)]\n",
    "            BS_to_HY[('BS',i)]+=add"
   ]
  },
  {
   "cell_type": "code",
   "execution_count": 57,
   "metadata": {},
   "outputs": [
    {
     "data": {
      "text/plain": [
       "{('BS', 'AP'): 57174.72434903448,\n",
       " ('BS', 'NTS'): 1940701.527778525,\n",
       " ('BS', 'PAG'): 260257660.69746017,\n",
       " ('BS', 'PB'): 10665332.4003499,\n",
       " ('BS', 'SCm'): 173464864.34695125,\n",
       " ('BS', 'SCs'): 5235818.558663945}"
      ]
     },
     "execution_count": 57,
     "metadata": {},
     "output_type": "execute_result"
    }
   ],
   "source": [
    "BS_to_HY"
   ]
  },
  {
   "cell_type": "code",
   "execution_count": 58,
   "metadata": {},
   "outputs": [
    {
     "data": {
      "text/plain": [
       "{('HY', 'AP'): 601992.8089413116,\n",
       " ('HY', 'NTS'): 2888747.214828966,\n",
       " ('HY', 'PAG'): 112840524.61648126,\n",
       " ('HY', 'PB'): 35070641.28208359,\n",
       " ('HY', 'SCm'): 98010599.76085003,\n",
       " ('HY', 'SCs'): 15164716.876646407}"
      ]
     },
     "execution_count": 58,
     "metadata": {},
     "output_type": "execute_result"
    }
   ],
   "source": [
    "HY_to_BS"
   ]
  },
  {
   "cell_type": "markdown",
   "metadata": {},
   "source": [
    "#### error"
   ]
  },
  {
   "cell_type": "code",
   "execution_count": 100,
   "metadata": {},
   "outputs": [],
   "source": [
    "import math"
   ]
  },
  {
   "cell_type": "code",
   "execution_count": 101,
   "metadata": {},
   "outputs": [],
   "source": [
    "dfiring=1/2\n",
    "dencode=0.5/1\n",
    "dreg={'MED':0.34,'PONS':0.52,'MID':0.30,'TH':0.59,'HY':0.28}\n",
    "\n",
    "belong={'SCs':'MID',\n",
    "        'SCm':'MID',\n",
    "        'PB':'PONS',\n",
    "        'NTS':'MED',\n",
    "        'PAG':'MID',\n",
    "        'AP':'MED',\n",
    "        }"
   ]
  },
  {
   "cell_type": "code",
   "execution_count": 165,
   "metadata": {},
   "outputs": [
    {
     "name": "stdout",
     "output_type": "stream",
     "text": [
      "HY & $\\rightarrow$ &SCm & 196021198 $\\pm$ 112332290 & 57 \\\\\n",
      "HY & $\\rightarrow$ &PAG & 225681048 $\\pm$ 129329221 & 57 \\\\\n",
      "HY & $\\rightarrow$ &NTS & 5777494 $\\pm$ 3310861 & 57 \\\\\n",
      "HY & $\\rightarrow$ &SCs & 30329432 $\\pm$ 17380643 & 57 \\\\\n",
      "HY & $\\rightarrow$ &PB & 70141282 $\\pm$ 40195299 & 57 \\\\\n",
      "HY & $\\rightarrow$ &AP & 1203984 $\\pm$ 689957 & 57 \\\\\n"
     ]
    }
   ],
   "source": [
    "for i in HY_to_BS:\n",
    "    error=math.sqrt(0.28**2+dfiring**2+dencode**2)\n",
    "    value=2*int(HY_to_BS[i])\n",
    "    print \"HY\"+\" & $\\\\rightarrow$ &\"+i[1]+\" & \"+str(value)+\" $\\pm$ \"+str(int(value*error))+\" & \"+str(int(100*error))+\" \\\\\\\\\""
   ]
  },
  {
   "cell_type": "code",
   "execution_count": 166,
   "metadata": {},
   "outputs": [
    {
     "name": "stdout",
     "output_type": "stream",
     "text": [
      "SCs & $\\rightarrow$ &HY & 10471636$\\pm$6105960 & 58 \\\\\n",
      "PB & $\\rightarrow$ &HY & 21330664$\\pm$15387675 & 72 \\\\\n",
      "NTS & $\\rightarrow$ &HY & 3881402$\\pm$2346884 & 60 \\\\\n",
      "AP & $\\rightarrow$ &HY & 114348$\\pm$69140 & 60 \\\\\n",
      "PAG & $\\rightarrow$ &HY & 520515320$\\pm$303509979 & 58 \\\\\n",
      "SCm & $\\rightarrow$ &HY & 346929728$\\pm$202293055 & 58 \\\\\n"
     ]
    }
   ],
   "source": [
    "for i in BS_to_HY:\n",
    "    error=math.sqrt(dreg[belong[i[1]]]**2+dfiring**2+dencode**2)\n",
    "    value=2*int(BS_to_HY[i])\n",
    "    print i[1]+\" & $\\\\rightarrow$ &\"+'HY'+\" & \"+str(value)+\"$\\pm$\"+str(int(value*error))+\" & \"+str(int(100*error))+\" \\\\\\\\\""
   ]
  },
  {
   "cell_type": "markdown",
   "metadata": {},
   "source": [
    "## Within BS"
   ]
  },
  {
   "cell_type": "code",
   "execution_count": 62,
   "metadata": {},
   "outputs": [],
   "source": [
    "WithinBS=flat_Damasio[:6]\n",
    "BS_dict={}"
   ]
  },
  {
   "cell_type": "code",
   "execution_count": 75,
   "metadata": {},
   "outputs": [],
   "source": [
    "for i in WithinBS:\n",
    "    for j in WithinBS:\n",
    "        proj=Voxel_connectivity_dict[('ipsi',i)][j]*92000\n",
    "        if i!=j:\n",
    "            BS_dict[(i,j)]=proj"
   ]
  },
  {
   "cell_type": "code",
   "execution_count": 77,
   "metadata": {
    "scrolled": true
   },
   "outputs": [
    {
     "data": {
      "text/plain": [
       "{('AP', 'NTS'): 712244.0012404694,\n",
       " ('AP', 'PAG'): 15497.182208262187,\n",
       " ('AP', 'PB'): 27687.67467410362,\n",
       " ('AP', 'SCm'): 3533.0245365854016,\n",
       " ('AP', 'SCs'): 631.0906367403195,\n",
       " ('NTS', 'AP'): 3309791.162014007,\n",
       " ('NTS', 'PAG'): 636660.5903630842,\n",
       " ('NTS', 'PB'): 1741059.8600879314,\n",
       " ('NTS', 'SCm'): 480307.418823344,\n",
       " ('NTS', 'SCs'): 14382.003381243065,\n",
       " ('PAG', 'AP'): 218175.6619513035,\n",
       " ('PAG', 'NTS'): 2120243.2674914603,\n",
       " ('PAG', 'PB'): 27486981.784284115,\n",
       " ('PAG', 'SCm'): 294961847.85437584,\n",
       " ('PAG', 'SCs'): 61730128.873944275,\n",
       " ('PB', 'AP'): 550905.2445292473,\n",
       " ('PB', 'NTS'): 8617490.158677101,\n",
       " ('PB', 'PAG'): 12451687.776265666,\n",
       " ('PB', 'SCm'): 11463867.496000603,\n",
       " ('PB', 'SCs'): 856972.5450677796,\n",
       " ('SCm', 'AP'): 130501.18985027073,\n",
       " ('SCm', 'NTS'): 979833.6065299809,\n",
       " ('SCm', 'PAG'): 218990470.1816738,\n",
       " ('SCm', 'PB'): 8485686.30076945,\n",
       " ('SCm', 'SCs'): 256443691.5473938,\n",
       " ('SCs', 'AP'): 54578.63790169358,\n",
       " ('SCs', 'NTS'): 247307.53509607166,\n",
       " ('SCs', 'PAG'): 27593840.889549814,\n",
       " ('SCs', 'PB'): 265869.62141189724,\n",
       " ('SCs', 'SCm'): 225018798.1363833}"
      ]
     },
     "execution_count": 77,
     "metadata": {},
     "output_type": "execute_result"
    }
   ],
   "source": [
    "BS_dict"
   ]
  },
  {
   "cell_type": "code",
   "execution_count": null,
   "metadata": {},
   "outputs": [],
   "source": [
    "for i in HY_to_BS:\n",
    "    error=float(0.28**2+dfiring**2+dencode**2)\n",
    "    value=2*int(HY_to_BS[i])\n",
    "    print i+\" & $\\\\rightarrow$ &\"+j+\" & \"+str(value)+\" $\\pm$ \"+str(int(value*error))+\" & \"+str(int(100*error))+\" \\\\\\\\\""
   ]
  },
  {
   "cell_type": "code",
   "execution_count": 122,
   "metadata": {
    "scrolled": true
   },
   "outputs": [
    {
     "name": "stdout",
     "output_type": "stream",
     "text": [
      "AP & $\\rightarrow$ &NTS & 1424488 $\\pm$ 861314 & 60 \\\\\n",
      "AP & $\\rightarrow$ &PAG & 30994 $\\pm$ 18740 & 60 \\\\\n",
      "AP & $\\rightarrow$ &PB & 55374 $\\pm$ 33481 & 60 \\\\\n",
      "AP & $\\rightarrow$ &SCm & 7066 $\\pm$ 4272 & 60 \\\\\n",
      "AP & $\\rightarrow$ &SCs & 1262 $\\pm$ 763 & 60 \\\\\n",
      "NTS & $\\rightarrow$ &AP & 6619582 $\\pm$ 4002521 & 60 \\\\\n",
      "NTS & $\\rightarrow$ &PAG & 1273320 $\\pm$ 769911 & 60 \\\\\n",
      "NTS & $\\rightarrow$ &PB & 3482118 $\\pm$ 2105457 & 60 \\\\\n",
      "NTS & $\\rightarrow$ &SCm & 960614 $\\pm$ 580833 & 60 \\\\\n",
      "NTS & $\\rightarrow$ &SCs & 28764 $\\pm$ 17392 & 60 \\\\\n",
      "PAG & $\\rightarrow$ &AP & 436350 $\\pm$ 254433 & 58 \\\\\n",
      "PAG & $\\rightarrow$ &NTS & 4240486 $\\pm$ 2472606 & 58 \\\\\n",
      "PAG & $\\rightarrow$ &PB & 54973962 $\\pm$ 32055052 & 58 \\\\\n",
      "PAG & $\\rightarrow$ &SCm & 589923694 $\\pm$ 343981668 & 58 \\\\\n",
      "PAG & $\\rightarrow$ &SCs & 123460256 $\\pm$ 71989081 & 58 \\\\\n",
      "PB & $\\rightarrow$ &AP & 1101810 $\\pm$ 794832 & 72 \\\\\n",
      "PB & $\\rightarrow$ &NTS & 17234980 $\\pm$ 12433100 & 72 \\\\\n",
      "PB & $\\rightarrow$ &PAG & 24903374 $\\pm$ 17964984 & 72 \\\\\n",
      "PB & $\\rightarrow$ &SCm & 22927734 $\\pm$ 16539781 & 72 \\\\\n",
      "PB & $\\rightarrow$ &SCs & 1713944 $\\pm$ 1236417 & 72 \\\\\n",
      "SCm & $\\rightarrow$ &AP & 261002 $\\pm$ 152189 & 58 \\\\\n",
      "SCm & $\\rightarrow$ &NTS & 1959666 $\\pm$ 1142671 & 58 \\\\\n",
      "SCm & $\\rightarrow$ &PAG & 437980940 $\\pm$ 255384579 & 58 \\\\\n",
      "SCm & $\\rightarrow$ &PB & 16971372 $\\pm$ 9895925 & 58 \\\\\n",
      "SCm & $\\rightarrow$ &SCs & 512887382 $\\pm$ 299062165 & 58 \\\\\n",
      "SCs & $\\rightarrow$ &AP & 109156 $\\pm$ 63648 & 58 \\\\\n",
      "SCs & $\\rightarrow$ &NTS & 494614 $\\pm$ 288407 & 58 \\\\\n",
      "SCs & $\\rightarrow$ &PAG & 55187680 $\\pm$ 32179670 & 58 \\\\\n",
      "SCs & $\\rightarrow$ &PB & 531738 $\\pm$ 310053 & 58 \\\\\n",
      "SCs & $\\rightarrow$ &SCm & 450037596 $\\pm$ 262414757 & 58 \\\\\n"
     ]
    }
   ],
   "source": [
    "tlist=['AP','NTS','PAG','PB','SCm','SCs']\n",
    "for i in tlist:\n",
    "    for j in tlist:\n",
    "        if i!=j:\n",
    "            error=math.sqrt(dreg[belong[i]]**2+dfiring**2+dencode**2)\n",
    "            value=2*int(BS_dict[(i,j)])\n",
    "            print i+\" & $\\\\rightarrow$ &\"+j+\" & \"+str(value)+\" $\\pm$ \"+str(int(value*error))+\" & \"+str(int(100*error))+   \" \\\\\\\\\""
   ]
  },
  {
   "cell_type": "markdown",
   "metadata": {},
   "source": [
    "## Between CTX and HypoBS"
   ]
  },
  {
   "cell_type": "markdown",
   "metadata": {},
   "source": [
    "We want to be able to create a table of information flow in terms of 'large' cortical regions, such as VIS, AUD etc. So we need a way to manage that. \n",
    "\n",
    "The previously defined Substr and Unpack may come in handy here\n",
    "\n"
   ]
  },
  {
   "cell_type": "code",
   "execution_count": 131,
   "metadata": {},
   "outputs": [
    {
     "data": {
      "text/plain": [
       "(293, 8)"
      ]
     },
     "execution_count": 131,
     "metadata": {},
     "output_type": "execute_result"
    }
   ],
   "source": [
    "Voxel_structures.shape"
   ]
  },
  {
   "cell_type": "code",
   "execution_count": 180,
   "metadata": {},
   "outputs": [],
   "source": [
    "def Cortical_HYBS_map(ctx_region,target):\n",
    "    \"\"\"Calculates the Projection sum from the specific cortical regions into the BS or the HyThalamus\n",
    "    args:\n",
    "        ctx_region(basestring): id of the structure\n",
    "        target(basestring): id of the target structure\"\"\"\n",
    "    \n",
    "    source=[id_to_acronym[i] for i in Unpack(acronym_to_id[ctx_region],Substr,include_self=False)] \n",
    "            #list of id\n",
    "    \n",
    "    #if it has no substructure\n",
    "    #if len(source)==0:\n",
    "    #    source=Unpack(ctx_region,Substr,include_self=True)\n",
    "    \n",
    "    Voxel_source=[]\n",
    "    for i in source:\n",
    "        if i in list(Voxel_structures['acronym']):\n",
    "            Voxel_source.append(i)\n",
    "    \n",
    "    ret=0\n",
    "    for i in Voxel_source:\n",
    "        ret+=Voxel_connectivity_dict[('ipsi',i)][target]*92000\n",
    "    return ret\n",
    "    "
   ]
  },
  {
   "cell_type": "code",
   "execution_count": 181,
   "metadata": {},
   "outputs": [],
   "source": [
    "CTX_regions=['AUD','VIS','MO','SS','ACA','ORB','AI','RSP','PTLp']\n",
    "BS_nuclei=['SCs', 'SCm','PB','NTS','PAG','AP']\n",
    "\n",
    "CTX_to_BS_nuclei={}\n",
    "for i in BS_nuclei:\n",
    "    CTX_to_BS_nuclei[i]=0\n",
    "    \n",
    "sum_me=0\n",
    "for i in BS_nuclei:\n",
    "    for j in CTX_regions:\n",
    "        addme=Cortical_HYBS_map(j,i)\n",
    "        sum_me+=addme\n",
    "    CTX_to_BS_nuclei[i]=sum_me\n",
    "    sum_me=0"
   ]
  },
  {
   "cell_type": "code",
   "execution_count": 135,
   "metadata": {},
   "outputs": [
    {
     "data": {
      "text/plain": [
       "{'AP': 565280.6168194802,\n",
       " 'NTS': 3127679.3021562,\n",
       " 'PAG': 7156091.618768791,\n",
       " 'PB': 2035798.1088416118,\n",
       " 'SCm': 23363330.75415419,\n",
       " 'SCs': 15872781.214532183}"
      ]
     },
     "execution_count": 135,
     "metadata": {},
     "output_type": "execute_result"
    }
   ],
   "source": [
    "CTX_to_BS_nuclei"
   ]
  },
  {
   "cell_type": "code",
   "execution_count": 169,
   "metadata": {},
   "outputs": [
    {
     "name": "stdout",
     "output_type": "stream",
     "text": [
      "ISO & $\\rightarrow$ &SCm & 46726660 $\\pm$ 27993130 & 59 \\\\\n",
      "ISO & $\\rightarrow$ &NTS & 6255358 $\\pm$ 3747476 & 59 \\\\\n",
      "ISO & $\\rightarrow$ &PB & 4071596 $\\pm$ 2439222 & 59 \\\\\n",
      "ISO & $\\rightarrow$ &AP & 1130560 $\\pm$ 677298 & 59 \\\\\n",
      "ISO & $\\rightarrow$ &PAG & 14312182 $\\pm$ 8574179 & 59 \\\\\n",
      "ISO & $\\rightarrow$ &SCs & 31745562 $\\pm$ 19018214 & 59 \\\\\n"
     ]
    }
   ],
   "source": [
    "for i in CTX_to_BS_nuclei:\n",
    "    error=math.sqrt(0.33**2+dfiring**2+dencode**2)\n",
    "    value=2*int(CTX_to_BS_nuclei[i])\n",
    "    print \"ISO\"+\" & $\\\\rightarrow$ &\"+i+\" & \"+str(value)+\" $\\pm$ \"+str(int(value*error))+\" & \"+str(int(100*error))+\" \\\\\\\\\""
   ]
  },
  {
   "cell_type": "code",
   "execution_count": 177,
   "metadata": {
    "scrolled": true
   },
   "outputs": [
    {
     "data": {
      "text/plain": [
       "[856,\n",
       " 51,\n",
       " 189,\n",
       " 575,\n",
       " 599,\n",
       " 907,\n",
       " 930,\n",
       " 560581563,\n",
       " 138,\n",
       " 218,\n",
       " 325,\n",
       " 1020,\n",
       " 1029,\n",
       " 560581551,\n",
       " 239,\n",
       " 64,\n",
       " 127,\n",
       " 1096,\n",
       " 1104,\n",
       " 155,\n",
       " 255,\n",
       " 1113,\n",
       " 1120,\n",
       " 262,\n",
       " 444,\n",
       " 59,\n",
       " 362,\n",
       " 366,\n",
       " 1077,\n",
       " 571,\n",
       " 15,\n",
       " 149,\n",
       " 181,\n",
       " 560581559,\n",
       " 958,\n",
       " 186,\n",
       " 483,\n",
       " 1014,\n",
       " 27,\n",
       " 178,\n",
       " 321,\n",
       " 563807439,\n",
       " 864,\n",
       " 406,\n",
       " 414,\n",
       " 422,\n",
       " 609,\n",
       " 637,\n",
       " 685,\n",
       " 563807435,\n",
       " 629,\n",
       " 709,\n",
       " 718,\n",
       " 725,\n",
       " 733,\n",
       " 741,\n",
       " 1008,\n",
       " 170,\n",
       " 496345664,\n",
       " 496345668,\n",
       " 496345672,\n",
       " 475,\n",
       " 1072,\n",
       " 1079,\n",
       " 1088,\n",
       " 1044]"
      ]
     },
     "execution_count": 177,
     "metadata": {},
     "output_type": "execute_result"
    }
   ],
   "source": [
    "Unpack(acronym_to_id['TH'],Substr)"
   ]
  },
  {
   "cell_type": "markdown",
   "metadata": {},
   "source": [
    "CTX into HYpothalamus"
   ]
  },
  {
   "cell_type": "code",
   "execution_count": 344,
   "metadata": {},
   "outputs": [
    {
     "data": {
      "text/plain": [
       "129265943.04776353"
      ]
     },
     "execution_count": 344,
     "metadata": {},
     "output_type": "execute_result"
    }
   ],
   "source": [
    "sum(CTX_to_HY_nuclei.values())"
   ]
  },
  {
   "cell_type": "code",
   "execution_count": null,
   "metadata": {},
   "outputs": [],
   "source": []
  },
  {
   "cell_type": "code",
   "execution_count": 182,
   "metadata": {},
   "outputs": [
    {
     "ename": "KeyError",
     "evalue": "u'DORpm'",
     "output_type": "error",
     "traceback": [
      "\u001b[1;31m---------------------------------------------------------------------------\u001b[0m",
      "\u001b[1;31mKeyError\u001b[0m                                  Traceback (most recent call last)",
      "\u001b[1;32m<ipython-input-182-f96a986ecd9d>\u001b[0m in \u001b[0;36m<module>\u001b[1;34m()\u001b[0m\n\u001b[0;32m     13\u001b[0m     \u001b[1;32mfor\u001b[0m \u001b[0mj\u001b[0m \u001b[1;32min\u001b[0m \u001b[0mCTX_regions\u001b[0m\u001b[1;33m:\u001b[0m\u001b[1;33m\u001b[0m\u001b[0m\n\u001b[0;32m     14\u001b[0m         \u001b[1;32mif\u001b[0m \u001b[0mi\u001b[0m \u001b[1;32mnot\u001b[0m \u001b[1;32min\u001b[0m \u001b[0mexception_list\u001b[0m\u001b[1;33m:\u001b[0m\u001b[1;33m\u001b[0m\u001b[0m\n\u001b[1;32m---> 15\u001b[1;33m             \u001b[0maddme\u001b[0m\u001b[1;33m=\u001b[0m\u001b[0mCortical_HYBS_map\u001b[0m\u001b[1;33m(\u001b[0m\u001b[0mj\u001b[0m\u001b[1;33m,\u001b[0m\u001b[0mi\u001b[0m\u001b[1;33m)\u001b[0m\u001b[1;33m\u001b[0m\u001b[0m\n\u001b[0m\u001b[0;32m     16\u001b[0m             \u001b[0msum_me\u001b[0m\u001b[1;33m+=\u001b[0m\u001b[0maddme\u001b[0m\u001b[1;33m\u001b[0m\u001b[0m\n\u001b[0;32m     17\u001b[0m         \u001b[1;32melse\u001b[0m\u001b[1;33m:\u001b[0m\u001b[1;33m\u001b[0m\u001b[0m\n",
      "\u001b[1;32m<ipython-input-180-c3f4f9aacede>\u001b[0m in \u001b[0;36mCortical_HYBS_map\u001b[1;34m(ctx_region, target)\u001b[0m\n\u001b[0;32m     19\u001b[0m     \u001b[0mret\u001b[0m\u001b[1;33m=\u001b[0m\u001b[1;36m0\u001b[0m\u001b[1;33m\u001b[0m\u001b[0m\n\u001b[0;32m     20\u001b[0m     \u001b[1;32mfor\u001b[0m \u001b[0mi\u001b[0m \u001b[1;32min\u001b[0m \u001b[0mVoxel_source\u001b[0m\u001b[1;33m:\u001b[0m\u001b[1;33m\u001b[0m\u001b[0m\n\u001b[1;32m---> 21\u001b[1;33m         \u001b[0mret\u001b[0m\u001b[1;33m+=\u001b[0m\u001b[0mVoxel_connectivity_dict\u001b[0m\u001b[1;33m[\u001b[0m\u001b[1;33m(\u001b[0m\u001b[1;34m'ipsi'\u001b[0m\u001b[1;33m,\u001b[0m\u001b[0mi\u001b[0m\u001b[1;33m)\u001b[0m\u001b[1;33m]\u001b[0m\u001b[1;33m[\u001b[0m\u001b[0mtarget\u001b[0m\u001b[1;33m]\u001b[0m\u001b[1;33m*\u001b[0m\u001b[1;36m92000\u001b[0m\u001b[1;33m\u001b[0m\u001b[0m\n\u001b[0m\u001b[0;32m     22\u001b[0m     \u001b[1;32mreturn\u001b[0m \u001b[0mret\u001b[0m\u001b[1;33m\u001b[0m\u001b[0m\n\u001b[0;32m     23\u001b[0m \u001b[1;33m\u001b[0m\u001b[0m\n",
      "\u001b[1;32mC:\\Users\\Chris OBrien\\AppData\\Local\\conda\\conda\\envs\\p2\\lib\\site-packages\\pandas\\core\\series.pyc\u001b[0m in \u001b[0;36m__getitem__\u001b[1;34m(self, key)\u001b[0m\n\u001b[0;32m    764\u001b[0m         \u001b[0mkey\u001b[0m \u001b[1;33m=\u001b[0m \u001b[0mcom\u001b[0m\u001b[1;33m.\u001b[0m\u001b[0m_apply_if_callable\u001b[0m\u001b[1;33m(\u001b[0m\u001b[0mkey\u001b[0m\u001b[1;33m,\u001b[0m \u001b[0mself\u001b[0m\u001b[1;33m)\u001b[0m\u001b[1;33m\u001b[0m\u001b[0m\n\u001b[0;32m    765\u001b[0m         \u001b[1;32mtry\u001b[0m\u001b[1;33m:\u001b[0m\u001b[1;33m\u001b[0m\u001b[0m\n\u001b[1;32m--> 766\u001b[1;33m             \u001b[0mresult\u001b[0m \u001b[1;33m=\u001b[0m \u001b[0mself\u001b[0m\u001b[1;33m.\u001b[0m\u001b[0mindex\u001b[0m\u001b[1;33m.\u001b[0m\u001b[0mget_value\u001b[0m\u001b[1;33m(\u001b[0m\u001b[0mself\u001b[0m\u001b[1;33m,\u001b[0m \u001b[0mkey\u001b[0m\u001b[1;33m)\u001b[0m\u001b[1;33m\u001b[0m\u001b[0m\n\u001b[0m\u001b[0;32m    767\u001b[0m \u001b[1;33m\u001b[0m\u001b[0m\n\u001b[0;32m    768\u001b[0m             \u001b[1;32mif\u001b[0m \u001b[1;32mnot\u001b[0m \u001b[0mis_scalar\u001b[0m\u001b[1;33m(\u001b[0m\u001b[0mresult\u001b[0m\u001b[1;33m)\u001b[0m\u001b[1;33m:\u001b[0m\u001b[1;33m\u001b[0m\u001b[0m\n",
      "\u001b[1;32mC:\\Users\\Chris OBrien\\AppData\\Local\\conda\\conda\\envs\\p2\\lib\\site-packages\\pandas\\core\\indexes\\base.pyc\u001b[0m in \u001b[0;36mget_value\u001b[1;34m(self, series, key)\u001b[0m\n\u001b[0;32m   3115\u001b[0m                     \u001b[1;32mraise\u001b[0m \u001b[0mInvalidIndexError\u001b[0m\u001b[1;33m(\u001b[0m\u001b[0mkey\u001b[0m\u001b[1;33m)\u001b[0m\u001b[1;33m\u001b[0m\u001b[0m\n\u001b[0;32m   3116\u001b[0m                 \u001b[1;32melse\u001b[0m\u001b[1;33m:\u001b[0m\u001b[1;33m\u001b[0m\u001b[0m\n\u001b[1;32m-> 3117\u001b[1;33m                     \u001b[1;32mraise\u001b[0m \u001b[0me1\u001b[0m\u001b[1;33m\u001b[0m\u001b[0m\n\u001b[0m\u001b[0;32m   3118\u001b[0m             \u001b[1;32mexcept\u001b[0m \u001b[0mException\u001b[0m\u001b[1;33m:\u001b[0m  \u001b[1;31m# pragma: no cover\u001b[0m\u001b[1;33m\u001b[0m\u001b[0m\n\u001b[0;32m   3119\u001b[0m                 \u001b[1;32mraise\u001b[0m \u001b[0me1\u001b[0m\u001b[1;33m\u001b[0m\u001b[0m\n",
      "\u001b[1;31mKeyError\u001b[0m: u'DORpm'"
     ]
    }
   ],
   "source": [
    "CTX_regions=['AUD','VIS','MO','SS','ACA','ORB','AI','RSP','PTLp']\n",
    "HY_nuclei=flat_Damasio[6:]\n",
    "\n",
    "exception_list=['VMPO','PeF','MBO']\n",
    "\n",
    "\n",
    "CTX_to_HY_nuclei={}\n",
    "for i in HY_nuclei:\n",
    "    CTX_to_HY_nuclei[i]=0\n",
    "    \n",
    "sum_me=0\n",
    "for i in HY_nuclei:\n",
    "    for j in CTX_regions:\n",
    "        if i not in exception_list:\n",
    "            addme=Cortical_HYBS_map(j,i)\n",
    "            sum_me+=addme\n",
    "        else:\n",
    "            None\n",
    "    CTX_to_HY_nuclei[i]=sum_me\n",
    "    sum_me=0"
   ]
  },
  {
   "cell_type": "code",
   "execution_count": null,
   "metadata": {},
   "outputs": [],
   "source": []
  },
  {
   "cell_type": "code",
   "execution_count": 129,
   "metadata": {},
   "outputs": [
    {
     "data": {
      "text/plain": [
       "RangeIndex(start=0, stop=293, step=1)"
      ]
     },
     "execution_count": 129,
     "metadata": {},
     "output_type": "execute_result"
    }
   ],
   "source": [
    "Voxel_structures=pd.DataFrame(structure_tree.get_structures_by_set_id([687527945]))\n",
    "Voxel_structures[Voxel_structures=='fiber tracts'].index"
   ]
  },
  {
   "cell_type": "markdown",
   "metadata": {},
   "source": [
    "Recall that we need to remove fiber tracts and ENTmv. So cleam em up"
   ]
  },
  {
   "cell_type": "markdown",
   "metadata": {},
   "source": [
    "#### BS to TH"
   ]
  },
  {
   "cell_type": "code",
   "execution_count": 141,
   "metadata": {},
   "outputs": [
    {
     "data": {
      "text/plain": [
       "[856, 864]"
      ]
     },
     "execution_count": 141,
     "metadata": {},
     "output_type": "execute_result"
    }
   ],
   "source": [
    "Substr[acronym_to_id['TH']]"
   ]
  },
  {
   "cell_type": "code",
   "execution_count": 142,
   "metadata": {},
   "outputs": [
    {
     "data": {
      "text/plain": [
       "[856,\n",
       " 51,\n",
       " 189,\n",
       " 575,\n",
       " 599,\n",
       " 907,\n",
       " 930,\n",
       " 560581563,\n",
       " 138,\n",
       " 218,\n",
       " 325,\n",
       " 1020,\n",
       " 1029,\n",
       " 560581551,\n",
       " 239,\n",
       " 64,\n",
       " 127,\n",
       " 1096,\n",
       " 1104,\n",
       " 155,\n",
       " 255,\n",
       " 1113,\n",
       " 1120,\n",
       " 262,\n",
       " 444,\n",
       " 59,\n",
       " 362,\n",
       " 366,\n",
       " 1077,\n",
       " 571,\n",
       " 15,\n",
       " 149,\n",
       " 181,\n",
       " 560581559,\n",
       " 958,\n",
       " 186,\n",
       " 483,\n",
       " 1014,\n",
       " 27,\n",
       " 178,\n",
       " 321,\n",
       " 563807439,\n",
       " 864,\n",
       " 406,\n",
       " 414,\n",
       " 422,\n",
       " 609,\n",
       " 637,\n",
       " 685,\n",
       " 563807435,\n",
       " 629,\n",
       " 709,\n",
       " 718,\n",
       " 725,\n",
       " 733,\n",
       " 741,\n",
       " 1008,\n",
       " 170,\n",
       " 496345664,\n",
       " 496345668,\n",
       " 496345672,\n",
       " 475,\n",
       " 1072,\n",
       " 1079,\n",
       " 1088,\n",
       " 1044]"
      ]
     },
     "execution_count": 142,
     "metadata": {},
     "output_type": "execute_result"
    }
   ],
   "source": [
    "Unpack(acronym_to_id['TH'],Substr)"
   ]
  },
  {
   "cell_type": "code",
   "execution_count": 143,
   "metadata": {},
   "outputs": [],
   "source": [
    "Damasio_Network=[['SCs','SCm'],\n",
    "                ['PB'],\n",
    "                ['NTS'],\n",
    "                ['PAG'],\n",
    "                ['AP'],\n",
    "                ]\n",
    "Damasio_Network=Damasio_Network+[id_to_acronym[i] for i in Unpack(acronym_to_id['TH'],Substr)]\n",
    "#for i in Substr[acronym_to_id['TH']]:\n",
    "#    toappend=[str(id_to_acronym[j]) for j in Substr[i]]\n",
    "#    Damasio_Network.append(toappend)"
   ]
  },
  {
   "cell_type": "code",
   "execution_count": 146,
   "metadata": {},
   "outputs": [],
   "source": [
    "exception_dict={}\n",
    "Damasio_dict={}\n",
    "\n",
    "for i in flat_Damasio[:6]:\n",
    "    for j in flat_Damasio[6:]:\n",
    "        try:\n",
    "            proj=Voxel_connectivity_dict[('ipsi',i)][j]*92000\n",
    "            Damasio_dict[(i,j)]=proj\n",
    "        except:\n",
    "            if i not in exception_dict:\n",
    "                exception_dict[j]=0\n",
    "            else:\n",
    "                exception_dict[j]+=1"
   ]
  },
  {
   "cell_type": "code",
   "execution_count": 148,
   "metadata": {},
   "outputs": [],
   "source": [
    "BS_to_TH={}\n",
    "for i in flat_Damasio[:6]:\n",
    "    BS_to_TH[('BS',i)]=0\n",
    "\n",
    "for i in flat_Damasio[:6]:\n",
    "    for j in flat_Damasio[6:]:\n",
    "        if j not in exception_dict.keys():\n",
    "            add=Damasio_dict[(i,j)]\n",
    "            BS_to_TH[('BS',i)]+=add"
   ]
  },
  {
   "cell_type": "code",
   "execution_count": 149,
   "metadata": {},
   "outputs": [
    {
     "data": {
      "text/plain": [
       "{('BS', 'AP'): 12460.166371123903,\n",
       " ('BS', 'NTS'): 29654.919629143642,\n",
       " ('BS', 'PAG'): 34568154.08296166,\n",
       " ('BS', 'PB'): 1141972.0820060587,\n",
       " ('BS', 'SCm'): 23268523.906333372,\n",
       " ('BS', 'SCs'): 6760251.82519597}"
      ]
     },
     "execution_count": 149,
     "metadata": {},
     "output_type": "execute_result"
    }
   ],
   "source": [
    "BS_to_TH"
   ]
  },
  {
   "cell_type": "code",
   "execution_count": 374,
   "metadata": {},
   "outputs": [
    {
     "name": "stdout",
     "output_type": "stream",
     "text": [
      "Pretty printing has been turned ON\n"
     ]
    },
    {
     "data": {
      "text/plain": [
       "{('BS', 'AP'): 12460.166371123903,\n",
       " ('BS', 'NTS'): 29654.919629143642,\n",
       " ('BS', 'PAG'): 34568154.08296166,\n",
       " ('BS', 'PB'): 1141972.0820060587,\n",
       " ('BS', 'SCm'): 23268523.906333372,\n",
       " ('BS', 'SCs'): 6760251.82519597}"
      ]
     },
     "execution_count": 374,
     "metadata": {},
     "output_type": "execute_result"
    }
   ],
   "source": [
    "\n",
    "BS_to_TH"
   ]
  },
  {
   "cell_type": "code",
   "execution_count": 170,
   "metadata": {},
   "outputs": [
    {
     "name": "stdout",
     "output_type": "stream",
     "text": [
      "SCs & $\\rightarrow$ &TH & 13520502 $\\pm$ 7883739 & 58 \\\\\n",
      "PB & $\\rightarrow$ &TH & 2283944 $\\pm$ 1647608 & 72 \\\\\n",
      "NTS & $\\rightarrow$ &TH & 59308 $\\pm$ 35860 & 60 \\\\\n",
      "AP & $\\rightarrow$ &TH & 24920 $\\pm$ 15067 & 60 \\\\\n",
      "PAG & $\\rightarrow$ &TH & 69136308 $\\pm$ 40313048 & 58 \\\\\n",
      "SCm & $\\rightarrow$ &TH & 46537046 $\\pm$ 27135527 & 58 \\\\\n"
     ]
    }
   ],
   "source": [
    "for i in BS_to_TH:\n",
    "    error=math.sqrt(dreg[belong[i[1]]]**2+dfiring**2+dencode**2)\n",
    "    value=2*int(BS_to_TH[i])\n",
    "    print i[1]+\" & $\\\\rightarrow$ &\"+'TH'+\" & \"+str(value)+\" $\\pm$ \"+str(int(value*error))+\" & \"+str(int(100*error))+\" \\\\\\\\\""
   ]
  },
  {
   "cell_type": "code",
   "execution_count": null,
   "metadata": {},
   "outputs": [],
   "source": []
  },
  {
   "cell_type": "markdown",
   "metadata": {},
   "source": [
    "#### TH to BS"
   ]
  },
  {
   "cell_type": "code",
   "execution_count": 171,
   "metadata": {},
   "outputs": [],
   "source": [
    "exception_dict={}\n",
    "Damasio_dict={}\n",
    "\n",
    "for i in flat_Damasio[6:]:\n",
    "    for j in flat_Damasio[:6]:\n",
    "        try:\n",
    "            proj=Voxel_connectivity_dict[('ipsi',i)][j]*92000\n",
    "            Damasio_dict[(i,j)]=proj\n",
    "        except:\n",
    "            if i not in exception_dict:\n",
    "                exception_dict[i]=0\n",
    "            else:\n",
    "                exception_dict[i]+=1"
   ]
  },
  {
   "cell_type": "code",
   "execution_count": null,
   "metadata": {},
   "outputs": [],
   "source": []
  },
  {
   "cell_type": "code",
   "execution_count": 172,
   "metadata": {},
   "outputs": [],
   "source": [
    "TH_to_BS={}\n",
    "for i in flat_Damasio[:6]:\n",
    "    TH_to_BS[('TH',i)]=0\n",
    "\n",
    "for i in flat_Damasio[6:]:\n",
    "    for j in flat_Damasio[:6]:\n",
    "        if i not in exception_dict.keys():\n",
    "            add=Damasio_dict[(i,j)]\n",
    "            TH_to_BS[('TH',j)]+=add"
   ]
  },
  {
   "cell_type": "code",
   "execution_count": 173,
   "metadata": {},
   "outputs": [
    {
     "data": {
      "text/plain": [
       "{('TH', 'AP'): 679336.9869890029,\n",
       " ('TH', 'NTS'): 3525164.047008895,\n",
       " ('TH', 'PAG'): 138277715.4782364,\n",
       " ('TH', 'PB'): 22941761.250838745,\n",
       " ('TH', 'SCm'): 328942051.553909,\n",
       " ('TH', 'SCs'): 144937342.76368484}"
      ]
     },
     "execution_count": 173,
     "metadata": {},
     "output_type": "execute_result"
    }
   ],
   "source": [
    "TH_to_BS"
   ]
  },
  {
   "cell_type": "code",
   "execution_count": 174,
   "metadata": {},
   "outputs": [
    {
     "name": "stdout",
     "output_type": "stream",
     "text": [
      "TH & $\\rightarrow$ &PAG & 276555430 $\\pm$ 213879466 & 77 \\\\\n",
      "TH & $\\rightarrow$ &AP & 1358672 $\\pm$ 1050755 & 77 \\\\\n",
      "TH & $\\rightarrow$ &PB & 45883522 $\\pm$ 35484905 & 77 \\\\\n",
      "TH & $\\rightarrow$ &NTS & 7050328 $\\pm$ 5452506 & 77 \\\\\n",
      "TH & $\\rightarrow$ &SCm & 657884102 $\\pm$ 508787335 & 77 \\\\\n",
      "TH & $\\rightarrow$ &SCs & 289874684 $\\pm$ 224180167 & 77 \\\\\n"
     ]
    }
   ],
   "source": [
    "for i in TH_to_BS:\n",
    "    error=math.sqrt(0.59**2+dfiring**2+dencode**2)\n",
    "    value=2*int(TH_to_BS[i])\n",
    "    print \"TH\"+\" & $\\\\rightarrow$ &\"+str(i[1])+\" & \"+str(value)+\" $\\pm$ \"+str(int(value*error))+\" & \"+str(int(100*error))+\" \\\\\\\\\""
   ]
  },
  {
   "cell_type": "code",
   "execution_count": null,
   "metadata": {},
   "outputs": [],
   "source": []
  },
  {
   "cell_type": "code",
   "execution_count": null,
   "metadata": {},
   "outputs": [],
   "source": []
  },
  {
   "cell_type": "code",
   "execution_count": null,
   "metadata": {},
   "outputs": [],
   "source": []
  },
  {
   "cell_type": "code",
   "execution_count": null,
   "metadata": {},
   "outputs": [],
   "source": []
  },
  {
   "cell_type": "code",
   "execution_count": null,
   "metadata": {},
   "outputs": [],
   "source": []
  },
  {
   "cell_type": "code",
   "execution_count": null,
   "metadata": {},
   "outputs": [],
   "source": []
  },
  {
   "cell_type": "markdown",
   "metadata": {},
   "source": [
    "#### Clean em up"
   ]
  },
  {
   "cell_type": "code",
   "execution_count": 128,
   "metadata": {},
   "outputs": [
    {
     "ename": "NameError",
     "evalue": "name 'Voxel_structures' is not defined",
     "output_type": "error",
     "traceback": [
      "\u001b[1;31m---------------------------------------------------------------------------\u001b[0m",
      "\u001b[1;31mNameError\u001b[0m                                 Traceback (most recent call last)",
      "\u001b[1;32m<ipython-input-128-25d5683957cf>\u001b[0m in \u001b[0;36m<module>\u001b[1;34m()\u001b[0m\n\u001b[1;32m----> 1\u001b[1;33m \u001b[0mindexfinder\u001b[0m\u001b[1;33m=\u001b[0m\u001b[0mVoxel_structures\u001b[0m\u001b[1;33m[\u001b[0m\u001b[1;34m'acronym'\u001b[0m\u001b[1;33m]\u001b[0m\u001b[1;33m\u001b[0m\u001b[0m\n\u001b[0m\u001b[0;32m      2\u001b[0m \u001b[0mindexfinder\u001b[0m\u001b[1;33m[\u001b[0m\u001b[0mindexfinder\u001b[0m\u001b[1;33m==\u001b[0m\u001b[1;34m'fiber tracts'\u001b[0m\u001b[1;33m]\u001b[0m\u001b[1;33m\u001b[0m\u001b[0m\n",
      "\u001b[1;31mNameError\u001b[0m: name 'Voxel_structures' is not defined"
     ]
    }
   ],
   "source": [
    "indexfinder=Voxel_structures['acronym']\n",
    "indexfinder[indexfinder=='fiber tracts']"
   ]
  },
  {
   "cell_type": "code",
   "execution_count": 335,
   "metadata": {},
   "outputs": [
    {
     "data": {
      "text/plain": [
       "226    ENTmv\n",
       "Name: acronym, dtype: object"
      ]
     },
     "execution_count": 335,
     "metadata": {},
     "output_type": "execute_result"
    }
   ],
   "source": [
    "indexfinder[indexfinder=='ENTmv']"
   ]
  },
  {
   "cell_type": "code",
   "execution_count": 336,
   "metadata": {},
   "outputs": [],
   "source": [
    "Voxel_structures=Voxel_structures.drop([247,226]) # drop em bois"
   ]
  },
  {
   "cell_type": "code",
   "execution_count": 393,
   "metadata": {},
   "outputs": [
    {
     "data": {
      "text/plain": [
       "(291, 8)"
      ]
     },
     "execution_count": 393,
     "metadata": {},
     "output_type": "execute_result"
    }
   ],
   "source": [
    "Voxel_structures.shape"
   ]
  },
  {
   "cell_type": "markdown",
   "metadata": {},
   "source": [
    "nice"
   ]
  },
  {
   "cell_type": "code",
   "execution_count": 117,
   "metadata": {},
   "outputs": [
    {
     "data": {
      "text/plain": [
       "\"Substr_Voxel={} # key: structure id, value =[] \\nfor i in Voxel_structures['acronym']:\\n    if i not in Substr_Voxel.keys():\\n        Substr_Voxel[acronym_to_id[i]]=[]\\n\\n\\nidpath=Voxel_structures['structure_id_path']\\nfor i in idpath:\\n    print i[-2]\\n    try:\\n        Substr_Voxel[i[-2]].append(i[-1])\\n    except:\\n        print i\""
      ]
     },
     "execution_count": 117,
     "metadata": {},
     "output_type": "execute_result"
    }
   ],
   "source": [
    "\"\"\"Substr_Voxel={} # key: structure id, value =[] \n",
    "for i in Voxel_structures['acronym']:\n",
    "    if i not in Substr_Voxel.keys():\n",
    "        Substr_Voxel[acronym_to_id[i]]=[]\n",
    "\n",
    "\n",
    "idpath=Voxel_structures['structure_id_path']\n",
    "for i in idpath:\n",
    "    print i[-2]\n",
    "    try:\n",
    "        Substr_Voxel[i[-2]].append(i[-1])\n",
    "    except:\n",
    "        print i\"\"\""
   ]
  },
  {
   "cell_type": "code",
   "execution_count": 409,
   "metadata": {},
   "outputs": [
    {
     "data": {
      "text/plain": [
       "u'Tuberomammillary nucleus'"
      ]
     },
     "execution_count": 409,
     "metadata": {},
     "output_type": "execute_result"
    }
   ],
   "source": [
    "id_to_name[557]"
   ]
  },
  {
   "cell_type": "code",
   "execution_count": null,
   "metadata": {},
   "outputs": [],
   "source": []
  },
  {
   "cell_type": "code",
   "execution_count": null,
   "metadata": {},
   "outputs": [],
   "source": []
  },
  {
   "cell_type": "markdown",
   "metadata": {},
   "source": [
    "## Completing Damasio Network"
   ]
  },
  {
   "cell_type": "code",
   "execution_count": null,
   "metadata": {},
   "outputs": [],
   "source": []
  },
  {
   "cell_type": "code",
   "execution_count": 398,
   "metadata": {
    "collapsed": true
   },
   "outputs": [
    {
     "name": "stdout",
     "output_type": "stream",
     "text": [
      "VISC 448146.48\n",
      "SS 1927754.04\n",
      "ACA 3959033.84\n",
      "AUD 414137.81\n",
      "ILA 869132.09\n",
      "AI 77975.13\n",
      "TEa 0.0\n",
      "MO 2649989.21\n",
      "GU 1539.87\n",
      "ECT 137089.71\n",
      "VIS 10282252.17\n",
      "FRP 10576.86\n",
      "PTLp 147662.07\n",
      "ORB 978561.55\n",
      "RSP 471877.36\n",
      "PL 238919.97\n"
     ]
    }
   ],
   "source": [
    "for i in CTX_to_BS:\n",
    "    print i,round(sum([CTX_to_BS[i][j] for j in CTX_to_BS[i]]),2)"
   ]
  },
  {
   "cell_type": "code",
   "execution_count": 463,
   "metadata": {},
   "outputs": [
    {
     "data": {
      "text/plain": [
       "8485686.30076945"
      ]
     },
     "execution_count": 463,
     "metadata": {},
     "output_type": "execute_result"
    }
   ],
   "source": [
    "Voxel_connectivity_dict[('ipsi','SCm')]['PB']*92000"
   ]
  },
  {
   "cell_type": "code",
   "execution_count": 458,
   "metadata": {},
   "outputs": [
    {
     "data": {
      "text/plain": [
       "('ipsi', 'VCO')"
      ]
     },
     "execution_count": 458,
     "metadata": {},
     "output_type": "execute_result"
    }
   ],
   "source": [
    "Voxel_connectivity_dict.keys()[550]"
   ]
  },
  {
   "cell_type": "markdown",
   "metadata": {},
   "source": [
    "# Homogeneous model"
   ]
  },
  {
   "cell_type": "code",
   "execution_count": 1,
   "metadata": {},
   "outputs": [],
   "source": [
    "from mcmodels.core import VoxelModelCache, RegionalData\n",
    "from mcmodels.models import HomogeneousModel"
   ]
  },
  {
   "cell_type": "code",
   "execution_count": 6,
   "metadata": {
    "scrolled": false
   },
   "outputs": [
    {
     "ename": "MemoryError",
     "evalue": "",
     "output_type": "error",
     "traceback": [
      "\u001b[1;31m---------------------------------------------------------------------------\u001b[0m",
      "\u001b[1;31mMemoryError\u001b[0m                               Traceback (most recent call last)",
      "\u001b[1;32m<ipython-input-6-eea9098935e9>\u001b[0m in \u001b[0;36m<module>\u001b[1;34m()\u001b[0m\n\u001b[0;32m      2\u001b[0m \u001b[1;33m\u001b[0m\u001b[0m\n\u001b[0;32m      3\u001b[0m \u001b[0mcache\u001b[0m \u001b[1;33m=\u001b[0m \u001b[0mVoxelModelCache\u001b[0m\u001b[1;33m(\u001b[0m\u001b[1;33m)\u001b[0m\u001b[1;33m\u001b[0m\u001b[0m\n\u001b[1;32m----> 4\u001b[1;33m \u001b[0mvoxel_data\u001b[0m \u001b[1;33m=\u001b[0m \u001b[0mcache\u001b[0m\u001b[1;33m.\u001b[0m\u001b[0mget_experiment_data\u001b[0m\u001b[1;33m(\u001b[0m\u001b[1;33m)\u001b[0m\u001b[1;33m\u001b[0m\u001b[0m\n\u001b[0m",
      "\u001b[1;32mC:\\Users\\Chris OBrien\\AppData\\Local\\conda\\conda\\envs\\p2\\lib\\site-packages\\mcmodels\\core\\voxel_model_cache.pyc\u001b[0m in \u001b[0;36mget_experiment_data\u001b[1;34m(self, cre, injection_structure_ids, **kwargs)\u001b[0m\n\u001b[0;32m    416\u001b[0m             self, injection_structure_ids=injection_structure_ids, **kwargs)\n\u001b[0;32m    417\u001b[0m \u001b[1;33m\u001b[0m\u001b[0m\n\u001b[1;32m--> 418\u001b[1;33m         \u001b[1;32mreturn\u001b[0m \u001b[0mvoxel_data\u001b[0m\u001b[1;33m.\u001b[0m\u001b[0mget_experiment_data\u001b[0m\u001b[1;33m(\u001b[0m\u001b[0mexperiment_ids\u001b[0m\u001b[1;33m)\u001b[0m\u001b[1;33m\u001b[0m\u001b[0m\n\u001b[0m\u001b[0;32m    419\u001b[0m \u001b[1;33m\u001b[0m\u001b[0m\n\u001b[0;32m    420\u001b[0m     \u001b[1;32mdef\u001b[0m \u001b[0mto_json\u001b[0m\u001b[1;33m(\u001b[0m\u001b[0mself\u001b[0m\u001b[1;33m,\u001b[0m \u001b[0mfile_name\u001b[0m\u001b[1;33m=\u001b[0m\u001b[0mNone\u001b[0m\u001b[1;33m)\u001b[0m\u001b[1;33m:\u001b[0m\u001b[1;33m\u001b[0m\u001b[0m\n",
      "\u001b[1;32mC:\\Users\\Chris OBrien\\AppData\\Local\\conda\\conda\\envs\\p2\\lib\\site-packages\\mcmodels\\core\\base.pyc\u001b[0m in \u001b[0;36mget_experiment_data\u001b[1;34m(self, experiment_ids)\u001b[0m\n\u001b[0;32m    259\u001b[0m                               \u001b[0mget_injection\u001b[0m\u001b[1;33m(\u001b[0m\u001b[0mx\u001b[0m\u001b[1;33m)\u001b[0m\u001b[1;33m,\u001b[0m\u001b[1;33m\u001b[0m\u001b[0m\n\u001b[0;32m    260\u001b[0m                               get_projection(x))\n\u001b[1;32m--> 261\u001b[1;33m         \u001b[0marrays\u001b[0m \u001b[1;33m=\u001b[0m \u001b[0mmap\u001b[0m\u001b[1;33m(\u001b[0m\u001b[0mget_data\u001b[0m\u001b[1;33m,\u001b[0m \u001b[0mself\u001b[0m\u001b[1;33m.\u001b[0m\u001b[0m_experiment_generator\u001b[0m\u001b[1;33m(\u001b[0m\u001b[0mexperiment_ids\u001b[0m\u001b[1;33m)\u001b[0m\u001b[1;33m)\u001b[0m\u001b[1;33m\u001b[0m\u001b[0m\n\u001b[0m\u001b[0;32m    262\u001b[0m \u001b[1;33m\u001b[0m\u001b[0m\n\u001b[0;32m    263\u001b[0m         \u001b[0mcentroids\u001b[0m\u001b[1;33m,\u001b[0m \u001b[0minjections\u001b[0m\u001b[1;33m,\u001b[0m \u001b[0mprojections\u001b[0m \u001b[1;33m=\u001b[0m \u001b[0mmap\u001b[0m\u001b[1;33m(\u001b[0m\u001b[0mnp\u001b[0m\u001b[1;33m.\u001b[0m\u001b[0marray\u001b[0m\u001b[1;33m,\u001b[0m \u001b[0mzip\u001b[0m\u001b[1;33m(\u001b[0m\u001b[1;33m*\u001b[0m\u001b[0marrays\u001b[0m\u001b[1;33m)\u001b[0m\u001b[1;33m)\u001b[0m\u001b[1;33m\u001b[0m\u001b[0m\n",
      "\u001b[1;32mC:\\Users\\Chris OBrien\\AppData\\Local\\conda\\conda\\envs\\p2\\lib\\site-packages\\mcmodels\\core\\base.pyc\u001b[0m in \u001b[0;36m_experiment_generator\u001b[1;34m(self, experiment_ids)\u001b[0m\n\u001b[0;32m    111\u001b[0m         \u001b[1;32mfor\u001b[0m \u001b[0meid\u001b[0m \u001b[1;32min\u001b[0m \u001b[0mexperiment_ids\u001b[0m\u001b[1;33m:\u001b[0m\u001b[1;33m\u001b[0m\u001b[0m\n\u001b[0;32m    112\u001b[0m             experiment = Experiment.from_cache(\n\u001b[1;32m--> 113\u001b[1;33m                 self.cache, eid, self.data_mask_tolerance)\n\u001b[0m\u001b[0;32m    114\u001b[0m \u001b[1;33m\u001b[0m\u001b[0m\n\u001b[0;32m    115\u001b[0m             \u001b[1;32mif\u001b[0m \u001b[0mvalid_volume\u001b[0m\u001b[1;33m(\u001b[0m\u001b[0mexperiment\u001b[0m\u001b[1;33m)\u001b[0m\u001b[1;33m:\u001b[0m\u001b[1;33m\u001b[0m\u001b[0m\n",
      "\u001b[1;32mC:\\Users\\Chris OBrien\\AppData\\Local\\conda\\conda\\envs\\p2\\lib\\site-packages\\mcmodels\\core\\experiment.pyc\u001b[0m in \u001b[0;36mfrom_cache\u001b[1;34m(cls, cache, experiment_id, data_mask_tolerance)\u001b[0m\n\u001b[0;32m    159\u001b[0m         \u001b[1;32mtry\u001b[0m\u001b[1;33m:\u001b[0m\u001b[1;33m\u001b[0m\u001b[0m\n\u001b[0;32m    160\u001b[0m             \u001b[1;31m# pull data\u001b[0m\u001b[1;33m\u001b[0m\u001b[1;33m\u001b[0m\u001b[0m\n\u001b[1;32m--> 161\u001b[1;33m             \u001b[0mdata_volumes\u001b[0m \u001b[1;33m=\u001b[0m \u001b[0m_pull_grid_data\u001b[0m\u001b[1;33m(\u001b[0m\u001b[0mcache\u001b[0m\u001b[1;33m,\u001b[0m \u001b[0mexperiment_id\u001b[0m\u001b[1;33m)\u001b[0m\u001b[1;33m\u001b[0m\u001b[0m\n\u001b[0m\u001b[0;32m    162\u001b[0m         \u001b[1;32mexcept\u001b[0m \u001b[0mAttributeError\u001b[0m\u001b[1;33m:\u001b[0m\u001b[1;33m\u001b[0m\u001b[0m\n\u001b[0;32m    163\u001b[0m             raise ValueError('cache must be a MouseConnectivityCache or '\n",
      "\u001b[1;32mC:\\Users\\Chris OBrien\\AppData\\Local\\conda\\conda\\envs\\p2\\lib\\site-packages\\mcmodels\\core\\experiment.pyc\u001b[0m in \u001b[0;36m_pull_grid_data\u001b[1;34m(cache, experiment_id)\u001b[0m\n\u001b[0;32m     40\u001b[0m         \u001b[1;34m\"injection_density\"\u001b[0m \u001b[1;33m:\u001b[0m \u001b[0mcache\u001b[0m\u001b[1;33m.\u001b[0m\u001b[0mget_injection_density\u001b[0m\u001b[1;33m(\u001b[0m\u001b[0mexperiment_id\u001b[0m\u001b[1;33m)\u001b[0m\u001b[1;33m[\u001b[0m\u001b[1;36m0\u001b[0m\u001b[1;33m]\u001b[0m\u001b[1;33m,\u001b[0m\u001b[1;33m\u001b[0m\u001b[0m\n\u001b[0;32m     41\u001b[0m         \u001b[1;34m\"injection_fraction\"\u001b[0m \u001b[1;33m:\u001b[0m \u001b[0mcache\u001b[0m\u001b[1;33m.\u001b[0m\u001b[0mget_injection_fraction\u001b[0m\u001b[1;33m(\u001b[0m\u001b[0mexperiment_id\u001b[0m\u001b[1;33m)\u001b[0m\u001b[1;33m[\u001b[0m\u001b[1;36m0\u001b[0m\u001b[1;33m]\u001b[0m\u001b[1;33m,\u001b[0m\u001b[1;33m\u001b[0m\u001b[0m\n\u001b[1;32m---> 42\u001b[1;33m         \u001b[1;34m\"projection_density\"\u001b[0m \u001b[1;33m:\u001b[0m \u001b[0mcache\u001b[0m\u001b[1;33m.\u001b[0m\u001b[0mget_projection_density\u001b[0m\u001b[1;33m(\u001b[0m\u001b[0mexperiment_id\u001b[0m\u001b[1;33m)\u001b[0m\u001b[1;33m[\u001b[0m\u001b[1;36m0\u001b[0m\u001b[1;33m]\u001b[0m\u001b[1;33m\u001b[0m\u001b[0m\n\u001b[0m\u001b[0;32m     43\u001b[0m     }\n\u001b[0;32m     44\u001b[0m \u001b[1;33m\u001b[0m\u001b[0m\n",
      "\u001b[1;32mC:\\Users\\Chris OBrien\\AppData\\Local\\conda\\conda\\envs\\p2\\lib\\site-packages\\allensdk\\core\\mouse_connectivity_cache.pyc\u001b[0m in \u001b[0;36mget_projection_density\u001b[1;34m(self, experiment_id, file_name)\u001b[0m\n\u001b[0;32m    170\u001b[0m             file_name, experiment_id, self.resolution, strategy='lazy')\n\u001b[0;32m    171\u001b[0m \u001b[1;33m\u001b[0m\u001b[0m\n\u001b[1;32m--> 172\u001b[1;33m         \u001b[1;32mreturn\u001b[0m \u001b[0mnrrd\u001b[0m\u001b[1;33m.\u001b[0m\u001b[0mread\u001b[0m\u001b[1;33m(\u001b[0m\u001b[0mfile_name\u001b[0m\u001b[1;33m)\u001b[0m\u001b[1;33m\u001b[0m\u001b[0m\n\u001b[0m\u001b[0;32m    173\u001b[0m \u001b[1;33m\u001b[0m\u001b[0m\n\u001b[0;32m    174\u001b[0m     \u001b[1;32mdef\u001b[0m \u001b[0mget_injection_density\u001b[0m\u001b[1;33m(\u001b[0m\u001b[0mself\u001b[0m\u001b[1;33m,\u001b[0m \u001b[0mexperiment_id\u001b[0m\u001b[1;33m,\u001b[0m \u001b[0mfile_name\u001b[0m\u001b[1;33m=\u001b[0m\u001b[0mNone\u001b[0m\u001b[1;33m)\u001b[0m\u001b[1;33m:\u001b[0m\u001b[1;33m\u001b[0m\u001b[0m\n",
      "\u001b[1;32mC:\\Users\\Chris OBrien\\AppData\\Local\\conda\\conda\\envs\\p2\\lib\\site-packages\\nrrd.pyc\u001b[0m in \u001b[0;36mread\u001b[1;34m(filename)\u001b[0m\n\u001b[0;32m    384\u001b[0m     \u001b[1;32mwith\u001b[0m \u001b[0mopen\u001b[0m\u001b[1;33m(\u001b[0m\u001b[0mfilename\u001b[0m\u001b[1;33m,\u001b[0m \u001b[1;34m'rb'\u001b[0m\u001b[1;33m)\u001b[0m \u001b[1;32mas\u001b[0m \u001b[0mfilehandle\u001b[0m\u001b[1;33m:\u001b[0m\u001b[1;33m\u001b[0m\u001b[0m\n\u001b[0;32m    385\u001b[0m         \u001b[0mheader\u001b[0m \u001b[1;33m=\u001b[0m \u001b[0mread_header\u001b[0m\u001b[1;33m(\u001b[0m\u001b[0mfilehandle\u001b[0m\u001b[1;33m)\u001b[0m\u001b[1;33m\u001b[0m\u001b[0m\n\u001b[1;32m--> 386\u001b[1;33m         \u001b[0mdata\u001b[0m \u001b[1;33m=\u001b[0m \u001b[0mread_data\u001b[0m\u001b[1;33m(\u001b[0m\u001b[0mheader\u001b[0m\u001b[1;33m,\u001b[0m \u001b[0mfilehandle\u001b[0m\u001b[1;33m,\u001b[0m \u001b[0mfilename\u001b[0m\u001b[1;33m)\u001b[0m\u001b[1;33m\u001b[0m\u001b[0m\n\u001b[0m\u001b[0;32m    387\u001b[0m         \u001b[1;32mreturn\u001b[0m \u001b[1;33m(\u001b[0m\u001b[0mdata\u001b[0m\u001b[1;33m,\u001b[0m \u001b[0mheader\u001b[0m\u001b[1;33m)\u001b[0m\u001b[1;33m\u001b[0m\u001b[0m\n\u001b[0;32m    388\u001b[0m \u001b[1;33m\u001b[0m\u001b[0m\n",
      "\u001b[1;32mC:\\Users\\Chris OBrien\\AppData\\Local\\conda\\conda\\envs\\p2\\lib\\site-packages\\nrrd.pyc\u001b[0m in \u001b[0;36mread_data\u001b[1;34m(fields, filehandle, filename)\u001b[0m\n\u001b[0;32m    263\u001b[0m             \u001b[1;32mif\u001b[0m \u001b[1;32mnot\u001b[0m \u001b[0mchunk\u001b[0m\u001b[1;33m:\u001b[0m\u001b[1;33m\u001b[0m\u001b[0m\n\u001b[0;32m    264\u001b[0m                 \u001b[1;32mbreak\u001b[0m\u001b[1;33m\u001b[0m\u001b[0m\n\u001b[1;32m--> 265\u001b[1;33m             \u001b[0mdecompressed_data\u001b[0m \u001b[1;33m+=\u001b[0m \u001b[0mdecompobj\u001b[0m\u001b[1;33m.\u001b[0m\u001b[0mdecompress\u001b[0m\u001b[1;33m(\u001b[0m\u001b[0mchunk\u001b[0m\u001b[1;33m)\u001b[0m\u001b[1;33m\u001b[0m\u001b[0m\n\u001b[0m\u001b[0;32m    266\u001b[0m         \u001b[1;31m# byteskip applies to the _decompressed_ byte stream\u001b[0m\u001b[1;33m\u001b[0m\u001b[1;33m\u001b[0m\u001b[0m\n\u001b[0;32m    267\u001b[0m         \u001b[0mdata\u001b[0m \u001b[1;33m=\u001b[0m \u001b[0mnp\u001b[0m\u001b[1;33m.\u001b[0m\u001b[0mfromstring\u001b[0m\u001b[1;33m(\u001b[0m\u001b[0mdecompressed_data\u001b[0m\u001b[1;33m[\u001b[0m\u001b[0mbyteskip\u001b[0m\u001b[1;33m:\u001b[0m\u001b[1;33m]\u001b[0m\u001b[1;33m,\u001b[0m \u001b[0mdtype\u001b[0m\u001b[1;33m)\u001b[0m\u001b[1;33m\u001b[0m\u001b[0m\n",
      "\u001b[1;31mMemoryError\u001b[0m: "
     ]
    }
   ],
   "source": [
    "# get data with which to fit model\n",
    "\n",
    "cache = VoxelModelCache()\n",
    "voxel_data = cache.get_experiment_data()"
   ]
  },
  {
   "cell_type": "code",
   "execution_count": null,
   "metadata": {},
   "outputs": [],
   "source": []
  },
  {
   "cell_type": "code",
   "execution_count": 3,
   "metadata": {},
   "outputs": [],
   "source": [
    "regional_data = RegionalData.from_voxel_data(voxel_data)"
   ]
  },
  {
   "cell_type": "code",
   "execution_count": null,
   "metadata": {},
   "outputs": [],
   "source": [
    "[\n",
    "('CTX','HY'),\n",
    "('CTX','PB'),\n",
    "('CTX','PAG'),\n",
    "('CTX','SCm'),\n",
    "('CTX','SCm')\n",
    "('HY','PAG'),\n",
    "('HY','NTS'),\n",
    "('PAG','SCm'),\n",
    "('PAG','SCs'),\n",
    "('PAG','PB'),\n",
    "('PAG','NTS'),\n",
    "('PB','AP'),\n",
    "('PB','NTS')\n",
    "\n",
    "]"
   ]
  },
  {
   "cell_type": "code",
   "execution_count": 4,
   "metadata": {},
   "outputs": [
    {
     "data": {
      "text/plain": [
       "HomogeneousModel(kappa=1000)"
      ]
     },
     "execution_count": 4,
     "metadata": {},
     "output_type": "execute_result"
    }
   ],
   "source": [
    "reg = HomogeneousModel()\n",
    "reg.fit(regional_data.injections, regional_data.projections)\n",
    "HomogeneousModel(kappa=1000)"
   ]
  },
  {
   "cell_type": "code",
   "execution_count": 5,
   "metadata": {},
   "outputs": [
    {
     "data": {
      "text/plain": [
       "<property at 0xc66ecc8>"
      ]
     },
     "execution_count": 5,
     "metadata": {},
     "output_type": "execute_result"
    }
   ],
   "source": [
    "HomogeneousModel.weights"
   ]
  },
  {
   "cell_type": "markdown",
   "metadata": {},
   "source": [
    "# mcmodel: mesoscale mouse model data"
   ]
  },
  {
   "cell_type": "code",
   "execution_count": null,
   "metadata": {},
   "outputs": [],
   "source": []
  }
 ],
 "metadata": {
  "kernelspec": {
   "display_name": "Python 2",
   "language": "python",
   "name": "python2"
  },
  "language_info": {
   "codemirror_mode": {
    "name": "ipython",
    "version": 2
   },
   "file_extension": ".py",
   "mimetype": "text/x-python",
   "name": "python",
   "nbconvert_exporter": "python",
   "pygments_lexer": "ipython2",
   "version": "2.7.15"
  }
 },
 "nbformat": 4,
 "nbformat_minor": 2
}

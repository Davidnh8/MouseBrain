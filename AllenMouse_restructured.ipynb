{
 "cells": [
  {
   "cell_type": "code",
   "execution_count": 1,
   "metadata": {},
   "outputs": [],
   "source": [
    "import sys\n",
    "import numpy as np\n",
    "import time\n",
    "import pickle\n",
    "import pandas as pd\n",
    "import copy\n",
    "import matplotlib.pyplot as plt\n",
    "\n",
    "import allensdk\n",
    "import pandas as pd"
   ]
  },
  {
   "cell_type": "code",
   "execution_count": 2,
   "metadata": {},
   "outputs": [],
   "source": [
    "from allensdk.core.mouse_connectivity_cache import MouseConnectivityCache"
   ]
  },
  {
   "cell_type": "markdown",
   "metadata": {},
   "source": [
    "# Mouse Connectivity\n",
    "\n",
    "This notebook analyzes the mouse connectivity data for the purpose of calculating the information flow in the brain. We reply on Allen brain Atlas API  (allensdk package) with some custom codes.\n",
    "\n",
    "As a brief summary, Allen brain Atlas: Mouse Brain Connectivity contains data on  experiments on the mouse brain. Each experiment has an associated (unique) injection site where green fluroescent protein virus is injected. This injection infects the cell-bodies of the neurons in the injection site, and they propagates along the axons (carrier of the action potential of neurons) where they reach its terminal and emit green lights. These signals then are imaged through green-flurescent imaging and mapped accordingly. More information can be found on0 http://connectivity.brain-map.org/. Some defintions relevant to the throughout the notbook are defined as follows."
   ]
  },
  {
   "cell_type": "markdown",
   "metadata": {},
   "source": [
    "projection density = sum of detected pixels / sum of all pixels in division  \n",
    "projection energy = sum of detected pixel intensity / sum of all pixels in division  \n",
    "injection_fraction = fraction of pixels belonging to manually annotated injection site  \n",
    "injection_density = density of detected pixels within the manually annotated injection site  \n",
    "injection_energy = energy of detected pixels within the manually annotated injection site  \n",
    "data_mask = binary mask indicating if a voxel contains valid data (0=invalid, 1=valid). Only valid voxels should be used for analysis  \n"
   ]
  },
  {
   "cell_type": "markdown",
   "metadata": {},
   "source": [
    "This notebook carefully combines multiple experiments to create a connectome data. This data is then traslated into the information flow data, namely we determine how much information flows at a regional level."
   ]
  },
  {
   "cell_type": "markdown",
   "metadata": {},
   "source": [
    "## Fetch all the Experiment list\n"
   ]
  },
  {
   "cell_type": "markdown",
   "metadata": {},
   "source": [
    "First we create MouseConnectivityCache instance.\n",
    "\n",
    "Fome this we may fetch the experiment list. One in dataFrame and one in dictionary format."
   ]
  },
  {
   "cell_type": "code",
   "execution_count": 3,
   "metadata": {},
   "outputs": [],
   "source": [
    "# MouseConnectivityCache allows access to data stored within\n",
    "mcc=MouseConnectivityCache(manifest_file='connectivity/mouse_connectivity_manifest.json')\n",
    "\n",
    "#get the id of all experiments.\n",
    "#Create one for Pandas dataframe and the other in terms of dictionary\n",
    "experiment_list = mcc.get_experiments(dataframe=True)\n",
    "experiment_list_dict=mcc.get_experiments(dataframe=False)"
   ]
  },
  {
   "cell_type": "markdown",
   "metadata": {},
   "source": [
    "Sample of some of the entries of the experiment_list looks like:"
   ]
  },
  {
   "cell_type": "code",
   "execution_count": 4,
   "metadata": {},
   "outputs": [
    {
     "data": {
      "text/html": [
       "<div>\n",
       "<style scoped>\n",
       "    .dataframe tbody tr th:only-of-type {\n",
       "        vertical-align: middle;\n",
       "    }\n",
       "\n",
       "    .dataframe tbody tr th {\n",
       "        vertical-align: top;\n",
       "    }\n",
       "\n",
       "    .dataframe thead th {\n",
       "        text-align: right;\n",
       "    }\n",
       "</style>\n",
       "<table border=\"1\" class=\"dataframe\">\n",
       "  <thead>\n",
       "    <tr style=\"text-align: right;\">\n",
       "      <th></th>\n",
       "      <th>gender</th>\n",
       "      <th>id</th>\n",
       "      <th>injection_structures</th>\n",
       "      <th>injection_volume</th>\n",
       "      <th>injection_x</th>\n",
       "      <th>injection_y</th>\n",
       "      <th>injection_z</th>\n",
       "      <th>primary_injection_structure</th>\n",
       "      <th>product_id</th>\n",
       "      <th>specimen_name</th>\n",
       "      <th>strain</th>\n",
       "      <th>structure_abbrev</th>\n",
       "      <th>structure_id</th>\n",
       "      <th>structure_name</th>\n",
       "      <th>transgenic_line</th>\n",
       "      <th>transgenic_line_id</th>\n",
       "    </tr>\n",
       "    <tr>\n",
       "      <th>id</th>\n",
       "      <th></th>\n",
       "      <th></th>\n",
       "      <th></th>\n",
       "      <th></th>\n",
       "      <th></th>\n",
       "      <th></th>\n",
       "      <th></th>\n",
       "      <th></th>\n",
       "      <th></th>\n",
       "      <th></th>\n",
       "      <th></th>\n",
       "      <th></th>\n",
       "      <th></th>\n",
       "      <th></th>\n",
       "      <th></th>\n",
       "      <th></th>\n",
       "    </tr>\n",
       "  </thead>\n",
       "  <tbody>\n",
       "    <tr>\n",
       "      <th>527712447</th>\n",
       "      <td>F</td>\n",
       "      <td>527712447</td>\n",
       "      <td>[502, 926, 1084, 484682470]</td>\n",
       "      <td>0.006655</td>\n",
       "      <td>9240</td>\n",
       "      <td>3070</td>\n",
       "      <td>8990</td>\n",
       "      <td>502</td>\n",
       "      <td>5</td>\n",
       "      <td>Penk-IRES2-Cre-neo-249961</td>\n",
       "      <td>C57BL/6J</td>\n",
       "      <td>SUB</td>\n",
       "      <td>502</td>\n",
       "      <td>Subiculum</td>\n",
       "      <td>Penk-IRES2-Cre-neo</td>\n",
       "      <td>298725927.0</td>\n",
       "    </tr>\n",
       "    <tr>\n",
       "      <th>301875966</th>\n",
       "      <td>M</td>\n",
       "      <td>301875966</td>\n",
       "      <td>[574, 931]</td>\n",
       "      <td>0.105746</td>\n",
       "      <td>9170</td>\n",
       "      <td>6850</td>\n",
       "      <td>6200</td>\n",
       "      <td>574</td>\n",
       "      <td>5</td>\n",
       "      <td>Gabrr3-Cre_KC112-3467</td>\n",
       "      <td>C57BL/6J</td>\n",
       "      <td>PG</td>\n",
       "      <td>931</td>\n",
       "      <td>Pontine gray</td>\n",
       "      <td>Gabrr3-Cre_KC112</td>\n",
       "      <td>177838877.0</td>\n",
       "    </tr>\n",
       "    <tr>\n",
       "      <th>520336173</th>\n",
       "      <td>M</td>\n",
       "      <td>520336173</td>\n",
       "      <td>[1, 210, 491, 525, 1004]</td>\n",
       "      <td>0.025762</td>\n",
       "      <td>7810</td>\n",
       "      <td>6550</td>\n",
       "      <td>6450</td>\n",
       "      <td>1</td>\n",
       "      <td>5</td>\n",
       "      <td>Hdc-Cre_IM1-204103</td>\n",
       "      <td>None</td>\n",
       "      <td>TMv</td>\n",
       "      <td>1</td>\n",
       "      <td>Tuberomammillary nucleus, ventral part</td>\n",
       "      <td>Hdc-Cre_IM1</td>\n",
       "      <td>177839494.0</td>\n",
       "    </tr>\n",
       "  </tbody>\n",
       "</table>\n",
       "</div>"
      ],
      "text/plain": [
       "          gender         id         injection_structures  injection_volume  \\\n",
       "id                                                                           \n",
       "527712447      F  527712447  [502, 926, 1084, 484682470]          0.006655   \n",
       "301875966      M  301875966                   [574, 931]          0.105746   \n",
       "520336173      M  520336173     [1, 210, 491, 525, 1004]          0.025762   \n",
       "\n",
       "           injection_x  injection_y  injection_z  primary_injection_structure  \\\n",
       "id                                                                              \n",
       "527712447         9240         3070         8990                          502   \n",
       "301875966         9170         6850         6200                          574   \n",
       "520336173         7810         6550         6450                            1   \n",
       "\n",
       "           product_id              specimen_name    strain structure_abbrev  \\\n",
       "id                                                                            \n",
       "527712447           5  Penk-IRES2-Cre-neo-249961  C57BL/6J              SUB   \n",
       "301875966           5      Gabrr3-Cre_KC112-3467  C57BL/6J               PG   \n",
       "520336173           5         Hdc-Cre_IM1-204103      None              TMv   \n",
       "\n",
       "           structure_id                          structure_name  \\\n",
       "id                                                                \n",
       "527712447           502                               Subiculum   \n",
       "301875966           931                            Pontine gray   \n",
       "520336173             1  Tuberomammillary nucleus, ventral part   \n",
       "\n",
       "              transgenic_line  transgenic_line_id  \n",
       "id                                                 \n",
       "527712447  Penk-IRES2-Cre-neo         298725927.0  \n",
       "301875966    Gabrr3-Cre_KC112         177838877.0  \n",
       "520336173         Hdc-Cre_IM1         177839494.0  "
      ]
     },
     "execution_count": 4,
     "metadata": {},
     "output_type": "execute_result"
    }
   ],
   "source": [
    "experiment_list[:3]"
   ]
  },
  {
   "cell_type": "markdown",
   "metadata": {},
   "source": [
    "where the columns are:"
   ]
  },
  {
   "cell_type": "markdown",
   "metadata": {},
   "source": [
    "Each experiment entry contains the following columns:"
   ]
  },
  {
   "cell_type": "code",
   "execution_count": 466,
   "metadata": {},
   "outputs": [
    {
     "name": "stdout",
     "output_type": "stream",
     "text": [
      "injection_y\n",
      "injection_x\n",
      "injection_z\n",
      "product_id\n",
      "structure_name\n",
      "gender\n",
      "transgenic_line\n",
      "injection_volume\n",
      "structure_abbrev\n",
      "transgenic_line_id\n",
      "primary_injection_structure\n",
      "strain\n",
      "id\n",
      "specimen_name\n",
      "injection_structures\n",
      "structure_id\n"
     ]
    }
   ],
   "source": [
    "for i in experiment_list_dict[0].keys():\n",
    "    print(i)"
   ]
  },
  {
   "cell_type": "markdown",
   "metadata": {},
   "source": [
    "with the number of separate experiments being:"
   ]
  },
  {
   "cell_type": "code",
   "execution_count": 491,
   "metadata": {},
   "outputs": [
    {
     "data": {
      "text/plain": [
       "2995"
      ]
     },
     "execution_count": 491,
     "metadata": {},
     "output_type": "execute_result"
    }
   ],
   "source": [
    "len(experiment_list_dict)"
   ]
  },
  {
   "cell_type": "markdown",
   "metadata": {},
   "source": [
    "This is for allensdk 0.14.5. Number of experiments may vary depending on the version of the package. Note that each injection sites has a unique experiemnt, that is, no more than one injection sites were allowed in a single mouse brain."
   ]
  },
  {
   "cell_type": "markdown",
   "metadata": {},
   "source": [
    "## Annotation Volume\n",
    "\n",
    "We then download annotation volume for future uses. This comes in the form of an array where structures are denoted by the values of the elements. Spatial coordinates on the other hand, are represented by the indices of the array. First create an instance using the MouseConnectivityCache (mcc)\n"
   ]
  },
  {
   "cell_type": "code",
   "execution_count": 8,
   "metadata": {},
   "outputs": [],
   "source": [
    "annt=mcc.get_annotation_volume()[0]"
   ]
  },
  {
   "cell_type": "markdown",
   "metadata": {},
   "source": [
    "the annotation volume has the shape"
   ]
  },
  {
   "cell_type": "code",
   "execution_count": 9,
   "metadata": {},
   "outputs": [
    {
     "data": {
      "text/plain": [
       "(528L, 320L, 456L)"
      ]
     },
     "execution_count": 9,
     "metadata": {},
     "output_type": "execute_result"
    }
   ],
   "source": [
    "annt.shape"
   ]
  },
  {
   "cell_type": "markdown",
   "metadata": {},
   "source": [
    "for future, we collect the id of all the structures present in the annt volume"
   ]
  },
  {
   "cell_type": "code",
   "execution_count": 10,
   "metadata": {},
   "outputs": [],
   "source": [
    "annt_structures=[]\n",
    "for i in range(annt.shape[0]):\n",
    "    for j in range(annt.shape[1]):\n",
    "        for k in range(annt.shape[2]):\n",
    "            if annt[i,j,k] not in annt_structures:\n",
    "                annt_structures.append(annt[i,j,k])\n"
   ]
  },
  {
   "cell_type": "markdown",
   "metadata": {},
   "source": [
    "## Structure_tree\n",
    "\n",
    "Allenmouse structure ontology is organized as a tree where each edge indicates the physical containment. Structuretree can be used to fetch properties of a given structure, including its id, name, acronym, etc.."
   ]
  },
  {
   "cell_type": "code",
   "execution_count": 11,
   "metadata": {},
   "outputs": [],
   "source": [
    "structure_tree=mcc.get_structure_tree()"
   ]
  },
  {
   "cell_type": "markdown",
   "metadata": {},
   "source": [
    "sample of each structure is shown:"
   ]
  },
  {
   "cell_type": "code",
   "execution_count": 12,
   "metadata": {},
   "outputs": [
    {
     "data": {
      "text/html": [
       "<div>\n",
       "<style scoped>\n",
       "    .dataframe tbody tr th:only-of-type {\n",
       "        vertical-align: middle;\n",
       "    }\n",
       "\n",
       "    .dataframe tbody tr th {\n",
       "        vertical-align: top;\n",
       "    }\n",
       "\n",
       "    .dataframe thead th {\n",
       "        text-align: right;\n",
       "    }\n",
       "</style>\n",
       "<table border=\"1\" class=\"dataframe\">\n",
       "  <thead>\n",
       "    <tr style=\"text-align: right;\">\n",
       "      <th></th>\n",
       "      <th>acronym</th>\n",
       "      <th>graph_id</th>\n",
       "      <th>graph_order</th>\n",
       "      <th>id</th>\n",
       "      <th>name</th>\n",
       "      <th>rgb_triplet</th>\n",
       "      <th>structure_id_path</th>\n",
       "      <th>structure_set_ids</th>\n",
       "    </tr>\n",
       "  </thead>\n",
       "  <tbody>\n",
       "    <tr>\n",
       "      <th>0</th>\n",
       "      <td>TH</td>\n",
       "      <td>1</td>\n",
       "      <td>641</td>\n",
       "      <td>549</td>\n",
       "      <td>Thalamus</td>\n",
       "      <td>[255, 112, 128]</td>\n",
       "      <td>[997, 8, 343, 1129, 549]</td>\n",
       "      <td>[2, 112905828, 691663206, 12, 184527634, 11290...</td>\n",
       "    </tr>\n",
       "    <tr>\n",
       "      <th>1</th>\n",
       "      <td>HY</td>\n",
       "      <td>1</td>\n",
       "      <td>715</td>\n",
       "      <td>1097</td>\n",
       "      <td>Hypothalamus</td>\n",
       "      <td>[230, 68, 56]</td>\n",
       "      <td>[997, 8, 343, 1129, 1097]</td>\n",
       "      <td>[2, 112905828, 691663206, 12, 184527634, 11290...</td>\n",
       "    </tr>\n",
       "  </tbody>\n",
       "</table>\n",
       "</div>"
      ],
      "text/plain": [
       "  acronym  graph_id  graph_order    id          name      rgb_triplet  \\\n",
       "0      TH         1          641   549      Thalamus  [255, 112, 128]   \n",
       "1      HY         1          715  1097  Hypothalamus    [230, 68, 56]   \n",
       "\n",
       "           structure_id_path  \\\n",
       "0   [997, 8, 343, 1129, 549]   \n",
       "1  [997, 8, 343, 1129, 1097]   \n",
       "\n",
       "                                   structure_set_ids  \n",
       "0  [2, 112905828, 691663206, 12, 184527634, 11290...  \n",
       "1  [2, 112905828, 691663206, 12, 184527634, 11290...  "
      ]
     },
     "execution_count": 12,
     "metadata": {},
     "output_type": "execute_result"
    }
   ],
   "source": [
    "pd.DataFrame(structure_tree.get_structures_by_name(['Thalamus','Hypothalamus']))"
   ]
  },
  {
   "cell_type": "markdown",
   "metadata": {},
   "source": [
    "where the columns are:"
   ]
  },
  {
   "cell_type": "code",
   "execution_count": 13,
   "metadata": {},
   "outputs": [
    {
     "name": "stdout",
     "output_type": "stream",
     "text": [
      "rgb_triplet\n",
      "graph_id\n",
      "name\n",
      "acronym\n",
      "graph_order\n",
      "structure_id_path\n",
      "structure_set_ids\n",
      "id\n"
     ]
    }
   ],
   "source": [
    "for i in structure_tree.get_structures_by_name(['Thalamus'])[0]:\n",
    "    print(i)"
   ]
  },
  {
   "cell_type": "markdown",
   "metadata": {},
   "source": [
    "## structure set\n",
    "\n",
    "On top of strucure tree, AllenmouseSDK provides a convenient way to group structures together through the structure sets.\n",
    "For example, if i wish to fetch structures trees beonging to Midbrain, I can easily do so."
   ]
  },
  {
   "cell_type": "code",
   "execution_count": 14,
   "metadata": {},
   "outputs": [],
   "source": [
    "from allensdk.api.queries.ontologies_api import OntologiesApi\n",
    "\n",
    "#initialize oapi_inst instance\n",
    "oapi_inst=OntologiesApi()"
   ]
  },
  {
   "cell_type": "code",
   "execution_count": 15,
   "metadata": {
    "scrolled": true
   },
   "outputs": [
    {
     "data": {
      "text/html": [
       "<div>\n",
       "<style scoped>\n",
       "    .dataframe tbody tr th:only-of-type {\n",
       "        vertical-align: middle;\n",
       "    }\n",
       "\n",
       "    .dataframe tbody tr th {\n",
       "        vertical-align: top;\n",
       "    }\n",
       "\n",
       "    .dataframe thead th {\n",
       "        text-align: right;\n",
       "    }\n",
       "</style>\n",
       "<table border=\"1\" class=\"dataframe\">\n",
       "  <thead>\n",
       "    <tr style=\"text-align: right;\">\n",
       "      <th></th>\n",
       "      <th>description</th>\n",
       "      <th>id</th>\n",
       "      <th>name</th>\n",
       "    </tr>\n",
       "  </thead>\n",
       "  <tbody>\n",
       "    <tr>\n",
       "      <th>0</th>\n",
       "      <td>List of structures in Isocortex layer 5</td>\n",
       "      <td>667481446</td>\n",
       "      <td>Isocortex layer 5</td>\n",
       "    </tr>\n",
       "    <tr>\n",
       "      <th>1</th>\n",
       "      <td>List of structures in Isocortex layer 6b</td>\n",
       "      <td>667481450</td>\n",
       "      <td>Isocortex layer 6b</td>\n",
       "    </tr>\n",
       "    <tr>\n",
       "      <th>2</th>\n",
       "      <td>Summary structures of the cerebellum</td>\n",
       "      <td>688152368</td>\n",
       "      <td>Cerebellum</td>\n",
       "    </tr>\n",
       "    <tr>\n",
       "      <th>3</th>\n",
       "      <td>List of structures for ABA Differential Search</td>\n",
       "      <td>12</td>\n",
       "      <td>ABA - Differential Search</td>\n",
       "    </tr>\n",
       "    <tr>\n",
       "      <th>4</th>\n",
       "      <td>List of valid structures for projection target...</td>\n",
       "      <td>184527634</td>\n",
       "      <td>Mouse Connectivity - Target Search</td>\n",
       "    </tr>\n",
       "    <tr>\n",
       "      <th>5</th>\n",
       "      <td>Structures whose surfaces are represented by a...</td>\n",
       "      <td>691663206</td>\n",
       "      <td>Mouse Brain - Has Surface Mesh</td>\n",
       "    </tr>\n",
       "    <tr>\n",
       "      <th>6</th>\n",
       "      <td>Summary structures of the midbrain</td>\n",
       "      <td>688152365</td>\n",
       "      <td>Midbrain</td>\n",
       "    </tr>\n",
       "    <tr>\n",
       "      <th>7</th>\n",
       "      <td>Summary structures of the medulla</td>\n",
       "      <td>688152367</td>\n",
       "      <td>Medulla</td>\n",
       "    </tr>\n",
       "    <tr>\n",
       "      <th>8</th>\n",
       "      <td>Summary structures of the striatum</td>\n",
       "      <td>688152361</td>\n",
       "      <td>Striatum</td>\n",
       "    </tr>\n",
       "    <tr>\n",
       "      <th>9</th>\n",
       "      <td>Structures representing subdivisions of the mo...</td>\n",
       "      <td>687527945</td>\n",
       "      <td>Mouse Connectivity - Summary</td>\n",
       "    </tr>\n",
       "    <tr>\n",
       "      <th>10</th>\n",
       "      <td>Summary structures of the hippocampal formation</td>\n",
       "      <td>688152359</td>\n",
       "      <td>Hippocampal Formation</td>\n",
       "    </tr>\n",
       "    <tr>\n",
       "      <th>11</th>\n",
       "      <td>List of visual cortex structures targeted for ...</td>\n",
       "      <td>514166994</td>\n",
       "      <td>Allen Brain Observatory targeted structure set</td>\n",
       "    </tr>\n",
       "    <tr>\n",
       "      <th>12</th>\n",
       "      <td>Summary structures of the olfactory areas</td>\n",
       "      <td>688152358</td>\n",
       "      <td>Olfactory Areas</td>\n",
       "    </tr>\n",
       "    <tr>\n",
       "      <th>13</th>\n",
       "      <td>Curated list of non-overlapping substructures ...</td>\n",
       "      <td>167587189</td>\n",
       "      <td>Brain – Summary Structures</td>\n",
       "    </tr>\n",
       "    <tr>\n",
       "      <th>14</th>\n",
       "      <td>List of structures in Isocortex layer 4</td>\n",
       "      <td>667481445</td>\n",
       "      <td>Isocortex layer 4</td>\n",
       "    </tr>\n",
       "    <tr>\n",
       "      <th>15</th>\n",
       "      <td>Structures representing the major divisions of...</td>\n",
       "      <td>687527670</td>\n",
       "      <td>Brain - Major Divisions</td>\n",
       "    </tr>\n",
       "    <tr>\n",
       "      <th>16</th>\n",
       "      <td>Summary structures of the pallidum</td>\n",
       "      <td>688152362</td>\n",
       "      <td>Pallidum</td>\n",
       "    </tr>\n",
       "    <tr>\n",
       "      <th>17</th>\n",
       "      <td>List of Primary injection structures for BDA/A...</td>\n",
       "      <td>114512892</td>\n",
       "      <td>Mouse Connectivity - BDA/AAV Primary Injection...</td>\n",
       "    </tr>\n",
       "    <tr>\n",
       "      <th>18</th>\n",
       "      <td>List of primary AND secondary injection struct...</td>\n",
       "      <td>112905813</td>\n",
       "      <td>Mouse Connectivity - BDA/AAV All Injection Str...</td>\n",
       "    </tr>\n",
       "    <tr>\n",
       "      <th>19</th>\n",
       "      <td>List of structures for ABA Fine Structure Search</td>\n",
       "      <td>10</td>\n",
       "      <td>ABA - Fine Structure Search</td>\n",
       "    </tr>\n",
       "    <tr>\n",
       "      <th>20</th>\n",
       "      <td>List of primary AND secondary injection struct...</td>\n",
       "      <td>112905828</td>\n",
       "      <td>Mouse Connectivity - Projection All Injection ...</td>\n",
       "    </tr>\n",
       "    <tr>\n",
       "      <th>21</th>\n",
       "      <td>List of structures in Isocortex layer 6a</td>\n",
       "      <td>667481449</td>\n",
       "      <td>Isocortex layer 6a</td>\n",
       "    </tr>\n",
       "    <tr>\n",
       "      <th>22</th>\n",
       "      <td>List of structures representing a areal level ...</td>\n",
       "      <td>3</td>\n",
       "      <td>Mouse - Areas</td>\n",
       "    </tr>\n",
       "    <tr>\n",
       "      <th>23</th>\n",
       "      <td>List of structures in Isocortex layer 1</td>\n",
       "      <td>667481440</td>\n",
       "      <td>Isocortex layer 1</td>\n",
       "    </tr>\n",
       "    <tr>\n",
       "      <th>24</th>\n",
       "      <td>Summary structures of the hypothalamus</td>\n",
       "      <td>688152364</td>\n",
       "      <td>Hypothalamus</td>\n",
       "    </tr>\n",
       "    <tr>\n",
       "      <th>25</th>\n",
       "      <td>List of structures in Isocortex layer 2/3</td>\n",
       "      <td>667481441</td>\n",
       "      <td>Isocortex layer 2/3</td>\n",
       "    </tr>\n",
       "    <tr>\n",
       "      <th>26</th>\n",
       "      <td>All mouse visual areas with layers</td>\n",
       "      <td>396673091</td>\n",
       "      <td>Mouse Cell Types - Structures</td>\n",
       "    </tr>\n",
       "    <tr>\n",
       "      <th>27</th>\n",
       "      <td>Summary structures of the cortical subplate</td>\n",
       "      <td>688152360</td>\n",
       "      <td>Cortical Subplate</td>\n",
       "    </tr>\n",
       "    <tr>\n",
       "      <th>28</th>\n",
       "      <td>Summary structures of the thalamus</td>\n",
       "      <td>688152363</td>\n",
       "      <td>Thalamus</td>\n",
       "    </tr>\n",
       "    <tr>\n",
       "      <th>29</th>\n",
       "      <td>List of structures representing a coarse level...</td>\n",
       "      <td>2</td>\n",
       "      <td>Mouse - Coarse</td>\n",
       "    </tr>\n",
       "    <tr>\n",
       "      <th>30</th>\n",
       "      <td>Summary structures of the isocortex</td>\n",
       "      <td>688152357</td>\n",
       "      <td>Isocortex</td>\n",
       "    </tr>\n",
       "    <tr>\n",
       "      <th>31</th>\n",
       "      <td>List of Primary injection structures for Proje...</td>\n",
       "      <td>114512891</td>\n",
       "      <td>Mouse Connectivity - Projection Primary Inject...</td>\n",
       "    </tr>\n",
       "    <tr>\n",
       "      <th>32</th>\n",
       "      <td>Summary structures of the pons</td>\n",
       "      <td>688152366</td>\n",
       "      <td>Pons</td>\n",
       "    </tr>\n",
       "  </tbody>\n",
       "</table>\n",
       "</div>"
      ],
      "text/plain": [
       "                                          description         id  \\\n",
       "0             List of structures in Isocortex layer 5  667481446   \n",
       "1            List of structures in Isocortex layer 6b  667481450   \n",
       "2                Summary structures of the cerebellum  688152368   \n",
       "3      List of structures for ABA Differential Search         12   \n",
       "4   List of valid structures for projection target...  184527634   \n",
       "5   Structures whose surfaces are represented by a...  691663206   \n",
       "6                  Summary structures of the midbrain  688152365   \n",
       "7                   Summary structures of the medulla  688152367   \n",
       "8                  Summary structures of the striatum  688152361   \n",
       "9   Structures representing subdivisions of the mo...  687527945   \n",
       "10    Summary structures of the hippocampal formation  688152359   \n",
       "11  List of visual cortex structures targeted for ...  514166994   \n",
       "12          Summary structures of the olfactory areas  688152358   \n",
       "13  Curated list of non-overlapping substructures ...  167587189   \n",
       "14            List of structures in Isocortex layer 4  667481445   \n",
       "15  Structures representing the major divisions of...  687527670   \n",
       "16                 Summary structures of the pallidum  688152362   \n",
       "17  List of Primary injection structures for BDA/A...  114512892   \n",
       "18  List of primary AND secondary injection struct...  112905813   \n",
       "19   List of structures for ABA Fine Structure Search         10   \n",
       "20  List of primary AND secondary injection struct...  112905828   \n",
       "21           List of structures in Isocortex layer 6a  667481449   \n",
       "22  List of structures representing a areal level ...          3   \n",
       "23            List of structures in Isocortex layer 1  667481440   \n",
       "24             Summary structures of the hypothalamus  688152364   \n",
       "25          List of structures in Isocortex layer 2/3  667481441   \n",
       "26                 All mouse visual areas with layers  396673091   \n",
       "27        Summary structures of the cortical subplate  688152360   \n",
       "28                 Summary structures of the thalamus  688152363   \n",
       "29  List of structures representing a coarse level...          2   \n",
       "30                Summary structures of the isocortex  688152357   \n",
       "31  List of Primary injection structures for Proje...  114512891   \n",
       "32                     Summary structures of the pons  688152366   \n",
       "\n",
       "                                                 name  \n",
       "0                                   Isocortex layer 5  \n",
       "1                                  Isocortex layer 6b  \n",
       "2                                          Cerebellum  \n",
       "3                           ABA - Differential Search  \n",
       "4                  Mouse Connectivity - Target Search  \n",
       "5                      Mouse Brain - Has Surface Mesh  \n",
       "6                                            Midbrain  \n",
       "7                                             Medulla  \n",
       "8                                            Striatum  \n",
       "9                        Mouse Connectivity - Summary  \n",
       "10                              Hippocampal Formation  \n",
       "11     Allen Brain Observatory targeted structure set  \n",
       "12                                    Olfactory Areas  \n",
       "13                         Brain – Summary Structures  \n",
       "14                                  Isocortex layer 4  \n",
       "15                            Brain - Major Divisions  \n",
       "16                                           Pallidum  \n",
       "17  Mouse Connectivity - BDA/AAV Primary Injection...  \n",
       "18  Mouse Connectivity - BDA/AAV All Injection Str...  \n",
       "19                        ABA - Fine Structure Search  \n",
       "20  Mouse Connectivity - Projection All Injection ...  \n",
       "21                                 Isocortex layer 6a  \n",
       "22                                      Mouse - Areas  \n",
       "23                                  Isocortex layer 1  \n",
       "24                                       Hypothalamus  \n",
       "25                                Isocortex layer 2/3  \n",
       "26                      Mouse Cell Types - Structures  \n",
       "27                                  Cortical Subplate  \n",
       "28                                           Thalamus  \n",
       "29                                     Mouse - Coarse  \n",
       "30                                          Isocortex  \n",
       "31  Mouse Connectivity - Projection Primary Inject...  \n",
       "32                                               Pons  "
      ]
     },
     "execution_count": 15,
     "metadata": {},
     "output_type": "execute_result"
    }
   ],
   "source": [
    "structure_set_ids=structure_tree.get_structure_sets()\n",
    "structure_set=pd.DataFrame(oapi_inst.get_structure_sets(structure_set_ids))\n",
    "structure_set"
   ]
  },
  {
   "cell_type": "markdown",
   "metadata": {},
   "source": [
    "As shown above, we can select the structure set based on its description and fetch the desired collection of structures>"
   ]
  },
  {
   "cell_type": "markdown",
   "metadata": {},
   "source": [
    "Here our interest is in the projection research, therefore we fetch the summary structures from 184527634 (Mouse Connectivity - Target Search)"
   ]
  },
  {
   "cell_type": "code",
   "execution_count": 16,
   "metadata": {},
   "outputs": [],
   "source": [
    "projection_structures_target=pd.DataFrame(structure_tree.get_structures_by_set_id([184527634]))"
   ]
  },
  {
   "cell_type": "markdown",
   "metadata": {},
   "source": [
    "### how many structures in each?\n",
    "\n",
    "Out of curiosity, we explore how many structures are contained in each structure set:"
   ]
  },
  {
   "cell_type": "code",
   "execution_count": 19,
   "metadata": {
    "scrolled": true
   },
   "outputs": [
    {
     "name": "stdout",
     "output_type": "stream",
     "text": [
      "    experiment id  number of structures\n",
      "0       667481446                    43\n",
      "1       667481450                    43\n",
      "2       688152368                    18\n",
      "3              12                   843\n",
      "4       184527634                   840\n",
      "5       691663206                   840\n",
      "6       688152365                    39\n",
      "7       688152367                    45\n",
      "8       688152361                    14\n",
      "9       687527945                   293\n",
      "10      688152359                    15\n",
      "11      514166994                     7\n",
      "12      688152358                    11\n",
      "13      167587189                   316\n",
      "14      667481445                    26\n",
      "15      687527670                    12\n",
      "16      688152362                     9\n",
      "17      114512892                    79\n",
      "18      112905813                   111\n",
      "19             10                    74\n",
      "20      112905828                   397\n",
      "21      667481449                    43\n",
      "22              3                    51\n",
      "23      667481440                    43\n",
      "24      688152364                    44\n",
      "25      667481441                    43\n",
      "26      396673091                    70\n",
      "27      688152360                     7\n",
      "28      688152363                    44\n",
      "29              2                    12\n",
      "30      688152357                    43\n",
      "31      114512891                   303\n",
      "32      688152366                    26\n"
     ]
    }
   ],
   "source": [
    "#very clever name for a variable indicating exactly what it is used for.\n",
    "printme={'experiment id':[],'number of structures':[]}\n",
    "\n",
    "for i in structure_set[structure_set.columns[1]]:  #column 1 is id\n",
    "    printme['experiment id'].append(i)\n",
    "    printme['number of structures'].append(len(structure_tree.get_structures_by_set_id([i])))\n",
    "print pd.DataFrame(printme)"
   ]
  },
  {
   "cell_type": "markdown",
   "metadata": {},
   "source": [
    "# Maps\n",
    "\n",
    "Each structure can be denoted by all kinds of variables such as its id, acronym, or its full name. Therefore it is convenient to define maps that will take care of this. We want the map to function as a converter between variables.\n"
   ]
  },
  {
   "cell_type": "code",
   "execution_count": 20,
   "metadata": {},
   "outputs": [],
   "source": [
    "projection_structures_inj=pd.DataFrame(projection_structures_inj)\n",
    "\n",
    "acronym=projection_structures_inj['acronym'].values.tolist()\n",
    "acronym_to_id={}\n",
    "acronym_to_name={}\n",
    "acronym_to_volume={}\n",
    "id_to_idpath={}\n",
    "id_to_name={}\n",
    "\n",
    "for i in range(len(acronym)):\n",
    "    a=projection_structures_inj['acronym'][i] #structure acronym\n",
    "    b=projection_structures_inj['structure_id_path'][i][-1] #sturcture id\n",
    "    c=projection_structures_inj['name'][i] #structure name\n",
    "    d=projection_structures_inj['structure_id_path'][i] #structure id path\n",
    "    acronym_to_id[a]=b\n",
    "    acronym_to_name[a]=c\n",
    "    id_to_name[b]=c\n",
    "    id_to_idpath[b]=d\n"
   ]
  },
  {
   "cell_type": "markdown",
   "metadata": {},
   "source": [
    "### structure volumes\n",
    "\n",
    "as far as I am aware, getting the structure volume is not straight forward"
   ]
  },
  {
   "cell_type": "markdown",
   "metadata": {},
   "source": [
    "define inverse map for the dictionary"
   ]
  },
  {
   "cell_type": "code",
   "execution_count": 21,
   "metadata": {},
   "outputs": [],
   "source": [
    "def invert_me(arg):\n",
    "    \"\"\"inverts a map\n",
    "        args:\n",
    "            arg(dictionary): input dictionary\n",
    "        returns:\n",
    "            inverted input dictionary\"\"\"\n",
    "    return {v: k for k,v in arg.iteritems()}"
   ]
  },
  {
   "cell_type": "code",
   "execution_count": 22,
   "metadata": {},
   "outputs": [],
   "source": [
    "id_to_acronym=invert_me(acronym_to_id)\n",
    "name_to_acronym=invert_me(acronym_to_name)\n",
    "name_to_id=invert_me(id_to_name)"
   ]
  },
  {
   "cell_type": "markdown",
   "metadata": {},
   "source": [
    "Since the structures organized as trees, it would be nice to have a dictionary that can return all its daughter structures (or all structures beneath it). Hence here we define a dictionary that contains its direct substructures (only one level below): Substr"
   ]
  },
  {
   "cell_type": "code",
   "execution_count": 23,
   "metadata": {},
   "outputs": [
    {
     "data": {
      "text/plain": [
       "'structure_id_path'"
      ]
     },
     "execution_count": 23,
     "metadata": {},
     "output_type": "execute_result"
    }
   ],
   "source": [
    "projection_structures_inj.columns[-2]"
   ]
  },
  {
   "cell_type": "code",
   "execution_count": 24,
   "metadata": {},
   "outputs": [],
   "source": [
    "Substr={}\n",
    "Substr[997]=[]\n",
    "for acr in acronym:\n",
    "    Substr[acronym_to_id[acr]]=[]\n",
    "\n",
    "    \n",
    "unknown_structures=[]\n",
    "\n",
    "\n",
    "for i in projection_structures_inj['structure_id_path']:\n",
    "    try:\n",
    "        Substr[i[-2]].append(i[-1])\n",
    "    except:\n",
    "        unknown_structures.append(i[-2])"
   ]
  },
  {
   "cell_type": "code",
   "execution_count": 25,
   "metadata": {},
   "outputs": [
    {
     "data": {
      "text/plain": [
       "[81, 81]"
      ]
     },
     "execution_count": 25,
     "metadata": {},
     "output_type": "execute_result"
    }
   ],
   "source": [
    "unknown_structures"
   ]
  },
  {
   "cell_type": "markdown",
   "metadata": {},
   "source": [
    "Unknown structure with id 81"
   ]
  },
  {
   "cell_type": "markdown",
   "metadata": {},
   "source": [
    "Now we define functions that unpacks a list of all structures below a particular structure using Substr"
   ]
  },
  {
   "cell_type": "code",
   "execution_count": 26,
   "metadata": {},
   "outputs": [],
   "source": [
    "def Unpack(structure_id,MST,include_self=False):\n",
    "    \"\"\"returns a list of substructures of a given structure\n",
    "        args:\n",
    "            structures_id(int): id of the structure\n",
    "            MST(dictionary): My Structure Tree\n",
    "            include_self(bool): decide whether to include the initial structure, default=False\n",
    "        \n",
    "        returns:\n",
    "            king(list) \"\"\"\n",
    "    #Check for Error\n",
    "    #if int(structure_id)!=structure_id:\n",
    "    #    raise ValueError(\"not a valid structure_id. structure_id must be an integer\")\n",
    "    \n",
    "    \n",
    "    unpacked=[]\n",
    "    \n",
    "    \n",
    "    \n",
    "    def Unpack_(structure_id,MST):\n",
    "        \"\"\"Primarily used for 'recursion' of the unpack\"\"\"\n",
    "        \n",
    "        #check error\n",
    "        #if structure_id  in structure_id_list_exception:\n",
    "        #    raise ValueError(\"structure id not recognized\")\n",
    "         \n",
    "        leng=len(MST[structure_id])\n",
    "\n",
    "        if leng>=1:\n",
    "            unpacked.append(structure_id)\n",
    "            for i in MST[structure_id]:\n",
    "                Unpack_(i,MST)\n",
    "\n",
    "        elif leng==0:\n",
    "            unpacked.append(structure_id)\n",
    "        \n",
    "\n",
    "    Unpack_(structure_id,MST)\n",
    "    \n",
    "    if include_self:\n",
    "        pass\n",
    "    elif not include_self:\n",
    "        unpacked.remove(structure_id)\n",
    "    \n",
    "    return unpacked"
   ]
  },
  {
   "cell_type": "code",
   "execution_count": 27,
   "metadata": {},
   "outputs": [
    {
     "data": {
      "text/plain": [
       "549"
      ]
     },
     "execution_count": 27,
     "metadata": {},
     "output_type": "execute_result"
    }
   ],
   "source": [
    "name_to_id['Thalamus']"
   ]
  },
  {
   "cell_type": "code",
   "execution_count": 28,
   "metadata": {},
   "outputs": [
    {
     "data": {
      "text/plain": [
       "838"
      ]
     },
     "execution_count": 28,
     "metadata": {},
     "output_type": "execute_result"
    }
   ],
   "source": [
    "len(Unpack(997,Substr,include_self=False))"
   ]
  },
  {
   "cell_type": "markdown",
   "metadata": {},
   "source": [
    "## Injection Fraction \n",
    "\n",
    "We wish to find how many fractions of the total injection volume of an experiment belong to the structure of interest."
   ]
  },
  {
   "cell_type": "markdown",
   "metadata": {},
   "source": [
    "id_to_idpath defined earlier is not complete without structure id 997 and 0"
   ]
  },
  {
   "cell_type": "code",
   "execution_count": 29,
   "metadata": {},
   "outputs": [],
   "source": [
    "id_to_idpath[0]=[]\n",
    "id_to_idpath[997]=[997]\n",
    "\n",
    "structure_id_list_exception=[81]"
   ]
  },
  {
   "cell_type": "code",
   "execution_count": 30,
   "metadata": {},
   "outputs": [],
   "source": [
    "def create_structure_dictionary(annt_values,inj_density_values,include_density=True):\n",
    "    \"\"\"args:\n",
    "        annt_values: (array, int 32): array of structure ids obtained from annotation volume[injection_mask]\n",
    "        inj_density_values (array): \n",
    "        \n",
    "        returns:\n",
    "            structuer_dict(dictionary): a map from a structure id to its fraction in the injection volume\n",
    "            \"\"\"\n",
    "    \n",
    "    #check that annt_values and inj_density are the same size\n",
    "    if len(annt_values)!=len(inj_density_values):\n",
    "        raise ValueError('annt volume and inj density must be the same size')\n",
    "    \n",
    "    structure_dict={}\n",
    "    leng=len(annt_values)\n",
    "    exception_count=0\n",
    "    exception_id_list=[]\n",
    "    \n",
    "    if include_density:\n",
    "        \n",
    "        for i in range(leng):\n",
    "            \n",
    "            if annt_values[i] in structure_id_list_exception:\n",
    "                exception_id_list.append(annt)\n",
    "                pass\n",
    "            elif annt_values[i] not in structure_id_list_exception:\n",
    "                if annt_values[i] not in structure_dict:\n",
    "                    structure_dict[annt_values[i]]=0\n",
    "                elif annt_values[i] in structure_dict:\n",
    "                    structure_dict[annt_values[i]]+=inj_density_values[i]\n",
    "                    \n",
    "                    \n",
    "                    \n",
    "                    \n",
    "                    \n",
    "        #need to add the id of each superstructures of structure_dict\n",
    "        extra=[]\n",
    "        \n",
    "        for i in structure_dict:\n",
    "            try:\n",
    "                sup=id_to_id_path[i]\n",
    "                for j in sup:\n",
    "                    if j not in structure_dict:\n",
    "                        extra.append(j)\n",
    "            except:\n",
    "                exception_count+=1\n",
    "                pass\n",
    "        for i in extra:\n",
    "            structure_dict[i]=0\n",
    "                \n",
    "        return structure_dict,exception_count,exception_id_list\n",
    "    \n",
    "    \n",
    "    elif not include_density:\n",
    "        for i in arg:\n",
    "            try:\n",
    "                if i not in structure_dict:\n",
    "                    structure_dict[i]=0\n",
    "            except:\n",
    "                exception_count+=1\n",
    "                pass\n",
    "\n",
    "            if i in structure_dict:\n",
    "                structure_dict[i]+=1\n",
    "        return structure_dict,exception_count,exception_id_list\n",
    "    \n",
    "def generate_experiment_structure_fractions( experiment_list, annt,MST,include_density=True):\n",
    "    \"\"\"returns a dictionary that contains fraction information about the injection volume of the structure\"\"\"\n",
    "    \n",
    "    \"\"\"args:\n",
    "        experiment_list(list): list of experiment ids\n",
    "        annt (ndarray) annotation volume\n",
    "        include_density (bool): decide whether to calculate using the density of simple volume number.\n",
    "        Default=True\"\"\"\n",
    "    \n",
    "    #returning dictionary\n",
    "    return_dict={}\n",
    "    \n",
    "    #iterate over the given experiment list.\n",
    "    for i in experiment_list:\n",
    "        \n",
    "        #fetch injection density information\n",
    "        inj_density=mcc.get_injection_density(i)[0]\n",
    "        #create booleean array that is True on the injection sites\n",
    "        inj_density_bool=inj_density!=0.0\n",
    "        \n",
    "        #np.where returns a tuple (x,y,z) for 3d, which are to be unpacked immediately\n",
    "        a,b,c=np.where(inj_density_bool)\n",
    "        #using the voxel coordinates a,b,c, find density values at each coordinate. \n",
    "        inj_density_values=inj_density[a,b,c]\n",
    "        #and annotation values that contain id list\n",
    "        annt_values=annt[a,b,c]\n",
    "        \n",
    "        \n",
    "        \n",
    "        #call the function create_structure_dictionary that analyzies the fraction information\n",
    "        sub_dict,exception_count_sub,exception_id_list_sub=create_structure_dictionary(annt_values,inj_density_values,include_density=True)\n",
    "        \n",
    "        \n",
    "        \n",
    "        for p in sub_dict:\n",
    "            if not include_density:\n",
    "                leng=annt_values.shape[0]\n",
    "                sub_dict[p]=float(sub_dict[p])/leng\n",
    "            elif include_density:\n",
    "                #normalize the fraction\n",
    "                sub_dict[p]=float(sub_dict[p])/sum(inj_density_values)\n",
    "        \n",
    "        return_dict[i]=sub_dict\n",
    "    \n",
    "    exception_count=0\n",
    "    exception_id_list=[]\n",
    "    \n",
    "    # now add the fraction of substructures to the superstructure\n",
    "    #normal copy would not really 'copy' the dictionary. Thus use copy.deepcopy\n",
    "    return_dict_modified=copy.deepcopy(return_dict)\n",
    "    for i in return_dict:\n",
    "        for j in return_dict[i]:\n",
    "            #call unpack function to list all the substructures\n",
    "            if j in projection_structures_inj:\n",
    "                unpackedpre=Unpack(j,MST,include_self=True)\n",
    "\n",
    "                for k in unpackedpre:\n",
    "                    if j!=k:\n",
    "                        try:\n",
    "                            aa=return_dict[i][k].copy()\n",
    "                            return_dict_modified[i][j]+=aa\n",
    "                        except:\n",
    "                            exception_count+=1\n",
    "                            pass\n",
    "            else:\n",
    "                exception_count+=1\n",
    "                exception_id_list.append(j)\n",
    "                pass\n",
    "    return return_dict_modified,exception_count,exception_id_list,exception_count_sub,exception_id_list_sub\n",
    "\n",
    "def map_to_acronym(dict_):\n",
    "    return_dict={}\n",
    "    exception_count,exception_id=(0,[])\n",
    "    for i in dict_:\n",
    "        try:\n",
    "            return_dict[id_to_acronym[i]]=dict_[i]\n",
    "        except:\n",
    "            exception_count+1\n",
    "            exception_id.append(i)\n",
    "            pass\n",
    "    return return_dict"
   ]
  },
  {
   "cell_type": "code",
   "execution_count": 39,
   "metadata": {},
   "outputs": [
    {
     "name": "stdout",
     "output_type": "stream",
     "text": [
      "Computationally intensive (roughly 6-8 hours) Run? (y/n)y\n"
     ]
    },
    {
     "name": "stderr",
     "output_type": "stream",
     "text": [
      "2018-08-01 20:21:08,697 allensdk.api.api.retrieve_file_over_http INFO     Downloading URL: http://api.brain-map.org/grid_data/download_file/310035922?image=injection_density&resolution=25\n",
      "2018-08-01 20:23:52,525 allensdk.api.api.retrieve_file_over_http INFO     Downloading URL: http://api.brain-map.org/grid_data/download_file/313397385?image=injection_density&resolution=25\n",
      "2018-08-01 20:29:23,744 allensdk.api.api.retrieve_file_over_http INFO     Downloading URL: http://api.brain-map.org/grid_data/download_file/306561747?image=injection_density&resolution=25\n",
      "2018-08-01 20:31:36,211 allensdk.api.api.retrieve_file_over_http INFO     Downloading URL: http://api.brain-map.org/grid_data/download_file/307135126?image=injection_density&resolution=25\n",
      "2018-08-01 20:32:50,868 allensdk.api.api.retrieve_file_over_http INFO     Downloading URL: http://api.brain-map.org/grid_data/download_file/306804565?image=injection_density&resolution=25\n",
      "2018-08-01 20:35:47,736 allensdk.api.api.retrieve_file_over_http INFO     Downloading URL: http://api.brain-map.org/grid_data/download_file/306594263?image=injection_density&resolution=25\n",
      "2018-08-01 20:36:24,697 allensdk.api.api.retrieve_file_over_http INFO     Downloading URL: http://api.brain-map.org/grid_data/download_file/311432250?image=injection_density&resolution=25\n",
      "2018-08-01 20:39:02,910 allensdk.api.api.retrieve_file_over_http INFO     Downloading URL: http://api.brain-map.org/grid_data/download_file/307536665?image=injection_density&resolution=25\n",
      "2018-08-01 20:41:29,845 allensdk.api.api.retrieve_file_over_http INFO     Downloading URL: http://api.brain-map.org/grid_data/download_file/311431544?image=injection_density&resolution=25\n",
      "2018-08-01 20:46:04,071 allensdk.api.api.retrieve_file_over_http INFO     Downloading URL: http://api.brain-map.org/grid_data/download_file/306442200?image=injection_density&resolution=25\n",
      "2018-08-01 20:47:27,509 allensdk.api.api.retrieve_file_over_http INFO     Downloading URL: http://api.brain-map.org/grid_data/download_file/307535211?image=injection_density&resolution=25\n",
      "2018-08-01 20:48:31,266 allensdk.api.api.retrieve_file_over_http INFO     Downloading URL: http://api.brain-map.org/grid_data/download_file/306591960?image=injection_density&resolution=25\n",
      "2018-08-01 20:49:45,766 allensdk.api.api.retrieve_file_over_http INFO     Downloading URL: http://api.brain-map.org/grid_data/download_file/306442930?image=injection_density&resolution=25\n",
      "2018-08-01 20:50:49,776 allensdk.api.api.retrieve_file_over_http INFO     Downloading URL: http://api.brain-map.org/grid_data/download_file/307135833?image=injection_density&resolution=25\n",
      "2018-08-01 20:52:23,868 allensdk.api.api.retrieve_file_over_http INFO     Downloading URL: http://api.brain-map.org/grid_data/download_file/469786559?image=injection_density&resolution=25\n",
      "2018-08-01 20:52:53,493 allensdk.api.api.retrieve_file_over_http INFO     Downloading URL: http://api.brain-map.org/grid_data/download_file/306593557?image=injection_density&resolution=25\n",
      "2018-08-01 20:59:10,275 allensdk.api.api.retrieve_file_over_http INFO     Downloading URL: http://api.brain-map.org/grid_data/download_file/306358650?image=injection_density&resolution=25\n",
      "2018-08-01 21:00:06,430 allensdk.api.api.retrieve_file_over_http INFO     Downloading URL: http://api.brain-map.org/grid_data/download_file/329620919?image=injection_density&resolution=25\n",
      "2018-08-01 21:01:19,275 allensdk.api.api.retrieve_file_over_http INFO     Downloading URL: http://api.brain-map.org/grid_data/download_file/308120197?image=injection_density&resolution=25\n",
      "2018-08-01 21:01:41,993 allensdk.api.api.retrieve_file_over_http INFO     Downloading URL: http://api.brain-map.org/grid_data/download_file/311984542?image=injection_density&resolution=25\n",
      "2018-08-01 21:08:52,681 allensdk.api.api.retrieve_file_over_http INFO     Downloading URL: http://api.brain-map.org/grid_data/download_file/306928009?image=injection_density&resolution=25\n",
      "2018-08-01 21:09:54,573 allensdk.api.api.retrieve_file_over_http INFO     Downloading URL: http://api.brain-map.org/grid_data/download_file/312657373?image=injection_density&resolution=25\n",
      "2018-08-01 21:28:20,368 allensdk.api.api.retrieve_file_over_http INFO     Downloading URL: http://api.brain-map.org/grid_data/download_file/310154608?image=injection_density&resolution=25\n",
      "2018-08-01 21:30:01,032 allensdk.api.api.retrieve_file_over_http INFO     Downloading URL: http://api.brain-map.org/grid_data/download_file/307162398?image=injection_density&resolution=25\n",
      "2018-08-01 21:30:22,841 allensdk.api.api.retrieve_file_over_http INFO     Downloading URL: http://api.brain-map.org/grid_data/download_file/310589138?image=injection_density&resolution=25\n",
      "2018-08-01 21:34:16,421 allensdk.api.api.retrieve_file_over_http INFO     Downloading URL: http://api.brain-map.org/grid_data/download_file/471128751?image=injection_density&resolution=25\n",
      "2018-08-01 21:34:53,588 allensdk.api.api.retrieve_file_over_http INFO     Downloading URL: http://api.brain-map.org/grid_data/download_file/307023583?image=injection_density&resolution=25\n",
      "2018-08-01 21:39:19,977 allensdk.api.api.retrieve_file_over_http INFO     Downloading URL: http://api.brain-map.org/grid_data/download_file/471128008?image=injection_density&resolution=25\n",
      "2018-08-01 21:43:44,871 allensdk.api.api.retrieve_file_over_http INFO     Downloading URL: http://api.brain-map.org/grid_data/download_file/311330098?image=injection_density&resolution=25\n",
      "2018-08-01 21:43:55,196 allensdk.api.api.retrieve_file_over_http INFO     Downloading URL: http://api.brain-map.org/grid_data/download_file/397336956?image=injection_density&resolution=25\n",
      "2018-08-01 21:44:58,398 allensdk.api.api.retrieve_file_over_http INFO     Downloading URL: http://api.brain-map.org/grid_data/download_file/307027442?image=injection_density&resolution=25\n",
      "2018-08-01 21:45:32,674 allensdk.api.api.retrieve_file_over_http INFO     Downloading URL: http://api.brain-map.org/grid_data/download_file/312658094?image=injection_density&resolution=25\n",
      "2018-08-01 21:47:18,660 allensdk.api.api.retrieve_file_over_http INFO     Downloading URL: http://api.brain-map.org/grid_data/download_file/307024292?image=injection_density&resolution=25\n",
      "2018-08-01 21:49:11,941 allensdk.api.api.retrieve_file_over_http INFO     Downloading URL: http://api.brain-map.org/grid_data/download_file/397336241?image=injection_density&resolution=25\n",
      "2018-08-01 21:52:01,924 allensdk.api.api.retrieve_file_over_http INFO     Downloading URL: http://api.brain-map.org/grid_data/download_file/306097997?image=injection_density&resolution=25\n",
      "2018-08-01 21:56:05,915 allensdk.api.api.retrieve_file_over_http INFO     Downloading URL: http://api.brain-map.org/grid_data/download_file/306879536?image=injection_density&resolution=25\n",
      "2018-08-01 21:57:00,796 allensdk.api.api.retrieve_file_over_http INFO     Downloading URL: http://api.brain-map.org/grid_data/download_file/311547676?image=injection_density&resolution=25\n",
      "2018-08-01 21:59:18,190 allensdk.api.api.retrieve_file_over_http INFO     Downloading URL: http://api.brain-map.org/grid_data/download_file/306958034?image=injection_density&resolution=25\n",
      "2018-08-01 22:00:13,759 allensdk.api.api.retrieve_file_over_http INFO     Downloading URL: http://api.brain-map.org/grid_data/download_file/306881784?image=injection_density&resolution=25\n",
      "2018-08-01 22:01:24,494 allensdk.api.api.retrieve_file_over_http INFO     Downloading URL: http://api.brain-map.org/grid_data/download_file/310153196?image=injection_density&resolution=25\n",
      "2018-08-01 22:03:01,312 allensdk.api.api.retrieve_file_over_http INFO     Downloading URL: http://api.brain-map.org/grid_data/download_file/307161682?image=injection_density&resolution=25\n",
      "2018-08-01 22:03:49,953 allensdk.api.api.retrieve_file_over_http INFO     Downloading URL: http://api.brain-map.org/grid_data/download_file/306798836?image=injection_density&resolution=25\n",
      "2018-08-01 22:03:52,714 allensdk.api.api.retrieve_file_over_http INFO     Downloading URL: http://api.brain-map.org/grid_data/download_file/306051094?image=injection_density&resolution=25\n",
      "2018-08-01 22:05:23,150 allensdk.api.api.retrieve_file_over_http INFO     Downloading URL: http://api.brain-map.org/grid_data/download_file/306100134?image=injection_density&resolution=25\n"
     ]
    },
    {
     "name": "stderr",
     "output_type": "stream",
     "text": [
      "2018-08-01 22:05:44,838 allensdk.api.api.retrieve_file_over_http INFO     Downloading URL: http://api.brain-map.org/grid_data/download_file/307163104?image=injection_density&resolution=25\n",
      "2018-08-01 22:08:11,628 allensdk.api.api.retrieve_file_over_http INFO     Downloading URL: http://api.brain-map.org/grid_data/download_file/307137245?image=injection_density&resolution=25\n",
      "2018-08-01 22:11:08,164 allensdk.api.api.retrieve_file_over_http INFO     Downloading URL: http://api.brain-map.org/grid_data/download_file/306958740?image=injection_density&resolution=25\n",
      "2018-08-01 22:12:12,476 allensdk.api.api.retrieve_file_over_http INFO     Downloading URL: http://api.brain-map.org/grid_data/download_file/313387575?image=injection_density&resolution=25\n",
      "2018-08-01 22:15:37,227 allensdk.api.api.retrieve_file_over_http INFO     Downloading URL: http://api.brain-map.org/grid_data/download_file/310552598?image=injection_density&resolution=25\n",
      "2018-08-01 22:21:03,776 allensdk.api.api.retrieve_file_over_http INFO     Downloading URL: http://api.brain-map.org/grid_data/download_file/469531049?image=injection_density&resolution=25\n",
      "2018-08-01 22:21:30,023 allensdk.api.api.retrieve_file_over_http INFO     Downloading URL: http://api.brain-map.org/grid_data/download_file/306881077?image=injection_density&resolution=25\n",
      "2018-08-01 22:22:30,461 allensdk.api.api.retrieve_file_over_http INFO     Downloading URL: http://api.brain-map.org/grid_data/download_file/306928743?image=injection_density&resolution=25\n",
      "2018-08-01 22:22:40,954 allensdk.api.api.retrieve_file_over_http INFO     Downloading URL: http://api.brain-map.org/grid_data/download_file/308026737?image=injection_density&resolution=25\n",
      "2018-08-01 22:24:35,934 allensdk.api.api.retrieve_file_over_http INFO     Downloading URL: http://api.brain-map.org/grid_data/download_file/307026704?image=injection_density&resolution=25\n",
      "2018-08-01 22:25:01,736 allensdk.api.api.retrieve_file_over_http INFO     Downloading URL: http://api.brain-map.org/grid_data/download_file/306357894?image=injection_density&resolution=25\n",
      "2018-08-01 22:32:24,381 allensdk.api.api.retrieve_file_over_http INFO     Downloading URL: http://api.brain-map.org/grid_data/download_file/310153902?image=injection_density&resolution=25\n",
      "2018-08-01 22:34:19,233 allensdk.api.api.retrieve_file_over_http INFO     Downloading URL: http://api.brain-map.org/grid_data/download_file/306957248?image=injection_density&resolution=25\n",
      "2018-08-01 22:34:44,961 allensdk.api.api.retrieve_file_over_http INFO     Downloading URL: http://api.brain-map.org/grid_data/download_file/311983834?image=injection_density&resolution=25\n",
      "2018-08-01 22:38:26,651 allensdk.api.api.retrieve_file_over_http INFO     Downloading URL: http://api.brain-map.org/grid_data/download_file/306799543?image=injection_density&resolution=25\n",
      "2018-08-01 22:41:17,299 allensdk.api.api.retrieve_file_over_http INFO     Downloading URL: http://api.brain-map.org/grid_data/download_file/306930168?image=injection_density&resolution=25\n",
      "2018-08-01 22:46:39,651 allensdk.api.api.retrieve_file_over_http INFO     Downloading URL: http://api.brain-map.org/grid_data/download_file/311330805?image=injection_density&resolution=25\n",
      "2018-08-01 22:49:31,720 allensdk.api.api.retrieve_file_over_http INFO     Downloading URL: http://api.brain-map.org/grid_data/download_file/469531757?image=injection_density&resolution=25\n",
      "2018-08-01 22:52:27,352 allensdk.api.api.retrieve_file_over_http INFO     Downloading URL: http://api.brain-map.org/grid_data/download_file/306355992?image=injection_density&resolution=25\n",
      "2018-08-01 22:52:44,838 allensdk.api.api.retrieve_file_over_http INFO     Downloading URL: http://api.brain-map.org/grid_data/download_file/311923265?image=injection_density&resolution=25\n",
      "2018-08-01 22:52:59,180 allensdk.api.api.retrieve_file_over_http INFO     Downloading URL: http://api.brain-map.org/grid_data/download_file/313398094?image=injection_density&resolution=25\n",
      "2018-08-01 22:53:25,868 allensdk.api.api.retrieve_file_over_http INFO     Downloading URL: http://api.brain-map.org/grid_data/download_file/310157065?image=injection_density&resolution=25\n",
      "2018-08-01 22:53:36,869 allensdk.api.api.retrieve_file_over_http INFO     Downloading URL: http://api.brain-map.org/grid_data/download_file/306880368?image=injection_density&resolution=25\n",
      "2018-08-01 22:54:28,071 allensdk.api.api.retrieve_file_over_http INFO     Downloading URL: http://api.brain-map.org/grid_data/download_file/310037372?image=injection_density&resolution=25\n",
      "2018-08-01 22:55:46,101 allensdk.api.api.retrieve_file_over_http INFO     Downloading URL: http://api.brain-map.org/grid_data/download_file/311922557?image=injection_density&resolution=25\n",
      "2018-08-01 22:56:42,180 allensdk.api.api.retrieve_file_over_http INFO     Downloading URL: http://api.brain-map.org/grid_data/download_file/308120903?image=injection_density&resolution=25\n",
      "2018-08-01 22:58:42,555 allensdk.api.api.retrieve_file_over_http INFO     Downloading URL: http://api.brain-map.org/grid_data/download_file/310036630?image=injection_density&resolution=25\n"
     ]
    }
   ],
   "source": [
    "run=raw_input(\"Computationally intensive (roughly 6-8 hours) Run? (y/n)\")\n",
    "if run==\"y\":\n",
    "    Master_injection_fraction_dictionary={}\n",
    "    ec=0\n",
    "    ecl=[]\n",
    "\n",
    "    for i in experiment_list['id'].tolist():\n",
    "        ecp,ec,ecl,ecs,ecls=generate_experiment_structure_fractions([i],annt,Substr,include_density=True)\n",
    "        Master_injection_fraction_dictionary[i]=ecp[i]\n",
    "        \n",
    "elif run==\"n\":\n",
    "    print \"operation cancelled\"\n"
   ]
  },
  {
   "cell_type": "markdown",
   "metadata": {},
   "source": [
    "### Save & Load station"
   ]
  },
  {
   "cell_type": "code",
   "execution_count": 40,
   "metadata": {},
   "outputs": [
    {
     "name": "stdout",
     "output_type": "stream",
     "text": [
      "Save? (y/n)y\n"
     ]
    }
   ],
   "source": [
    "\"\"\"SAVE\"\"\"\n",
    "run=raw_input(\"Save? (y/n)\")\n",
    "\n",
    "if run==\"y\":\n",
    "    with open (\"Master_injection_fraction_dictionary\",'wb') as f:\n",
    "        pickle.dump(Master_injection_fraction_dictionary,f)\n",
    "    \n",
    "elif run==\"n\":\n",
    "    print \"operation cancelled\""
   ]
  },
  {
   "cell_type": "code",
   "execution_count": 32,
   "metadata": {},
   "outputs": [
    {
     "name": "stdout",
     "output_type": "stream",
     "text": [
      "Load? (y/n)y\n"
     ]
    }
   ],
   "source": [
    "\"\"\"Load\"\"\"\n",
    "run=raw_input(\"Load? (y/n)\")\n",
    "\n",
    "if run==\"y\":\n",
    "    Master_injection_fraction_dictionary={}\n",
    "    with open(\"Master_injection_fraction_dictionary\",'r') as f:\n",
    "        Master_injection_fraction_dictionary=pickle.load(f)\n",
    "elif run==\"n\":\n",
    "    print \"operation cancelled\""
   ]
  },
  {
   "cell_type": "markdown",
   "metadata": {},
   "source": [
    "## Reality Check\n",
    "\n",
    "make sure the fractions add up to no more than 1"
   ]
  },
  {
   "cell_type": "markdown",
   "metadata": {},
   "source": [
    "#### Filter \n"
   ]
  },
  {
   "cell_type": "code",
   "execution_count": 41,
   "metadata": {},
   "outputs": [
    {
     "data": {
      "text/plain": [
       "2995"
      ]
     },
     "execution_count": 41,
     "metadata": {},
     "output_type": "execute_result"
    }
   ],
   "source": [
    "len(Master_injection_fraction_dictionary)"
   ]
  },
  {
   "cell_type": "code",
   "execution_count": 42,
   "metadata": {},
   "outputs": [],
   "source": [
    "exception_count=0\n",
    "exception_list=[]\n",
    "\n",
    "for i in experiment_list['id'].values.tolist():\n",
    "    for j in Master_injection_fraction_dictionary[i]:\n",
    "        if Master_injection_fraction_dictionary[i][j]>1:\n",
    "            raise ValueError(\"A fraction cannot be larger than 1\")\n"
   ]
  },
  {
   "cell_type": "code",
   "execution_count": 43,
   "metadata": {},
   "outputs": [
    {
     "data": {
      "text/plain": [
       "0"
      ]
     },
     "execution_count": 43,
     "metadata": {},
     "output_type": "execute_result"
    }
   ],
   "source": [
    "len(exception_list)"
   ]
  },
  {
   "cell_type": "markdown",
   "metadata": {},
   "source": [
    "0 experiments are not valid keys for Master_injection_fraction_dictionary. Investigate"
   ]
  },
  {
   "cell_type": "markdown",
   "metadata": {},
   "source": [
    "For good reasons, we wish to remove experiments that are too close to one another. First get a map from experiment id to their injection_coordinates"
   ]
  },
  {
   "cell_type": "markdown",
   "metadata": {},
   "source": [
    "# Get Structure Volume"
   ]
  },
  {
   "cell_type": "code",
   "execution_count": 44,
   "metadata": {},
   "outputs": [],
   "source": [
    "def volume_dictionary_gen(acr_list):\n",
    "    \"\"\"based on input acronym list, return a dictionary that maps ID to its volume.\n",
    "    \n",
    "        This is a poor workaround the fact that I don't know how to import the volume data of the structure from the website.\n",
    "        I can only calculate the volume from the annotation files, but there are discrepencies between that and the unionization\n",
    "        records.\n",
    "    \n",
    "    args:\n",
    "        acr_list (list): input acronym list\n",
    "        \n",
    "    returns:\n",
    "        returndict(dictionary): map from id to its volume\n",
    "        exception_structure_acr (list) a list of structure that do not have the volume data available from this method\"\"\"\n",
    "    \n",
    "    returndict={}\n",
    "    exception_struct_acr=[]\n",
    "    \n",
    "    for i in acr_list:\n",
    "        \n",
    "        '''volume data is acquired through unionization.\n",
    "            From the experiment lists of a structure, I target itself and return its unionization records.\n",
    "            '''\n",
    "        struct=structure_tree.get_structures_by_acronym([i])[0]\n",
    "        struct_experiments=mcc.get_experiments(cre=None,\n",
    "                                              injection_structure_ids=[struct['id']])\n",
    "        \n",
    "        \n",
    "        '''If error, then it must be the case that the structure does not belong to any injection site.\n",
    "            I believe it is still possible for other structures to project to these regions, but for this particular analysis,\n",
    "            I ignore these structures.'''\n",
    "        try:\n",
    "            structure_unionizes=mcc.get_structure_unionizes( [e['id'] for e in struct_experiments],\n",
    "                                                          is_injection=None,\n",
    "                                                          structure_ids=[struct['id']], # all\n",
    "                                                          include_descendants=True,\n",
    "                                                           hemisphere_ids=[2])\n",
    "        except:\n",
    "            exception_struct_acr.append(i)\n",
    "            pass\n",
    "        \n",
    "        for j in range(len(structure_unionizes)):\n",
    "            a=structure_unionizes['structure_id'][j]\n",
    "            b=structure_unionizes['volume'][j]\n",
    "\n",
    "            if a not in returndict:\n",
    "                returndict[a]=b\n",
    "\n",
    "    return returndict,exception_struct_acr"
   ]
  },
  {
   "cell_type": "code",
   "execution_count": 45,
   "metadata": {},
   "outputs": [
    {
     "name": "stderr",
     "output_type": "stream",
     "text": [
      "C:\\Users\\Chris OBrien\\AppData\\Local\\conda\\conda\\envs\\p2\\lib\\site-packages\\allensdk\\api\\cache.py:335: FutureWarning: from_csv is deprecated. Please use read_csv(...) instead. Note that some of the default arguments are different, so please refer to the documentation for from_csv when changing your function calls\n",
      "  data = reader(path)\n"
     ]
    }
   ],
   "source": [
    "structure_unionizes=mcc.get_structure_unionizes( [e for e in list(experiment_list['id'])],\n",
    "                                                          is_injection=None,\n",
    "                                                          structure_ids=None, # all\n",
    "                                                          include_descendants=True,\n",
    "                                                           hemisphere_ids=[2])"
   ]
  },
  {
   "cell_type": "code",
   "execution_count": 46,
   "metadata": {},
   "outputs": [],
   "source": [
    "run=raw_input(\"computationally demanding. run? (y/n)\")\n",
    "\n",
    "if run==\"y\":\n",
    "\n",
    "    id_to_volume={}\n",
    "    str_id=structure_unionizes['structure_id']\n",
    "    str_vol=structure_unionizes['volume']\n",
    "    for i in range(len(str_id)):\n",
    "        if i not in id_to_volume.keys():\n",
    "            id_to_volume[str_id[i]]=str_vol[i]\n",
    "elif run ==\"n\"\n",
    "    rpint \"operation cancelled\""
   ]
  },
  {
   "cell_type": "code",
   "execution_count": 48,
   "metadata": {},
   "outputs": [
    {
     "data": {
      "text/plain": [
       "848"
      ]
     },
     "execution_count": 48,
     "metadata": {},
     "output_type": "execute_result"
    }
   ],
   "source": [
    "len(id_to_volume)"
   ]
  },
  {
   "cell_type": "code",
   "execution_count": 49,
   "metadata": {},
   "outputs": [
    {
     "name": "stdout",
     "output_type": "stream",
     "text": [
      "Save? (y/n)y\n"
     ]
    }
   ],
   "source": [
    "\"\"\"SAVE\"\"\"\n",
    "run=raw_input(\"Save? (y/n)\")\n",
    "\n",
    "if run==\"y\":\n",
    "    with open (\"id_to_volume\",'wb') as f:\n",
    "        pickle.dump(id_to_volume,f)\n",
    "    \n",
    "elif run==\"n\":\n",
    "    print \"operation cancelled\""
   ]
  },
  {
   "cell_type": "code",
   "execution_count": null,
   "metadata": {},
   "outputs": [],
   "source": [
    "\"\"\"Load\"\"\"\n",
    "run=raw_input(\"Load? (y/n)\")\n",
    "\n",
    "if run==\"y\":\n",
    "    with open(\"id_to_volume\",'r') as f:\n",
    "        id_to_volume=pickle.load(f)\n",
    "elif run==\"n\":\n",
    "    print \"operation cancelled\""
   ]
  },
  {
   "cell_type": "code",
   "execution_count": 50,
   "metadata": {},
   "outputs": [],
   "source": [
    "id_to_inj_coord=structure_tree"
   ]
  },
  {
   "cell_type": "code",
   "execution_count": 51,
   "metadata": {},
   "outputs": [],
   "source": [
    "sinj=structure_tree.get_structures_by_acronym(['SCm'])[0]"
   ]
  },
  {
   "cell_type": "code",
   "execution_count": 52,
   "metadata": {},
   "outputs": [],
   "source": [
    "sinj_experiments=mcc.get_experiments(cre=None,\n",
    "                                         injection_structure_ids=[sinj['id']])"
   ]
  },
  {
   "cell_type": "code",
   "execution_count": 53,
   "metadata": {},
   "outputs": [],
   "source": [
    "unionizes=mcc.get_structure_unionizes([ep['id'] for ep in sinj_experiments],\n",
    "                                         is_injection=False,\n",
    "                                         structure_ids=[acronym_to_id['AP']],\n",
    "                                         include_descendants=False,\n",
    "                                         hemisphere_ids=[2])"
   ]
  },
  {
   "cell_type": "code",
   "execution_count": 54,
   "metadata": {},
   "outputs": [
    {
     "data": {
      "text/html": [
       "<div>\n",
       "<style scoped>\n",
       "    .dataframe tbody tr th:only-of-type {\n",
       "        vertical-align: middle;\n",
       "    }\n",
       "\n",
       "    .dataframe tbody tr th {\n",
       "        vertical-align: top;\n",
       "    }\n",
       "\n",
       "    .dataframe thead th {\n",
       "        text-align: right;\n",
       "    }\n",
       "</style>\n",
       "<table border=\"1\" class=\"dataframe\">\n",
       "  <thead>\n",
       "    <tr style=\"text-align: right;\">\n",
       "      <th></th>\n",
       "      <th>hemisphere_id</th>\n",
       "      <th>id</th>\n",
       "      <th>is_injection</th>\n",
       "      <th>max_voxel_density</th>\n",
       "      <th>max_voxel_x</th>\n",
       "      <th>max_voxel_y</th>\n",
       "      <th>max_voxel_z</th>\n",
       "      <th>normalized_projection_volume</th>\n",
       "      <th>projection_density</th>\n",
       "      <th>projection_energy</th>\n",
       "      <th>projection_intensity</th>\n",
       "      <th>projection_volume</th>\n",
       "      <th>experiment_id</th>\n",
       "      <th>structure_id</th>\n",
       "      <th>sum_pixel_intensity</th>\n",
       "      <th>sum_pixels</th>\n",
       "      <th>sum_projection_pixel_intensity</th>\n",
       "      <th>sum_projection_pixels</th>\n",
       "      <th>volume</th>\n",
       "    </tr>\n",
       "  </thead>\n",
       "  <tbody>\n",
       "    <tr>\n",
       "      <th>0</th>\n",
       "      <td>2</td>\n",
       "      <td>636051208</td>\n",
       "      <td>False</td>\n",
       "      <td>0.000000</td>\n",
       "      <td>0</td>\n",
       "      <td>0</td>\n",
       "      <td>0</td>\n",
       "      <td>0.000000e+00</td>\n",
       "      <td>0.000000</td>\n",
       "      <td>0.000000</td>\n",
       "      <td>0.000000</td>\n",
       "      <td>0.000000e+00</td>\n",
       "      <td>305025440</td>\n",
       "      <td>207</td>\n",
       "      <td>2.229142e+09</td>\n",
       "      <td>23752800.0</td>\n",
       "      <td>0.000000</td>\n",
       "      <td>0.000000</td>\n",
       "      <td>0.029097</td>\n",
       "    </tr>\n",
       "    <tr>\n",
       "      <th>1</th>\n",
       "      <td>2</td>\n",
       "      <td>631773396</td>\n",
       "      <td>False</td>\n",
       "      <td>0.010808</td>\n",
       "      <td>12830</td>\n",
       "      <td>5060</td>\n",
       "      <td>5920</td>\n",
       "      <td>2.933789e-07</td>\n",
       "      <td>0.000006</td>\n",
       "      <td>0.000554</td>\n",
       "      <td>94.313469</td>\n",
       "      <td>1.707713e-07</td>\n",
       "      <td>292533477</td>\n",
       "      <td>207</td>\n",
       "      <td>1.712106e+09</td>\n",
       "      <td>23752800.0</td>\n",
       "      <td>13147.783203</td>\n",
       "      <td>139.405151</td>\n",
       "      <td>0.029097</td>\n",
       "    </tr>\n",
       "    <tr>\n",
       "      <th>2</th>\n",
       "      <td>2</td>\n",
       "      <td>634324454</td>\n",
       "      <td>False</td>\n",
       "      <td>0.000000</td>\n",
       "      <td>0</td>\n",
       "      <td>0</td>\n",
       "      <td>0</td>\n",
       "      <td>0.000000e+00</td>\n",
       "      <td>0.000000</td>\n",
       "      <td>0.000000</td>\n",
       "      <td>0.000000</td>\n",
       "      <td>0.000000e+00</td>\n",
       "      <td>307656580</td>\n",
       "      <td>207</td>\n",
       "      <td>4.448998e+09</td>\n",
       "      <td>23752800.0</td>\n",
       "      <td>0.000000</td>\n",
       "      <td>0.000000</td>\n",
       "      <td>0.029097</td>\n",
       "    </tr>\n",
       "    <tr>\n",
       "      <th>3</th>\n",
       "      <td>2</td>\n",
       "      <td>636038636</td>\n",
       "      <td>False</td>\n",
       "      <td>0.000000</td>\n",
       "      <td>0</td>\n",
       "      <td>0</td>\n",
       "      <td>0</td>\n",
       "      <td>0.000000e+00</td>\n",
       "      <td>0.000000</td>\n",
       "      <td>0.000000</td>\n",
       "      <td>0.000000</td>\n",
       "      <td>0.000000e+00</td>\n",
       "      <td>305446876</td>\n",
       "      <td>207</td>\n",
       "      <td>1.769696e+08</td>\n",
       "      <td>23752800.0</td>\n",
       "      <td>0.000000</td>\n",
       "      <td>0.000000</td>\n",
       "      <td>0.029097</td>\n",
       "    </tr>\n",
       "    <tr>\n",
       "      <th>4</th>\n",
       "      <td>2</td>\n",
       "      <td>631855933</td>\n",
       "      <td>False</td>\n",
       "      <td>0.000000</td>\n",
       "      <td>0</td>\n",
       "      <td>0</td>\n",
       "      <td>0</td>\n",
       "      <td>0.000000e+00</td>\n",
       "      <td>0.000000</td>\n",
       "      <td>0.000000</td>\n",
       "      <td>0.000000</td>\n",
       "      <td>0.000000e+00</td>\n",
       "      <td>294174290</td>\n",
       "      <td>207</td>\n",
       "      <td>1.927530e+08</td>\n",
       "      <td>23752800.0</td>\n",
       "      <td>0.000000</td>\n",
       "      <td>0.000000</td>\n",
       "      <td>0.029097</td>\n",
       "    </tr>\n",
       "    <tr>\n",
       "      <th>5</th>\n",
       "      <td>2</td>\n",
       "      <td>629972063</td>\n",
       "      <td>False</td>\n",
       "      <td>0.051576</td>\n",
       "      <td>12760</td>\n",
       "      <td>4930</td>\n",
       "      <td>5840</td>\n",
       "      <td>1.489958e-05</td>\n",
       "      <td>0.000157</td>\n",
       "      <td>0.014939</td>\n",
       "      <td>95.313133</td>\n",
       "      <td>4.560632e-06</td>\n",
       "      <td>175158132</td>\n",
       "      <td>207</td>\n",
       "      <td>2.521453e+09</td>\n",
       "      <td>23752800.0</td>\n",
       "      <td>354847.437500</td>\n",
       "      <td>3722.964844</td>\n",
       "      <td>0.029097</td>\n",
       "    </tr>\n",
       "    <tr>\n",
       "      <th>6</th>\n",
       "      <td>2</td>\n",
       "      <td>631919895</td>\n",
       "      <td>False</td>\n",
       "      <td>0.021249</td>\n",
       "      <td>12950</td>\n",
       "      <td>5130</td>\n",
       "      <td>5730</td>\n",
       "      <td>3.502646e-06</td>\n",
       "      <td>0.000011</td>\n",
       "      <td>0.000997</td>\n",
       "      <td>94.791611</td>\n",
       "      <td>3.061630e-07</td>\n",
       "      <td>278511717</td>\n",
       "      <td>207</td>\n",
       "      <td>2.268692e+09</td>\n",
       "      <td>23752800.0</td>\n",
       "      <td>23691.171875</td>\n",
       "      <td>249.928986</td>\n",
       "      <td>0.029097</td>\n",
       "    </tr>\n",
       "    <tr>\n",
       "      <th>7</th>\n",
       "      <td>2</td>\n",
       "      <td>630384216</td>\n",
       "      <td>False</td>\n",
       "      <td>0.035377</td>\n",
       "      <td>12400</td>\n",
       "      <td>4850</td>\n",
       "      <td>5820</td>\n",
       "      <td>8.376689e-05</td>\n",
       "      <td>0.000110</td>\n",
       "      <td>0.016814</td>\n",
       "      <td>152.640976</td>\n",
       "      <td>3.205130e-06</td>\n",
       "      <td>182613651</td>\n",
       "      <td>207</td>\n",
       "      <td>8.299907e+08</td>\n",
       "      <td>23752800.0</td>\n",
       "      <td>399374.875000</td>\n",
       "      <td>2616.432861</td>\n",
       "      <td>0.029097</td>\n",
       "    </tr>\n",
       "    <tr>\n",
       "      <th>8</th>\n",
       "      <td>2</td>\n",
       "      <td>633672424</td>\n",
       "      <td>False</td>\n",
       "      <td>0.000000</td>\n",
       "      <td>0</td>\n",
       "      <td>0</td>\n",
       "      <td>0</td>\n",
       "      <td>0.000000e+00</td>\n",
       "      <td>0.000000</td>\n",
       "      <td>0.000000</td>\n",
       "      <td>0.000000</td>\n",
       "      <td>0.000000e+00</td>\n",
       "      <td>126646502</td>\n",
       "      <td>207</td>\n",
       "      <td>1.794206e+09</td>\n",
       "      <td>23752800.0</td>\n",
       "      <td>0.000000</td>\n",
       "      <td>0.000000</td>\n",
       "      <td>0.029097</td>\n",
       "    </tr>\n",
       "    <tr>\n",
       "      <th>9</th>\n",
       "      <td>2</td>\n",
       "      <td>633854016</td>\n",
       "      <td>False</td>\n",
       "      <td>0.047275</td>\n",
       "      <td>12800</td>\n",
       "      <td>4980</td>\n",
       "      <td>5920</td>\n",
       "      <td>1.328558e-05</td>\n",
       "      <td>0.000178</td>\n",
       "      <td>0.009861</td>\n",
       "      <td>55.241928</td>\n",
       "      <td>5.193812e-06</td>\n",
       "      <td>146078721</td>\n",
       "      <td>207</td>\n",
       "      <td>9.165370e+08</td>\n",
       "      <td>23752800.0</td>\n",
       "      <td>234217.312500</td>\n",
       "      <td>4239.846680</td>\n",
       "      <td>0.029097</td>\n",
       "    </tr>\n",
       "    <tr>\n",
       "      <th>10</th>\n",
       "      <td>2</td>\n",
       "      <td>631512351</td>\n",
       "      <td>False</td>\n",
       "      <td>0.008483</td>\n",
       "      <td>12430</td>\n",
       "      <td>4880</td>\n",
       "      <td>5810</td>\n",
       "      <td>2.997590e-05</td>\n",
       "      <td>0.000012</td>\n",
       "      <td>0.000838</td>\n",
       "      <td>70.340828</td>\n",
       "      <td>3.466142e-07</td>\n",
       "      <td>183376269</td>\n",
       "      <td>207</td>\n",
       "      <td>2.432272e+09</td>\n",
       "      <td>23752800.0</td>\n",
       "      <td>19902.960938</td>\n",
       "      <td>282.950348</td>\n",
       "      <td>0.029097</td>\n",
       "    </tr>\n",
       "    <tr>\n",
       "      <th>11</th>\n",
       "      <td>2</td>\n",
       "      <td>633759137</td>\n",
       "      <td>False</td>\n",
       "      <td>0.030428</td>\n",
       "      <td>12650</td>\n",
       "      <td>4900</td>\n",
       "      <td>5940</td>\n",
       "      <td>3.130310e-06</td>\n",
       "      <td>0.000031</td>\n",
       "      <td>0.008034</td>\n",
       "      <td>262.053772</td>\n",
       "      <td>8.920852e-07</td>\n",
       "      <td>128001349</td>\n",
       "      <td>207</td>\n",
       "      <td>3.007958e+09</td>\n",
       "      <td>23752800.0</td>\n",
       "      <td>190836.171875</td>\n",
       "      <td>728.232849</td>\n",
       "      <td>0.029097</td>\n",
       "    </tr>\n",
       "    <tr>\n",
       "      <th>12</th>\n",
       "      <td>2</td>\n",
       "      <td>631067978</td>\n",
       "      <td>False</td>\n",
       "      <td>0.020398</td>\n",
       "      <td>12700</td>\n",
       "      <td>4940</td>\n",
       "      <td>5980</td>\n",
       "      <td>1.261306e-05</td>\n",
       "      <td>0.000014</td>\n",
       "      <td>0.001652</td>\n",
       "      <td>116.008965</td>\n",
       "      <td>4.144484e-07</td>\n",
       "      <td>278513131</td>\n",
       "      <td>207</td>\n",
       "      <td>1.541281e+08</td>\n",
       "      <td>23752800.0</td>\n",
       "      <td>39248.761719</td>\n",
       "      <td>338.325256</td>\n",
       "      <td>0.029097</td>\n",
       "    </tr>\n",
       "    <tr>\n",
       "      <th>13</th>\n",
       "      <td>2</td>\n",
       "      <td>634999555</td>\n",
       "      <td>False</td>\n",
       "      <td>0.049765</td>\n",
       "      <td>12840</td>\n",
       "      <td>5010</td>\n",
       "      <td>5760</td>\n",
       "      <td>4.282867e-05</td>\n",
       "      <td>0.000369</td>\n",
       "      <td>0.034948</td>\n",
       "      <td>94.638802</td>\n",
       "      <td>1.074507e-05</td>\n",
       "      <td>523178542</td>\n",
       "      <td>207</td>\n",
       "      <td>1.435651e+09</td>\n",
       "      <td>23752800.0</td>\n",
       "      <td>830122.875000</td>\n",
       "      <td>8771.485352</td>\n",
       "      <td>0.029097</td>\n",
       "    </tr>\n",
       "    <tr>\n",
       "      <th>14</th>\n",
       "      <td>2</td>\n",
       "      <td>633509036</td>\n",
       "      <td>False</td>\n",
       "      <td>0.016065</td>\n",
       "      <td>12390</td>\n",
       "      <td>4880</td>\n",
       "      <td>5900</td>\n",
       "      <td>1.102314e-07</td>\n",
       "      <td>0.000003</td>\n",
       "      <td>0.000528</td>\n",
       "      <td>202.195251</td>\n",
       "      <td>7.603122e-08</td>\n",
       "      <td>126523066</td>\n",
       "      <td>207</td>\n",
       "      <td>2.095898e+09</td>\n",
       "      <td>23752800.0</td>\n",
       "      <td>12549.511719</td>\n",
       "      <td>62.066303</td>\n",
       "      <td>0.029097</td>\n",
       "    </tr>\n",
       "    <tr>\n",
       "      <th>15</th>\n",
       "      <td>2</td>\n",
       "      <td>628208464</td>\n",
       "      <td>False</td>\n",
       "      <td>0.000000</td>\n",
       "      <td>0</td>\n",
       "      <td>0</td>\n",
       "      <td>0</td>\n",
       "      <td>0.000000e+00</td>\n",
       "      <td>0.000000</td>\n",
       "      <td>0.000000</td>\n",
       "      <td>0.000000</td>\n",
       "      <td>0.000000e+00</td>\n",
       "      <td>167118084</td>\n",
       "      <td>207</td>\n",
       "      <td>1.518772e+09</td>\n",
       "      <td>23752800.0</td>\n",
       "      <td>0.000000</td>\n",
       "      <td>0.000000</td>\n",
       "      <td>0.029097</td>\n",
       "    </tr>\n",
       "    <tr>\n",
       "      <th>16</th>\n",
       "      <td>2</td>\n",
       "      <td>634100835</td>\n",
       "      <td>False</td>\n",
       "      <td>0.036553</td>\n",
       "      <td>12770</td>\n",
       "      <td>4990</td>\n",
       "      <td>5910</td>\n",
       "      <td>1.293777e-05</td>\n",
       "      <td>0.000017</td>\n",
       "      <td>0.006924</td>\n",
       "      <td>395.999969</td>\n",
       "      <td>5.087960e-07</td>\n",
       "      <td>307691605</td>\n",
       "      <td>207</td>\n",
       "      <td>2.424288e+09</td>\n",
       "      <td>23752800.0</td>\n",
       "      <td>164476.093750</td>\n",
       "      <td>415.343689</td>\n",
       "      <td>0.029097</td>\n",
       "    </tr>\n",
       "  </tbody>\n",
       "</table>\n",
       "</div>"
      ],
      "text/plain": [
       "    hemisphere_id         id  is_injection  max_voxel_density  max_voxel_x  \\\n",
       "0               2  636051208         False           0.000000            0   \n",
       "1               2  631773396         False           0.010808        12830   \n",
       "2               2  634324454         False           0.000000            0   \n",
       "3               2  636038636         False           0.000000            0   \n",
       "4               2  631855933         False           0.000000            0   \n",
       "5               2  629972063         False           0.051576        12760   \n",
       "6               2  631919895         False           0.021249        12950   \n",
       "7               2  630384216         False           0.035377        12400   \n",
       "8               2  633672424         False           0.000000            0   \n",
       "9               2  633854016         False           0.047275        12800   \n",
       "10              2  631512351         False           0.008483        12430   \n",
       "11              2  633759137         False           0.030428        12650   \n",
       "12              2  631067978         False           0.020398        12700   \n",
       "13              2  634999555         False           0.049765        12840   \n",
       "14              2  633509036         False           0.016065        12390   \n",
       "15              2  628208464         False           0.000000            0   \n",
       "16              2  634100835         False           0.036553        12770   \n",
       "\n",
       "    max_voxel_y  max_voxel_z  normalized_projection_volume  \\\n",
       "0             0            0                  0.000000e+00   \n",
       "1          5060         5920                  2.933789e-07   \n",
       "2             0            0                  0.000000e+00   \n",
       "3             0            0                  0.000000e+00   \n",
       "4             0            0                  0.000000e+00   \n",
       "5          4930         5840                  1.489958e-05   \n",
       "6          5130         5730                  3.502646e-06   \n",
       "7          4850         5820                  8.376689e-05   \n",
       "8             0            0                  0.000000e+00   \n",
       "9          4980         5920                  1.328558e-05   \n",
       "10         4880         5810                  2.997590e-05   \n",
       "11         4900         5940                  3.130310e-06   \n",
       "12         4940         5980                  1.261306e-05   \n",
       "13         5010         5760                  4.282867e-05   \n",
       "14         4880         5900                  1.102314e-07   \n",
       "15            0            0                  0.000000e+00   \n",
       "16         4990         5910                  1.293777e-05   \n",
       "\n",
       "    projection_density  projection_energy  projection_intensity  \\\n",
       "0             0.000000           0.000000              0.000000   \n",
       "1             0.000006           0.000554             94.313469   \n",
       "2             0.000000           0.000000              0.000000   \n",
       "3             0.000000           0.000000              0.000000   \n",
       "4             0.000000           0.000000              0.000000   \n",
       "5             0.000157           0.014939             95.313133   \n",
       "6             0.000011           0.000997             94.791611   \n",
       "7             0.000110           0.016814            152.640976   \n",
       "8             0.000000           0.000000              0.000000   \n",
       "9             0.000178           0.009861             55.241928   \n",
       "10            0.000012           0.000838             70.340828   \n",
       "11            0.000031           0.008034            262.053772   \n",
       "12            0.000014           0.001652            116.008965   \n",
       "13            0.000369           0.034948             94.638802   \n",
       "14            0.000003           0.000528            202.195251   \n",
       "15            0.000000           0.000000              0.000000   \n",
       "16            0.000017           0.006924            395.999969   \n",
       "\n",
       "    projection_volume  experiment_id  structure_id  sum_pixel_intensity  \\\n",
       "0        0.000000e+00      305025440           207         2.229142e+09   \n",
       "1        1.707713e-07      292533477           207         1.712106e+09   \n",
       "2        0.000000e+00      307656580           207         4.448998e+09   \n",
       "3        0.000000e+00      305446876           207         1.769696e+08   \n",
       "4        0.000000e+00      294174290           207         1.927530e+08   \n",
       "5        4.560632e-06      175158132           207         2.521453e+09   \n",
       "6        3.061630e-07      278511717           207         2.268692e+09   \n",
       "7        3.205130e-06      182613651           207         8.299907e+08   \n",
       "8        0.000000e+00      126646502           207         1.794206e+09   \n",
       "9        5.193812e-06      146078721           207         9.165370e+08   \n",
       "10       3.466142e-07      183376269           207         2.432272e+09   \n",
       "11       8.920852e-07      128001349           207         3.007958e+09   \n",
       "12       4.144484e-07      278513131           207         1.541281e+08   \n",
       "13       1.074507e-05      523178542           207         1.435651e+09   \n",
       "14       7.603122e-08      126523066           207         2.095898e+09   \n",
       "15       0.000000e+00      167118084           207         1.518772e+09   \n",
       "16       5.087960e-07      307691605           207         2.424288e+09   \n",
       "\n",
       "    sum_pixels  sum_projection_pixel_intensity  sum_projection_pixels  \\\n",
       "0   23752800.0                        0.000000               0.000000   \n",
       "1   23752800.0                    13147.783203             139.405151   \n",
       "2   23752800.0                        0.000000               0.000000   \n",
       "3   23752800.0                        0.000000               0.000000   \n",
       "4   23752800.0                        0.000000               0.000000   \n",
       "5   23752800.0                   354847.437500            3722.964844   \n",
       "6   23752800.0                    23691.171875             249.928986   \n",
       "7   23752800.0                   399374.875000            2616.432861   \n",
       "8   23752800.0                        0.000000               0.000000   \n",
       "9   23752800.0                   234217.312500            4239.846680   \n",
       "10  23752800.0                    19902.960938             282.950348   \n",
       "11  23752800.0                   190836.171875             728.232849   \n",
       "12  23752800.0                    39248.761719             338.325256   \n",
       "13  23752800.0                   830122.875000            8771.485352   \n",
       "14  23752800.0                    12549.511719              62.066303   \n",
       "15  23752800.0                        0.000000               0.000000   \n",
       "16  23752800.0                   164476.093750             415.343689   \n",
       "\n",
       "      volume  \n",
       "0   0.029097  \n",
       "1   0.029097  \n",
       "2   0.029097  \n",
       "3   0.029097  \n",
       "4   0.029097  \n",
       "5   0.029097  \n",
       "6   0.029097  \n",
       "7   0.029097  \n",
       "8   0.029097  \n",
       "9   0.029097  \n",
       "10  0.029097  \n",
       "11  0.029097  \n",
       "12  0.029097  \n",
       "13  0.029097  \n",
       "14  0.029097  \n",
       "15  0.029097  \n",
       "16  0.029097  "
      ]
     },
     "execution_count": 54,
     "metadata": {},
     "output_type": "execute_result"
    }
   ],
   "source": [
    "unionizes"
   ]
  },
  {
   "cell_type": "code",
   "execution_count": 55,
   "metadata": {},
   "outputs": [],
   "source": [
    "import csv \n",
    "\n",
    "expid_to_inj_coord={}\n",
    "expid_to_inj_volume={}\n",
    "\n",
    "with open(\"projection_search_results.csv\",'rb') as f:\n",
    "    full_proj_search=csv.reader(f,delimiter=',')\n",
    "    \n",
    "    for row in full_proj_search:\n",
    "        expid_to_inj_coord[row[0]]=row[14]\n",
    "        expid_to_inj_volume[row[0]]=row[7]"
   ]
  },
  {
   "cell_type": "code",
   "execution_count": 56,
   "metadata": {},
   "outputs": [],
   "source": [
    "eic=expid_to_inj_coord"
   ]
  },
  {
   "cell_type": "code",
   "execution_count": 57,
   "metadata": {},
   "outputs": [],
   "source": [
    "expid_to_injcoord_int={}\n",
    "for i in eic:\n",
    "    if eic[i]!='injection-coordinates':\n",
    "        expid_to_injcoord_int[int(i)]=[int(j) for j in eic[i][1:-1].split(',')]"
   ]
  },
  {
   "cell_type": "code",
   "execution_count": 58,
   "metadata": {},
   "outputs": [],
   "source": [
    "expid_to_injcoordsquare={}\n",
    "eic=expid_to_injcoord_int\n",
    "for i in eic.keys():\n",
    "    expid_to_injcoordsquare[i]=eic[i][0]**2+eic[i][1]**2+eic[i][2]**2"
   ]
  },
  {
   "cell_type": "code",
   "execution_count": 59,
   "metadata": {},
   "outputs": [],
   "source": [
    "eics=expid_to_injcoordsquare"
   ]
  },
  {
   "cell_type": "code",
   "execution_count": 61,
   "metadata": {},
   "outputs": [],
   "source": [
    "expid_to_inj_volume_int={}\n",
    "for i in expid_to_inj_volume:\n",
    "    if expid_to_inj_volume[i]!='injection-volume':\n",
    "        expid_to_inj_volume_int[int(i)]=float(expid_to_inj_volume[i])"
   ]
  },
  {
   "cell_type": "markdown",
   "metadata": {},
   "source": [
    "inj volume"
   ]
  },
  {
   "cell_type": "code",
   "execution_count": 182,
   "metadata": {},
   "outputs": [],
   "source": [
    "def sum_proj(inj,target,hemisphere=[2],r1=0.1,r2=1.0):\n",
    "    \"\"\"\n",
    "    args:\n",
    "        inj (str): acronmy of the injection site\n",
    "        target (str): acronym of the target structures\n",
    "    \n",
    "    returns:\n",
    "    \"\"\"\n",
    "    \n",
    "    #if not reciprocal:\n",
    "    #    pass\n",
    "    #elif reciprocal:\n",
    "    #    save=inj\n",
    "    #    inj=target\n",
    "    #    target=save\n",
    "        \n",
    "    #1. get projection search results\n",
    "    sinj=structure_tree.get_structures_by_acronym([inj])[0]\n",
    "    starget=structure_tree.get_structures_by_acronym([target])[0]\n",
    "    \n",
    "    sinj_experiments=mcc.get_experiments(cre=None,\n",
    "                                         injection_structure_ids=[sinj['id']])\n",
    "    \n",
    "    \n",
    "    \n",
    "    if len(sinj_experiments)==0:\n",
    "        raise ValueError( 'No experiments exist for this structure')\n",
    "        \n",
    "    unionizes=mcc.get_structure_unionizes([ep['id'] for ep in sinj_experiments],\n",
    "                                         is_injection=False,\n",
    "                                         structure_ids=[starget['id']],\n",
    "                                         include_descendants=False,\n",
    "                                         hemisphere_ids=hemisphere)\n",
    "    exception_count=0.0\n",
    "    \n",
    "    #2. using unionized records, get experiments id and its associated projection volume\n",
    "    # from sinj to target\n",
    "    a=unionizes['experiment_id']\n",
    "    b=unionizes['projection_volume']\n",
    "    \n",
    "    #3. try fetching the volume data for the injection structure. return error otherwise\n",
    "    try:\n",
    "        sinj_structure_vol=float(id_to_volume[acronym_to_id[inj]])/2\n",
    "    except:\n",
    "        raise ValueError('Volume data does not exist for this structure')\n",
    "    \n",
    "    _error,__error,___error=0.0,0.0,0.0\n",
    "    \n",
    "    proj_sum=0.0\n",
    "    tot_injection_volume_fraction=0.0\n",
    "    \n",
    "    for i in range(len(a)):\n",
    "        p=i\n",
    "        \n",
    "        if float(expid_to_inj_volume_int[a[p]])>=r1 and float(expid_to_inj_volume_int[a[p]])<=r2:\n",
    "            #proj sum = proj volume * fraction of the sinj region\n",
    "            c1=float(b[p])\n",
    "            #c2=float(Master_injection_fraction_dictionary[a[p]][acronym_to_id[inj]])\n",
    "            proj_sum+=c1\n",
    "            \n",
    "            c3=float(expid_to_inj_volume_int[a[p]])\n",
    "            #c4=float(Master_injection_fraction_dictionary[a[p]][acronym_to_id[inj]])\n",
    "            tot_injection_volume_fraction+=c3\n",
    "            \n",
    "    if tot_injection_volume_fraction>=sinj_structure_vol:\n",
    "        #print \"tot inj volume larger\"\n",
    "        #print \"tot injection fraction\",tot_injection_volume_fraction\n",
    "        #print \"structure vol\",sinj_structure_vol\n",
    "        proj_sum=92000*proj_sum*tot_injection_volume_fraction/sinj_structure_vol\n",
    "        ___error=\"NA\"\n",
    "        #___error=(proj_sum*sinj_structure_vol/tot_injection_volume_fraction)*np.sqrt((0.10)**2+(__error/tot_injection_volume_fraction)**2+(_error/proj_sum)**2)\n",
    "        return proj_sum,___error\n",
    "    elif tot_injection_volume_fraction<=sinj_structure_vol:\n",
    "        #print \"tot inj volume smaller\"\n",
    "        #print \"tot inj volume\",tot_injection_volume_fraction\n",
    "        #print \"structure vol\",sinj_structure_vol\n",
    "        proj_sum=92000*proj_sum*tot_injection_volume_fraction/sinj_structure_vol\n",
    "        ___error=\"NA\"\n",
    "        #___error=(proj_sum*sinj_structure_vol/tot_injection_volume_fraction)*np.sqrt((0.10)**2+(__error/tot_injection_volume_fraction)**2+(_error/proj_sum)**2)\n",
    "        return proj_sum,___error\n",
    "        \n",
    "        \n",
    "            \n",
    "\"\"\" \n",
    "            #proj sum = proj volume * fraction of the sinj region\n",
    "            c1=float(b[p])\n",
    "            c2=float(Master_injection_fraction_dictionary[a[p]][acronym_to_id[inj]])\n",
    "            proj_sum+=c1*c2\n",
    "            _error+=c1*c2*np.sqrt( (0.10)**2 + (0.02)**2)\n",
    "            \n",
    "            #tot inj_vol_fraction= injection volume of exp * fraction of the sinj region\n",
    "            \n",
    "            c3=float(expid_to_inj_volume_int[a[p]])\n",
    "            c4=float(Master_injection_fraction_dictionary[a[p]][acronym_to_id[inj]])\n",
    "            tot_injection_volume_fraction+=c3*c4\n",
    "            __error+=c3*c4*np.sqrt((0.05)**2 + (0.02)**2)\n",
    "        else:\n",
    "            pass\n",
    "    if tot_injection_volume_fraction>=sinj_structure_vol:\n",
    "        try:\n",
    "            print \"tot inj volume larger\"\n",
    "            print tot_injection_volume_fraction\n",
    "            print sinj_structure_vol\n",
    "            proj_sum=92000*proj_sum*tot_injection_volume_fraction/sinj_structure_vol\n",
    "            ___error=(proj_sum*sinj_structure_vol/tot_injection_volume_fraction)*np.sqrt((0.10)**2+(__error/tot_injection_volume_fraction)**2+(_error/proj_sum)**2)\n",
    "            return proj_sum,___error\n",
    "        except:\n",
    "            print 'exception occured'\n",
    "    elif tot_injection_volume_fraction<=sinj_structure_vol:\n",
    "        try:\n",
    "            print \"tot inj volume smaller\"\n",
    "            print tot_injection_volume_fraction\n",
    "            print sinj_structure_vol\n",
    "            proj_sum=92000*proj_sum*sinj_structure_vol/tot_injection_volume_fraction\n",
    "            ___error=(proj_sum*sinj_structure_vol/tot_injection_volume_fraction)*np.sqrt((0.10)**2+(__error/tot_injection_volume_fraction)**2+(_error/proj_sum)**2)\n",
    "            return proj_sum,___error\n",
    "        \n",
    "        except ZeroDivisionError:\n",
    "            return 0,0,0,0\n",
    "\"\"\"\n",
    "None"
   ]
  },
  {
   "cell_type": "markdown",
   "metadata": {},
   "source": [
    "### NOTE: avoid using CTX since its volume is ridicously small\n"
   ]
  },
  {
   "cell_type": "code",
   "execution_count": 382,
   "metadata": {},
   "outputs": [],
   "source": [
    "#create list of structures\n",
    "Cortex_list=[id_to_acronym[k] for k in Substr[acronym_to_id['Isocortex']]]\n",
    "BS_nuclei=['SCs','SCm','PB','NTS','PAG']\n",
    "HY_nuclei=[id_to_acronym[k] for k in Substr[acronym_to_id['HY']]]\n",
    "TH_nuclei=[id_to_acronym[k] for k in Substr[acronym_to_id['TH']]]"
   ]
  },
  {
   "cell_type": "markdown",
   "metadata": {},
   "source": [
    "#### BS to CTX"
   ]
  },
  {
   "cell_type": "code",
   "execution_count": 433,
   "metadata": {},
   "outputs": [
    {
     "name": "stdout",
     "output_type": "stream",
     "text": [
      "\n"
     ]
    }
   ],
   "source": [
    "r1=0.1\n",
    "r2=1.0"
   ]
  },
  {
   "cell_type": "code",
   "execution_count": 409,
   "metadata": {},
   "outputs": [],
   "source": [
    "BS_to_CTX={}\n",
    "\n",
    "for i in BS_nuclei:\n",
    "    BS_to_CTX[i]={}\n",
    "    for j in Cortex_list:\n",
    "        try:\n",
    "            BS_to_CTX[i][j]=sum_proj(i,j,r1=r1,r2=r2)[0]\n",
    "        except:\n",
    "            print \"exception\",i,j"
   ]
  },
  {
   "cell_type": "code",
   "execution_count": 410,
   "metadata": {},
   "outputs": [
    {
     "name": "stdout",
     "output_type": "stream",
     "text": [
      "SCm 71614.62\n",
      "PB 2288996.35\n",
      "NTS 332.41\n",
      "SCs 8981.4\n",
      "PAG 302999.47\n"
     ]
    }
   ],
   "source": [
    "for i in BS_to_CTX:\n",
    "    print i,round(sum([BS_to_CTX[i][j] for j in BS_to_CTX[i]]),2)"
   ]
  },
  {
   "cell_type": "markdown",
   "metadata": {},
   "source": [
    "#### CTX to BS"
   ]
  },
  {
   "cell_type": "code",
   "execution_count": 434,
   "metadata": {},
   "outputs": [
    {
     "name": "stdout",
     "output_type": "stream",
     "text": [
      "exception PERI SCs\n",
      "exception PERI SCm\n",
      "exception PERI PB\n",
      "exception PERI NTS\n",
      "exception PERI PAG\n"
     ]
    }
   ],
   "source": [
    "CTX_to_BS={}\n",
    "\n",
    "for i in Cortex_list:\n",
    "    CTX_to_BS[i]={}\n",
    "    for j in BS_nuclei:\n",
    "        try:\n",
    "            CTX_to_BS[i][j]=sum_proj(i,j,r1=r1,r2=r2)[0]\n",
    "        except:\n",
    "            print \"exception\",i,j"
   ]
  },
  {
   "cell_type": "code",
   "execution_count": 435,
   "metadata": {},
   "outputs": [
    {
     "data": {
      "text/plain": [
       "{}"
      ]
     },
     "execution_count": 435,
     "metadata": {},
     "output_type": "execute_result"
    }
   ],
   "source": [
    "CTX_to_BS.pop('PERI',None)"
   ]
  },
  {
   "cell_type": "code",
   "execution_count": 446,
   "metadata": {},
   "outputs": [
    {
     "name": "stdout",
     "output_type": "stream",
     "text": [
      "3885011.58\n",
      "11517818.81\n",
      "261102.33\n",
      "43251.54\n",
      "4578819.02\n"
     ]
    }
   ],
   "source": [
    "for i in BS_nuclei:\n",
    "    print round(sum([CTX_to_BS[j][i] for j in CTX_to_BS.keys()]),2)"
   ]
  },
  {
   "cell_type": "code",
   "execution_count": 398,
   "metadata": {},
   "outputs": [
    {
     "name": "stdout",
     "output_type": "stream",
     "text": [
      "VISC 448146.48\n",
      "SS 1927754.04\n",
      "ACA 3959033.84\n",
      "AUD 414137.81\n",
      "ILA 869132.09\n",
      "AI 77975.13\n",
      "TEa 0.0\n",
      "MO 2649989.21\n",
      "GU 1539.87\n",
      "ECT 137089.71\n",
      "VIS 10282252.17\n",
      "FRP 10576.86\n",
      "PTLp 147662.07\n",
      "ORB 978561.55\n",
      "RSP 471877.36\n",
      "PL 238919.97\n"
     ]
    }
   ],
   "source": [
    "for i in CTX_to_BS:\n",
    "    print i,round(sum([CTX_to_BS[i][j] for j in CTX_to_BS[i]]),2)"
   ]
  },
  {
   "cell_type": "markdown",
   "metadata": {},
   "source": [
    "#### BS to HY"
   ]
  },
  {
   "cell_type": "code",
   "execution_count": 437,
   "metadata": {},
   "outputs": [],
   "source": [
    "BS_to_HY={}\n",
    "\n",
    "for i in BS_nuclei:\n",
    "    BS_to_HY[i]={}\n",
    "    for j in HY_nuclei:\n",
    "        try:\n",
    "            BS_to_HY[i][j]=sum_proj(i,j,r1=r1,r2=r2)[0]\n",
    "        except:\n",
    "            print \"exception\",i,j"
   ]
  },
  {
   "cell_type": "code",
   "execution_count": 447,
   "metadata": {},
   "outputs": [
    {
     "name": "stdout",
     "output_type": "stream",
     "text": [
      "2513.23\n",
      "171857.9\n",
      "1586207.62\n",
      "470.78\n",
      "1283115.73\n"
     ]
    }
   ],
   "source": [
    "for b in BS_nuclei:\n",
    "    print round(sum(BS_to_HY[b][i] for i in HY_nuclei),2)"
   ]
  },
  {
   "cell_type": "markdown",
   "metadata": {},
   "source": [
    "#### HY to BS"
   ]
  },
  {
   "cell_type": "code",
   "execution_count": 439,
   "metadata": {},
   "outputs": [
    {
     "name": "stdout",
     "output_type": "stream",
     "text": [
      "exception ME SCs\n",
      "exception ME SCm\n",
      "exception ME PB\n",
      "exception ME NTS\n",
      "exception ME PAG\n"
     ]
    }
   ],
   "source": [
    "HY_to_BS={}\n",
    "\n",
    "for i in HY_nuclei:\n",
    "    HY_to_BS[i]={}\n",
    "    for j in BS_nuclei:\n",
    "        try:\n",
    "            HY_to_BS[i][j]=sum_proj(i,j,r1=r1,r2=r2)[0]\n",
    "        except:\n",
    "            print \"exception\",i,j"
   ]
  },
  {
   "cell_type": "code",
   "execution_count": 440,
   "metadata": {},
   "outputs": [
    {
     "data": {
      "text/plain": [
       "{}"
      ]
     },
     "execution_count": 440,
     "metadata": {},
     "output_type": "execute_result"
    }
   ],
   "source": [
    "HY_to_BS.pop('ME',None)"
   ]
  },
  {
   "cell_type": "code",
   "execution_count": 448,
   "metadata": {},
   "outputs": [
    {
     "name": "stdout",
     "output_type": "stream",
     "text": [
      "557274.04\n",
      "15722071.37\n",
      "2454173.32\n",
      "928044.52\n",
      "41903554.57\n"
     ]
    }
   ],
   "source": [
    "for b in BS_nuclei:\n",
    "    print round(sum([HY_to_BS[i][b] for i in HY_to_BS]),2)"
   ]
  },
  {
   "cell_type": "markdown",
   "metadata": {},
   "source": [
    "#### BS to TH"
   ]
  },
  {
   "cell_type": "code",
   "execution_count": 442,
   "metadata": {},
   "outputs": [],
   "source": [
    "BS_to_TH={}\n",
    "\n",
    "for i in BS_nuclei:\n",
    "    BS_to_TH[i]={}\n",
    "    for j in TH_nuclei:\n",
    "        try:\n",
    "            BS_to_TH[i][j]=sum_proj(i,j,r1=r1,r2=r2)[0]\n",
    "        except:\n",
    "            print \"exception\",i,j"
   ]
  },
  {
   "cell_type": "code",
   "execution_count": 449,
   "metadata": {},
   "outputs": [
    {
     "name": "stdout",
     "output_type": "stream",
     "text": [
      "64833.11\n",
      "601083.29\n",
      "1132894.97\n",
      "1115.99\n",
      "927354.75\n"
     ]
    }
   ],
   "source": [
    "for b in BS_nuclei:\n",
    "    print round(sum(BS_to_TH[b][i] for i in TH_nuclei),2)"
   ]
  },
  {
   "cell_type": "markdown",
   "metadata": {},
   "source": [
    "#### TH to BS"
   ]
  },
  {
   "cell_type": "code",
   "execution_count": 444,
   "metadata": {},
   "outputs": [],
   "source": [
    "TH_to_BS={}\n",
    "\n",
    "for i in TH_nuclei:\n",
    "    TH_to_BS[i]={}\n",
    "    for j in BS_nuclei:\n",
    "        try:\n",
    "            TH_to_BS[i][j]=sum_proj(i,j,r1=0.1,r2=1.5)[0]\n",
    "        except:\n",
    "            print \"exception\",i,j"
   ]
  },
  {
   "cell_type": "code",
   "execution_count": 450,
   "metadata": {},
   "outputs": [
    {
     "name": "stdout",
     "output_type": "stream",
     "text": [
      "308725.58\n",
      "1712721.05\n",
      "70923.13\n",
      "5445.85\n",
      "2048788.41\n"
     ]
    }
   ],
   "source": [
    "for b in BS_nuclei:\n",
    "    print round(sum([TH_to_BS[i][b] for i in TH_to_BS]),2)"
   ]
  },
  {
   "cell_type": "code",
   "execution_count": null,
   "metadata": {},
   "outputs": [],
   "source": []
  },
  {
   "cell_type": "markdown",
   "metadata": {},
   "source": [
    "## ILM"
   ]
  },
  {
   "cell_type": "code",
   "execution_count": 226,
   "metadata": {},
   "outputs": [
    {
     "data": {
      "text/plain": [
       "(6164244.820564197, 'NA')"
      ]
     },
     "execution_count": 226,
     "metadata": {},
     "output_type": "execute_result"
    }
   ],
   "source": [
    "sum_proj('ILM','Isocortex',r1=r1,r2=r2)"
   ]
  },
  {
   "cell_type": "code",
   "execution_count": 227,
   "metadata": {},
   "outputs": [
    {
     "data": {
      "text/plain": [
       "(2580796.7193952, 'NA')"
      ]
     },
     "execution_count": 227,
     "metadata": {},
     "output_type": "execute_result"
    }
   ],
   "source": [
    "sum_proj('ILM','TH',r1=r1,r2=r2)"
   ]
  },
  {
   "cell_type": "code",
   "execution_count": 228,
   "metadata": {},
   "outputs": [
    {
     "data": {
      "text/plain": [
       "(1427266.2691949375, 'NA')"
      ]
     },
     "execution_count": 228,
     "metadata": {},
     "output_type": "execute_result"
    }
   ],
   "source": [
    "sum_proj('ILM','HY',r1=r1,r2=r2)"
   ]
  },
  {
   "cell_type": "code",
   "execution_count": 229,
   "metadata": {},
   "outputs": [
    {
     "data": {
      "text/plain": [
       "(3383596.3011150034, 'NA')"
      ]
     },
     "execution_count": 229,
     "metadata": {},
     "output_type": "execute_result"
    }
   ],
   "source": [
    "sum_proj('Isocortex','ILM',r1=r1,r2=r2)"
   ]
  },
  {
   "cell_type": "code",
   "execution_count": 230,
   "metadata": {},
   "outputs": [
    {
     "data": {
      "text/plain": [
       "(1843627.9539560545, 'NA')"
      ]
     },
     "execution_count": 230,
     "metadata": {},
     "output_type": "execute_result"
    }
   ],
   "source": [
    "sum_proj('TH','ILM',r1=r1,r2=r2)"
   ]
  },
  {
   "cell_type": "code",
   "execution_count": 231,
   "metadata": {},
   "outputs": [
    {
     "data": {
      "text/plain": [
       "(4044288.531278573, 'NA')"
      ]
     },
     "execution_count": 231,
     "metadata": {},
     "output_type": "execute_result"
    }
   ],
   "source": [
    "sum_proj('HY','ILM',r1=r1,r2=r2)"
   ]
  },
  {
   "cell_type": "code",
   "execution_count": null,
   "metadata": {},
   "outputs": [],
   "source": []
  },
  {
   "cell_type": "code",
   "execution_count": null,
   "metadata": {},
   "outputs": [],
   "source": []
  },
  {
   "cell_type": "code",
   "execution_count": null,
   "metadata": {},
   "outputs": [],
   "source": []
  },
  {
   "cell_type": "code",
   "execution_count": 106,
   "metadata": {},
   "outputs": [
    {
     "name": "stdout",
     "output_type": "stream",
     "text": [
      "SCs to PTLp 61134.6139182\n"
     ]
    },
    {
     "ename": "KeyboardInterrupt",
     "evalue": "",
     "output_type": "error",
     "traceback": [
      "\u001b[1;31m---------------------------------------------------------------------------\u001b[0m",
      "\u001b[1;31mKeyboardInterrupt\u001b[0m                         Traceback (most recent call last)",
      "\u001b[1;32m<ipython-input-106-1b803f5a9a0b>\u001b[0m in \u001b[0;36m<module>\u001b[1;34m()\u001b[0m\n\u001b[0;32m      6\u001b[0m     \u001b[0msumme\u001b[0m\u001b[1;33m=\u001b[0m\u001b[1;36m0.0\u001b[0m\u001b[1;33m\u001b[0m\u001b[0m\n\u001b[0;32m      7\u001b[0m     \u001b[1;32mfor\u001b[0m \u001b[0mj\u001b[0m \u001b[1;32min\u001b[0m \u001b[0m_regions\u001b[0m\u001b[1;33m:\u001b[0m\u001b[1;33m\u001b[0m\u001b[0m\n\u001b[1;32m----> 8\u001b[1;33m         \u001b[0msumme\u001b[0m\u001b[1;33m+=\u001b[0m\u001b[0msum_proj\u001b[0m\u001b[1;33m(\u001b[0m\u001b[0mj\u001b[0m\u001b[1;33m,\u001b[0m\u001b[0mi\u001b[0m\u001b[1;33m,\u001b[0m\u001b[0mr1\u001b[0m\u001b[1;33m=\u001b[0m\u001b[1;36m0.1\u001b[0m\u001b[1;33m,\u001b[0m\u001b[0mr2\u001b[0m\u001b[1;33m=\u001b[0m\u001b[1;36m1.5\u001b[0m\u001b[1;33m)\u001b[0m\u001b[1;33m[\u001b[0m\u001b[1;36m0\u001b[0m\u001b[1;33m]\u001b[0m\u001b[1;33m\u001b[0m\u001b[0m\n\u001b[0m\u001b[0;32m      9\u001b[0m     \u001b[1;32mprint\u001b[0m \u001b[0mi\u001b[0m\u001b[1;33m+\u001b[0m\u001b[1;34m' to '\u001b[0m\u001b[1;33m+\u001b[0m\u001b[0mj\u001b[0m\u001b[1;33m+\u001b[0m\u001b[1;34m\" \"\u001b[0m\u001b[1;33m+\u001b[0m\u001b[0mstr\u001b[0m\u001b[1;33m(\u001b[0m\u001b[0msumme\u001b[0m\u001b[1;33m)\u001b[0m\u001b[1;33m\u001b[0m\u001b[0m\n",
      "\u001b[1;32m<ipython-input-100-b619e748ae34>\u001b[0m in \u001b[0;36msum_proj\u001b[1;34m(inj, target, hemisphere, r1, r2)\u001b[0m\n\u001b[0;32m     31\u001b[0m                                          \u001b[0mstructure_ids\u001b[0m\u001b[1;33m=\u001b[0m\u001b[1;33m[\u001b[0m\u001b[0mstarget\u001b[0m\u001b[1;33m[\u001b[0m\u001b[1;34m'id'\u001b[0m\u001b[1;33m]\u001b[0m\u001b[1;33m]\u001b[0m\u001b[1;33m,\u001b[0m\u001b[1;33m\u001b[0m\u001b[0m\n\u001b[0;32m     32\u001b[0m                                          \u001b[0minclude_descendants\u001b[0m\u001b[1;33m=\u001b[0m\u001b[0mFalse\u001b[0m\u001b[1;33m,\u001b[0m\u001b[1;33m\u001b[0m\u001b[0m\n\u001b[1;32m---> 33\u001b[1;33m                                          hemisphere_ids=hemisphere)\n\u001b[0m\u001b[0;32m     34\u001b[0m     \u001b[0mexception_count\u001b[0m\u001b[1;33m=\u001b[0m\u001b[1;36m0.0\u001b[0m\u001b[1;33m\u001b[0m\u001b[0m\n\u001b[0;32m     35\u001b[0m \u001b[1;33m\u001b[0m\u001b[0m\n",
      "\u001b[1;32mC:\\Users\\Chris OBrien\\AppData\\Local\\conda\\conda\\envs\\p2\\lib\\site-packages\\allensdk\\core\\mouse_connectivity_cache.pyc\u001b[0m in \u001b[0;36mget_structure_unionizes\u001b[1;34m(self, experiment_ids, is_injection, structure_ids, include_descendants, hemisphere_ids)\u001b[0m\n\u001b[0;32m    568\u001b[0m                                                              \u001b[0minclude_descendants\u001b[0m\u001b[1;33m=\u001b[0m\u001b[0minclude_descendants\u001b[0m\u001b[1;33m,\u001b[0m\u001b[1;33m\u001b[0m\u001b[0m\n\u001b[0;32m    569\u001b[0m                                                              hemisphere_ids=hemisphere_ids)\n\u001b[1;32m--> 570\u001b[1;33m                      for eid in experiment_ids]\n\u001b[0m\u001b[0;32m    571\u001b[0m \u001b[1;33m\u001b[0m\u001b[0m\n\u001b[0;32m    572\u001b[0m         \u001b[1;32mreturn\u001b[0m \u001b[0mpd\u001b[0m\u001b[1;33m.\u001b[0m\u001b[0mconcat\u001b[0m\u001b[1;33m(\u001b[0m\u001b[0munionizes\u001b[0m\u001b[1;33m,\u001b[0m \u001b[0mignore_index\u001b[0m\u001b[1;33m=\u001b[0m\u001b[0mTrue\u001b[0m\u001b[1;33m)\u001b[0m\u001b[1;33m\u001b[0m\u001b[0m\n",
      "\u001b[1;32mC:\\Users\\Chris OBrien\\AppData\\Local\\conda\\conda\\envs\\p2\\lib\\site-packages\\allensdk\\core\\mouse_connectivity_cache.pyc\u001b[0m in \u001b[0;36mget_experiment_structure_unionizes\u001b[1;34m(self, experiment_id, file_name, is_injection, structure_ids, include_descendants, hemisphere_ids)\u001b[0m\n\u001b[0;32m    418\u001b[0m                                                 \u001b[0mpost\u001b[0m\u001b[1;33m=\u001b[0m\u001b[0mfilter_fn\u001b[0m\u001b[1;33m,\u001b[0m\u001b[1;33m\u001b[0m\u001b[0m\n\u001b[0;32m    419\u001b[0m                                                 \u001b[0mwriter\u001b[0m\u001b[1;33m=\u001b[0m\u001b[1;32mlambda\u001b[0m \u001b[0mp\u001b[0m\u001b[1;33m,\u001b[0m \u001b[0mx\u001b[0m \u001b[1;33m:\u001b[0m \u001b[0mpd\u001b[0m\u001b[1;33m.\u001b[0m\u001b[0mDataFrame\u001b[0m\u001b[1;33m(\u001b[0m\u001b[0mx\u001b[0m\u001b[1;33m)\u001b[0m\u001b[1;33m.\u001b[0m\u001b[0mto_csv\u001b[0m\u001b[1;33m(\u001b[0m\u001b[0mp\u001b[0m\u001b[1;33m)\u001b[0m\u001b[1;33m,\u001b[0m\u001b[1;33m\u001b[0m\u001b[0m\n\u001b[1;32m--> 420\u001b[1;33m                                                 reader=pd.DataFrame.from_csv)\n\u001b[0m\u001b[0;32m    421\u001b[0m \u001b[1;33m\u001b[0m\u001b[0m\n\u001b[0;32m    422\u001b[0m     def rank_structures(self, experiment_ids, is_injection, structure_ids=None, hemisphere_ids=None, \n",
      "\u001b[1;32mC:\\Users\\Chris OBrien\\AppData\\Local\\conda\\conda\\envs\\p2\\lib\\site-packages\\allensdk\\api\\cache.pyc\u001b[0m in \u001b[0;36mw\u001b[1;34m(*args, **kwargs)\u001b[0m\n\u001b[0;32m    596\u001b[0m             result = Cache.cacher(func,\n\u001b[0;32m    597\u001b[0m                                   \u001b[1;33m*\u001b[0m\u001b[0margs\u001b[0m\u001b[1;33m,\u001b[0m\u001b[1;33m\u001b[0m\u001b[0m\n\u001b[1;32m--> 598\u001b[1;33m                                   **kwargs)\n\u001b[0m\u001b[0;32m    599\u001b[0m             \u001b[1;32mreturn\u001b[0m \u001b[0mresult\u001b[0m\u001b[1;33m\u001b[0m\u001b[0m\n\u001b[0;32m    600\u001b[0m \u001b[1;33m\u001b[0m\u001b[0m\n",
      "\u001b[1;32mC:\\Users\\Chris OBrien\\AppData\\Local\\conda\\conda\\envs\\p2\\lib\\site-packages\\allensdk\\api\\cache.pyc\u001b[0m in \u001b[0;36mcacher\u001b[1;34m(fn, *args, **kwargs)\u001b[0m\n\u001b[0;32m    333\u001b[0m \u001b[1;33m\u001b[0m\u001b[0m\n\u001b[0;32m    334\u001b[0m         \u001b[1;32mif\u001b[0m \u001b[0mreader\u001b[0m\u001b[1;33m:\u001b[0m\u001b[1;33m\u001b[0m\u001b[0m\n\u001b[1;32m--> 335\u001b[1;33m             \u001b[0mdata\u001b[0m \u001b[1;33m=\u001b[0m \u001b[0mreader\u001b[0m\u001b[1;33m(\u001b[0m\u001b[0mpath\u001b[0m\u001b[1;33m)\u001b[0m\u001b[1;33m\u001b[0m\u001b[0m\n\u001b[0m\u001b[0;32m    336\u001b[0m \u001b[1;33m\u001b[0m\u001b[0m\n\u001b[0;32m    337\u001b[0m         \u001b[1;31m# Note: don't provide post if fn or reader doesn't return data\u001b[0m\u001b[1;33m\u001b[0m\u001b[1;33m\u001b[0m\u001b[0m\n",
      "\u001b[1;32mC:\\Users\\Chris OBrien\\AppData\\Local\\conda\\conda\\envs\\p2\\lib\\site-packages\\pandas\\core\\frame.pyc\u001b[0m in \u001b[0;36mfrom_csv\u001b[1;34m(cls, path, header, sep, index_col, parse_dates, encoding, tupleize_cols, infer_datetime_format)\u001b[0m\n\u001b[0;32m   1577\u001b[0m                           \u001b[0mparse_dates\u001b[0m\u001b[1;33m=\u001b[0m\u001b[0mparse_dates\u001b[0m\u001b[1;33m,\u001b[0m \u001b[0mindex_col\u001b[0m\u001b[1;33m=\u001b[0m\u001b[0mindex_col\u001b[0m\u001b[1;33m,\u001b[0m\u001b[1;33m\u001b[0m\u001b[0m\n\u001b[0;32m   1578\u001b[0m                           \u001b[0mencoding\u001b[0m\u001b[1;33m=\u001b[0m\u001b[0mencoding\u001b[0m\u001b[1;33m,\u001b[0m \u001b[0mtupleize_cols\u001b[0m\u001b[1;33m=\u001b[0m\u001b[0mtupleize_cols\u001b[0m\u001b[1;33m,\u001b[0m\u001b[1;33m\u001b[0m\u001b[0m\n\u001b[1;32m-> 1579\u001b[1;33m                           infer_datetime_format=infer_datetime_format)\n\u001b[0m\u001b[0;32m   1580\u001b[0m \u001b[1;33m\u001b[0m\u001b[0m\n\u001b[0;32m   1581\u001b[0m     \u001b[1;32mdef\u001b[0m \u001b[0mto_sparse\u001b[0m\u001b[1;33m(\u001b[0m\u001b[0mself\u001b[0m\u001b[1;33m,\u001b[0m \u001b[0mfill_value\u001b[0m\u001b[1;33m=\u001b[0m\u001b[0mNone\u001b[0m\u001b[1;33m,\u001b[0m \u001b[0mkind\u001b[0m\u001b[1;33m=\u001b[0m\u001b[1;34m'block'\u001b[0m\u001b[1;33m)\u001b[0m\u001b[1;33m:\u001b[0m\u001b[1;33m\u001b[0m\u001b[0m\n",
      "\u001b[1;32mC:\\Users\\Chris OBrien\\AppData\\Local\\conda\\conda\\envs\\p2\\lib\\site-packages\\pandas\\io\\parsers.pyc\u001b[0m in \u001b[0;36mparser_f\u001b[1;34m(filepath_or_buffer, sep, delimiter, header, names, index_col, usecols, squeeze, prefix, mangle_dupe_cols, dtype, engine, converters, true_values, false_values, skipinitialspace, skiprows, nrows, na_values, keep_default_na, na_filter, verbose, skip_blank_lines, parse_dates, infer_datetime_format, keep_date_col, date_parser, dayfirst, iterator, chunksize, compression, thousands, decimal, lineterminator, quotechar, quoting, escapechar, comment, encoding, dialect, tupleize_cols, error_bad_lines, warn_bad_lines, skipfooter, doublequote, delim_whitespace, low_memory, memory_map, float_precision)\u001b[0m\n\u001b[0;32m    676\u001b[0m                     skip_blank_lines=skip_blank_lines)\n\u001b[0;32m    677\u001b[0m \u001b[1;33m\u001b[0m\u001b[0m\n\u001b[1;32m--> 678\u001b[1;33m         \u001b[1;32mreturn\u001b[0m \u001b[0m_read\u001b[0m\u001b[1;33m(\u001b[0m\u001b[0mfilepath_or_buffer\u001b[0m\u001b[1;33m,\u001b[0m \u001b[0mkwds\u001b[0m\u001b[1;33m)\u001b[0m\u001b[1;33m\u001b[0m\u001b[0m\n\u001b[0m\u001b[0;32m    679\u001b[0m \u001b[1;33m\u001b[0m\u001b[0m\n\u001b[0;32m    680\u001b[0m     \u001b[0mparser_f\u001b[0m\u001b[1;33m.\u001b[0m\u001b[0m__name__\u001b[0m \u001b[1;33m=\u001b[0m \u001b[0mname\u001b[0m\u001b[1;33m\u001b[0m\u001b[0m\n",
      "\u001b[1;32mC:\\Users\\Chris OBrien\\AppData\\Local\\conda\\conda\\envs\\p2\\lib\\site-packages\\pandas\\io\\parsers.pyc\u001b[0m in \u001b[0;36m_read\u001b[1;34m(filepath_or_buffer, kwds)\u001b[0m\n\u001b[0;32m    438\u001b[0m \u001b[1;33m\u001b[0m\u001b[0m\n\u001b[0;32m    439\u001b[0m     \u001b[1;31m# Create the parser.\u001b[0m\u001b[1;33m\u001b[0m\u001b[1;33m\u001b[0m\u001b[0m\n\u001b[1;32m--> 440\u001b[1;33m     \u001b[0mparser\u001b[0m \u001b[1;33m=\u001b[0m \u001b[0mTextFileReader\u001b[0m\u001b[1;33m(\u001b[0m\u001b[0mfilepath_or_buffer\u001b[0m\u001b[1;33m,\u001b[0m \u001b[1;33m**\u001b[0m\u001b[0mkwds\u001b[0m\u001b[1;33m)\u001b[0m\u001b[1;33m\u001b[0m\u001b[0m\n\u001b[0m\u001b[0;32m    441\u001b[0m \u001b[1;33m\u001b[0m\u001b[0m\n\u001b[0;32m    442\u001b[0m     \u001b[1;32mif\u001b[0m \u001b[0mchunksize\u001b[0m \u001b[1;32mor\u001b[0m \u001b[0miterator\u001b[0m\u001b[1;33m:\u001b[0m\u001b[1;33m\u001b[0m\u001b[0m\n",
      "\u001b[1;32mC:\\Users\\Chris OBrien\\AppData\\Local\\conda\\conda\\envs\\p2\\lib\\site-packages\\pandas\\io\\parsers.pyc\u001b[0m in \u001b[0;36m__init__\u001b[1;34m(self, f, engine, **kwds)\u001b[0m\n\u001b[0;32m    785\u001b[0m             \u001b[0mself\u001b[0m\u001b[1;33m.\u001b[0m\u001b[0moptions\u001b[0m\u001b[1;33m[\u001b[0m\u001b[1;34m'has_index_names'\u001b[0m\u001b[1;33m]\u001b[0m \u001b[1;33m=\u001b[0m \u001b[0mkwds\u001b[0m\u001b[1;33m[\u001b[0m\u001b[1;34m'has_index_names'\u001b[0m\u001b[1;33m]\u001b[0m\u001b[1;33m\u001b[0m\u001b[0m\n\u001b[0;32m    786\u001b[0m \u001b[1;33m\u001b[0m\u001b[0m\n\u001b[1;32m--> 787\u001b[1;33m         \u001b[0mself\u001b[0m\u001b[1;33m.\u001b[0m\u001b[0m_make_engine\u001b[0m\u001b[1;33m(\u001b[0m\u001b[0mself\u001b[0m\u001b[1;33m.\u001b[0m\u001b[0mengine\u001b[0m\u001b[1;33m)\u001b[0m\u001b[1;33m\u001b[0m\u001b[0m\n\u001b[0m\u001b[0;32m    788\u001b[0m \u001b[1;33m\u001b[0m\u001b[0m\n\u001b[0;32m    789\u001b[0m     \u001b[1;32mdef\u001b[0m \u001b[0mclose\u001b[0m\u001b[1;33m(\u001b[0m\u001b[0mself\u001b[0m\u001b[1;33m)\u001b[0m\u001b[1;33m:\u001b[0m\u001b[1;33m\u001b[0m\u001b[0m\n",
      "\u001b[1;32mC:\\Users\\Chris OBrien\\AppData\\Local\\conda\\conda\\envs\\p2\\lib\\site-packages\\pandas\\io\\parsers.pyc\u001b[0m in \u001b[0;36m_make_engine\u001b[1;34m(self, engine)\u001b[0m\n\u001b[0;32m   1012\u001b[0m     \u001b[1;32mdef\u001b[0m \u001b[0m_make_engine\u001b[0m\u001b[1;33m(\u001b[0m\u001b[0mself\u001b[0m\u001b[1;33m,\u001b[0m \u001b[0mengine\u001b[0m\u001b[1;33m=\u001b[0m\u001b[1;34m'c'\u001b[0m\u001b[1;33m)\u001b[0m\u001b[1;33m:\u001b[0m\u001b[1;33m\u001b[0m\u001b[0m\n\u001b[0;32m   1013\u001b[0m         \u001b[1;32mif\u001b[0m \u001b[0mengine\u001b[0m \u001b[1;33m==\u001b[0m \u001b[1;34m'c'\u001b[0m\u001b[1;33m:\u001b[0m\u001b[1;33m\u001b[0m\u001b[0m\n\u001b[1;32m-> 1014\u001b[1;33m             \u001b[0mself\u001b[0m\u001b[1;33m.\u001b[0m\u001b[0m_engine\u001b[0m \u001b[1;33m=\u001b[0m \u001b[0mCParserWrapper\u001b[0m\u001b[1;33m(\u001b[0m\u001b[0mself\u001b[0m\u001b[1;33m.\u001b[0m\u001b[0mf\u001b[0m\u001b[1;33m,\u001b[0m \u001b[1;33m**\u001b[0m\u001b[0mself\u001b[0m\u001b[1;33m.\u001b[0m\u001b[0moptions\u001b[0m\u001b[1;33m)\u001b[0m\u001b[1;33m\u001b[0m\u001b[0m\n\u001b[0m\u001b[0;32m   1015\u001b[0m         \u001b[1;32melse\u001b[0m\u001b[1;33m:\u001b[0m\u001b[1;33m\u001b[0m\u001b[0m\n\u001b[0;32m   1016\u001b[0m             \u001b[1;32mif\u001b[0m \u001b[0mengine\u001b[0m \u001b[1;33m==\u001b[0m \u001b[1;34m'python'\u001b[0m\u001b[1;33m:\u001b[0m\u001b[1;33m\u001b[0m\u001b[0m\n",
      "\u001b[1;32mC:\\Users\\Chris OBrien\\AppData\\Local\\conda\\conda\\envs\\p2\\lib\\site-packages\\pandas\\io\\parsers.pyc\u001b[0m in \u001b[0;36m__init__\u001b[1;34m(self, src, **kwds)\u001b[0m\n\u001b[0;32m   1706\u001b[0m         \u001b[0mkwds\u001b[0m\u001b[1;33m[\u001b[0m\u001b[1;34m'usecols'\u001b[0m\u001b[1;33m]\u001b[0m \u001b[1;33m=\u001b[0m \u001b[0mself\u001b[0m\u001b[1;33m.\u001b[0m\u001b[0musecols\u001b[0m\u001b[1;33m\u001b[0m\u001b[0m\n\u001b[0;32m   1707\u001b[0m \u001b[1;33m\u001b[0m\u001b[0m\n\u001b[1;32m-> 1708\u001b[1;33m         \u001b[0mself\u001b[0m\u001b[1;33m.\u001b[0m\u001b[0m_reader\u001b[0m \u001b[1;33m=\u001b[0m \u001b[0mparsers\u001b[0m\u001b[1;33m.\u001b[0m\u001b[0mTextReader\u001b[0m\u001b[1;33m(\u001b[0m\u001b[0msrc\u001b[0m\u001b[1;33m,\u001b[0m \u001b[1;33m**\u001b[0m\u001b[0mkwds\u001b[0m\u001b[1;33m)\u001b[0m\u001b[1;33m\u001b[0m\u001b[0m\n\u001b[0m\u001b[0;32m   1709\u001b[0m \u001b[1;33m\u001b[0m\u001b[0m\n\u001b[0;32m   1710\u001b[0m         \u001b[0mpassed_names\u001b[0m \u001b[1;33m=\u001b[0m \u001b[0mself\u001b[0m\u001b[1;33m.\u001b[0m\u001b[0mnames\u001b[0m \u001b[1;32mis\u001b[0m \u001b[0mNone\u001b[0m\u001b[1;33m\u001b[0m\u001b[0m\n",
      "\u001b[1;31mKeyboardInterrupt\u001b[0m: "
     ]
    }
   ],
   "source": [
    "_regions=['AUD','VIS','MO','SS','ACA','ORB','AI','RSP','PTLp','FRP','GU','VISC','PL','ILA','TEa','PERI','ECT']\n",
    "BS_nuclei=['SCs', 'SCm','PB','NTS','PAG','AP']\n",
    "\n",
    "\n",
    "for i in BS_nuclei:\n",
    "    summe=0.0\n",
    "    for j in _regions:\n",
    "        summe+=sum_proj(j,i,r1=0.1,r2=1.5)[0]\n",
    "    print i+' to '+j+\" \"+str(summe)"
   ]
  },
  {
   "cell_type": "code",
   "execution_count": 304,
   "metadata": {},
   "outputs": [
    {
     "name": "stdout",
     "output_type": "stream",
     "text": [
      "tot inj volume smaller\n",
      "tot inj volume 0.0\n",
      "structure vol 0.02743295625\n",
      "tot inj volume larger\n",
      "tot injection fraction 0.402797109575\n",
      "structure vol 0.03433129875\n",
      "tot inj volume smaller\n",
      "tot inj volume 0.0\n",
      "structure vol 0.04993884\n",
      "tot inj volume smaller\n",
      "tot inj volume 0.0\n",
      "structure vol 0.01812951\n",
      "tot inj volume smaller\n",
      "tot inj volume 0.0\n",
      "structure vol 0.030153375\n",
      "tot inj volume larger\n",
      "tot injection fraction 3.1599357258\n",
      "structure vol 0.1531179538\n",
      "tot inj volume larger\n",
      "tot injection fraction 2.62867507429\n",
      "structure vol 0.1036520912\n",
      "tot inj volume larger\n",
      "tot injection fraction 0.397480505527\n",
      "structure vol 0.0520242212\n",
      "tot inj volume larger\n",
      "tot injection fraction 0.242690293431\n",
      "structure vol 0.078535485\n",
      "tot inj volume smaller\n",
      "tot inj volume 0.0\n",
      "structure vol 0.01293949125\n",
      "tot inj volume larger\n",
      "tot injection fraction 6.9864844154\n",
      "structure vol 0.5690300224\n",
      "tot inj volume larger\n",
      "tot injection fraction 0.366235996\n",
      "structure vol 0.154343385\n",
      "tot inj volume larger\n",
      "tot injection fraction 0.345275952\n",
      "structure vol 0.0458932138\n",
      "tot inj volume larger\n",
      "tot injection fraction 0.1261697668\n",
      "structure vol 0.053636625\n",
      "tot inj volume larger\n",
      "tot injection fraction 3.0530966844\n",
      "structure vol 0.14421141\n",
      "tot inj volume larger\n",
      "tot injection fraction 4.3478578276\n",
      "structure vol 0.4960538912\n",
      "tot inj volume larger\n",
      "tot injection fraction 0.199931722331\n",
      "structure vol 0.03600820125\n",
      "tot inj volume larger\n",
      "tot injection fraction 7.25521112633\n",
      "structure vol 0.1958574688\n",
      "tot inj volume larger\n",
      "tot injection fraction 5.02541391624\n",
      "structure vol 0.27998262635\n",
      "tot inj volume larger\n",
      "tot injection fraction 3.30888414999\n",
      "structure vol 0.1120195076\n",
      "tot inj volume larger\n",
      "tot injection fraction 10.5198984519\n",
      "structure vol 0.1514432612\n",
      "tot inj volume larger\n",
      "tot injection fraction 5.88724862578\n",
      "structure vol 0.1948983036\n",
      "tot inj volume larger\n",
      "tot injection fraction 1.81380038652\n",
      "structure vol 0.0537529412\n",
      "HY to SCs 2811.97647483\n",
      "tot inj volume smaller\n",
      "tot inj volume 0.0\n",
      "structure vol 0.02743295625\n",
      "tot inj volume larger\n",
      "tot injection fraction 0.402797109575\n",
      "structure vol 0.03433129875\n",
      "tot inj volume smaller\n",
      "tot inj volume 0.0\n",
      "structure vol 0.04993884\n",
      "tot inj volume smaller\n",
      "tot inj volume 0.0\n",
      "structure vol 0.01812951\n",
      "tot inj volume smaller\n",
      "tot inj volume 0.0\n",
      "structure vol 0.030153375\n",
      "tot inj volume larger\n",
      "tot injection fraction 3.1599357258\n",
      "structure vol 0.1531179538\n",
      "tot inj volume larger\n",
      "tot injection fraction 2.62867507429\n",
      "structure vol 0.1036520912\n",
      "tot inj volume larger\n",
      "tot injection fraction 0.397480505527\n",
      "structure vol 0.0520242212\n",
      "tot inj volume larger\n",
      "tot injection fraction 0.242690293431\n",
      "structure vol 0.078535485\n",
      "tot inj volume smaller\n",
      "tot inj volume 0.0\n",
      "structure vol 0.01293949125\n",
      "tot inj volume larger\n",
      "tot injection fraction 6.9864844154\n",
      "structure vol 0.5690300224\n",
      "tot inj volume larger\n",
      "tot injection fraction 0.366235996\n",
      "structure vol 0.154343385\n",
      "tot inj volume larger\n",
      "tot injection fraction 0.345275952\n",
      "structure vol 0.0458932138\n",
      "tot inj volume larger\n",
      "tot injection fraction 0.1261697668\n",
      "structure vol 0.053636625\n",
      "tot inj volume larger\n",
      "tot injection fraction 3.0530966844\n",
      "structure vol 0.14421141\n",
      "tot inj volume larger\n",
      "tot injection fraction 4.3478578276\n",
      "structure vol 0.4960538912\n",
      "tot inj volume larger\n",
      "tot injection fraction 0.199931722331\n",
      "structure vol 0.03600820125\n",
      "tot inj volume larger\n",
      "tot injection fraction 7.25521112633\n",
      "structure vol 0.1958574688\n",
      "tot inj volume larger\n",
      "tot injection fraction 5.02541391624\n",
      "structure vol 0.27998262635\n",
      "tot inj volume larger\n",
      "tot injection fraction 3.30888414999\n",
      "structure vol 0.1120195076\n",
      "tot inj volume larger\n",
      "tot injection fraction 10.5198984519\n",
      "structure vol 0.1514432612\n",
      "tot inj volume larger\n",
      "tot injection fraction 5.88724862578\n",
      "structure vol 0.1948983036\n",
      "tot inj volume larger\n",
      "tot injection fraction 1.81380038652\n",
      "structure vol 0.0537529412\n",
      "HY to SCm 76246.9196973\n",
      "tot inj volume smaller\n",
      "tot inj volume 0.0\n",
      "structure vol 0.02743295625\n",
      "tot inj volume larger\n",
      "tot injection fraction 0.402797109575\n",
      "structure vol 0.03433129875\n",
      "tot inj volume smaller\n",
      "tot inj volume 0.0\n",
      "structure vol 0.04993884\n",
      "tot inj volume smaller\n",
      "tot inj volume 0.0\n",
      "structure vol 0.01812951\n",
      "tot inj volume smaller\n",
      "tot inj volume 0.0\n",
      "structure vol 0.030153375\n",
      "tot inj volume larger\n",
      "tot injection fraction 3.1599357258\n",
      "structure vol 0.1531179538\n",
      "tot inj volume larger\n",
      "tot injection fraction 2.62867507429\n",
      "structure vol 0.1036520912\n",
      "tot inj volume larger\n",
      "tot injection fraction 0.397480505527\n",
      "structure vol 0.0520242212\n",
      "tot inj volume larger\n",
      "tot injection fraction 0.242690293431\n",
      "structure vol 0.078535485\n",
      "tot inj volume smaller\n",
      "tot inj volume 0.0\n",
      "structure vol 0.01293949125\n",
      "tot inj volume larger\n",
      "tot injection fraction 6.9864844154\n",
      "structure vol 0.5690300224\n",
      "tot inj volume larger\n",
      "tot injection fraction 0.366235996\n",
      "structure vol 0.154343385\n",
      "tot inj volume larger\n",
      "tot injection fraction 0.345275952\n",
      "structure vol 0.0458932138\n",
      "tot inj volume larger\n",
      "tot injection fraction 0.1261697668\n",
      "structure vol 0.053636625\n",
      "tot inj volume larger\n",
      "tot injection fraction 3.0530966844\n",
      "structure vol 0.14421141\n",
      "tot inj volume larger\n",
      "tot injection fraction 4.3478578276\n",
      "structure vol 0.4960538912\n",
      "tot inj volume larger\n",
      "tot injection fraction 0.199931722331\n",
      "structure vol 0.03600820125\n",
      "tot inj volume larger\n",
      "tot injection fraction 7.25521112633\n",
      "structure vol 0.1958574688\n",
      "tot inj volume larger\n",
      "tot injection fraction 5.02541391624\n",
      "structure vol 0.27998262635\n",
      "tot inj volume larger\n",
      "tot injection fraction 3.30888414999\n",
      "structure vol 0.1120195076\n",
      "tot inj volume larger\n",
      "tot injection fraction 10.5198984519\n",
      "structure vol 0.1514432612\n",
      "tot inj volume larger\n",
      "tot injection fraction 5.88724862578\n",
      "structure vol 0.1948983036\n",
      "tot inj volume larger\n",
      "tot injection fraction 1.81380038652\n",
      "structure vol 0.0537529412\n",
      "HY to PB 12001.1248776\n",
      "tot inj volume smaller\n",
      "tot inj volume 0.0\n",
      "structure vol 0.02743295625\n",
      "tot inj volume larger\n",
      "tot injection fraction 0.402797109575\n",
      "structure vol 0.03433129875\n",
      "tot inj volume smaller\n",
      "tot inj volume 0.0\n",
      "structure vol 0.04993884\n",
      "tot inj volume smaller\n",
      "tot inj volume 0.0\n",
      "structure vol 0.01812951\n",
      "tot inj volume smaller\n",
      "tot inj volume 0.0\n",
      "structure vol 0.030153375\n",
      "tot inj volume larger\n",
      "tot injection fraction 3.1599357258\n",
      "structure vol 0.1531179538\n",
      "tot inj volume larger\n",
      "tot injection fraction 2.62867507429\n",
      "structure vol 0.1036520912\n",
      "tot inj volume larger\n",
      "tot injection fraction 0.397480505527\n",
      "structure vol 0.0520242212\n",
      "tot inj volume larger\n",
      "tot injection fraction 0.242690293431\n",
      "structure vol 0.078535485\n",
      "tot inj volume smaller\n",
      "tot inj volume 0.0\n",
      "structure vol 0.01293949125\n",
      "tot inj volume larger\n",
      "tot injection fraction 6.9864844154\n",
      "structure vol 0.5690300224\n",
      "tot inj volume larger\n",
      "tot injection fraction 0.366235996\n",
      "structure vol 0.154343385\n",
      "tot inj volume larger\n",
      "tot injection fraction 0.345275952\n",
      "structure vol 0.0458932138\n",
      "tot inj volume larger\n",
      "tot injection fraction 0.1261697668\n",
      "structure vol 0.053636625\n",
      "tot inj volume larger\n",
      "tot injection fraction 3.0530966844\n",
      "structure vol 0.14421141\n",
      "tot inj volume larger\n",
      "tot injection fraction 4.3478578276\n",
      "structure vol 0.4960538912\n",
      "tot inj volume larger\n",
      "tot injection fraction 0.199931722331\n",
      "structure vol 0.03600820125\n",
      "tot inj volume larger\n",
      "tot injection fraction 7.25521112633\n",
      "structure vol 0.1958574688\n",
      "tot inj volume larger\n",
      "tot injection fraction 5.02541391624\n",
      "structure vol 0.27998262635\n",
      "tot inj volume larger\n",
      "tot injection fraction 3.30888414999\n",
      "structure vol 0.1120195076\n",
      "tot inj volume larger\n",
      "tot injection fraction 10.5198984519\n",
      "structure vol 0.1514432612\n",
      "tot inj volume larger\n",
      "tot injection fraction 5.88724862578\n",
      "structure vol 0.1948983036\n",
      "tot inj volume larger\n",
      "tot injection fraction 1.81380038652\n",
      "structure vol 0.0537529412\n",
      "HY to NTS 5254.83995473\n",
      "tot inj volume smaller\n",
      "tot inj volume 0.0\n",
      "structure vol 0.02743295625\n",
      "tot inj volume larger\n",
      "tot injection fraction 0.402797109575\n",
      "structure vol 0.03433129875\n",
      "tot inj volume smaller\n",
      "tot inj volume 0.0\n",
      "structure vol 0.04993884\n",
      "tot inj volume smaller\n",
      "tot inj volume 0.0\n",
      "structure vol 0.01812951\n",
      "tot inj volume smaller\n",
      "tot inj volume 0.0\n",
      "structure vol 0.030153375\n",
      "tot inj volume larger\n",
      "tot injection fraction 3.1599357258\n",
      "structure vol 0.1531179538\n",
      "tot inj volume larger\n",
      "tot injection fraction 2.62867507429\n",
      "structure vol 0.1036520912\n",
      "tot inj volume larger\n",
      "tot injection fraction 0.397480505527\n",
      "structure vol 0.0520242212\n"
     ]
    },
    {
     "name": "stdout",
     "output_type": "stream",
     "text": [
      "tot inj volume larger\n",
      "tot injection fraction 0.242690293431\n",
      "structure vol 0.078535485\n",
      "tot inj volume smaller\n",
      "tot inj volume 0.0\n",
      "structure vol 0.01293949125\n",
      "tot inj volume larger\n",
      "tot injection fraction 6.9864844154\n",
      "structure vol 0.5690300224\n",
      "tot inj volume larger\n",
      "tot injection fraction 0.366235996\n",
      "structure vol 0.154343385\n",
      "tot inj volume larger\n",
      "tot injection fraction 0.345275952\n",
      "structure vol 0.0458932138\n",
      "tot inj volume larger\n",
      "tot injection fraction 0.1261697668\n",
      "structure vol 0.053636625\n",
      "tot inj volume larger\n",
      "tot injection fraction 3.0530966844\n",
      "structure vol 0.14421141\n",
      "tot inj volume larger\n",
      "tot injection fraction 4.3478578276\n",
      "structure vol 0.4960538912\n",
      "tot inj volume larger\n",
      "tot injection fraction 0.199931722331\n",
      "structure vol 0.03600820125\n",
      "tot inj volume larger\n",
      "tot injection fraction 7.25521112633\n",
      "structure vol 0.1958574688\n",
      "tot inj volume larger\n",
      "tot injection fraction 5.02541391624\n",
      "structure vol 0.27998262635\n",
      "tot inj volume larger\n",
      "tot injection fraction 3.30888414999\n",
      "structure vol 0.1120195076\n",
      "tot inj volume larger\n",
      "tot injection fraction 10.5198984519\n",
      "structure vol 0.1514432612\n",
      "tot inj volume larger\n",
      "tot injection fraction 5.88724862578\n",
      "structure vol 0.1948983036\n",
      "tot inj volume larger\n",
      "tot injection fraction 1.81380038652\n",
      "structure vol 0.0537529412\n",
      "HY to PAG 121863.041702\n",
      "tot inj volume smaller\n",
      "tot inj volume 0.0\n",
      "structure vol 0.02743295625\n",
      "tot inj volume larger\n",
      "tot injection fraction 0.402797109575\n",
      "structure vol 0.03433129875\n",
      "tot inj volume smaller\n",
      "tot inj volume 0.0\n",
      "structure vol 0.04993884\n",
      "tot inj volume smaller\n",
      "tot inj volume 0.0\n",
      "structure vol 0.01812951\n",
      "tot inj volume smaller\n",
      "tot inj volume 0.0\n",
      "structure vol 0.030153375\n",
      "tot inj volume larger\n",
      "tot injection fraction 3.1599357258\n",
      "structure vol 0.1531179538\n",
      "tot inj volume larger\n",
      "tot injection fraction 2.62867507429\n",
      "structure vol 0.1036520912\n",
      "tot inj volume larger\n",
      "tot injection fraction 0.397480505527\n",
      "structure vol 0.0520242212\n",
      "tot inj volume larger\n",
      "tot injection fraction 0.242690293431\n",
      "structure vol 0.078535485\n",
      "tot inj volume smaller\n",
      "tot inj volume 0.0\n",
      "structure vol 0.01293949125\n",
      "tot inj volume larger\n",
      "tot injection fraction 6.9864844154\n",
      "structure vol 0.5690300224\n",
      "tot inj volume larger\n",
      "tot injection fraction 0.366235996\n",
      "structure vol 0.154343385\n",
      "exception occured\n",
      "tot inj volume larger\n",
      "tot injection fraction 0.345275952\n",
      "structure vol 0.0458932138\n",
      "tot inj volume larger\n",
      "tot injection fraction 0.1261697668\n",
      "structure vol 0.053636625\n",
      "tot inj volume larger\n",
      "tot injection fraction 3.0530966844\n",
      "structure vol 0.14421141\n",
      "tot inj volume larger\n",
      "tot injection fraction 4.3478578276\n",
      "structure vol 0.4960538912\n",
      "tot inj volume larger\n",
      "tot injection fraction 0.199931722331\n",
      "structure vol 0.03600820125\n",
      "tot inj volume larger\n",
      "tot injection fraction 7.25521112633\n",
      "structure vol 0.1958574688\n",
      "tot inj volume larger\n",
      "tot injection fraction 5.02541391624\n",
      "structure vol 0.27998262635\n",
      "tot inj volume larger\n",
      "tot injection fraction 3.30888414999\n",
      "structure vol 0.1120195076\n",
      "tot inj volume larger\n",
      "tot injection fraction 10.5198984519\n",
      "structure vol 0.1514432612\n",
      "tot inj volume larger\n",
      "tot injection fraction 5.88724862578\n",
      "structure vol 0.1948983036\n",
      "tot inj volume larger\n",
      "tot injection fraction 1.81380038652\n",
      "structure vol 0.0537529412\n",
      "HY to AP 167.77079497\n"
     ]
    }
   ],
   "source": [
    "_regions=['ADP', 'PVp', 'PVpo', 'VLPO', 'AVP', 'AVPV', 'SCH', 'SFO', 'SBPV', 'MEPO', 'MPO', 'OV', 'DMH', 'PD', 'PS', 'VMPO', 'PVa', 'PVH', 'PVi', 'ARH', 'ASO', 'SO', 'RCH', 'LHA', 'LPO', 'PST', 'PSTN', 'STN', 'TU', 'ZI', 'PeF', 'PVHd', 'AHN', 'MBO', 'MPN', 'VMH', 'PH', 'PMd', 'PMv']\n",
    "BS_nuclei=['SCs', 'SCm','PB','NTS','PAG','AP']\n",
    "\n",
    "\n",
    "for i in BS_nuclei:\n",
    "    summe=0.0\n",
    "    for j in _regions:\n",
    "        try:\n",
    "            summe+=sum_proj(j,i,r1=0.1,r2=1.5)[0]\n",
    "        except:\n",
    "            None\n",
    "    print 'HY'+' to '+i+\" \"+str(summe)"
   ]
  },
  {
   "cell_type": "code",
   "execution_count": 280,
   "metadata": {},
   "outputs": [
    {
     "data": {
      "text/plain": [
       "81511424.42761406"
      ]
     },
     "execution_count": 280,
     "metadata": {},
     "output_type": "execute_result"
    }
   ],
   "source": [
    "sum_proj('BS','HY',r1=0.1,r2=1.5)[0]"
   ]
  },
  {
   "cell_type": "code",
   "execution_count": 290,
   "metadata": {},
   "outputs": [
    {
     "name": "stdout",
     "output_type": "stream",
     "text": [
      "exception occured\n",
      "exception occured\n",
      "exception occured\n",
      "exception occured\n",
      "exception occured\n",
      "SCs to HY 2454.48250879\n",
      "SCm to HY 171806.573731\n",
      "PB to HY 1585387.81205\n",
      "exception occured\n",
      "exception occured\n",
      "exception occured\n",
      "exception occured\n",
      "exception occured\n",
      "exception occured\n",
      "exception occured\n",
      "exception occured\n",
      "exception occured\n",
      "exception occured\n",
      "exception occured\n",
      "exception occured\n",
      "exception occured\n",
      "exception occured\n",
      "exception occured\n",
      "NTS to HY 460.525654608\n",
      "PAG to HY 1282826.07808\n",
      "AP to HY 0.0\n"
     ]
    }
   ],
   "source": [
    "_regions=['ADP', 'PVp', 'PVpo', 'VLPO', 'AVP', 'AVPV', 'SCH', 'SFO', 'SBPV', 'MEPO', 'MPO', 'OV', 'DMH', 'PD', 'PS', 'VMPO', 'PVa', 'PVH', 'PVi', 'ARH', 'ASO', 'SO', 'RCH', 'LHA', 'LPO', 'PST', 'PSTN', 'STN', 'TU', 'ZI', 'PeF', 'PVHd', 'AHN', 'MBO', 'MPN', 'VMH', 'PH', 'PMd', 'PMv']\n",
    "BS_nuclei=['SCs', 'SCm','PB','NTS','PAG','AP']\n",
    "\n",
    "\n",
    "for i in BS_nuclei:\n",
    "    summe=0.0\n",
    "    for j in _regions:\n",
    "        try:\n",
    "            summe+=sum_proj(i,j,r1=0.1,r2=1.5)[0]\n",
    "        except:\n",
    "            None\n",
    "    print i+' to '+'HY'+\" \"+str(summe)"
   ]
  },
  {
   "cell_type": "code",
   "execution_count": 291,
   "metadata": {},
   "outputs": [
    {
     "data": {
      "text/plain": [
       "7277884.273278983"
      ]
     },
     "execution_count": 291,
     "metadata": {},
     "output_type": "execute_result"
    }
   ],
   "source": [
    "sum_proj('ILM','CTX',r1=0.1,r2=1.5)[0]"
   ]
  },
  {
   "cell_type": "code",
   "execution_count": 298,
   "metadata": {},
   "outputs": [
    {
     "name": "stdout",
     "output_type": "stream",
     "text": [
      "tot inj volume larger\n",
      "tot injection fraction 181.077545256\n",
      "structure vol 0.0430031743938\n"
     ]
    },
    {
     "data": {
      "text/plain": [
       "3842745704.0153522"
      ]
     },
     "execution_count": 298,
     "metadata": {},
     "output_type": "execute_result"
    }
   ],
   "source": [
    "sum_proj('CTX','ILM',r1=0.1,r2=1.5)[0]"
   ]
  },
  {
   "cell_type": "code",
   "execution_count": 302,
   "metadata": {},
   "outputs": [
    {
     "name": "stdout",
     "output_type": "stream",
     "text": [
      "tot inj volume larger\n",
      "tot injection fraction 181.077545256\n",
      "structure vol 0.0430031743938\n"
     ]
    },
    {
     "data": {
      "text/plain": [
       "614.7468377566435"
      ]
     },
     "execution_count": 302,
     "metadata": {},
     "output_type": "execute_result"
    }
   ],
   "source": [
    "sum_proj('CTX','SCm',r1=0.1,r2=1.5)[0]"
   ]
  },
  {
   "cell_type": "code",
   "execution_count": null,
   "metadata": {},
   "outputs": [],
   "source": []
  },
  {
   "cell_type": "code",
   "execution_count": 303,
   "metadata": {},
   "outputs": [
    {
     "data": {
      "text/plain": [
       "2584511.6279069767"
      ]
     },
     "execution_count": 303,
     "metadata": {},
     "output_type": "execute_result"
    }
   ],
   "source": [
    "614*181/0.043"
   ]
  },
  {
   "cell_type": "code",
   "execution_count": 299,
   "metadata": {},
   "outputs": [
    {
     "data": {
      "text/plain": [
       "8.3802130048"
      ]
     },
     "execution_count": 299,
     "metadata": {},
     "output_type": "execute_result"
    }
   ],
   "source": [
    "id_to_volume[acronym_to_id['HY']]"
   ]
  },
  {
   "cell_type": "markdown",
   "metadata": {},
   "source": [
    "## Mcmodels\n",
    "Here we use Mcmodels and their available data to explore the connectivity strength and the information flow\n"
   ]
  },
  {
   "cell_type": "markdown",
   "metadata": {},
   "source": [
    "Structure sets used by joseph, et al on 'High resolution data_diven model' uses intermediate level summary structures. This most likely corresponds to the structure set number 687527945 'Structures representing the subdivisions of the Mouse Brain'"
   ]
  },
  {
   "cell_type": "markdown",
   "metadata": {},
   "source": [
    "#### Set equivalence"
   ]
  },
  {
   "cell_type": "code",
   "execution_count": 280,
   "metadata": {},
   "outputs": [],
   "source": [
    "lightsaber=pd.DataFrame(structure_tree.get_structures_by_set_id([687527945]))\n",
    "lightsaber['acronym'].values\n",
    "\n",
    "fine_collection=[ i[1] for i in Voxel_connectivity_dict.keys() ]\n",
    "for "
   ]
  },
  {
   "cell_type": "code",
   "execution_count": 345,
   "metadata": {},
   "outputs": [
    {
     "data": {
      "text/plain": [
       "291"
      ]
     },
     "execution_count": 345,
     "metadata": {},
     "output_type": "execute_result"
    }
   ],
   "source": [
    "len(list(set(fine_collection)))"
   ]
  },
  {
   "cell_type": "code",
   "execution_count": 329,
   "metadata": {},
   "outputs": [
    {
     "data": {
      "text/plain": [
       "293"
      ]
     },
     "execution_count": 329,
     "metadata": {},
     "output_type": "execute_result"
    }
   ],
   "source": [
    "len(list(lightsaber['acronym'].values))"
   ]
  },
  {
   "cell_type": "code",
   "execution_count": 338,
   "metadata": {},
   "outputs": [],
   "source": [
    "l1=list(lightsaber['acronym'].values)\n",
    "l2=fine_collection"
   ]
  },
  {
   "cell_type": "code",
   "execution_count": 346,
   "metadata": {},
   "outputs": [
    {
     "name": "stdout",
     "output_type": "stream",
     "text": [
      "wtf ENTmv\n",
      "wtf fiber tracts\n"
     ]
    }
   ],
   "source": [
    "for i in l1:\n",
    "    if i not in l2:\n",
    "        print 'wtf',i"
   ]
  },
  {
   "cell_type": "code",
   "execution_count": 347,
   "metadata": {},
   "outputs": [],
   "source": [
    "for i in l2:\n",
    "    if i not in l1:\n",
    "        print 'wtf',i"
   ]
  },
  {
   "cell_type": "markdown",
   "metadata": {},
   "source": [
    "l1 contains l2 by 2 elements"
   ]
  },
  {
   "cell_type": "code",
   "execution_count": null,
   "metadata": {},
   "outputs": [],
   "source": []
  },
  {
   "cell_type": "code",
   "execution_count": 264,
   "metadata": {},
   "outputs": [],
   "source": [
    "from mcmodels.core import VoxelModelCache\n",
    "\n",
    "#create cache instance\n",
    "cache = VoxelModelCache()"
   ]
  },
  {
   "cell_type": "markdown",
   "metadata": {},
   "source": [
    "cache has a method(?) called get_connection_srength tha fetches the connection strength data. From such data, we calculate the information flow"
   ]
  },
  {
   "cell_type": "code",
   "execution_count": 300,
   "metadata": {},
   "outputs": [],
   "source": [
    "Voxel_connectivity=cache.get_connection_strength()\n",
    "Voxel_connectivity_dict=dict(Voxel_connectivity)"
   ]
  },
  {
   "cell_type": "markdown",
   "metadata": {},
   "source": [
    "## Exploring Damasio Network\n",
    "Here we explore the consciousness network proposed by Damasio, divided into two sections, one for the network within the brainstem, and one for between nuclei of the brainstem and the cerebral cortex"
   ]
  },
  {
   "cell_type": "markdown",
   "metadata": {},
   "source": [
    "Create a list that contains Damasio's Network"
   ]
  },
  {
   "cell_type": "code",
   "execution_count": 306,
   "metadata": {},
   "outputs": [],
   "source": [
    "from collections import Iterable\n",
    "\n",
    "def flatten(lis):\n",
    "    \"\"\"Iterate over an arbitrary dimensional iterable and returns a list containing\n",
    "    all the elements in the list\"\"\"\n",
    "    \n",
    "    for item in lis:\n",
    "        if isinstance(item,Iterable) and not isinstance(item,basestring):\n",
    "            for x in flatten(item):\n",
    "                yield x\n",
    "        else:\n",
    "            yield item\n",
    "\n",
    "    "
   ]
  },
  {
   "cell_type": "code",
   "execution_count": 307,
   "metadata": {},
   "outputs": [],
   "source": [
    "Damasio_Network=[['SCs','SCm'],\n",
    "                ['PB'],\n",
    "                ['NTS'],\n",
    "                ['PAG'],\n",
    "                ['AP'],\n",
    "                ]\n",
    "for i in Substr[acronym_to_id['HY']]:\n",
    "    toappend=[str(id_to_acronym[j]) for j in Substr[i]]\n",
    "    Damasio_Network.append(toappend)"
   ]
  },
  {
   "cell_type": "code",
   "execution_count": 308,
   "metadata": {},
   "outputs": [
    {
     "data": {
      "text/plain": [
       "[141, 157, 290, 467, 10671]"
      ]
     },
     "execution_count": 308,
     "metadata": {},
     "output_type": "execute_result"
    }
   ],
   "source": [
    "Substr[acronym_to_id['HY']]"
   ]
  },
  {
   "cell_type": "markdown",
   "metadata": {},
   "source": [
    "#### From HY to BS"
   ]
  },
  {
   "cell_type": "code",
   "execution_count": 309,
   "metadata": {},
   "outputs": [],
   "source": [
    "flat_Damasio=list(flatten(Damasio_Network))"
   ]
  },
  {
   "cell_type": "code",
   "execution_count": 310,
   "metadata": {
    "scrolled": true
   },
   "outputs": [
    {
     "data": {
      "text/plain": [
       "['SCs', 'SCm', 'PB', 'NTS', 'PAG', 'AP', 'ADP', 'PVp', 'PVpo', 'VLPO', 'AVP', 'AVPV', 'SCH', 'SFO', 'SBPV', 'MEPO', 'MPO', 'OV', 'DMH', 'PD', 'PS', 'VMPO', 'PVa', 'PVH', 'PVi', 'ARH', 'ASO', 'SO', 'RCH', 'LHA', 'LPO', 'PST', 'PSTN', 'STN', 'TU', 'ZI', 'PeF', 'PVHd', 'AHN', 'MBO', 'MPN', 'VMH', 'PH', 'PMd', 'PMv']"
      ]
     },
     "execution_count": 310,
     "metadata": {},
     "output_type": "execute_result"
    }
   ],
   "source": [
    "flat_Damasio"
   ]
  },
  {
   "cell_type": "code",
   "execution_count": 312,
   "metadata": {},
   "outputs": [],
   "source": [
    "exception_dict={}\n",
    "Damasio_dict={}\n",
    "\n",
    "for i in flat_Damasio[6:]:\n",
    "    for j in flat_Damasio[:6]:\n",
    "        try:\n",
    "            proj=Voxel_connectivity_dict[('ipsi',i)][j]*92000\n",
    "            Damasio_dict[(i,j)]=proj\n",
    "        except:\n",
    "            if i not in exception_dict:\n",
    "                exception_dict[i]=0\n",
    "            else:\n",
    "                exception_dict[i]+=1"
   ]
  },
  {
   "cell_type": "code",
   "execution_count": 314,
   "metadata": {},
   "outputs": [
    {
     "data": {
      "text/plain": [
       "{'PeF': 5, 'MBO': 5, 'VMPO': 5}"
      ]
     },
     "execution_count": 314,
     "metadata": {},
     "output_type": "execute_result"
    }
   ],
   "source": [
    "exception_dict"
   ]
  },
  {
   "cell_type": "code",
   "execution_count": 315,
   "metadata": {},
   "outputs": [],
   "source": [
    "HY_to_BS={}\n",
    "for i in flat_Damasio[:6]:\n",
    "    HY_to_BS[('HY',i)]=0\n",
    "\n",
    "for i in flat_Damasio[6:]:\n",
    "    for j in flat_Damasio[:6]:\n",
    "        if i not in exception_dict.keys():\n",
    "            add=Damasio_dict[(i,j)]\n",
    "            HY_to_BS[('HY',j)]+=add"
   ]
  },
  {
   "cell_type": "code",
   "execution_count": 316,
   "metadata": {},
   "outputs": [
    {
     "data": {
      "text/plain": [
       "['PeF', 'MBO', 'VMPO']"
      ]
     },
     "execution_count": 316,
     "metadata": {},
     "output_type": "execute_result"
    }
   ],
   "source": [
    "exception_dict.keys()"
   ]
  },
  {
   "cell_type": "code",
   "execution_count": 318,
   "metadata": {},
   "outputs": [
    {
     "name": "stdout",
     "output_type": "stream",
     "text": [
      "Pretty printing has been turned ON\n"
     ]
    }
   ],
   "source": [
    "%pprint"
   ]
  },
  {
   "cell_type": "code",
   "execution_count": 319,
   "metadata": {},
   "outputs": [
    {
     "data": {
      "text/plain": [
       "{('HY', 'AP'): 601992.8089413116,\n",
       " ('HY', 'NTS'): 2888747.214828966,\n",
       " ('HY', 'PAG'): 112840524.61648126,\n",
       " ('HY', 'PB'): 35070641.28208359,\n",
       " ('HY', 'SCm'): 98010599.76085003,\n",
       " ('HY', 'SCs'): 15164716.876646407}"
      ]
     },
     "execution_count": 319,
     "metadata": {},
     "output_type": "execute_result"
    }
   ],
   "source": [
    "HY_to_BS"
   ]
  },
  {
   "cell_type": "markdown",
   "metadata": {},
   "source": [
    "#### From BS to HY"
   ]
  },
  {
   "cell_type": "code",
   "execution_count": 321,
   "metadata": {},
   "outputs": [],
   "source": [
    "exception_dict={}\n",
    "Damasio_dict={}\n",
    "\n",
    "for i in flat_Damasio[:6]:\n",
    "    for j in flat_Damasio[6:]:\n",
    "        try:\n",
    "            proj=Voxel_connectivity_dict[('ipsi',i)][j]*92000\n",
    "            Damasio_dict[(i,j)]=proj\n",
    "        except:\n",
    "            if i not in exception_dict:\n",
    "                exception_dict[j]=0\n",
    "            else:\n",
    "                exception_dict[j]+=1"
   ]
  },
  {
   "cell_type": "code",
   "execution_count": 322,
   "metadata": {},
   "outputs": [
    {
     "data": {
      "text/plain": [
       "{('AP', 'ADP'): 312.9441143682925,\n",
       " ('AP', 'AHN'): 5135.985342581989,\n",
       " ('AP', 'ARH'): 3020.6431963597424,\n",
       " ('AP', 'ASO'): 17.178109206724912,\n",
       " ('AP', 'AVP'): 173.4274537739111,\n",
       " ('AP', 'AVPV'): 355.974893682287,\n",
       " ('AP', 'DMH'): 3795.1260693953373,\n",
       " ('AP', 'LHA'): 11433.845429819485,\n",
       " ('AP', 'LPO'): 1416.3174082677872,\n",
       " ('AP', 'MEPO'): 205.06868507163747,\n",
       " ('AP', 'MPN'): 2100.520661333576,\n",
       " ('AP', 'MPO'): 1860.2410752355354,\n",
       " ('AP', 'OV'): 22.933276151889004,\n",
       " ('AP', 'PD'): 57.28061546687968,\n",
       " ('AP', 'PH'): 2095.3289983444847,\n",
       " ('AP', 'PMd'): 587.8298965108115,\n",
       " ('AP', 'PMv'): 1563.8487985997926,\n",
       " ('AP', 'PS'): 310.3679866471793,\n",
       " ('AP', 'PST'): 45.41565314866603,\n",
       " ('AP', 'PSTN'): 336.65115421536024,\n",
       " ('AP', 'PVH'): 1833.1710154307077,\n",
       " ('AP', 'PVHd'): 1210.4691684362479,\n",
       " ('AP', 'PVa'): 19.303322042105716,\n",
       " ('AP', 'PVi'): 588.5014634695835,\n",
       " ('AP', 'PVp'): 790.4466252075508,\n",
       " ('AP', 'PVpo'): 546.6821859154152,\n",
       " ('AP', 'RCH'): 876.9786358170678,\n",
       " ('AP', 'SBPV'): 1063.4426152973904,\n",
       " ('AP', 'SCH'): 332.791831344366,\n",
       " ('AP', 'SFO'): 0.0,\n",
       " ('AP', 'SO'): 109.7724411811214,\n",
       " ('AP', 'STN'): 71.84182619675994,\n",
       " ('AP', 'TU'): 6158.196307020262,\n",
       " ('AP', 'VLPO'): 102.13368322729366,\n",
       " ('AP', 'VMH'): 6150.589356548154,\n",
       " ('AP', 'ZI'): 2473.4750537190844,\n",
       " ('NTS', 'ADP'): 8550.229606218636,\n",
       " ('NTS', 'AHN'): 91669.52390875666,\n",
       " ('NTS', 'ARH'): 36146.464543417096,\n",
       " ('NTS', 'ASO'): 276.75136644393206,\n",
       " ('NTS', 'AVP'): 7238.959515467286,\n",
       " ('NTS', 'AVPV'): 13624.882741365582,\n",
       " ('NTS', 'DMH'): 55635.68610884249,\n",
       " ('NTS', 'LHA'): 407957.3571886868,\n",
       " ('NTS', 'LPO'): 52879.41356981173,\n",
       " ('NTS', 'MEPO'): 5307.608151808381,\n",
       " ('NTS', 'MPN'): 50021.90749766305,\n",
       " ('NTS', 'MPO'): 56984.039957635105,\n",
       " ('NTS', 'OV'): 788.329990580678,\n",
       " ('NTS', 'PD'): 1332.5033383443952,\n",
       " ('NTS', 'PH'): 78387.7365202643,\n",
       " ('NTS', 'PMd'): 14205.066309310498,\n",
       " ('NTS', 'PMv'): 23146.6619153507,\n",
       " ('NTS', 'PS'): 10289.13081996143,\n",
       " ('NTS', 'PST'): 4885.103663429618,\n",
       " ('NTS', 'PSTN'): 55874.07558225095,\n",
       " ('NTS', 'PVH'): 31699.08727519214,\n",
       " ('NTS', 'PVHd'): 21727.419856004417,\n",
       " ('NTS', 'PVa'): 388.4994015097618,\n",
       " ('NTS', 'PVi'): 8567.209037020802,\n",
       " ('NTS', 'PVp'): 10282.45285432786,\n",
       " ('NTS', 'PVpo'): 12696.96064479649,\n",
       " ('NTS', 'RCH'): 13887.843031436205,\n",
       " ('NTS', 'SBPV'): 18965.48893116415,\n",
       " ('NTS', 'SCH'): 6760.612251237035,\n",
       " ('NTS', 'SFO'): 0.0,\n",
       " ('NTS', 'SO'): 3326.8229267559946,\n",
       " ('NTS', 'STN'): 87139.55299556255,\n",
       " ('NTS', 'TU'): 73574.29942116141,\n",
       " ('NTS', 'VLPO'): 5641.719406004996,\n",
       " ('NTS', 'VMH'): 73923.84060658514,\n",
       " ('NTS', 'ZI'): 596918.2868441566,\n",
       " ('PAG', 'ADP'): 1528885.7651948929,\n",
       " ('PAG', 'AHN'): 17392943.52567196,\n",
       " ('PAG', 'ARH'): 9556540.984630585,\n",
       " ('PAG', 'ASO'): 50665.897846221924,\n",
       " ('PAG', 'AVP'): 1496425.079584122,\n",
       " ('PAG', 'AVPV'): 2994784.357905388,\n",
       " ('PAG', 'DMH'): 10884338.387966156,\n",
       " ('PAG', 'LHA'): 47601158.59138966,\n",
       " ('PAG', 'LPO'): 9999826.521158218,\n",
       " ('PAG', 'MEPO'): 1034759.0494155884,\n",
       " ('PAG', 'MPN'): 7967107.422113419,\n",
       " ('PAG', 'MPO'): 10521299.727201464,\n",
       " ('PAG', 'OV'): 176422.23572731015,\n",
       " ('PAG', 'PD'): 189526.31187438965,\n",
       " ('PAG', 'PH'): 12789722.758293152,\n",
       " ('PAG', 'PMd'): 2382040.633320808,\n",
       " ('PAG', 'PMv'): 4348919.14343834,\n",
       " ('PAG', 'PS'): 1911526.5374183657,\n",
       " ('PAG', 'PST'): 302000.4736185074,\n",
       " ('PAG', 'PSTN'): 3443026.728868484,\n",
       " ('PAG', 'PVH'): 3940685.561418533,\n",
       " ('PAG', 'PVHd'): 3200225.4147529607,\n",
       " ('PAG', 'PVa'): 97291.49198532104,\n",
       " ('PAG', 'PVi'): 1843781.4655303953,\n",
       " ('PAG', 'PVp'): 2460015.4256820683,\n",
       " ('PAG', 'PVpo'): 2053027.7210474012,\n",
       " ('PAG', 'RCH'): 3943585.731267929,\n",
       " ('PAG', 'SBPV'): 3459905.7642221455,\n",
       " ('PAG', 'SCH'): 1677008.5576772687,\n",
       " ('PAG', 'SFO'): 0.0,\n",
       " ('PAG', 'SO'): 822074.1647481918,\n",
       " ('PAG', 'STN'): 4351588.847398759,\n",
       " ('PAG', 'TU'): 16321456.94732666,\n",
       " ('PAG', 'VLPO'): 1264672.345042229,\n",
       " ('PAG', 'VMH'): 17451389.38832283,\n",
       " ('PAG', 'ZI'): 50799031.73840047,\n",
       " ('PB', 'ADP'): 66148.21450784802,\n",
       " ('PB', 'AHN'): 499094.23334896564,\n",
       " ('PB', 'ARH'): 195727.82834991813,\n",
       " ('PB', 'ASO'): 1313.8764202594757,\n",
       " ('PB', 'AVP'): 72422.7423965931,\n",
       " ('PB', 'AVPV'): 145271.44773676991,\n",
       " ('PB', 'DMH'): 244168.82520914078,\n",
       " ('PB', 'LHA'): 1774370.7071430979,\n",
       " ('PB', 'LPO'): 445876.0200664401,\n",
       " ('PB', 'MEPO'): 41164.767656475306,\n",
       " ('PB', 'MPN'): 331799.1558238864,\n",
       " ('PB', 'MPO'): 469945.70079445845,\n",
       " ('PB', 'OV'): 8533.384267240763,\n",
       " ('PB', 'PD'): 8079.981252551079,\n",
       " ('PB', 'PH'): 321049.4457203895,\n",
       " ('PB', 'PMd'): 60038.438603281975,\n",
       " ('PB', 'PMv'): 103027.228128165,\n",
       " ('PB', 'PS'): 87622.95993417501,\n",
       " ('PB', 'PST'): 17117.1205714345,\n",
       " ('PB', 'PSTN'): 186822.45828211308,\n",
       " ('PB', 'PVH'): 122798.36528748272,\n",
       " ('PB', 'PVHd'): 81353.3397205174,\n",
       " ('PB', 'PVa'): 2638.5133452713485,\n",
       " ('PB', 'PVi'): 39272.889327257864,\n",
       " ('PB', 'PVp'): 55526.42899006605,\n",
       " ('PB', 'PVpo'): 86217.98452734949,\n",
       " ('PB', 'RCH'): 88823.6702233553,\n",
       " ('PB', 'SBPV'): 99644.0712660551,\n",
       " ('PB', 'SCH'): 46934.976022690535,\n",
       " ('PB', 'SFO'): 0.0,\n",
       " ('PB', 'SO'): 27504.034277051687,\n",
       " ('PB', 'STN'): 366386.86952739954,\n",
       " ('PB', 'TU'): 347985.7976324856,\n",
       " ('PB', 'VLPO'): 60181.177765131,\n",
       " ('PB', 'VMH'): 364122.92657047504,\n",
       " ('PB', 'ZI'): 3796346.819654107,\n",
       " ('SCm', 'ADP'): 72090.86658805609,\n",
       " ('SCm', 'AHN'): 4998376.109361649,\n",
       " ('SCm', 'ARH'): 4168804.5730590825,\n",
       " ('SCm', 'ASO'): 16447.780966758728,\n",
       " ('SCm', 'AVP'): 76851.08333826065,\n",
       " ('SCm', 'AVPV'): 140480.91792315245,\n",
       " ('SCm', 'DMH'): 3661431.7497015,\n",
       " ('SCm', 'LHA'): 16872801.06882751,\n",
       " ('SCm', 'LPO'): 872970.9154218434,\n",
       " ('SCm', 'MEPO'): 42886.95505261421,\n",
       " ('SCm', 'MPN'): 992927.7572259307,\n",
       " ('SCm', 'MPO'): 876358.3005033433,\n",
       " ('SCm', 'OV'): 7549.218136817217,\n",
       " ('SCm', 'PD'): 18237.5920265913,\n",
       " ('SCm', 'PH'): 3429750.6515532727,\n",
       " ('SCm', 'PMd'): 517998.92234802246,\n",
       " ('SCm', 'PMv'): 1174422.915607691,\n",
       " ('SCm', 'PS'): 97828.48167419434,\n",
       " ('SCm', 'PST'): 264665.5342578888,\n",
       " ('SCm', 'PSTN'): 3347936.421096325,\n",
       " ('SCm', 'PVH'): 969907.7825993301,\n",
       " ('SCm', 'PVHd'): 1064391.2375569344,\n",
       " ('SCm', 'PVa'): 32953.05639505387,\n",
       " ('SCm', 'PVi'): 713836.6096019744,\n",
       " ('SCm', 'PVp'): 676793.1082397698,\n",
       " ('SCm', 'PVpo'): 257009.80754196647,\n",
       " ('SCm', 'RCH'): 1562376.9450187683,\n",
       " ('SCm', 'SBPV'): 1035592.290699482,\n",
       " ('SCm', 'SCH'): 548083.2945108415,\n",
       " ('SCm', 'SFO'): 0.0,\n",
       " ('SCm', 'SO'): 166642.33000576496,\n",
       " ('SCm', 'STN'): 8271131.447434425,\n",
       " ('SCm', 'TU'): 6303231.34714365,\n",
       " ('SCm', 'VLPO'): 91447.16725498438,\n",
       " ('SCm', 'VMH'): 7148067.939221859,\n",
       " ('SCm', 'ZI'): 102972582.16905592,\n",
       " ('SCs', 'ADP'): 3374.332720413804,\n",
       " ('SCs', 'AHN'): 150252.18093395233,\n",
       " ('SCs', 'ARH'): 134935.9648432583,\n",
       " ('SCs', 'ASO'): 491.0374060273171,\n",
       " ('SCs', 'AVP'): 3565.915841376409,\n",
       " ('SCs', 'AVPV'): 8504.492121981455,\n",
       " ('SCs', 'DMH'): 122889.37734998764,\n",
       " ('SCs', 'LHA'): 595683.4631771779,\n",
       " ('SCs', 'LPO'): 29164.199572289363,\n",
       " ('SCs', 'MEPO'): 2272.547932923771,\n",
       " ('SCs', 'MPN'): 34411.839498672634,\n",
       " ('SCs', 'MPO'): 33011.10484218225,\n",
       " ('SCs', 'OV'): 537.4668233562261,\n",
       " ('SCs', 'PD'): 668.7160241417587,\n",
       " ('SCs', 'PH'): 141353.12845464796,\n",
       " ('SCs', 'PMd'): 23359.25230383873,\n",
       " ('SCs', 'PMv'): 45612.231570296,\n",
       " ('SCs', 'PS'): 4138.446734286845,\n",
       " ('SCs', 'PST'): 10338.18567916751,\n",
       " ('SCs', 'PSTN'): 122181.88707903028,\n",
       " ('SCs', 'PVH'): 30525.5323369056,\n",
       " ('SCs', 'PVHd'): 33432.60954320431,\n",
       " ('SCs', 'PVa'): 975.9588968008757,\n",
       " ('SCs', 'PVi'): 21752.02791206539,\n",
       " ('SCs', 'PVp'): 28173.627842217684,\n",
       " ('SCs', 'PVpo'): 9248.606420587748,\n",
       " ('SCs', 'RCH'): 46611.52473650873,\n",
       " ('SCs', 'SBPV'): 31095.380156300962,\n",
       " ('SCs', 'SCH'): 16311.391845345497,\n",
       " ('SCs', 'SFO'): 0.0,\n",
       " ('SCs', 'SO'): 4763.955577276648,\n",
       " ('SCs', 'STN'): 284170.9748506546,\n",
       " ('SCs', 'TU'): 202538.409255445,\n",
       " ('SCs', 'VLPO'): 3416.414092527702,\n",
       " ('SCs', 'VMH'): 225485.43574474752,\n",
       " ('SCs', 'ZI'): 2830570.938544348}"
      ]
     },
     "execution_count": 322,
     "metadata": {},
     "output_type": "execute_result"
    }
   ],
   "source": [
    "Damasio_dict"
   ]
  },
  {
   "cell_type": "code",
   "execution_count": 323,
   "metadata": {},
   "outputs": [
    {
     "data": {
      "text/plain": [
       "{'MBO': 0, 'PeF': 0, 'VMPO': 0}"
      ]
     },
     "execution_count": 323,
     "metadata": {},
     "output_type": "execute_result"
    }
   ],
   "source": [
    "exception_dict"
   ]
  },
  {
   "cell_type": "code",
   "execution_count": 324,
   "metadata": {},
   "outputs": [],
   "source": [
    "BS_to_HY={}\n",
    "for i in flat_Damasio[:6]:\n",
    "    BS_to_HY[('BS',i)]=0\n",
    "\n",
    "for i in flat_Damasio[:6]:\n",
    "    for j in flat_Damasio[6:]:\n",
    "        if j not in exception_dict.keys():\n",
    "            add=Damasio_dict[(i,j)]\n",
    "            BS_to_HY[('BS',i)]+=add"
   ]
  },
  {
   "cell_type": "code",
   "execution_count": 325,
   "metadata": {},
   "outputs": [
    {
     "data": {
      "text/plain": [
       "{('BS', 'AP'): 57174.72434903448,\n",
       " ('BS', 'NTS'): 1940701.527778525,\n",
       " ('BS', 'PAG'): 260257660.69746017,\n",
       " ('BS', 'PB'): 10665332.4003499,\n",
       " ('BS', 'SCm'): 173464864.34695125,\n",
       " ('BS', 'SCs'): 5235818.558663945}"
      ]
     },
     "execution_count": 325,
     "metadata": {},
     "output_type": "execute_result"
    }
   ],
   "source": [
    "BS_to_HY"
   ]
  },
  {
   "cell_type": "code",
   "execution_count": 215,
   "metadata": {},
   "outputs": [
    {
     "data": {
      "text/plain": [
       "{('HY', 'AP'): 601992.8089413116,\n",
       " ('HY', 'NTS'): 2888747.214828966,\n",
       " ('HY', 'PAG'): 112840524.61648126,\n",
       " ('HY', 'PB'): 35070641.28208359,\n",
       " ('HY', 'SCm'): 98010599.76085003,\n",
       " ('HY', 'SCs'): 15164716.876646407}"
      ]
     },
     "execution_count": 215,
     "metadata": {},
     "output_type": "execute_result"
    }
   ],
   "source": [
    "HY_to_BS"
   ]
  },
  {
   "cell_type": "markdown",
   "metadata": {},
   "source": [
    "## Within BS"
   ]
  },
  {
   "cell_type": "code",
   "execution_count": 221,
   "metadata": {},
   "outputs": [],
   "source": [
    "WithinBS=flat_Damasio[:6]\n",
    "BS_dict={}"
   ]
  },
  {
   "cell_type": "code",
   "execution_count": 224,
   "metadata": {},
   "outputs": [],
   "source": [
    "for i in WithinBS:\n",
    "    for j in WithinBS:\n",
    "        proj=Voxel_connectivity_dict[('ipsi',i)][j]*92000\n",
    "        BS_dict[(i,j)]=proj\n",
    "        "
   ]
  },
  {
   "cell_type": "markdown",
   "metadata": {},
   "source": [
    "## Between CTX and HypoBS"
   ]
  },
  {
   "cell_type": "markdown",
   "metadata": {},
   "source": [
    "We want to be able to create a table of information flow in terms of 'large' cortical regions, such as VIS, AUD etc. So we need a way to manage that. \n",
    "\n",
    "The previously defined Substr and Unpack may come in handy here\n",
    "\n"
   ]
  },
  {
   "cell_type": "code",
   "execution_count": 337,
   "metadata": {},
   "outputs": [
    {
     "data": {
      "text/plain": [
       "(291, 8)"
      ]
     },
     "execution_count": 337,
     "metadata": {},
     "output_type": "execute_result"
    }
   ],
   "source": [
    "Voxel_structures.shape"
   ]
  },
  {
   "cell_type": "code",
   "execution_count": 338,
   "metadata": {},
   "outputs": [],
   "source": [
    "def Cortical_HYBS_map(ctx_region,target):\n",
    "    \"\"\"Calculates the Projection sum from the specific cortical regions into the BS or the HyThalamus\n",
    "    args:\n",
    "        ctx_region(basestring): id of the structure\n",
    "        target(basestring): id of the target structure\"\"\"\n",
    "    \n",
    "    source=[id_to_acronym[i] for i in Unpack(acronym_to_id[ctx_region],Substr,include_self=False)] \n",
    "            #list of id\n",
    "    \n",
    "    #if it has no substructure\n",
    "    #if len(source)==0:\n",
    "    #    source=Unpack(ctx_region,Substr,include_self=True)\n",
    "    \n",
    "    Voxel_source=[]\n",
    "    for i in source:\n",
    "        if i in list(Voxel_structures['acronym']):\n",
    "            Voxel_source.append(i)\n",
    "    \n",
    "    ret=0\n",
    "    for i in Voxel_source:\n",
    "        ret+=Voxel_connectivity_dict[('ipsi',i)][target]*92000\n",
    "    return ret\n",
    "    "
   ]
  },
  {
   "cell_type": "code",
   "execution_count": 340,
   "metadata": {},
   "outputs": [
    {
     "data": {
      "text/plain": [
       "[22,\n",
       " 312782546,\n",
       " 312782550,\n",
       " 312782554,\n",
       " 312782558,\n",
       " 312782562,\n",
       " 312782566,\n",
       " 312782570,\n",
       " 417,\n",
       " 312782604,\n",
       " 312782608,\n",
       " 312782612,\n",
       " 312782616,\n",
       " 312782620,\n",
       " 312782624,\n",
       " 31,\n",
       " 39,\n",
       " 211,\n",
       " 919,\n",
       " 927,\n",
       " 935,\n",
       " 1015,\n",
       " 48,\n",
       " 296,\n",
       " 588,\n",
       " 772,\n",
       " 810,\n",
       " 819,\n",
       " 44,\n",
       " 556,\n",
       " 707,\n",
       " 827,\n",
       " 1054,\n",
       " 1081,\n",
       " 95,\n",
       " 104,\n",
       " 328,\n",
       " 783,\n",
       " 831,\n",
       " 996,\n",
       " 1101,\n",
       " 111,\n",
       " 120,\n",
       " 163,\n",
       " 314,\n",
       " 344,\n",
       " 355,\n",
       " 119,\n",
       " 675,\n",
       " 694,\n",
       " 699,\n",
       " 704,\n",
       " 800,\n",
       " 184,\n",
       " 68,\n",
       " 667,\n",
       " 526157192,\n",
       " 526157196,\n",
       " 526322264,\n",
       " 247,\n",
       " 1002,\n",
       " 251,\n",
       " 735,\n",
       " 816,\n",
       " 847,\n",
       " 954,\n",
       " 1005,\n",
       " 1011,\n",
       " 156,\n",
       " 243,\n",
       " 252,\n",
       " 527,\n",
       " 600,\n",
       " 678,\n",
       " 1018,\n",
       " 520,\n",
       " 598,\n",
       " 755,\n",
       " 959,\n",
       " 990,\n",
       " 1023,\n",
       " 1027,\n",
       " 249,\n",
       " 456,\n",
       " 643,\n",
       " 696,\n",
       " 759,\n",
       " 791,\n",
       " 254,\n",
       " 879,\n",
       " 274,\n",
       " 330,\n",
       " 434,\n",
       " 442,\n",
       " 545,\n",
       " 610,\n",
       " 886,\n",
       " 430,\n",
       " 542,\n",
       " 590,\n",
       " 622,\n",
       " 687,\n",
       " 894,\n",
       " 279,\n",
       " 671,\n",
       " 774,\n",
       " 906,\n",
       " 965,\n",
       " 500,\n",
       " 985,\n",
       " 320,\n",
       " 648,\n",
       " 844,\n",
       " 882,\n",
       " 943,\n",
       " 993,\n",
       " 656,\n",
       " 767,\n",
       " 962,\n",
       " 1021,\n",
       " 1085,\n",
       " 541,\n",
       " 97,\n",
       " 234,\n",
       " 289,\n",
       " 729,\n",
       " 786,\n",
       " 1127,\n",
       " 669,\n",
       " 385,\n",
       " 33,\n",
       " 305,\n",
       " 593,\n",
       " 721,\n",
       " 778,\n",
       " 821,\n",
       " 394,\n",
       " 281,\n",
       " 401,\n",
       " 433,\n",
       " 441,\n",
       " 1046,\n",
       " 1066,\n",
       " 402,\n",
       " 233,\n",
       " 601,\n",
       " 649,\n",
       " 905,\n",
       " 1074,\n",
       " 1114,\n",
       " 312782574,\n",
       " 312782582,\n",
       " 312782586,\n",
       " 312782590,\n",
       " 312782578,\n",
       " 312782594,\n",
       " 312782598,\n",
       " 409,\n",
       " 74,\n",
       " 121,\n",
       " 421,\n",
       " 573,\n",
       " 613,\n",
       " 973,\n",
       " 425,\n",
       " 269,\n",
       " 377,\n",
       " 393,\n",
       " 750,\n",
       " 869,\n",
       " 902,\n",
       " 533,\n",
       " 41,\n",
       " 257,\n",
       " 469,\n",
       " 565,\n",
       " 501,\n",
       " 805,\n",
       " 312782628,\n",
       " 312782632,\n",
       " 312782636,\n",
       " 312782640,\n",
       " 312782644,\n",
       " 312782648,\n",
       " 312782652,\n",
       " 677,\n",
       " 849,\n",
       " 857,\n",
       " 897,\n",
       " 1010,\n",
       " 1058,\n",
       " 1106,\n",
       " 714,\n",
       " 723,\n",
       " 412,\n",
       " 440,\n",
       " 448,\n",
       " 488,\n",
       " 630,\n",
       " 731,\n",
       " 484,\n",
       " 582,\n",
       " 620,\n",
       " 910,\n",
       " 527696977,\n",
       " 746,\n",
       " 288,\n",
       " 608,\n",
       " 680,\n",
       " 969,\n",
       " 1125,\n",
       " 895,\n",
       " 427,\n",
       " 836,\n",
       " 977,\n",
       " 988,\n",
       " 1045,\n",
       " 922,\n",
       " 335,\n",
       " 368,\n",
       " 540,\n",
       " 692,\n",
       " 888,\n",
       " 972,\n",
       " 84,\n",
       " 132,\n",
       " 171,\n",
       " 304,\n",
       " 363,\n",
       " 1057,\n",
       " 36,\n",
       " 148,\n",
       " 180,\n",
       " 187,\n",
       " 638,\n",
       " 662,\n",
       " 453,\n",
       " 322,\n",
       " 329,\n",
       " 201,\n",
       " 981,\n",
       " 1038,\n",
       " 1047,\n",
       " 1062,\n",
       " 1070,\n",
       " 337,\n",
       " 113,\n",
       " 478,\n",
       " 510,\n",
       " 1030,\n",
       " 1094,\n",
       " 1128,\n",
       " 345,\n",
       " 2,\n",
       " 657,\n",
       " 878,\n",
       " 950,\n",
       " 974,\n",
       " 1102,\n",
       " 353,\n",
       " 558,\n",
       " 654,\n",
       " 702,\n",
       " 838,\n",
       " 889,\n",
       " 929,\n",
       " 361,\n",
       " 9,\n",
       " 461,\n",
       " 670,\n",
       " 1006,\n",
       " 1086,\n",
       " 1111,\n",
       " 369,\n",
       " 450,\n",
       " 577,\n",
       " 625,\n",
       " 854,\n",
       " 1026,\n",
       " 945,\n",
       " 182305689,\n",
       " 182305693,\n",
       " 182305701,\n",
       " 182305705,\n",
       " 182305709,\n",
       " 182305713,\n",
       " 182305697,\n",
       " 378,\n",
       " 806,\n",
       " 862,\n",
       " 873,\n",
       " 893,\n",
       " 1035,\n",
       " 1090]"
      ]
     },
     "execution_count": 340,
     "metadata": {},
     "output_type": "execute_result"
    }
   ],
   "source": [
    "Unpack(acronym_to_id['Isocortex'],Substr)"
   ]
  },
  {
   "cell_type": "code",
   "execution_count": 341,
   "metadata": {},
   "outputs": [],
   "source": [
    "CTX_regions=['AUD','VIS','MO','SS','ACA','ORB','AI','RSP','PTLp']\n",
    "BS_nuclei=['SCs', 'SCm','PB','NTS','PAG','AP']\n",
    "\n",
    "CTX_to_BS_nuclei={}\n",
    "for i in BS_nuclei:\n",
    "    CTX_to_BS_nuclei[i]=0\n",
    "    \n",
    "sum_me=0\n",
    "for i in BS_nuclei:\n",
    "    for j in CTX_regions:\n",
    "        addme=Cortical_HYBS_map(j,i)\n",
    "        sum_me+=addme\n",
    "    CTX_to_BS_nuclei[i]=sum_me\n",
    "    sum_me=0"
   ]
  },
  {
   "cell_type": "code",
   "execution_count": 342,
   "metadata": {},
   "outputs": [
    {
     "data": {
      "text/plain": [
       "{'AP': 565280.6168194802,\n",
       " 'NTS': 3127679.3021562,\n",
       " 'PAG': 7156091.618768791,\n",
       " 'PB': 2035798.1088416118,\n",
       " 'SCm': 23363330.75415419,\n",
       " 'SCs': 15872781.214532183}"
      ]
     },
     "execution_count": 342,
     "metadata": {},
     "output_type": "execute_result"
    }
   ],
   "source": [
    "\n",
    "CTX_to_BS_nuclei"
   ]
  },
  {
   "cell_type": "code",
   "execution_count": 343,
   "metadata": {},
   "outputs": [],
   "source": [
    "CTX_regions=['AUD','VIS','MO','SS','ACA','ORB','AI','RSP','PTLp']\n",
    "HY_nuclei=flat_Damasio[6:]\n",
    "\n",
    "exception_list=['VMPO','PeF','MBO']\n",
    "\n",
    "\n",
    "CTX_to_HY_nuclei={}\n",
    "for i in HY_nuclei:\n",
    "    CTX_to_HY_nuclei[i]=0\n",
    "    \n",
    "sum_me=0\n",
    "for i in HY_nuclei:\n",
    "    for j in CTX_regions:\n",
    "        if i not in exception_list:\n",
    "            addme=Cortical_HYBS_map(j,i)\n",
    "            sum_me+=addme\n",
    "        else:\n",
    "            None\n",
    "    CTX_to_HY_nuclei[i]=sum_me\n",
    "    sum_me=0"
   ]
  },
  {
   "cell_type": "markdown",
   "metadata": {},
   "source": [
    "CTX into HYpothalamus"
   ]
  },
  {
   "cell_type": "code",
   "execution_count": 344,
   "metadata": {},
   "outputs": [
    {
     "data": {
      "text/plain": [
       "129265943.04776353"
      ]
     },
     "execution_count": 344,
     "metadata": {},
     "output_type": "execute_result"
    }
   ],
   "source": [
    "sum(CTX_to_HY_nuclei.values())"
   ]
  },
  {
   "cell_type": "code",
   "execution_count": 345,
   "metadata": {},
   "outputs": [
    {
     "data": {
      "text/plain": [
       "{'ADP': 538049.9786980799,\n",
       " 'AHN': 3632501.6386664286,\n",
       " 'ARH': 550850.4953427764,\n",
       " 'ASO': 7595.66878847545,\n",
       " 'AVP': 750974.4164174772,\n",
       " 'AVPV': 1304203.5219089012,\n",
       " 'DMH': 1286524.5023722383,\n",
       " 'LHA': 19129745.851558343,\n",
       " 'LPO': 5313415.601819201,\n",
       " 'MBO': 0,\n",
       " 'MEPO': 370395.5531149749,\n",
       " 'MPN': 2838825.0146697685,\n",
       " 'MPO': 4641934.4503163155,\n",
       " 'OV': 70125.4159459204,\n",
       " 'PD': 67555.88975602586,\n",
       " 'PH': 4878384.240038606,\n",
       " 'PMd': 750161.4825464785,\n",
       " 'PMv': 722299.6134909481,\n",
       " 'PS': 842841.3298039231,\n",
       " 'PST': 339992.0882400547,\n",
       " 'PSTN': 3475675.774695992,\n",
       " 'PVH': 711798.9605593029,\n",
       " 'PVHd': 473235.91913527343,\n",
       " 'PVa': 18123.759165217052,\n",
       " 'PVi': 185419.64702977566,\n",
       " 'PVp': 525430.5061530467,\n",
       " 'PVpo': 686083.7776765111,\n",
       " 'PeF': 0,\n",
       " 'RCH': 560383.9958829485,\n",
       " 'SBPV': 648672.9450600542,\n",
       " 'SCH': 349952.2626435937,\n",
       " 'SFO': 0.0,\n",
       " 'SO': 360397.34653761843,\n",
       " 'STN': 8656137.997652888,\n",
       " 'TU': 930343.8001445829,\n",
       " 'VLPO': 772891.6470502154,\n",
       " 'VMH': 1030423.5835245054,\n",
       " 'VMPO': 0,\n",
       " 'ZI': 61844594.371357076}"
      ]
     },
     "execution_count": 345,
     "metadata": {},
     "output_type": "execute_result"
    }
   ],
   "source": [
    "CTX_to_HY_nuclei"
   ]
  },
  {
   "cell_type": "code",
   "execution_count": 346,
   "metadata": {},
   "outputs": [
    {
     "data": {
      "text/plain": [
       "129265943.04776353"
      ]
     },
     "execution_count": 346,
     "metadata": {},
     "output_type": "execute_result"
    }
   ],
   "source": [
    "sum(CTX_to_HY_nuclei.values())"
   ]
  },
  {
   "cell_type": "code",
   "execution_count": 331,
   "metadata": {},
   "outputs": [
    {
     "data": {
      "text/plain": [
       "RangeIndex(start=0, stop=293, step=1)"
      ]
     },
     "execution_count": 331,
     "metadata": {},
     "output_type": "execute_result"
    }
   ],
   "source": [
    "Voxel_structures=pd.DataFrame(structure_tree.get_structures_by_set_id([687527945]))\n",
    "Voxel_structures[Voxel_structures=='fiber tracts'].index"
   ]
  },
  {
   "cell_type": "markdown",
   "metadata": {},
   "source": [
    "Recall that we need to remove fiber tracts and ENTmv. So cleam em up"
   ]
  },
  {
   "cell_type": "markdown",
   "metadata": {},
   "source": [
    "#### BS to TH"
   ]
  },
  {
   "cell_type": "code",
   "execution_count": 359,
   "metadata": {},
   "outputs": [
    {
     "data": {
      "text/plain": [
       "[856, 864]"
      ]
     },
     "execution_count": 359,
     "metadata": {},
     "output_type": "execute_result"
    }
   ],
   "source": [
    "Substr[acronym_to_id['TH']]"
   ]
  },
  {
   "cell_type": "code",
   "execution_count": 361,
   "metadata": {},
   "outputs": [
    {
     "data": {
      "text/plain": [
       "[856, 51, 189, 575, 599, 907, 930, 560581563, 138, 218, 325, 1020, 1029, 560581551, 239, 64, 127, 1096, 1104, 155, 255, 1113, 1120, 262, 444, 59, 362, 366, 1077, 571, 15, 149, 181, 560581559, 958, 186, 483, 1014, 27, 178, 321, 563807439, 864, 406, 414, 422, 609, 637, 685, 563807435, 629, 709, 718, 725, 733, 741, 1008, 170, 496345664, 496345668, 496345672, 475, 1072, 1079, 1088, 1044]"
      ]
     },
     "execution_count": 361,
     "metadata": {},
     "output_type": "execute_result"
    }
   ],
   "source": [
    "Unpack(acronym_to_id['TH'],Substr)"
   ]
  },
  {
   "cell_type": "code",
   "execution_count": 365,
   "metadata": {},
   "outputs": [],
   "source": [
    "Damasio_Network=[['SCs','SCm'],\n",
    "                ['PB'],\n",
    "                ['NTS'],\n",
    "                ['PAG'],\n",
    "                ['AP'],\n",
    "                ]\n",
    "Damasio_Network=Damasio_Network+[id_to_acronym[i] for i in Unpack(acronym_to_id['TH'],Substr)]\n",
    "#for i in Substr[acronym_to_id['TH']]:\n",
    "#    toappend=[str(id_to_acronym[j]) for j in Substr[i]]\n",
    "#    Damasio_Network.append(toappend)"
   ]
  },
  {
   "cell_type": "code",
   "execution_count": 366,
   "metadata": {},
   "outputs": [
    {
     "data": {
      "text/plain": [
       "[['SCs', 'SCm'], ['PB'], ['NTS'], ['PAG'], ['AP'], u'DORpm', u'ILM', u'RH', u'CL', u'CM', u'PCN', u'PF', u'PIL', u'LAT', u'LP', u'SGN', u'PO', u'POL', u'Eth', u'ATN', u'AD', u'AM', u'AMd', u'AMv', u'LD', u'AV', u'IAD', u'IAM', u'RT', u'MED', u'IMD', u'MD', u'SMT', u'PR', u'MTN', u'PT', u'PVT', u'RE', u'Xi', u'EPI', u'LH', u'MH', u'GENv', u'IGL', u'LGv', u'SubG', u'IntG', u'DORsm', u'SPF', u'SPFm', u'SPFp', u'SPA', u'VENT', u'VM', u'PoT', u'VAL', u'VP', u'VPL', u'VPLpc', u'VPM', u'VPMpc', u'GENd', u'LGd', u'LGd-sh', u'LGd-co', u'LGd-ip', u'MG', u'MGd', u'MGv', u'MGm', u'PP']"
      ]
     },
     "execution_count": 366,
     "metadata": {},
     "output_type": "execute_result"
    }
   ],
   "source": [
    "Damasio_Network"
   ]
  },
  {
   "cell_type": "code",
   "execution_count": 368,
   "metadata": {},
   "outputs": [
    {
     "data": {
      "text/plain": [
       "['SCs', 'SCm', 'PB', 'NTS', 'PAG', 'AP', u'DORpm', u'ILM', u'RH', u'CL', u'CM', u'PCN', u'PF', u'PIL', u'LAT', u'LP', u'SGN', u'PO', u'POL', u'Eth', u'ATN', u'AD', u'AM', u'AMd', u'AMv', u'LD', u'AV', u'IAD', u'IAM', u'RT', u'MED', u'IMD', u'MD', u'SMT', u'PR', u'MTN', u'PT', u'PVT', u'RE', u'Xi', u'EPI', u'LH', u'MH', u'GENv', u'IGL', u'LGv', u'SubG', u'IntG', u'DORsm', u'SPF', u'SPFm', u'SPFp', u'SPA', u'VENT', u'VM', u'PoT', u'VAL', u'VP', u'VPL', u'VPLpc', u'VPM', u'VPMpc', u'GENd', u'LGd', u'LGd-sh', u'LGd-co', u'LGd-ip', u'MG', u'MGd', u'MGv', u'MGm', u'PP']"
      ]
     },
     "execution_count": 368,
     "metadata": {},
     "output_type": "execute_result"
    }
   ],
   "source": [
    "flat_Damasio=list(flatten(Damasio_Network))\n",
    "flat_Damasio"
   ]
  },
  {
   "cell_type": "code",
   "execution_count": 369,
   "metadata": {},
   "outputs": [],
   "source": [
    "exception_dict={}\n",
    "Damasio_dict={}\n",
    "\n",
    "for i in flat_Damasio[:6]:\n",
    "    for j in flat_Damasio[6:]:\n",
    "        try:\n",
    "            proj=Voxel_connectivity_dict[('ipsi',i)][j]*92000\n",
    "            Damasio_dict[(i,j)]=proj\n",
    "        except:\n",
    "            if i not in exception_dict:\n",
    "                exception_dict[j]=0\n",
    "            else:\n",
    "                exception_dict[j]+=1"
   ]
  },
  {
   "cell_type": "code",
   "execution_count": 370,
   "metadata": {},
   "outputs": [
    {
     "data": {
      "text/plain": [
       "{u'VENT': 0, u'ATN': 0, u'DORpm': 0, u'AMd': 0, u'EPI': 0, u'GENd': 0, u'AMv': 0, u'PIL': 0, u'SPF': 0, u'MGm': 0, u'IntG': 0, u'ILM': 0, u'MGd': 0, u'GENv': 0, u'PoT': 0, u'DORsm': 0, u'VP': 0, u'LGd-ip': 0, u'MTN': 0, u'MGv': 0, u'Eth': 0, u'LGd-co': 0, u'MED': 0, u'Xi': 0, u'LGd-sh': 0, u'LAT': 0}"
      ]
     },
     "execution_count": 370,
     "metadata": {},
     "output_type": "execute_result"
    }
   ],
   "source": [
    "exception_dict"
   ]
  },
  {
   "cell_type": "code",
   "execution_count": 372,
   "metadata": {},
   "outputs": [],
   "source": [
    "BS_to_TH={}\n",
    "for i in flat_Damasio[:6]:\n",
    "    BS_to_TH[('BS',i)]=0\n",
    "\n",
    "for i in flat_Damasio[:6]:\n",
    "    for j in flat_Damasio[6:]:\n",
    "        if j not in exception_dict.keys():\n",
    "            add=Damasio_dict[(i,j)]\n",
    "            BS_to_TH[('BS',i)]+=add"
   ]
  },
  {
   "cell_type": "code",
   "execution_count": 374,
   "metadata": {},
   "outputs": [
    {
     "name": "stdout",
     "output_type": "stream",
     "text": [
      "Pretty printing has been turned ON\n"
     ]
    },
    {
     "data": {
      "text/plain": [
       "{('BS', 'AP'): 12460.166371123903,\n",
       " ('BS', 'NTS'): 29654.919629143642,\n",
       " ('BS', 'PAG'): 34568154.08296166,\n",
       " ('BS', 'PB'): 1141972.0820060587,\n",
       " ('BS', 'SCm'): 23268523.906333372,\n",
       " ('BS', 'SCs'): 6760251.82519597}"
      ]
     },
     "execution_count": 374,
     "metadata": {},
     "output_type": "execute_result"
    }
   ],
   "source": [
    "%pprint\n",
    "BS_to_TH"
   ]
  },
  {
   "cell_type": "code",
   "execution_count": null,
   "metadata": {},
   "outputs": [],
   "source": []
  },
  {
   "cell_type": "markdown",
   "metadata": {},
   "source": [
    "#### TH to BS"
   ]
  },
  {
   "cell_type": "code",
   "execution_count": 375,
   "metadata": {},
   "outputs": [],
   "source": [
    "exception_dict={}\n",
    "Damasio_dict={}\n",
    "\n",
    "for i in flat_Damasio[6:]:\n",
    "    for j in flat_Damasio[:6]:\n",
    "        try:\n",
    "            proj=Voxel_connectivity_dict[('ipsi',i)][j]*92000\n",
    "            Damasio_dict[(i,j)]=proj\n",
    "        except:\n",
    "            if i not in exception_dict:\n",
    "                exception_dict[i]=0\n",
    "            else:\n",
    "                exception_dict[i]+=1"
   ]
  },
  {
   "cell_type": "code",
   "execution_count": null,
   "metadata": {},
   "outputs": [],
   "source": []
  },
  {
   "cell_type": "code",
   "execution_count": 377,
   "metadata": {},
   "outputs": [],
   "source": [
    "TH_to_BS={}\n",
    "for i in flat_Damasio[:6]:\n",
    "    TH_to_BS[('TH',i)]=0\n",
    "\n",
    "for i in flat_Damasio[6:]:\n",
    "    for j in flat_Damasio[:6]:\n",
    "        if i not in exception_dict.keys():\n",
    "            add=Damasio_dict[(i,j)]\n",
    "            TH_to_BS[('TH',j)]+=add"
   ]
  },
  {
   "cell_type": "code",
   "execution_count": 378,
   "metadata": {},
   "outputs": [
    {
     "data": {
      "text/plain": [
       "{('TH', 'AP'): 679336.9869890029,\n",
       " ('TH', 'NTS'): 3525164.047008895,\n",
       " ('TH', 'PAG'): 138277715.4782364,\n",
       " ('TH', 'PB'): 22941761.250838745,\n",
       " ('TH', 'SCm'): 328942051.553909,\n",
       " ('TH', 'SCs'): 144937342.76368484}"
      ]
     },
     "execution_count": 378,
     "metadata": {},
     "output_type": "execute_result"
    }
   ],
   "source": [
    "TH_to_BS"
   ]
  },
  {
   "cell_type": "code",
   "execution_count": null,
   "metadata": {},
   "outputs": [],
   "source": []
  },
  {
   "cell_type": "code",
   "execution_count": null,
   "metadata": {},
   "outputs": [],
   "source": []
  },
  {
   "cell_type": "markdown",
   "metadata": {},
   "source": [
    "#### Clean em up"
   ]
  },
  {
   "cell_type": "code",
   "execution_count": 334,
   "metadata": {},
   "outputs": [
    {
     "data": {
      "text/plain": [
       "247    fiber tracts\n",
       "Name: acronym, dtype: object"
      ]
     },
     "execution_count": 334,
     "metadata": {},
     "output_type": "execute_result"
    }
   ],
   "source": [
    "indexfinder=Voxel_structures['acronym']\n",
    "indexfinder[indexfinder=='fiber tracts']"
   ]
  },
  {
   "cell_type": "code",
   "execution_count": 335,
   "metadata": {},
   "outputs": [
    {
     "data": {
      "text/plain": [
       "226    ENTmv\n",
       "Name: acronym, dtype: object"
      ]
     },
     "execution_count": 335,
     "metadata": {},
     "output_type": "execute_result"
    }
   ],
   "source": [
    "indexfinder[indexfinder=='ENTmv']"
   ]
  },
  {
   "cell_type": "code",
   "execution_count": 336,
   "metadata": {},
   "outputs": [],
   "source": [
    "Voxel_structures=Voxel_structures.drop([247,226]) # drop em bois"
   ]
  },
  {
   "cell_type": "code",
   "execution_count": 393,
   "metadata": {},
   "outputs": [
    {
     "data": {
      "text/plain": [
       "(291, 8)"
      ]
     },
     "execution_count": 393,
     "metadata": {},
     "output_type": "execute_result"
    }
   ],
   "source": [
    "Voxel_structures.shape"
   ]
  },
  {
   "cell_type": "markdown",
   "metadata": {},
   "source": [
    "nice"
   ]
  },
  {
   "cell_type": "code",
   "execution_count": 117,
   "metadata": {},
   "outputs": [
    {
     "data": {
      "text/plain": [
       "\"Substr_Voxel={} # key: structure id, value =[] \\nfor i in Voxel_structures['acronym']:\\n    if i not in Substr_Voxel.keys():\\n        Substr_Voxel[acronym_to_id[i]]=[]\\n\\n\\nidpath=Voxel_structures['structure_id_path']\\nfor i in idpath:\\n    print i[-2]\\n    try:\\n        Substr_Voxel[i[-2]].append(i[-1])\\n    except:\\n        print i\""
      ]
     },
     "execution_count": 117,
     "metadata": {},
     "output_type": "execute_result"
    }
   ],
   "source": [
    "\"\"\"Substr_Voxel={} # key: structure id, value =[] \n",
    "for i in Voxel_structures['acronym']:\n",
    "    if i not in Substr_Voxel.keys():\n",
    "        Substr_Voxel[acronym_to_id[i]]=[]\n",
    "\n",
    "\n",
    "idpath=Voxel_structures['structure_id_path']\n",
    "for i in idpath:\n",
    "    print i[-2]\n",
    "    try:\n",
    "        Substr_Voxel[i[-2]].append(i[-1])\n",
    "    except:\n",
    "        print i\"\"\""
   ]
  },
  {
   "cell_type": "code",
   "execution_count": 409,
   "metadata": {},
   "outputs": [
    {
     "data": {
      "text/plain": [
       "u'Tuberomammillary nucleus'"
      ]
     },
     "execution_count": 409,
     "metadata": {},
     "output_type": "execute_result"
    }
   ],
   "source": [
    "id_to_name[557]"
   ]
  },
  {
   "cell_type": "code",
   "execution_count": null,
   "metadata": {},
   "outputs": [],
   "source": []
  },
  {
   "cell_type": "code",
   "execution_count": null,
   "metadata": {},
   "outputs": [],
   "source": []
  },
  {
   "cell_type": "markdown",
   "metadata": {},
   "source": [
    "## Completing Damasio Network"
   ]
  },
  {
   "cell_type": "code",
   "execution_count": null,
   "metadata": {},
   "outputs": [],
   "source": [
    "[\n",
    "('CTX','HY'),\n",
    "('CTX','PB'),\n",
    "('CTX','PAG'),\n",
    "('CTX','SCm'),\n",
    "('CTX','SCm')\n",
    "('HY','PAG'),\n",
    "('HY','NTS'),\n",
    "('PAG','SCm'),\n",
    "('PAG','SCs'),\n",
    "('PAG','PB'),\n",
    "('PAG','NTS'),\n",
    "('PB','AP'),\n",
    "('PB','NTS')\n",
    "\n",
    "]"
   ]
  },
  {
   "cell_type": "code",
   "execution_count": null,
   "metadata": {},
   "outputs": [],
   "source": []
  },
  {
   "cell_type": "code",
   "execution_count": 398,
   "metadata": {
    "collapsed": true
   },
   "outputs": [
    {
     "name": "stdout",
     "output_type": "stream",
     "text": [
      "VISC 448146.48\n",
      "SS 1927754.04\n",
      "ACA 3959033.84\n",
      "AUD 414137.81\n",
      "ILA 869132.09\n",
      "AI 77975.13\n",
      "TEa 0.0\n",
      "MO 2649989.21\n",
      "GU 1539.87\n",
      "ECT 137089.71\n",
      "VIS 10282252.17\n",
      "FRP 10576.86\n",
      "PTLp 147662.07\n",
      "ORB 978561.55\n",
      "RSP 471877.36\n",
      "PL 238919.97\n"
     ]
    }
   ],
   "source": [
    "for i in CTX_to_BS:\n",
    "    print i,round(sum([CTX_to_BS[i][j] for j in CTX_to_BS[i]]),2)"
   ]
  },
  {
   "cell_type": "code",
   "execution_count": 463,
   "metadata": {},
   "outputs": [
    {
     "data": {
      "text/plain": [
       "8485686.30076945"
      ]
     },
     "execution_count": 463,
     "metadata": {},
     "output_type": "execute_result"
    }
   ],
   "source": [
    "Voxel_connectivity_dict[('ipsi','SCm')]['PB']*92000"
   ]
  },
  {
   "cell_type": "code",
   "execution_count": 458,
   "metadata": {},
   "outputs": [
    {
     "data": {
      "text/plain": [
       "('ipsi', 'VCO')"
      ]
     },
     "execution_count": 458,
     "metadata": {},
     "output_type": "execute_result"
    }
   ],
   "source": [
    "Voxel_connectivity_dict.keys()[550]"
   ]
  },
  {
   "cell_type": "markdown",
   "metadata": {},
   "source": [
    "# Homogeneous model"
   ]
  },
  {
   "cell_type": "code",
   "execution_count": 1,
   "metadata": {},
   "outputs": [],
   "source": [
    "from mcmodels.core import VoxelModelCache, RegionalData\n",
    "from mcmodels.models import HomogeneousModel"
   ]
  },
  {
   "cell_type": "code",
   "execution_count": null,
   "metadata": {
    "scrolled": false
   },
   "outputs": [],
   "source": [
    "# get data with which to fit model\n",
    "\n",
    "cache = VoxelModelCache()\n",
    "voxel_data = cache.get_experiment_data()"
   ]
  },
  {
   "cell_type": "code",
   "execution_count": null,
   "metadata": {},
   "outputs": [],
   "source": []
  },
  {
   "cell_type": "code",
   "execution_count": null,
   "metadata": {},
   "outputs": [],
   "source": [
    "regional_data = RegionalData.from_voxel_data(voxel_data)"
   ]
  },
  {
   "cell_type": "code",
   "execution_count": 92,
   "metadata": {},
   "outputs": [
    {
     "data": {
      "text/plain": [
       "HomogeneousModel(kappa=1000)"
      ]
     },
     "execution_count": 92,
     "metadata": {},
     "output_type": "execute_result"
    }
   ],
   "source": [
    "reg = HomogeneousModel()\n",
    "reg.fit(regional_data.injections, regional_data.projections)\n",
    "HomogeneousModel(kappa=1000)"
   ]
  },
  {
   "cell_type": "code",
   "execution_count": 94,
   "metadata": {},
   "outputs": [
    {
     "data": {
      "text/plain": [
       "<property at 0x11559868>"
      ]
     },
     "execution_count": 94,
     "metadata": {},
     "output_type": "execute_result"
    }
   ],
   "source": [
    "HomogeneousModel.weights"
   ]
  },
  {
   "cell_type": "markdown",
   "metadata": {},
   "source": [
    "# mcmodel: mesoscale mouse model data"
   ]
  },
  {
   "cell_type": "code",
   "execution_count": null,
   "metadata": {},
   "outputs": [],
   "source": []
  }
 ],
 "metadata": {
  "kernelspec": {
   "display_name": "Python 2",
   "language": "python",
   "name": "python2"
  },
  "language_info": {
   "codemirror_mode": {
    "name": "ipython",
    "version": 2
   },
   "file_extension": ".py",
   "mimetype": "text/x-python",
   "name": "python",
   "nbconvert_exporter": "python",
   "pygments_lexer": "ipython2",
   "version": "2.7.15"
  }
 },
 "nbformat": 4,
 "nbformat_minor": 2
}
